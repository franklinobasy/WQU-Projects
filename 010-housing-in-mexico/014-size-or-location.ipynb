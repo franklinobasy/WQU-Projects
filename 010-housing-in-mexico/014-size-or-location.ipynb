{
 "cells": [
  {
   "cell_type": "markdown",
   "id": "e82ebfc1",
   "metadata": {
    "deletable": false,
    "editable": false
   },
   "source": [
    "\n",
    "<div class=\"alert alert-info\" role=\"alert\">\n",
    "  <p>\n",
    "    <center><b>Usage Guidelines</b></center>\n",
    "  </p>\n",
    "\n",
    "  <p>\n",
    "    This lesson is part of the <b>DS Lab core curriculum</b>. For that reason, this notebook can only be used on your WQU virtual machine.\n",
    "  </p>\n",
    "\n",
    "  <p>\n",
    "    This means:\n",
    "    <ul>\n",
    "      <li><span style=\"color: red\">ⓧ</span> No downloading this notebook.</li>\n",
    "      <li><span style=\"color: red\">ⓧ</span> No re-sharing of this notebook with friends or colleagues.</li>\n",
    "      <li><span style=\"color: red\">ⓧ</span> No downloading the embedded videos in this notebook.</li>\n",
    "      <li><span style=\"color: red\">ⓧ</span> No re-sharing embedded videos with friends or colleagues.</li>\n",
    "      <li><span style=\"color: red\">ⓧ</span> No adding this notebook to public or private repositories.</li>\n",
    "      <li><span style=\"color: red\">ⓧ</span> No uploading this notebook (or screenshots of it) to other websites, including websites for study resources.</li>\n",
    "    </ul>\n",
    "\n",
    "  </p>\n",
    "</div>\n"
   ]
  },
  {
   "cell_type": "markdown",
   "id": "c36c971d-de2d-4b9c-8862-fb983c91167f",
   "metadata": {
    "deletable": false,
    "editable": false,
    "tags": []
   },
   "source": [
    "<font size=\"+3\"><strong>1.4. Location or Size: What Influences House Prices in Mexico?</strong></font>"
   ]
  },
  {
   "cell_type": "code",
   "execution_count": 1,
   "id": "f9ead14a-66b5-4157-b2b3-785e29370f80",
   "metadata": {
    "deletable": false,
    "editable": false,
    "init_cell": true,
    "tags": []
   },
   "outputs": [],
   "source": [
    "import matplotlib.pyplot as plt\n",
    "import pandas as pd\n",
    "from IPython.display import VimeoVideo"
   ]
  },
  {
   "cell_type": "markdown",
   "id": "55a561f1-340a-48c0-8530-f3d2d2958db1",
   "metadata": {
    "deletable": false,
    "editable": false
   },
   "source": [
    "You've wrangled the data, you've gained an understanding of its basic characteristics in your EDA, and now it's time to ask some research questions. "
   ]
  },
  {
   "cell_type": "markdown",
   "id": "fbf14c55-c0a2-47ef-8fea-d19fa9465345",
   "metadata": {
    "deletable": false,
    "editable": false
   },
   "source": [
    "# Import Data"
   ]
  },
  {
   "cell_type": "markdown",
   "id": "78d60667-0a89-446b-953b-4d48f63afb6b",
   "metadata": {
    "deletable": false,
    "editable": false
   },
   "source": [
    "**Task 1.4.1:** Read the CSV file that you created in the last notebook (`\"data/mexico-real-estate-clean.csv\"`) into a DataFrame named `df`. Be sure to check that all your columns are the correct data type before you go to the next task.\n",
    "\n",
    "- [What's a DataFrame?](../%40textbook/03-pandas-getting-started.ipynb#Working-with-DataFrames)\n",
    "- [What's a CSV file?](../%40textbook/03-pandas-getting-started.ipynb#CSV-Files)\n",
    "- [Read a CSV file into a DataFrame using pandas.](../%40textbook/03-pandas-getting-started.ipynb#Working-with-DataFrames)"
   ]
  },
  {
   "cell_type": "code",
   "execution_count": 2,
   "id": "b189d9f3-30f6-42b4-80a5-633fc47e2917",
   "metadata": {
    "deletable": false,
    "tags": []
   },
   "outputs": [
    {
     "name": "stdout",
     "output_type": "stream",
     "text": [
      "df type: <class 'pandas.core.frame.DataFrame'>\n",
      "df shape: (1736, 6)\n"
     ]
    },
    {
     "data": {
      "text/html": [
       "<div>\n",
       "<style scoped>\n",
       "    .dataframe tbody tr th:only-of-type {\n",
       "        vertical-align: middle;\n",
       "    }\n",
       "\n",
       "    .dataframe tbody tr th {\n",
       "        vertical-align: top;\n",
       "    }\n",
       "\n",
       "    .dataframe thead th {\n",
       "        text-align: right;\n",
       "    }\n",
       "</style>\n",
       "<table border=\"1\" class=\"dataframe\">\n",
       "  <thead>\n",
       "    <tr style=\"text-align: right;\">\n",
       "      <th></th>\n",
       "      <th>property_type</th>\n",
       "      <th>state</th>\n",
       "      <th>lat</th>\n",
       "      <th>lon</th>\n",
       "      <th>area_m2</th>\n",
       "      <th>price_usd</th>\n",
       "    </tr>\n",
       "  </thead>\n",
       "  <tbody>\n",
       "    <tr>\n",
       "      <th>0</th>\n",
       "      <td>house</td>\n",
       "      <td>Estado de México</td>\n",
       "      <td>19.560181</td>\n",
       "      <td>-99.233528</td>\n",
       "      <td>150.0</td>\n",
       "      <td>67965.56</td>\n",
       "    </tr>\n",
       "    <tr>\n",
       "      <th>1</th>\n",
       "      <td>house</td>\n",
       "      <td>Nuevo León</td>\n",
       "      <td>25.688436</td>\n",
       "      <td>-100.198807</td>\n",
       "      <td>186.0</td>\n",
       "      <td>63223.78</td>\n",
       "    </tr>\n",
       "    <tr>\n",
       "      <th>2</th>\n",
       "      <td>apartment</td>\n",
       "      <td>Guerrero</td>\n",
       "      <td>16.767704</td>\n",
       "      <td>-99.764383</td>\n",
       "      <td>82.0</td>\n",
       "      <td>84298.37</td>\n",
       "    </tr>\n",
       "    <tr>\n",
       "      <th>3</th>\n",
       "      <td>apartment</td>\n",
       "      <td>Guerrero</td>\n",
       "      <td>16.829782</td>\n",
       "      <td>-99.911012</td>\n",
       "      <td>150.0</td>\n",
       "      <td>94308.80</td>\n",
       "    </tr>\n",
       "    <tr>\n",
       "      <th>4</th>\n",
       "      <td>house</td>\n",
       "      <td>Yucatán</td>\n",
       "      <td>21.052583</td>\n",
       "      <td>-89.538639</td>\n",
       "      <td>205.0</td>\n",
       "      <td>105191.37</td>\n",
       "    </tr>\n",
       "  </tbody>\n",
       "</table>\n",
       "</div>"
      ],
      "text/plain": [
       "  property_type             state        lat         lon  area_m2  price_usd\n",
       "0         house  Estado de México  19.560181  -99.233528    150.0   67965.56\n",
       "1         house        Nuevo León  25.688436 -100.198807    186.0   63223.78\n",
       "2     apartment          Guerrero  16.767704  -99.764383     82.0   84298.37\n",
       "3     apartment          Guerrero  16.829782  -99.911012    150.0   94308.80\n",
       "4         house           Yucatán  21.052583  -89.538639    205.0  105191.37"
      ]
     },
     "execution_count": 2,
     "metadata": {},
     "output_type": "execute_result"
    }
   ],
   "source": [
    "# Import \"data/mexico-real-estate-clean.csv\"\n",
    "df = pd.read_csv(\"data/mexico-real-estate-clean.csv\")\n",
    "\n",
    "# Print object type, shape, and head\n",
    "print(\"df type:\", type(df))\n",
    "print(\"df shape:\", df.shape)\n",
    "df.head()"
   ]
  },
  {
   "cell_type": "markdown",
   "id": "e6ea444a-c7a4-46c3-9aef-7bb8baf2cfda",
   "metadata": {
    "deletable": false,
    "editable": false,
    "tags": []
   },
   "source": [
    "# Research Question 1"
   ]
  },
  {
   "cell_type": "markdown",
   "id": "dc3457d2-b07e-44f8-9afc-3fd3323e780a",
   "metadata": {
    "deletable": false,
    "editable": false
   },
   "source": [
    "**Which state has the most expensive real estate market?**"
   ]
  },
  {
   "cell_type": "markdown",
   "id": "06053855-10bc-43e5-a566-9ed057eb2183",
   "metadata": {
    "deletable": false,
    "editable": false
   },
   "source": [
    "Do housing prices vary by state? If so, which are the most expensive states for purchasing a home? During our exploratory data analysis, we used descriptive statistics like mean and median to get an idea of the \"typical\" house price in Mexico. Now, we need to break that calculation down by state and visualize the results. \n",
    "\n",
    "We know in which state each house is located thanks to the `\"state\"` column. The next step is to divide our dataset into groups (one per state) and calculate the mean house price for each group. "
   ]
  },
  {
   "cell_type": "code",
   "execution_count": null,
   "id": "19b50164-4d99-4792-98de-ae3e2dce424a",
   "metadata": {
    "deletable": false,
    "editable": false,
    "init_cell": true
   },
   "outputs": [],
   "source": [
    "VimeoVideo(\"656378731\", h=\"8daa35d1e8\", width=600)"
   ]
  },
  {
   "cell_type": "markdown",
   "id": "254a4b96-b116-4b18-b631-ed90d2c2c014",
   "metadata": {
    "deletable": false,
    "editable": false
   },
   "source": [
    "**Task 1.4.2:** Use the [`groupby`](https://pandas.pydata.org/pandas-docs/stable/reference/api/pandas.DataFrame.groupby.html) method to create a Series named `mean_price_by_state`, where the index contains each state in the dataset and the values correspond to the mean house price for that state. Make sure your Series is sorted from highest to lowest mean price. \n",
    "\n",
    "- [What's a Series?](../%40textbook/05-pandas-summary-statistics.ipynb#Series)\n",
    "- [Aggregate data using the `groupby` method in pandas.](../%40textbook/04-pandas-advanced.ipynb#Series-and-Groupby)"
   ]
  },
  {
   "cell_type": "code",
   "execution_count": 5,
   "id": "6c37790f-22a2-403a-bd22-6f4dbc70fd52",
   "metadata": {
    "deletable": false,
    "tags": []
   },
   "outputs": [
    {
     "name": "stdout",
     "output_type": "stream",
     "text": [
      "mean_price_by_state type: <class 'pandas.core.frame.DataFrame'>\n",
      "mean_price_by_state shape: (29, 1)\n"
     ]
    },
    {
     "data": {
      "text/html": [
       "<div>\n",
       "<style scoped>\n",
       "    .dataframe tbody tr th:only-of-type {\n",
       "        vertical-align: middle;\n",
       "    }\n",
       "\n",
       "    .dataframe tbody tr th {\n",
       "        vertical-align: top;\n",
       "    }\n",
       "\n",
       "    .dataframe thead th {\n",
       "        text-align: right;\n",
       "    }\n",
       "</style>\n",
       "<table border=\"1\" class=\"dataframe\">\n",
       "  <thead>\n",
       "    <tr style=\"text-align: right;\">\n",
       "      <th></th>\n",
       "      <th>price_usd</th>\n",
       "    </tr>\n",
       "    <tr>\n",
       "      <th>state</th>\n",
       "      <th></th>\n",
       "    </tr>\n",
       "  </thead>\n",
       "  <tbody>\n",
       "    <tr>\n",
       "      <th>Querétaro</th>\n",
       "      <td>141521.234307</td>\n",
       "    </tr>\n",
       "    <tr>\n",
       "      <th>Guanajuato</th>\n",
       "      <td>138934.256000</td>\n",
       "    </tr>\n",
       "    <tr>\n",
       "      <th>Distrito Federal</th>\n",
       "      <td>137953.803815</td>\n",
       "    </tr>\n",
       "    <tr>\n",
       "      <th>Chihuahua</th>\n",
       "      <td>132085.371974</td>\n",
       "    </tr>\n",
       "    <tr>\n",
       "      <th>Quintana Roo</th>\n",
       "      <td>130142.435916</td>\n",
       "    </tr>\n",
       "  </tbody>\n",
       "</table>\n",
       "</div>"
      ],
      "text/plain": [
       "                      price_usd\n",
       "state                          \n",
       "Querétaro         141521.234307\n",
       "Guanajuato        138934.256000\n",
       "Distrito Federal  137953.803815\n",
       "Chihuahua         132085.371974\n",
       "Quintana Roo      130142.435916"
      ]
     },
     "execution_count": 5,
     "metadata": {},
     "output_type": "execute_result"
    }
   ],
   "source": [
    "# Declare variable `mean_price_by_state`\n",
    "mean_price_by_state = df.groupby(\"state\").agg(\n",
    "    {\n",
    "        'price_usd': 'mean'\n",
    "    }\n",
    ").sort_values(by=\"price_usd\", ascending=False)\n",
    "\n",
    "# Print object type, shape, and head\n",
    "print(\"mean_price_by_state type:\", type(mean_price_by_state))\n",
    "print(\"mean_price_by_state shape:\", mean_price_by_state.shape)\n",
    "mean_price_by_state.head()"
   ]
  },
  {
   "cell_type": "code",
   "execution_count": null,
   "id": "92bc9a9b-5d70-4a6e-bec7-d84eccce26b7",
   "metadata": {
    "deletable": false,
    "editable": false,
    "init_cell": true
   },
   "outputs": [],
   "source": [
    "VimeoVideo(\"656378435\", h=\"b3765f3339\", width=600)"
   ]
  },
  {
   "cell_type": "markdown",
   "id": "06e45b13-dcdb-4c54-acb7-5eda27e416d3",
   "metadata": {
    "deletable": false,
    "editable": false
   },
   "source": [
    "**Task 1.4.3:** Use `mean_price_by_state` to create a bar chart of your results. Make sure the states are sorted from the highest to lowest mean, that you label the x-axis as `\"State\"` and the y-axis as `\"Mean Price [USD]\"`, and give the chart the title `\"Mean House Price by State\"`.\n",
    "\n",
    "- [Create a bar chart using pandas.](../%40textbook/06-visualization-matplotlib.ipynb#Bar-Charts) "
   ]
  },
  {
   "cell_type": "code",
   "execution_count": 6,
   "id": "c5b5cfbc-ec50-4caf-8b93-babd7473820e",
   "metadata": {
    "deletable": false,
    "tags": []
   },
   "outputs": [
    {
     "data": {
      "text/plain": [
       "Text(0.5, 1.0, 'Mean House Price by State')"
      ]
     },
     "execution_count": 6,
     "metadata": {},
     "output_type": "execute_result"
    },
    {
     "data": {
      "image/png": "[encoded data removed]",
      "text/plain": [
       "<Figure size 640x480 with 1 Axes>"
      ]
     },
     "metadata": {},
     "output_type": "display_data"
    }
   ],
   "source": [
    "# Create bar chart from `mean_price_by_state` using pandas\n",
    "mean_price_by_state.plot(kind='bar')\n",
    "plt.xlabel(\"State\")\n",
    "plt.ylabel(\"Mean Price [USD]\")\n",
    "plt.title(\"Mean House Price by State\")"
   ]
  },
  {
   "cell_type": "markdown",
   "id": "8c00f025-12d5-4b3f-bdc1-e23addb16f82",
   "metadata": {
    "deletable": false,
    "editable": false
   },
   "source": [
    "It seems odd that Querétaro would be the most expensive real estate market in Mexico when, [according to recent GDP numbers](https://en.wikipedia.org/wiki/List_of_Mexican_states_by_GDP), it's not in the top 10 state economies. With all the variations in house sizes across states, a better metric to look at would be price per m<sup>2</sup>. In order to do that, we need to create a new column."
   ]
  },
  {
   "cell_type": "code",
   "execution_count": null,
   "id": "5b7a4196-fc2b-4326-9cd6-00033f0f0756",
   "metadata": {
    "deletable": false,
    "editable": false,
    "init_cell": true
   },
   "outputs": [],
   "source": [
    "VimeoVideo(\"656378342\", h=\"2f4da7f7b4\", width=600)"
   ]
  },
  {
   "cell_type": "markdown",
   "id": "f3cddcd2-589a-4763-98ef-3314c68abd92",
   "metadata": {
    "deletable": false,
    "editable": false
   },
   "source": [
    "**Task 1.4.4:** Create a new column in `df` called `\"price_per_m2\"`. This should be the price for each house divided by it's size. \n",
    "\n",
    "- [Create new columns derived from existing columns in a DataFrame using pandas.](../%40textbook/03-pandas-getting-started.ipynb#Working-with-Columns)"
   ]
  },
  {
   "cell_type": "code",
   "execution_count": 7,
   "id": "029a8b66-bac7-432e-9c3c-b946e6f2c336",
   "metadata": {
    "tags": []
   },
   "outputs": [
    {
     "data": {
      "text/plain": [
       "Index(['property_type', 'state', 'lat', 'lon', 'area_m2', 'price_usd'], dtype='object')"
      ]
     },
     "execution_count": 7,
     "metadata": {},
     "output_type": "execute_result"
    }
   ],
   "source": [
    "df.columns"
   ]
  },
  {
   "cell_type": "code",
   "execution_count": 8,
   "id": "1ea6b4d8-b724-427f-a7d6-9b45ccf8e9f5",
   "metadata": {
    "deletable": false,
    "tags": []
   },
   "outputs": [
    {
     "name": "stdout",
     "output_type": "stream",
     "text": [
      "df type: <class 'pandas.core.frame.DataFrame'>\n",
      "df shape: (1736, 7)\n"
     ]
    },
    {
     "data": {
      "text/html": [
       "<div>\n",
       "<style scoped>\n",
       "    .dataframe tbody tr th:only-of-type {\n",
       "        vertical-align: middle;\n",
       "    }\n",
       "\n",
       "    .dataframe tbody tr th {\n",
       "        vertical-align: top;\n",
       "    }\n",
       "\n",
       "    .dataframe thead th {\n",
       "        text-align: right;\n",
       "    }\n",
       "</style>\n",
       "<table border=\"1\" class=\"dataframe\">\n",
       "  <thead>\n",
       "    <tr style=\"text-align: right;\">\n",
       "      <th></th>\n",
       "      <th>property_type</th>\n",
       "      <th>state</th>\n",
       "      <th>lat</th>\n",
       "      <th>lon</th>\n",
       "      <th>area_m2</th>\n",
       "      <th>price_usd</th>\n",
       "      <th>price_per_m2</th>\n",
       "    </tr>\n",
       "  </thead>\n",
       "  <tbody>\n",
       "    <tr>\n",
       "      <th>0</th>\n",
       "      <td>house</td>\n",
       "      <td>Estado de México</td>\n",
       "      <td>19.560181</td>\n",
       "      <td>-99.233528</td>\n",
       "      <td>150.0</td>\n",
       "      <td>67965.56</td>\n",
       "      <td>453.103733</td>\n",
       "    </tr>\n",
       "    <tr>\n",
       "      <th>1</th>\n",
       "      <td>house</td>\n",
       "      <td>Nuevo León</td>\n",
       "      <td>25.688436</td>\n",
       "      <td>-100.198807</td>\n",
       "      <td>186.0</td>\n",
       "      <td>63223.78</td>\n",
       "      <td>339.912796</td>\n",
       "    </tr>\n",
       "    <tr>\n",
       "      <th>2</th>\n",
       "      <td>apartment</td>\n",
       "      <td>Guerrero</td>\n",
       "      <td>16.767704</td>\n",
       "      <td>-99.764383</td>\n",
       "      <td>82.0</td>\n",
       "      <td>84298.37</td>\n",
       "      <td>1028.028902</td>\n",
       "    </tr>\n",
       "    <tr>\n",
       "      <th>3</th>\n",
       "      <td>apartment</td>\n",
       "      <td>Guerrero</td>\n",
       "      <td>16.829782</td>\n",
       "      <td>-99.911012</td>\n",
       "      <td>150.0</td>\n",
       "      <td>94308.80</td>\n",
       "      <td>628.725333</td>\n",
       "    </tr>\n",
       "    <tr>\n",
       "      <th>4</th>\n",
       "      <td>house</td>\n",
       "      <td>Yucatán</td>\n",
       "      <td>21.052583</td>\n",
       "      <td>-89.538639</td>\n",
       "      <td>205.0</td>\n",
       "      <td>105191.37</td>\n",
       "      <td>513.128634</td>\n",
       "    </tr>\n",
       "  </tbody>\n",
       "</table>\n",
       "</div>"
      ],
      "text/plain": [
       "  property_type             state        lat         lon  area_m2  price_usd  \\\n",
       "0         house  Estado de México  19.560181  -99.233528    150.0   67965.56   \n",
       "1         house        Nuevo León  25.688436 -100.198807    186.0   63223.78   \n",
       "2     apartment          Guerrero  16.767704  -99.764383     82.0   84298.37   \n",
       "3     apartment          Guerrero  16.829782  -99.911012    150.0   94308.80   \n",
       "4         house           Yucatán  21.052583  -89.538639    205.0  105191.37   \n",
       "\n",
       "   price_per_m2  \n",
       "0    453.103733  \n",
       "1    339.912796  \n",
       "2   1028.028902  \n",
       "3    628.725333  \n",
       "4    513.128634  "
      ]
     },
     "execution_count": 8,
     "metadata": {},
     "output_type": "execute_result"
    }
   ],
   "source": [
    "# Create \"price_per_m2\" column\n",
    "df[\"price_per_m2\"] = df['price_usd'] / df['area_m2']\n",
    "\n",
    "# Print object type, shape, and head\n",
    "print(\"df type:\", type(df))\n",
    "print(\"df shape:\", df.shape)\n",
    "df.head()"
   ]
  },
  {
   "cell_type": "markdown",
   "id": "4f9e2cb7-900a-4ae4-9f55-6d1f02164016",
   "metadata": {
    "deletable": false,
    "editable": false
   },
   "source": [
    "Let's redo our bar chart from above, but this time with the mean of `\"price_per_m2\"` for each state."
   ]
  },
  {
   "cell_type": "code",
   "execution_count": null,
   "id": "7223b03d-ebfe-487d-b4d3-967dddfade1c",
   "metadata": {
    "deletable": false,
    "editable": false,
    "init_cell": true
   },
   "outputs": [],
   "source": [
    "VimeoVideo(\"656377991\", h=\"c7319b0458\", width=600)"
   ]
  },
  {
   "cell_type": "markdown",
   "id": "458d7ff8-cec7-436b-ac8b-285e2afe1aeb",
   "metadata": {
    "deletable": false,
    "editable": false
   },
   "source": [
    "**Task 1.4.5:** First, use the [`groupby`](https://pandas.pydata.org/pandas-docs/stable/reference/api/pandas.DataFrame.groupby.html) method to create a Series where the index contains each state in the dataset and the values correspond to the mean house price per m<sup>2</sup> for that state. Then use the Series to create a bar chart of your results. Make sure the states are sorted from the highest to lowest mean, that you label the x-axis as `\"State\"` and the y-axis as `\"Mean Price per M^2[USD]\"`, and give the chart the title `\"Mean House Price per M^2 by State\"`. \n",
    "\n",
    "- [What's a Series?](../%40textbook/05-pandas-summary-statistics.ipynb#Series)\n",
    "- [Aggregate data using the `groupby` method in pandas.](../%40textbook/04-pandas-advanced.ipynb#Series-and-Groupby)\n",
    "- [Create a bar chart using pandas.](../%40textbook/06-visualization-matplotlib.ipynb#Bar-Charts) "
   ]
  },
  {
   "cell_type": "code",
   "execution_count": 9,
   "id": "f540c058-12e5-41bb-ba74-12d9febdd2b7",
   "metadata": {
    "deletable": false,
    "tags": []
   },
   "outputs": [
    {
     "data": {
      "text/plain": [
       "Text(0.5, 1.0, 'Mean House Price per M^2 by State')"
      ]
     },
     "execution_count": 9,
     "metadata": {},
     "output_type": "execute_result"
    },
    {
     "data": {
      "image/png": "[encoded data removed]",
      "text/plain": [
       "<Figure size 640x480 with 1 Axes>"
      ]
     },
     "metadata": {},
     "output_type": "display_data"
    }
   ],
   "source": [
    "# Group `df` by \"state\", create bar chart of \"price_per_m2\"\n",
    "df.groupby(\"state\").agg(\n",
    "    {\n",
    "        'price_per_m2': 'mean'\n",
    "    }\n",
    ").sort_values(by=\"price_per_m2\", ascending=False).plot(\n",
    "    kind=\"bar\"\n",
    ")\n",
    "\n",
    "plt.xlabel(\"State\")\n",
    "plt.ylabel(\"Mean Price per M^2[USD]\")\n",
    "plt.title(\"Mean House Price per M^2 by State\")"
   ]
  },
  {
   "cell_type": "markdown",
   "id": "390acb01-1221-4c54-b5f1-af592845c14d",
   "metadata": {
    "deletable": false,
    "editable": false
   },
   "source": [
    "Now we see that the capital Mexico City (*Distrito Federal*) is by far the most expensive market.  Additionally, many of the top 10 states by GDP are also in the top 10 most expensive real estate markets. So it looks like this bar chart is a more accurate reflection of state real estate markets."
   ]
  },
  {
   "cell_type": "markdown",
   "id": "e9936993-c4de-4f5b-af34-27f9ec5dc72f",
   "metadata": {
    "deletable": false,
    "editable": false
   },
   "source": [
    "# Research Question 2"
   ]
  },
  {
   "cell_type": "markdown",
   "id": "fa92bede-0fcd-4c51-80f6-b0942a320e0c",
   "metadata": {
    "deletable": false,
    "editable": false
   },
   "source": [
    "**Is there a relationship between home size and price?**"
   ]
  },
  {
   "cell_type": "markdown",
   "id": "75736208-5c59-4434-8b34-eec2c32dfa75",
   "metadata": {
    "deletable": false,
    "editable": false
   },
   "source": [
    "From our previous question, we know that the location of a home affects its price (especially if it's in Mexico City), but what about home size? Does the size of a house influence price?\n",
    "\n",
    "A scatter plot can be helpful when evaluating the relationship between two columns because it lets you see if two variables are correlated — in this case, if an increase in home size is associated with an increase in price."
   ]
  },
  {
   "cell_type": "code",
   "execution_count": null,
   "id": "6227aba7-9ce2-4fa6-84b5-d287e499cc79",
   "metadata": {
    "deletable": false,
    "editable": false,
    "init_cell": true
   },
   "outputs": [],
   "source": [
    "VimeoVideo(\"656377758\", h=\"62546c7b86\", width=600)"
   ]
  },
  {
   "cell_type": "markdown",
   "id": "08205635-0ea4-4b4c-80fa-426c63afd954",
   "metadata": {
    "deletable": false,
    "editable": false
   },
   "source": [
    "**Task 1.4.6:** Create a scatter plot from `df` that represents price as a function of size. In other words, `\"area_m2\"` should be on the x-axis, and `\"price_usd\"` should be on the y-axis. Be sure to use expressive axis labels (`\"Area [sq meters]\"` and `\"Price [USD]\"`, respectively).\n",
    "\n",
    "- [What's a scatter plot?](../%40textbook/06-visualization-matplotlib.ipynb#Scatter-Plots)\n",
    "- [What's correlation?](../%40textbook/05-pandas-summary-statistics.ipynb#Correlations)\n",
    "- [Create a scatter plot using Matplotlib.](../%40textbook/06-visualization-matplotlib.ipynb#Scatter-Plots)"
   ]
  },
  {
   "cell_type": "code",
   "execution_count": null,
   "id": "af5d5ca1-2c94-4a68-815d-2eaae0472fca",
   "metadata": {
    "deletable": false
   },
   "outputs": [],
   "source": [
    "# Create scatter plot of \"price_usd\" vs \"area_m2\"\n",
    "plt.scatter(df[\"area_m2\"], df[\"price_usd\"])\n",
    "\n",
    "# Add x-axis label\n",
    "plt.xlabel(\"Area [sq meters]\")\n",
    "\n",
    "# Add y-axis label\n",
    "\n",
    "\n",
    "# Add title\n"
   ]
  },
  {
   "cell_type": "markdown",
   "id": "b50a1114-0622-4a08-9285-d38626ad95ca",
   "metadata": {
    "deletable": false,
    "editable": false
   },
   "source": [
    "While there's a good amount of variation, there's definitely a positive correlation — in other words, the bigger the house, the higher the price. But how can we quantify this correlation? "
   ]
  },
  {
   "cell_type": "code",
   "execution_count": null,
   "id": "06142ea8-c905-4fc1-8a80-a15a1e02e926",
   "metadata": {
    "deletable": false,
    "editable": false,
    "init_cell": true
   },
   "outputs": [],
   "source": [
    "VimeoVideo(\"656377616\", h=\"8d3b060e71\", width=600)"
   ]
  },
  {
   "cell_type": "markdown",
   "id": "2f96eef9-3ea2-4df6-8e25-48e0a28b1382",
   "metadata": {
    "deletable": false,
    "editable": false
   },
   "source": [
    "**Task 1.4.7:** Using the [`corr`](https://pandas.pydata.org/docs/reference/api/pandas.Series.corr.html) method, calculate the Pearson correlation coefficient for `\"area_m2\"` and `\"price_usd\"`. \n",
    "\n",
    "- [What's a correlation coefficient?](../%40textbook/05-pandas-summary-statistics.ipynb#Correlations)\n",
    "- [Calculate the correlation coefficient for two Series using pandas.](../%40textbook/05-pandas-summary-statistics.ipynb#Correlations)"
   ]
  },
  {
   "cell_type": "code",
   "execution_count": null,
   "id": "fcdcc4c6-e965-4fa1-ade1-3200b4d8a906",
   "metadata": {
    "deletable": false
   },
   "outputs": [],
   "source": [
    "# Calculate correlation of \"price_usd\" and \"area_m2\"\n",
    "p_correlation = ...\n",
    "\n",
    "# Print correlation coefficient\n",
    "print(\"Correlation of 'area_m2' and 'price_usd' (all Mexico):\", p_correlation)"
   ]
  },
  {
   "cell_type": "markdown",
   "id": "c86d4272-bbcf-4e31-9728-4093824929a7",
   "metadata": {
    "deletable": false,
    "editable": false
   },
   "source": [
    "The correlation coefficient is over 0.5, so there's a moderate relationship house size and price in Mexico. But does this relationship hold true in every state? Let's look at a couple of states, starting with Morelos."
   ]
  },
  {
   "cell_type": "code",
   "execution_count": null,
   "id": "b2ac803f-8ada-4e99-8cc2-b4815e657fc5",
   "metadata": {
    "deletable": false,
    "editable": false,
    "init_cell": true
   },
   "outputs": [],
   "source": [
    "VimeoVideo(\"656377515\", h=\"d2478d38df\", width=600)"
   ]
  },
  {
   "cell_type": "markdown",
   "id": "e70ffc7c-30ce-41a8-b683-d44a6fc7e702",
   "metadata": {
    "deletable": false,
    "editable": false
   },
   "source": [
    "**Task 1.4.8:** Create a new DataFrame named `df_morelos`. It should include all the houses from `df` that are in the state of Morelos.\n",
    "\n",
    "- [Subset a DataFrame with a mask using pandas.](../%40textbook/04-pandas-advanced.ipynb#Subsetting-with-Masks)"
   ]
  },
  {
   "cell_type": "code",
   "execution_count": null,
   "id": "0f5afa53-5246-4b58-ba33-513f3d11932f",
   "metadata": {
    "deletable": false
   },
   "outputs": [],
   "source": [
    "# Declare variable `df_morelos` by subsetting `df`\n",
    "df_morelos = ...\n",
    "\n",
    "# Print object type, shape, and head\n",
    "print(\"df_morelos type:\", type(df_morelos))\n",
    "print(\"df_morelos shape:\", df_morelos.shape)\n",
    "df_morelos.head()"
   ]
  },
  {
   "cell_type": "code",
   "execution_count": null,
   "id": "99b06c15-08c4-4b2a-b74d-6ff23f4f7b11",
   "metadata": {
    "deletable": false,
    "editable": false,
    "init_cell": true
   },
   "outputs": [],
   "source": [
    "VimeoVideo(\"656377395\", h=\"bd93b05ff9\", width=600)"
   ]
  },
  {
   "cell_type": "markdown",
   "id": "4f0899bb-6e46-4b93-b278-eb261f568ed3",
   "metadata": {
    "deletable": false,
    "editable": false
   },
   "source": [
    "**Task 1.4.9:** Using `df_morelos`, create a scatter plot that shows price vs area. Make sure to use the same axis labels as your last scatter plot. The title should be `\"Morelos: Price vs. Area\"`.\n",
    "\n",
    "- [What's a scatter plot?](../%40textbook/06-visualization-matplotlib.ipynb#Scatter-Plots)\n",
    "- [Create a scatter plot using Matplotlib.](../%40textbook/06-visualization-matplotlib.ipynb#Scatter-Plots)"
   ]
  },
  {
   "cell_type": "code",
   "execution_count": null,
   "id": "23938396-dd1d-47df-9067-d5440f0586cf",
   "metadata": {
    "deletable": false
   },
   "outputs": [],
   "source": [
    "# Create scatter plot of \"price_usd\" vs \"area_m2\" in Morelos\n",
    "\n",
    "\n",
    "# Add x-axis label\n",
    "\n",
    "\n",
    "# Add y-axis label\n",
    "\n",
    "\n",
    "# Add title\n"
   ]
  },
  {
   "cell_type": "markdown",
   "id": "6f067cbb-63f7-4b56-8531-6a3b819834f9",
   "metadata": {
    "deletable": false,
    "editable": false
   },
   "source": [
    "Wow! It looks like the correlation is even stronger within Morelos. Let's calculate the correlation coefficient and verify that that's the case."
   ]
  },
  {
   "cell_type": "code",
   "execution_count": null,
   "id": "456d917d-4b61-44b8-83ed-9e771853cd58",
   "metadata": {
    "deletable": false,
    "editable": false,
    "init_cell": true
   },
   "outputs": [],
   "source": [
    "VimeoVideo(\"656377340\", h=\"664cb44291\", width=600)"
   ]
  },
  {
   "cell_type": "markdown",
   "id": "3ba59d1a-78ef-44a9-b5a5-2bda3fb6c141",
   "metadata": {
    "deletable": false,
    "editable": false
   },
   "source": [
    "**Task 1.4.10:** Using the [`corr`](https://pandas.pydata.org/docs/reference/api/pandas.Series.corr.html) method, calculate the Pearson correlation coefficient for `\"area_m2\"` and `\"price_usd\"` in `df_morelos`. \n",
    "\n",
    "- [What's a correlation coefficient?](../%40textbook/05-pandas-summary-statistics.ipynb#Correlations)\n",
    "- [Calculate the correlation coefficient for two Series using pandas.](../%40textbook/05-pandas-summary-statistics.ipynb#Correlations)<span style='color: transparent; font-size:1%'>WQU WorldQuant University Applied Data Science Lab QQQQ</span>"
   ]
  },
  {
   "cell_type": "code",
   "execution_count": null,
   "id": "2d1bac4d-20e7-4e51-bf1f-c0a02ed288b3",
   "metadata": {
    "deletable": false
   },
   "outputs": [],
   "source": [
    "# Calculate correlation of \"price_usd\" and \"area_m2\" in `df_morelos`\n",
    "p_correlation = ...\n",
    "\n",
    "# Print correlation coefficient\n",
    "print(\"Correlation of 'area_m2' and 'price_usd' (Morelos):\", p_correlation)"
   ]
  },
  {
   "cell_type": "markdown",
   "id": "5f77b5f9-757e-4a2e-a04c-93eb7c24da7a",
   "metadata": {
    "deletable": false,
    "editable": false
   },
   "source": [
    "With a correlation coefficient that high, we can say that there's a strong relationship between house size and price in Morelos. \n",
    "\n",
    "To conclude, let's look at the capital Mexico City (*Distrito Federal*).  "
   ]
  },
  {
   "cell_type": "code",
   "execution_count": null,
   "id": "d00a7dd6-6fdb-486c-8145-6284b01fa0fc",
   "metadata": {
    "deletable": false,
    "editable": false,
    "init_cell": true
   },
   "outputs": [],
   "source": [
    "VimeoVideo(\"656376911\", h=\"19666a4c87\", width=600)"
   ]
  },
  {
   "cell_type": "markdown",
   "id": "226de783-37d6-4bbf-aaa7-b529ec0d0197",
   "metadata": {
    "deletable": false,
    "editable": false
   },
   "source": [
    "**Task 1.4.11:** First, create a new DataFrame called `df_mexico_city` that includes all the observations from `df` that are part of the *Distrito Federal*. Next, create a scatter plot that shows price vs area. Don't forget to label the x- and y-axis and use the title `\"Mexico City: Price vs. Area\"`. Finally, calculate the  correlation coefficient for `\"area_m2\"` and `\"price_usd\"` in `df_mexico_city`.\n",
    "\n",
    "- [Calculate the correlation coefficient for two Series using pandas.](../%40textbook/05-pandas-summary-statistics.ipynb#Correlations)\n",
    "- [Create a scatter plot using Matplotlib.](../%40textbook/06-visualization-matplotlib.ipynb#Scatter-Plots)\n",
    "- [Subset a DataFrame with a mask using pandas.](../%40textbook/04-pandas-advanced.ipynb#Subsetting-with-Masks)"
   ]
  },
  {
   "cell_type": "code",
   "execution_count": null,
   "id": "f8ad8026-6ce1-425b-b554-ca8ad2619e8e",
   "metadata": {
    "deletable": false
   },
   "outputs": [],
   "source": [
    "# Declare variable `df_mexico_city` by subsetting `df`\n",
    "df_mexico_city = ...\n",
    "\n",
    "# Print object type and shape\n",
    "print(\"df_mexico_city type:\", type(df_mexico_city))\n",
    "print(\"df_mexico_city shape:\", df_mexico_city.shape)\n",
    "\n",
    "# Create a scatter plot \"price_usd\" vs \"area_m2\" in Distrito Federal\n",
    "plt.scatter(df_mexico_city[\"area_m2\"], df_mexico_city[\"price_usd\"])  # REMOVERHS\n",
    "\n",
    "# Add x-axis label\n",
    "plt.xlabel(\"Area [sq meters]\")  # REMOVERHS\n",
    "\n",
    "# Add y-axis label\n",
    "plt.ylabel(\"Price [USD]\")  # REMOVERHS\n",
    "\n",
    "# Add title\n",
    "plt.title(\"Mexico City: Price vs. Area\")  # REMOVERHS\n",
    "\n",
    "# Calculate correlation of \"price_usd\" and \"area_m2\" in `df_mexico_city`\n",
    "p_correlation = ...\n",
    "\n",
    "# Print correlation coefficient\n",
    "print(\"Correlation of 'area_m2' and 'price_usd' (Mexico City):\", p_correlation)"
   ]
  },
  {
   "cell_type": "markdown",
   "id": "d4a87b28-a79c-4258-9055-4886bfce642c",
   "metadata": {
    "deletable": false,
    "editable": false
   },
   "source": [
    "Looking at the scatter plot and correlation coefficient, there's see a weak relationship between size and price. How should we interpret this? \n",
    "\n",
    "One interpretation is that the relationship we see between size and price in many states doesn't hold true in the country's biggest and most economically powerful urban center because there are other factors that have a larger influence on price. In fact, in the next project, we're going to look at another important Latin American city — Buenos Aires, Argentina — and build a model that predicts housing price by taking much more than size into account. "
   ]
  },
  {
   "cell_type": "markdown",
   "id": "eb8a1ac1",
   "metadata": {
    "deletable": false,
    "editable": false
   },
   "source": [
    "---\n",
    "Copyright 2023 WorldQuant University. This\n",
    "content is licensed solely for personal use. Redistribution or\n",
    "publication of this material is strictly prohibited.\n"
   ]
  }
 ],
 "metadata": {
  "kernelspec": {
   "display_name": "Python 3 (ipykernel)",
   "language": "python",
   "name": "python3"
  },
  "language_info": {
   "codemirror_mode": {
    "name": "ipython",
    "version": 3
   },
   "file_extension": ".py",
   "mimetype": "text/x-python",
   "name": "python",
   "nbconvert_exporter": "python",
   "pygments_lexer": "ipython3",
   "version": "3.11.4"
  }
 },
 "nbformat": 4,
 "nbformat_minor": 5
}
