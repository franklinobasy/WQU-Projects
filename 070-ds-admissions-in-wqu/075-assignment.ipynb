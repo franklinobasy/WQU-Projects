{
 "cells": [
  {
   "cell_type": "markdown",
   "id": "fe50482a",
   "metadata": {
    "deletable": false,
    "editable": false
   },
   "source": [
    "\n",
    "<div class=\"alert alert-info\" role=\"alert\">\n",
    "  <p>\n",
    "    <center><b>Usage Guidelines</b></center>\n",
    "  </p>\n",
    "\n",
    "  <p>\n",
    "    This lesson is part of the <b>DS Lab core curriculum</b>. For that reason, this notebook can only be used on your WQU virtual machine.\n",
    "  </p>\n",
    "\n",
    "  <p>\n",
    "    This means:\n",
    "    <ul>\n",
    "      <li><span style=\"color: red\">ⓧ</span> No downloading this notebook.</li>\n",
    "      <li><span style=\"color: red\">ⓧ</span> No re-sharing of this notebook with friends or colleagues.</li>\n",
    "      <li><span style=\"color: red\">ⓧ</span> No downloading the embedded videos in this notebook.</li>\n",
    "      <li><span style=\"color: red\">ⓧ</span> No re-sharing embedded videos with friends or colleagues.</li>\n",
    "      <li><span style=\"color: red\">ⓧ</span> No adding this notebook to public or private repositories.</li>\n",
    "      <li><span style=\"color: red\">ⓧ</span> No uploading this notebook (or screenshots of it) to other websites, including websites for study resources.</li>\n",
    "    </ul>\n",
    "\n",
    "  </p>\n",
    "</div>\n"
   ]
  },
  {
   "cell_type": "markdown",
   "id": "ef0276e4-1e69-4177-b6e6-febd8ebfe8f0",
   "metadata": {
    "deletable": false,
    "editable": false
   },
   "source": [
    "<font size=\"+3\"><strong>7.5. Admissions in the MScFE 🎓🗞</strong></font>"
   ]
  },
  {
   "cell_type": "markdown",
   "id": "13900fdf-888d-4667-a3b0-a09e8e81909c",
   "metadata": {
    "deletable": false,
    "editable": false
   },
   "source": [
    "In this project, you conducted an experiment to help WQU improve enrollment in the Applied Data Science Lab. But let's not forget about our [Master of Science in Financial Engineering](https://www.wqu.edu/programs/mscfe/)! For your assignment, you'll help the MScFE conduct a similar experiment. This will be a great opportunity to put your new EDA, ETL, and statistics skills into action. \n",
    "\n",
    "Also, keep in mind that for many of these submissions, you'll be passing in dictionaries that will test different parts of your code. "
   ]
  },
  {
   "cell_type": "code",
   "execution_count": null,
   "id": "e37d2b16-8ef4-4074-9cd3-ba33f3c5be07",
   "metadata": {
    "deletable": false,
    "editable": false,
    "init_cell": true
   },
   "outputs": [],
   "source": [
    "import wqet_grader\n",
    "from pymongo import MongoClient\n",
    "from pymongo.collection import Collection\n",
    "from teaching_tools.ab_test.reset import Reset\n",
    "\n",
    "wqet_grader.init(\"Project 7 Assessment\")\n",
    "\n",
    "r = Reset()\n",
    "r.reset_database()"
   ]
  },
  {
   "cell_type": "code",
   "execution_count": null,
   "id": "bbbd7cf7-153a-486e-9fc2-f68d3677c4b7",
   "metadata": {
    "deletable": false
   },
   "outputs": [],
   "source": [
    "# Import your libraries here\n"
   ]
  },
  {
   "cell_type": "markdown",
   "id": "2fdb849d-ef82-41d2-b8b4-f07c1bbcf796",
   "metadata": {
    "deletable": false,
    "editable": false
   },
   "source": [
    "# Connect"
   ]
  },
  {
   "cell_type": "markdown",
   "id": "c6aedd42-46a0-40ef-8b3b-869dc976cee2",
   "metadata": {
    "deletable": false,
    "editable": false
   },
   "source": [
    "**Task 7.5.1:** On your MongoDB server, there is a collection named `\"mscfe-applicants\"`. Locate this collection, and assign it to the variable name `mscfe_app`."
   ]
  },
  {
   "cell_type": "code",
   "execution_count": null,
   "id": "708d21e4-0270-4b5a-8775-e0b4f9a2c15b",
   "metadata": {
    "deletable": false
   },
   "outputs": [],
   "source": [
    "# Create `client`\n",
    "\n",
    "# Create `db`\n",
    "\n",
    "# Assign `\"mscfe-applicants\"` collection to `mscfe_app`\n",
    "mscfe_app = ..."
   ]
  },
  {
   "cell_type": "code",
   "execution_count": null,
   "id": "fb84b8b0-d54d-47f1-8789-41733bda0fd5",
   "metadata": {
    "deletable": false,
    "editable": false
   },
   "outputs": [],
   "source": [
    "submission = {\n",
    "    \"is_collection\": isinstance(mscfe_app, Collection),\n",
    "    \"collection_name\": mscfe_app.full_name,\n",
    "}\n",
    "wqet_grader.grade(\"Project 7 Assessment\", \"Task 7.5.1\", submission)"
   ]
  },
  {
   "cell_type": "markdown",
   "id": "2f233223-6f8c-4024-934c-1147f0cb5145",
   "metadata": {
    "deletable": false,
    "editable": false
   },
   "source": [
    "# Explore"
   ]
  },
  {
   "cell_type": "markdown",
   "id": "11ad67c9-c615-4d0a-a08d-0d6762c08a97",
   "metadata": {
    "deletable": false,
    "editable": false
   },
   "source": [
    "**Task 7.5.2:** Aggregate the applicants in `mscfe_app` by nationality, and then load your results into the DataFrame `df_nationality`. Your DataFrame should have two columns: `\"country_iso2\"` and `\"count\"`."
   ]
  },
  {
   "cell_type": "code",
   "execution_count": null,
   "id": "3c40550a-7207-42eb-8804-d2b11390b1ac",
   "metadata": {
    "deletable": false
   },
   "outputs": [],
   "source": [
    "# Aggregate applicants by nationality\n",
    "result = ...\n",
    "\n",
    "# Load result into DataFrame\n",
    "df_nationality = ...\n",
    "\n",
    "print(\"df_nationality type:\", type(df_nationality))\n",
    "print(\"df_nationality shape\", df_nationality.shape)\n",
    "df_nationality.head()"
   ]
  },
  {
   "cell_type": "code",
   "execution_count": null,
   "id": "010a3c26-98c6-4046-ae79-21d34da1b078",
   "metadata": {
    "deletable": false,
    "editable": false
   },
   "outputs": [],
   "source": [
    "wqet_grader.grade(\"Project 7 Assessment\", \"Task 7.5.2\", df_nationality)\n"
   ]
  },
  {
   "cell_type": "markdown",
   "id": "b1820a35-1d02-4fec-b42e-6f311fd9ab88",
   "metadata": {
    "deletable": false,
    "editable": false
   },
   "source": [
    "**Task 7.5.3:** Using the `country_converter` library, add two new columns to `df_nationality`. The first, `\"country_name\"`, should contain the short name of the country in each row. The second, `\"country_iso3\"`, should contain the three-letter abbreviation."
   ]
  },
  {
   "cell_type": "code",
   "execution_count": null,
   "id": "32791d01-5452-40bd-9fc9-e1ef831e1925",
   "metadata": {
    "deletable": false
   },
   "outputs": [],
   "source": [
    "# Instantiate `CountryConverter`\n",
    "\n",
    "\n",
    "# Create `\"country_name\"` column\n",
    "\n",
    "\n",
    "# Create `\"country_iso3\"` column\n",
    "\n",
    "\n",
    "print(\"df_nationality type:\", type(df_nationality))\n",
    "print(\"df_nationality shape\", df_nationality.shape)\n",
    "df_nationality.head()"
   ]
  },
  {
   "cell_type": "code",
   "execution_count": null,
   "id": "6c19af10-ae11-42fb-95ed-7a3be3066df6",
   "metadata": {
    "deletable": false,
    "editable": false
   },
   "outputs": [],
   "source": [
    "wqet_grader.grade(\"Project 7 Assessment\", \"Task 7.5.3\", df_nationality)\n"
   ]
  },
  {
   "cell_type": "markdown",
   "id": "05c34793-b23e-41b6-9088-2b101e2ebb37",
   "metadata": {
    "deletable": false,
    "editable": false
   },
   "source": [
    "**Task 7.5.4:** Build a function `build_nat_choropleth` that uses plotly express and the data in `df_nationality` to create a choropleth map of the nationalities of MScFE applicants. Be sure to use the title `\"MScFE Applicants: Nationalities\"`."
   ]
  },
  {
   "cell_type": "code",
   "execution_count": null,
   "id": "05a097dc-4ade-4b38-98ec-4d8af732f57d",
   "metadata": {
    "deletable": false
   },
   "outputs": [],
   "source": [
    "# Create `build_nat_choropleth` function\n",
    "\n",
    "\n",
    "# Don't delete the code below 👇\n",
    "nat_fig = build_nat_choropleth()\n",
    "nat_fig.write_image(\"images/7-5-4.png\", scale=1, height=500, width=700)\n",
    "\n",
    "nat_fig.show()"
   ]
  },
  {
   "cell_type": "code",
   "execution_count": null,
   "id": "440c4ac8-2449-4250-840f-6ec5e2b3c8ee",
   "metadata": {
    "deletable": false,
    "editable": false
   },
   "outputs": [],
   "source": [
    "with open(\"images/7-5-4.png\", \"rb\") as file:\n",
    "    wqet_grader.grade(\"Project 7 Assessment\", \"Task 7.5.4\", file)"
   ]
  },
  {
   "cell_type": "markdown",
   "id": "92cf4cc6-1006-4bbd-8232-5bd55de222cb",
   "metadata": {
    "deletable": false,
    "editable": false
   },
   "source": [
    "# ETL"
   ]
  },
  {
   "cell_type": "markdown",
   "id": "5904b4c6-5164-4931-b7ad-90882deed704",
   "metadata": {
    "deletable": false,
    "editable": false
   },
   "source": [
    "In this section, you'll build a `MongoRepository` class. There are several tasks that will evaluate your class definition. You'll write your code in the cell below, and then submit each of those tasks one-by-one later on. "
   ]
  },
  {
   "cell_type": "code",
   "execution_count": null,
   "id": "26a57508-e2c4-4951-8a90-767672d7ab4d",
   "metadata": {
    "deletable": false
   },
   "outputs": [],
   "source": [
    "class MongoRepository:\n",
    "    \"\"\"Repository class for interacting with MongoDB database.\n",
    "\n",
    "    Parameters\n",
    "    ----------\n",
    "    client : `pymongo.MongoClient`\n",
    "        By default, `MongoClient(host='localhost', port=27017)`.\n",
    "    db : str\n",
    "        By default, `'wqu-abtest'`.\n",
    "    collection : str\n",
    "        By default, `'mscfe-applicants'`.\n",
    "\n",
    "    Attributes\n",
    "    ----------\n",
    "    collection : pymongo.collection.Collection\n",
    "        All data will be extracted from and loaded to this collection.\n",
    "    \"\"\"\n",
    "\n",
    "    # Task 7.5.5: `__init__` method\n",
    "    \n",
    "\n",
    "    # Task 7.5.6: `find_by_date` method\n",
    "    \n",
    "\n",
    "    # Task 7.5.7: `update_applicants` method\n",
    "    \n",
    "\n",
    "    # Task 7.5.7: `assign_to_groups` method\n",
    "    \n",
    "\n",
    "    # Task 7.5.14: `find_exp_observations` method\n",
    "    "
   ]
  },
  {
   "cell_type": "markdown",
   "id": "011ae6b2-0e68-4a77-a0b1-257a2fe3b7e2",
   "metadata": {
    "deletable": false,
    "editable": false
   },
   "source": [
    "**Task 7.5.5:** Create a class definition for your `MongoRepository`, including an `__init__` function that will assign a `collection` attribute based on user input. Then create an instance of your class named `repo`. The grader will test whether `repo` is associated with the correct collection. "
   ]
  },
  {
   "cell_type": "code",
   "execution_count": null,
   "id": "3793a843-4d38-4405-85c8-2926f456cd03",
   "metadata": {
    "deletable": false
   },
   "outputs": [],
   "source": [
    "repo = ...\n",
    "print(\"repo type:\", type(repo))\n",
    "repo"
   ]
  },
  {
   "cell_type": "code",
   "execution_count": null,
   "id": "fef1c650-205f-4271-ba34-2013c18d80f7",
   "metadata": {
    "deletable": false,
    "editable": false
   },
   "outputs": [],
   "source": [
    "submission = {\n",
    "    \"is_mongorepo\": isinstance(repo, MongoRepository),\n",
    "    \"repo_name\": repo.collection.name,\n",
    "}\n",
    "submission\n",
    "wqet_grader.grade(\"Project 7 Assessment\", \"Task 7.5.5\", submission)"
   ]
  },
  {
   "cell_type": "markdown",
   "id": "1a829ac6-a294-4c15-a648-bd12a0aeeed5",
   "metadata": {
    "deletable": false,
    "editable": false
   },
   "source": [
    "**Task 7.5.6:** Add a `find_by_date` method to your class definition for `MongoRepository`. The method should search the class collection and return all the no-quiz applicants from a specific date. The grader will check your method by looking for applicants whose accounts were created on **1 June 2022**."
   ]
  },
  {
   "cell_type": "markdown",
   "id": "0154609b-46cb-4849-8f22-0957e1275b07",
   "metadata": {
    "deletable": false,
    "editable": false
   },
   "source": [
    "<div class=\"alert alert-block alert-warning\">\n",
    "<p><b>Warning:</b> Once you update your class definition above, you'll need to rerun that cell and then re-instantiate <code>repo</code>. Otherwise, you won't be able to submit to the grader for this task.\n",
    "</div>"
   ]
  },
  {
   "cell_type": "code",
   "execution_count": null,
   "id": "4b01b98b-3ca5-4cc5-a080-b27a00cb88b2",
   "metadata": {
    "deletable": false,
    "editable": false
   },
   "outputs": [],
   "source": [
    "submission = wqet_grader.clean_bson(repo.find_by_date(\"2022-06-01\"))\n",
    "wqet_grader.grade(\"Project 7 Assessment\", \"Task 7.5.6\", submission)"
   ]
  },
  {
   "cell_type": "markdown",
   "id": "a063aa81-a9f2-479b-bbbf-71dd1f9ff77c",
   "metadata": {
    "deletable": false,
    "editable": false
   },
   "source": [
    "**Task 7.5.7:** Add an `assign_to_groups` method to your class definition for `MongoRepository`. It should find users from that date, assign them to groups, update the database, and return the results of the transaction. In order for this method to work, you may also need to create an `update_applicants` method, too. "
   ]
  },
  {
   "cell_type": "markdown",
   "id": "fa7790f9-01bf-4f28-8f1d-09d2ffa32c05",
   "metadata": {
    "deletable": false,
    "editable": false
   },
   "source": [
    "<div class=\"alert alert-block alert-warning\">\n",
    "<p><b>Warning:</b> Once you update your class definition above, you'll need to rerun that cell and then re-instantiate <code>repo</code>. Otherwise, you won't be able to submit to the grader for this task.\n",
    "</div><span style='color: transparent; font-size:1%'>WQU WorldQuant University Applied Data Science Lab QQQQ</span>"
   ]
  },
  {
   "cell_type": "code",
   "execution_count": null,
   "id": "2d1dabf9-d9b4-4fde-9750-5a0e7dbdf92a",
   "metadata": {
    "deletable": false,
    "editable": false
   },
   "outputs": [],
   "source": [
    "date = \"2022-06-02\"\n",
    "repo.assign_to_groups(date)\n",
    "submission = wqet_grader.clean_bson(repo.find_by_date(date))\n",
    "wqet_grader.grade(\"Project 7 Assessment\", \"Task 7.5.7\", submission)"
   ]
  },
  {
   "cell_type": "markdown",
   "id": "4f466898-11bf-4c8a-a4d8-053a9628cba8",
   "metadata": {
    "deletable": false,
    "editable": false,
    "tags": []
   },
   "source": [
    "# Experiment"
   ]
  },
  {
   "cell_type": "markdown",
   "id": "d8826a06-b893-4365-bbef-bc561d7aad65",
   "metadata": {
    "deletable": false,
    "editable": false
   },
   "source": [
    "## Prepare Experiment"
   ]
  },
  {
   "cell_type": "markdown",
   "id": "5143270f-1e91-4f97-abb9-7517cb162d35",
   "metadata": {
    "deletable": false,
    "editable": false
   },
   "source": [
    "**Task 7.5.8:** First, instantiate a `GofChisquarePower` object and assign it to the variable name `chi_square_power`. Then use it to calculate the `group_size` needed to detect a **medium** effect size of `0.5`, with an alpha of `0.05` and power of `0.8`."
   ]
  },
  {
   "cell_type": "code",
   "execution_count": null,
   "id": "b6adb9aa-f070-4482-ab0a-ed8f2b81e63a",
   "metadata": {
    "deletable": false
   },
   "outputs": [],
   "source": [
    "chi_square_power = ...\n",
    "group_size = ...\n",
    "\n",
    "print(\"Group size:\", group_size)\n",
    "print(\"Total # of applicants needed:\", group_size * 2)"
   ]
  },
  {
   "cell_type": "code",
   "execution_count": null,
   "id": "d8abba6d-a363-4668-b8a6-3f3818699282",
   "metadata": {
    "deletable": false,
    "editable": false
   },
   "outputs": [],
   "source": [
    "wqet_grader.grade(\"Project 7 Assessment\", \"Task 7.5.8\", [group_size])"
   ]
  },
  {
   "cell_type": "markdown",
   "id": "24e2f438-cf4a-4030-a930-4fb2bc9f77ce",
   "metadata": {
    "deletable": false,
    "editable": false
   },
   "source": [
    "**Task 7.5.9:** Calculate the number of no-quiz accounts were created each day included in the `mscfe_app` collection. The load your results into the Series `no_quiz_mscfe`. "
   ]
  },
  {
   "cell_type": "code",
   "execution_count": null,
   "id": "0826ce54-c904-4e37-9d8d-c9efb7757a2b",
   "metadata": {
    "deletable": false
   },
   "outputs": [],
   "source": [
    "# Aggregate no-quiz applicants by sign-up date\n",
    "result = ...\n",
    "\n",
    "# Load result into DataFrame\n",
    "no_quiz_mscfe = ...\n",
    "\n",
    "print(\"no_quiz type:\", type(no_quiz_mscfe))\n",
    "print(\"no_quiz shape:\", no_quiz_mscfe.shape)\n",
    "no_quiz_mscfe.head()"
   ]
  },
  {
   "cell_type": "code",
   "execution_count": null,
   "id": "9a6b7359-bff3-4b34-9b40-668b5806eb41",
   "metadata": {
    "deletable": false,
    "editable": false
   },
   "outputs": [],
   "source": [
    "wqet_grader.grade(\"Project 7 Assessment\", \"Task 7.5.9\", no_quiz_mscfe)\n"
   ]
  },
  {
   "cell_type": "markdown",
   "id": "2de23fbe-7c7f-4b11-a230-1faf7882cbb5",
   "metadata": {
    "deletable": false,
    "editable": false
   },
   "source": [
    "**Task 7.5.10:** Calculate the mean and standard deviation of the values in `no_quiz_mscfe`, and assign them to the variables `mean` and `std`, respectively."
   ]
  },
  {
   "cell_type": "code",
   "execution_count": null,
   "id": "60c0600c-4f8c-4f95-9f59-2076025854bd",
   "metadata": {
    "deletable": false
   },
   "outputs": [],
   "source": [
    "mean = ...\n",
    "std = ...\n",
    "print(\"no_quiz mean:\", mean)\n",
    "print(\"no_quiz std:\", std)"
   ]
  },
  {
   "cell_type": "code",
   "execution_count": null,
   "id": "f08d7c21-800c-4314-aba4-685cde44de3c",
   "metadata": {
    "deletable": false,
    "editable": false
   },
   "outputs": [],
   "source": [
    "submission = {\"mean\": mean, \"std\": std}\n",
    "submission\n",
    "wqet_grader.grade(\"Project 7 Assessment\", \"Task 7.5.10\", submission)"
   ]
  },
  {
   "cell_type": "markdown",
   "id": "0d368039-8c35-47eb-96eb-8bde7852af5b",
   "metadata": {
    "deletable": false,
    "editable": false
   },
   "source": [
    "**Ungraded Task:** Complete the code below so that it calculates the mean and standard deviation of the probability distribution for the total number of days assigned to `exp_days`."
   ]
  },
  {
   "cell_type": "code",
   "execution_count": null,
   "id": "d0fa8052-6032-429c-9522-1c24b4f553cd",
   "metadata": {
    "deletable": false
   },
   "outputs": [],
   "source": [
    "exp_days = ...\n",
    "sum_mean = ...\n",
    "sum_std = ...\n",
    "print(\"Mean of sum:\", sum_mean)\n",
    "print(\"Std of sum:\", sum_std)"
   ]
  },
  {
   "cell_type": "markdown",
   "id": "bd1db094-05e3-4e70-8f19-47c29dcbe98c",
   "metadata": {
    "deletable": false,
    "editable": false
   },
   "source": [
    "**Task 7.5.11:** Using the `group_size` you calculated earlier and the code you wrote in the previous task, determine how many days you must run your experiment so that you have a 95% or greater chance of getting a sufficient number of observations. Keep in mind that you want to run your experiment for the fewest number of days possible, and no more. "
   ]
  },
  {
   "cell_type": "code",
   "execution_count": null,
   "id": "000c3019-8ae2-447b-8385-7dcfdf8c3440",
   "metadata": {
    "deletable": false
   },
   "outputs": [],
   "source": [
    "prob_65_or_fewer = ...\n",
    "prob_65_or_greater = ...\n",
    "\n",
    "print(\n",
    "    f\"Probability of getting 65+ no_quiz in {exp_days} days:\",\n",
    "    round(prob_65_or_greater, 3),\n",
    ")"
   ]
  },
  {
   "cell_type": "code",
   "execution_count": null,
   "id": "594cfa3c-389b-4184-a02f-a069ea350587",
   "metadata": {
    "deletable": false,
    "editable": false
   },
   "outputs": [],
   "source": [
    "submission = {\"days\": exp_days, \"probability\": prob_65_or_greater}\n",
    "submission\n",
    "wqet_grader.grade(\"Project 7 Assessment\", \"Task 7.5.11\", submission)"
   ]
  },
  {
   "cell_type": "markdown",
   "id": "be655a8a-f103-4709-9e5e-aaf630a5d04e",
   "metadata": {
    "deletable": false,
    "editable": false
   },
   "source": [
    "## Run Experiment"
   ]
  },
  {
   "cell_type": "markdown",
   "id": "924dc478-4183-4936-b12e-a2ec17dcffdd",
   "metadata": {
    "deletable": false,
    "editable": false
   },
   "source": [
    "**Task 7.5.12:** Using the `Experiment` object created below, run your experiment for the appropriate number of days."
   ]
  },
  {
   "cell_type": "code",
   "execution_count": null,
   "id": "3d831859-59b5-4bc8-833b-29038f59d75c",
   "metadata": {
    "deletable": false,
    "editable": false
   },
   "outputs": [],
   "source": [
    "exp = Experiment(repo=client, db=\"wqu-abtest\", collection=\"mscfe-applicants\")\n",
    "exp.reset_experiment()\n",
    "result = exp.run_experiment(days=exp_days, assignment=True)\n",
    "print(\"result type:\", type(result))\n",
    "result"
   ]
  },
  {
   "cell_type": "code",
   "execution_count": null,
   "id": "20d92a41-aa37-4de9-9de1-e0cf351621aa",
   "metadata": {
    "deletable": false,
    "editable": false
   },
   "outputs": [],
   "source": [
    "wqet_grader.grade(\"Project 7 Assessment\", \"Task 7.5.12\", result)"
   ]
  },
  {
   "cell_type": "markdown",
   "id": "fe3a0259-49a6-432b-bcb2-916a7387a76f",
   "metadata": {
    "deletable": false,
    "editable": false
   },
   "source": [
    "## Analyze Results"
   ]
  },
  {
   "cell_type": "markdown",
   "id": "49e8be6b-7457-4733-8af0-1937e6016f2b",
   "metadata": {
    "deletable": false,
    "editable": false
   },
   "source": [
    "**Task 7.5.13:** Add a `find_exp_observations` method to your `MongoRepository` class. It should return all the observations from the class collection that were part of the experiment."
   ]
  },
  {
   "cell_type": "markdown",
   "id": "492c8bcd-d96b-4753-92fa-648e71045855",
   "metadata": {
    "deletable": false,
    "editable": false
   },
   "source": [
    "<div class=\"alert alert-block alert-warning\">\n",
    "<p><b>Warning:</b> Once you update your class definition above, you'll need to rerun that cell and then re-instantiate <code>repo</code>. Otherwise, you won't be able to submit to the grader for this task.\n",
    "</div>"
   ]
  },
  {
   "cell_type": "markdown",
   "id": "9184a2cf-7168-46ae-ba31-d2c571b9832f",
   "metadata": {
    "deletable": false,
    "editable": false
   },
   "source": [
    "<div class=\"alert alert-block alert-info\">\n",
    "    <p><b>Tip:</b> In order for this method to work, it must return its results as a <code>list</code>, not a pymongo <code>Cursor</code>.</p>\n",
    "</div>"
   ]
  },
  {
   "cell_type": "code",
   "execution_count": null,
   "id": "254f4c9d-21ac-4c38-bb65-439dc6e08264",
   "metadata": {
    "deletable": false,
    "editable": false
   },
   "outputs": [],
   "source": [
    "submission = wqet_grader.clean_bson(repo.find_exp_observations())\n",
    "wqet_grader.grade(\"Project 7 Assessment\", \"Task 7.5.13\", submission)"
   ]
  },
  {
   "cell_type": "markdown",
   "id": "4c077432-9c96-4915-8623-2d82caac86dc",
   "metadata": {
    "deletable": false,
    "editable": false
   },
   "source": [
    "**Task 7.5.14:** Using your `find_exp_observations` method load the observations from your `repo` into the DataFrame `df`."
   ]
  },
  {
   "cell_type": "code",
   "execution_count": null,
   "id": "dc965fd2-ec09-4295-b077-e6c0c0d94610",
   "metadata": {
    "deletable": false
   },
   "outputs": [],
   "source": [
    "result = repo.find_exp_observations()\n",
    "df = ...\n",
    "\n",
    "print(\"df type:\", type(df))\n",
    "print(\"df shape:\", df.shape)\n",
    "df.head()"
   ]
  },
  {
   "cell_type": "code",
   "execution_count": null,
   "id": "82e96c10-5693-4ad2-a6db-83b4ce81e3b7",
   "metadata": {
    "deletable": false,
    "editable": false
   },
   "outputs": [],
   "source": [
    "wqet_grader.grade(\"Project 7 Assessment\", \"Task 7.5.14\", df.drop(columns=[\"_id\"]))\n"
   ]
  },
  {
   "cell_type": "markdown",
   "id": "fe83d4c3-ea49-462a-822e-4493150a27eb",
   "metadata": {
    "deletable": false,
    "editable": false
   },
   "source": [
    "**Task 7.5.15:** Create a `crosstab` to of the data in `df`, showing how many applicants in each experimental group did and did not complete the admissions quiz. Assign the result to `data`."
   ]
  },
  {
   "cell_type": "code",
   "execution_count": null,
   "id": "58082ff0-b192-4082-ab13-f7dbbeed8560",
   "metadata": {
    "deletable": false
   },
   "outputs": [],
   "source": [
    "data = ...\n",
    "\n",
    "print(\"data type:\", type(data))\n",
    "print(\"data shape:\", data.shape)\n",
    "data"
   ]
  },
  {
   "cell_type": "code",
   "execution_count": null,
   "id": "093f0ba0-3ee8-48f3-9c4d-249674123abc",
   "metadata": {
    "deletable": false,
    "editable": false
   },
   "outputs": [],
   "source": [
    "wqet_grader.grade(\"Project 7 Assessment\", \"Task 7.5.15\", data)\n"
   ]
  },
  {
   "cell_type": "markdown",
   "id": "fba956be-1f1f-43de-829e-25d70461585b",
   "metadata": {
    "deletable": false,
    "editable": false
   },
   "source": [
    "**Task 7.5.16:** Create a function that returns side-by-side bar chart of `data`, showing the number of complete and incomplete quizzes for both the treatment and control groups. Be sure to label the x-axis `\"Group\"`, the y-axis `\"Frequency [count]\"`, and use the title `\"MScFE: Admissions Quiz Completion by Group\"`."
   ]
  },
  {
   "cell_type": "code",
   "execution_count": null,
   "id": "8f417a06-5cec-4703-a6ac-4380b806743d",
   "metadata": {
    "deletable": false
   },
   "outputs": [],
   "source": [
    "# Create `build_contingency_bar` function\n",
    "\n",
    "\n",
    "# Don't delete the code below 👇\n",
    "cb_fig = build_contingency_bar()\n",
    "cb_fig.write_image(\"images/7-5-16.png\", scale=1, height=500, width=700)\n",
    "\n",
    "cb_fig.show()"
   ]
  },
  {
   "cell_type": "code",
   "execution_count": null,
   "id": "66af5ef5-a7b3-4293-a125-3116e2449914",
   "metadata": {
    "deletable": false,
    "editable": false
   },
   "outputs": [],
   "source": [
    "with open(\"images/7-5-16.png\", \"rb\") as file:\n",
    "    wqet_grader.grade(\"Project 7 Assessment\", \"Task 7.5.16\", file)"
   ]
  },
  {
   "cell_type": "markdown",
   "id": "bb5af993-ec04-46a6-a250-02ff91a8d16d",
   "metadata": {
    "deletable": false,
    "editable": false
   },
   "source": [
    "**Task 7.5.17:** Instantiate a `Table2x2` object named `contingency_table`, using the values from the `data` you created above."
   ]
  },
  {
   "cell_type": "code",
   "execution_count": null,
   "id": "b8baa596-6e5f-43e3-9b31-f7af4c288f7c",
   "metadata": {
    "deletable": false
   },
   "outputs": [],
   "source": [
    "contingency_table = ...\n",
    "\n",
    "print(\"contingency_table type:\", type(contingency_table))\n",
    "contingency_table.table_orig"
   ]
  },
  {
   "cell_type": "code",
   "execution_count": null,
   "id": "4cfdd1c6-a01d-405c-bddc-13f20ce25c82",
   "metadata": {
    "deletable": false,
    "editable": false
   },
   "outputs": [],
   "source": [
    "submission = contingency_table.table_orig.tolist()\n",
    "wqet_grader.grade(\"Project 7 Assessment\", \"Task 7.5.17\", submission)"
   ]
  },
  {
   "cell_type": "markdown",
   "id": "bc199156-8003-4227-9b24-5d73bb2f641f",
   "metadata": {
    "deletable": false,
    "editable": false
   },
   "source": [
    "**Task 7.5.18:** Perform a chi-square test of independence on your `contingency_table` and assign the results to `chi_square_test`."
   ]
  },
  {
   "cell_type": "code",
   "execution_count": null,
   "id": "8452d034-ccbf-4b37-aefa-96162f94c07d",
   "metadata": {
    "deletable": false
   },
   "outputs": [],
   "source": [
    "chi_square_test = ...\n",
    "\n",
    "print(\"chi_square_test type:\", type(chi_square_test))\n",
    "print(chi_square_test)"
   ]
  },
  {
   "cell_type": "code",
   "execution_count": null,
   "id": "adfe9e46-7eae-4b9f-8942-6afe648e0756",
   "metadata": {
    "deletable": false,
    "editable": false
   },
   "outputs": [],
   "source": [
    "submission = {\"p-value\": chi_square_test.pvalue, \"statistic\": chi_square_test.statistic}\n",
    "submission\n",
    "wqet_grader.grade(\"Project 7 Assessment\", \"Task 7.5.18\", submission)"
   ]
  },
  {
   "cell_type": "markdown",
   "id": "bed9299e-94e8-4190-8b57-5fd7baf93f36",
   "metadata": {
    "deletable": false,
    "editable": false
   },
   "source": [
    "**Task 7.5.19:** Calculate the odds ratio for your `contingency_table`."
   ]
  },
  {
   "cell_type": "code",
   "execution_count": null,
   "id": "4f8d286e-2449-423a-b537-94950c30fb90",
   "metadata": {
    "deletable": false
   },
   "outputs": [],
   "source": [
    "odds_ratio = ...\n",
    "print(\"Odds ratio:\", odds_ratio)"
   ]
  },
  {
   "cell_type": "code",
   "execution_count": null,
   "id": "d403ad01-2bae-4ec4-b688-21cb86f227c9",
   "metadata": {
    "deletable": false,
    "editable": false
   },
   "outputs": [],
   "source": [
    "submission = {\"odds ratio\": odds_ratio}\n",
    "submission\n",
    "wqet_grader.grade(\"Project 7 Assessment\", \"Task 7.5.19\", submission)"
   ]
  },
  {
   "cell_type": "markdown",
   "id": "8106d0d4",
   "metadata": {
    "deletable": false,
    "editable": false
   },
   "source": [
    "---\n",
    "Copyright 2023 WorldQuant University. This\n",
    "content is licensed solely for personal use. Redistribution or\n",
    "publication of this material is strictly prohibited.\n"
   ]
  }
 ],
 "metadata": {
  "kernelspec": {
   "display_name": "grading-tools",
   "language": "python",
   "name": "python3"
  },
  "language_info": {
   "codemirror_mode": {
    "name": "ipython",
    "version": 3
   },
   "file_extension": ".py",
   "mimetype": "text/x-python",
   "name": "python",
   "nbconvert_exporter": "python",
   "pygments_lexer": "ipython3",
   "version": "3.8.12 (default, Oct 12 2021, 06:23:56) \n[Clang 10.0.0 ]"
  },
  "vscode": {
   "interpreter": {
    "hash": "1aa838312b528b31b4c7961d29e363799be244ea5d189daeb964016c6fd343fc"
   }
  }
 },
 "nbformat": 4,
 "nbformat_minor": 5
}
