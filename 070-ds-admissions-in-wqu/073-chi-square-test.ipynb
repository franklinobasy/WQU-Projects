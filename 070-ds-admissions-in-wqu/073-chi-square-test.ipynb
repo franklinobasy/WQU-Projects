{
 "cells": [
  {
   "cell_type": "markdown",
   "id": "55ed1715",
   "metadata": {
    "deletable": false,
    "editable": false
   },
   "source": [
    "\n",
    "<div class=\"alert alert-info\" role=\"alert\">\n",
    "  <p>\n",
    "    <center><b>Usage Guidelines</b></center>\n",
    "  </p>\n",
    "\n",
    "  <p>\n",
    "    This lesson is part of the <b>DS Lab core curriculum</b>. For that reason, this notebook can only be used on your WQU virtual machine.\n",
    "  </p>\n",
    "\n",
    "  <p>\n",
    "    This means:\n",
    "    <ul>\n",
    "      <li><span style=\"color: red\">ⓧ</span> No downloading this notebook.</li>\n",
    "      <li><span style=\"color: red\">ⓧ</span> No re-sharing of this notebook with friends or colleagues.</li>\n",
    "      <li><span style=\"color: red\">ⓧ</span> No downloading the embedded videos in this notebook.</li>\n",
    "      <li><span style=\"color: red\">ⓧ</span> No re-sharing embedded videos with friends or colleagues.</li>\n",
    "      <li><span style=\"color: red\">ⓧ</span> No adding this notebook to public or private repositories.</li>\n",
    "      <li><span style=\"color: red\">ⓧ</span> No uploading this notebook (or screenshots of it) to other websites, including websites for study resources.</li>\n",
    "    </ul>\n",
    "\n",
    "  </p>\n",
    "</div>\n"
   ]
  },
  {
   "cell_type": "markdown",
   "id": "7ad7f957-a31b-41a7-9793-9262ef369cf2",
   "metadata": {
    "deletable": false,
    "editable": false
   },
   "source": [
    "<font size=\"+3\"><strong>7.3. Chi-square test</strong></font>"
   ]
  },
  {
   "cell_type": "markdown",
   "id": "e7bf71d4-773f-4793-9f92-25ec7b060d36",
   "metadata": {
    "deletable": false,
    "editable": false
   },
   "source": [
    "In the previous lesson, we identified a subset of applicants who don't complete the admissions quiz. Then we developed a null and alternative hypothesis that we want to test in an experiment.\n",
    "\n",
    "In this lesson, we'll conduct our experiment. First, we'll determine how long we need to run our experiment in order to detect a significant difference between our control and treatment groups. Then we'll run our experiment and evaluate our results using a chi-square test. "
   ]
  },
  {
   "cell_type": "markdown",
   "id": "51bcf155-9713-4b68-9f8f-8a84e597d3bf",
   "metadata": {
    "deletable": false,
    "editable": false
   },
   "source": [
    "<div class=\"alert alert-block alert-warning\">\n",
    "<b>Warning:</b> The database has changed since this videos for this lesson were filmed. So don't worry if you don't get exactly the same numbers as the instructor for the tasks in this project.\n",
    "</div>"
   ]
  },
  {
   "cell_type": "code",
   "execution_count": null,
   "id": "d1494deb",
   "metadata": {
    "deletable": false,
    "editable": false,
    "init_cell": true,
    "tags": []
   },
   "outputs": [],
   "source": [
    "import math\n",
    "\n",
    "import matplotlib.pyplot as plt\n",
    "import numpy as np\n",
    "import pandas as pd\n",
    "import plotly.express as px\n",
    "import scipy\n",
    "import wqet_grader\n",
    "from IPython.display import VimeoVideo\n",
    "from pymongo import MongoClient\n",
    "from statsmodels.stats.contingency_tables import Table2x2\n",
    "from statsmodels.stats.power import GofChisquarePower\n",
    "from teaching_tools.ab_test.experiment import Experiment\n",
    "from teaching_tools.ab_test.reset import Reset\n",
    "\n",
    "wqet_grader.init(\"Project 7 Assessment\")\n",
    "\n",
    "\n",
    "# Reset database\n",
    "r = Reset()\n",
    "r.reset_database()"
   ]
  },
  {
   "cell_type": "code",
   "execution_count": null,
   "id": "64933391-0c57-49da-81e7-100a4a6b1d7d",
   "metadata": {
    "deletable": false,
    "editable": false,
    "init_cell": true
   },
   "outputs": [],
   "source": [
    "VimeoVideo(\"742459144\", h=\"0f1aa2db83\", width=600)"
   ]
  },
  {
   "cell_type": "markdown",
   "id": "6520d906-f2c3-49c1-8830-0ecdd5ffcdb3",
   "metadata": {
    "deletable": false,
    "editable": false
   },
   "source": [
    "# Preparing the Experiment"
   ]
  },
  {
   "cell_type": "markdown",
   "id": "6037568b-e7ec-4466-a63c-e42959188694",
   "metadata": {
    "deletable": false,
    "editable": false,
    "tags": []
   },
   "source": [
    "## Connect to Database\n",
    "\n",
    "Just like in the previous module, the first thing we need to do is connect to our MongoDB server and turn our collection of interest into a variable."
   ]
  },
  {
   "cell_type": "markdown",
   "id": "1ff0a8b0-11e5-454e-96e0-97fe9ae95b26",
   "metadata": {
    "deletable": false,
    "editable": false
   },
   "source": [
    "**Task 7.3.1:** Assign the `\"ds-applicants\"` collection in the `\"wqu-abtest\"` database to the variable name `ds_app`.\n",
    "\n",
    "- [What's a MongoDB collection?](../%40textbook/11-databases-mongodb.ipynb#Collections)\n",
    "- [Access a collection in a database using PyMongo.](../%40textbook/11-databases-mongodb.ipynb#Collections)"
   ]
  },
  {
   "cell_type": "code",
   "execution_count": null,
   "id": "0921f12a-de9d-454c-a01b-f8a78b9b2a7c",
   "metadata": {
    "deletable": false
   },
   "outputs": [],
   "source": [
    "client = ...\n",
    "ds_app = ...\n",
    "print(\"client:\", type(client))\n",
    "print(\"ds_app:\", type(ds_app))"
   ]
  },
  {
   "cell_type": "markdown",
   "id": "4387e824-4ba6-4c72-a477-c674004f34cc",
   "metadata": {
    "deletable": false,
    "editable": false
   },
   "source": [
    "## Calculate Power\n",
    "\n",
    "One of a Data Scientist's jobs is to help others determine what's  meaningful information and what's not. You can think about this as distinguishing between **signal** and **noise**. As the author [Nate Silver](https://en.wikipedia.org/wiki/The_Signal_and_the_Noise) puts it, \"The signal is the truth. The noise is what distracts us from the truth.\"\n",
    "\n",
    "In our experiment, we're looking for a signal indicating that applicants who receive an email are more likely to complete the admissions quiz. If signal's strong, it'll be easy to see. A much higher number of applicants in our treatment group will complete the quiz. But if the signal's weak and there's only a tiny change in quiz completion, it will be harder to determine if this is a meaningful difference or just random variation. How can we separate signal from noise in this case? The answer is **statistical power**.\n",
    "\n",
    "To understand what statistical power is, let's imagine that we're radio engineers building an antenna. The size of our antenna would depend on the type of signal we wanted to detect. It would be OK to build a low-power antenna if we only wanted to detect strong signals, like a car antenna that picks up your favorite local music station. But our antenna wouldn't pick up weaker signals — like a radio station on the other side of the globe. For weaker signals, we'd need something with higher power. In statistics, power comes from the number of observations you include in your experiment. In other words, the more people we include, the stronger our antenna, and the better we can detect weak signals. \n",
    "\n",
    "To determine exactly how many people we should include in our study, we need to do a **power calculation**. "
   ]
  },
  {
   "cell_type": "code",
   "execution_count": null,
   "id": "66da8f61-ca4d-47b3-8e3d-c51ae37cf103",
   "metadata": {
    "deletable": false,
    "editable": false,
    "init_cell": true
   },
   "outputs": [],
   "source": [
    "VimeoVideo(\"734517993\", h=\"624e1cd2ea\", width=600)"
   ]
  },
  {
   "cell_type": "code",
   "execution_count": null,
   "id": "3b56ef41-cb3c-44de-bbe0-3c0217a1dc73",
   "metadata": {
    "deletable": false,
    "editable": false,
    "init_cell": true
   },
   "outputs": [],
   "source": [
    "VimeoVideo(\"734517709\", h=\"907b2d3102\", width=600)"
   ]
  },
  {
   "cell_type": "markdown",
   "id": "65b36665-386a-4eb7-8cfe-a6aed87516c4",
   "metadata": {
    "deletable": false,
    "editable": false
   },
   "source": [
    "**Task 7.3.2:** First, instantiate a `GofChisquarePower` object and assign it to the variable name `chi_square_power`. Then use it to calculate the `group_size` needed to detect an effect size of `0.2`, with an alpha of `0.05` and power of `0.8`.\n",
    "\n",
    "- [What's statistical power?](../%40textbook/20-statistics.ipynb#Power)\n",
    "- [What's effect size?](../%40textbook/20-statistics.ipynb#Effect-Size)\n",
    "- [Perform a power calculation using statsmodels.](../%40textbook/20-statistics.ipynb#Test-for-Independence)"
   ]
  },
  {
   "cell_type": "code",
   "execution_count": null,
   "id": "fd3e0cec-a4d3-43aa-94ac-64b44a930fc6",
   "metadata": {
    "deletable": false
   },
   "outputs": [],
   "source": [
    "chi_square_power = ...\n",
    "group_size = ...\n",
    "\n",
    "print(\"Group size:\", group_size)\n",
    "print(\"Total # of applicants needed:\", group_size * 2)"
   ]
  },
  {
   "cell_type": "markdown",
   "id": "30f92d0c",
   "metadata": {
    "deletable": false,
    "editable": false
   },
   "source": [
    "The results here are telling us that if we want to detect an effect size of 0.2 we need a group size of about 200 people. Since our experiment has two conditions (treatment and control, or email and no email), that means we need a total of about 400 applicants in our experiment.\n",
    "\n",
    "But what about detecting other effect sizes? If we needed to detect a *larger* effect size, we'd need *fewer* applicants. If we needed to detect a *smaller* effect size, we'd need *more* applicants. One way to visualize the relationship between effect size, statistical power, and number of applicants is to make a graph."
   ]
  },
  {
   "cell_type": "code",
   "execution_count": null,
   "id": "e87bd7e8-843a-4d30-b6a3-af3cec8bbeb8",
   "metadata": {
    "deletable": false,
    "editable": false,
    "init_cell": true
   },
   "outputs": [],
   "source": [
    "VimeoVideo(\"734517244\", h=\"44460ba891\", width=600)"
   ]
  },
  {
   "cell_type": "markdown",
   "id": "94c668a2-79cf-4f66-8407-aa74746e17bc",
   "metadata": {
    "deletable": false,
    "editable": false
   },
   "source": [
    "**Task 7.3.3:** Use `chi_square_power` to plot a power curve for three effect sizes: `0.2`, `0.5`, and `0.8`. The x-axis should be the number of observations, ranging from `0` to twice the `group_size` from the previous task. \n",
    "\n",
    "- [Plot a power calculation using statsmodels.](../%40textbook/20-statistics.ipynb#Test-for-Independence)"
   ]
  },
  {
   "cell_type": "code",
   "execution_count": null,
   "id": "071cda18-c660-4e19-bb9a-48a4b2ba2685",
   "metadata": {
    "deletable": false
   },
   "outputs": [],
   "source": [
    "n_observations = ...\n",
    "effect_sizes = ...\n",
    "\n",
    "# Plot power curve using `chi_square_power`\n"
   ]
  },
  {
   "cell_type": "markdown",
   "id": "c948c3aa-bd5b-4a77-9918-c62842a19f5d",
   "metadata": {
    "deletable": false,
    "editable": false,
    "tags": []
   },
   "source": [
    "## Calculate Subjects per Day\n",
    "\n",
    "In the previous lesson, we decided that our experiment would focus on the subset of applicants who don't take the admissions quiz immediately after creating an account. We know we need around 400 observations from this subset, but how long do we need to run our experiment for in order to get that number?\n",
    "\n",
    "To answer that question, we first need to calculate how many such applicants open an account each day."
   ]
  },
  {
   "cell_type": "code",
   "execution_count": null,
   "id": "d5d82b4f-b106-43be-b772-5342b8d5c494",
   "metadata": {
    "deletable": false,
    "editable": false,
    "init_cell": true
   },
   "outputs": [],
   "source": [
    "VimeoVideo(\"734516984\", h=\"f8c2ae9e0e\", width=600)"
   ]
  },
  {
   "cell_type": "markdown",
   "id": "9f15841d-f29c-4cc1-8d15-e22d3be2a375",
   "metadata": {
    "deletable": false,
    "editable": false
   },
   "source": [
    "**Task 7.3.4:** Use the [`aggregate`](https://pymongo.readthedocs.io/en/stable/api/pymongo/collection.html#pymongo.collection.Collection.aggregate) method to calculate how many new accounts were created each day included in the database.\n",
    "\n",
    "- [Perform aggregation calculations on documents using PyMongo.](../%40textbook/11-databases-mongodb.ipynb#Analyzing-Data)\n",
    "- [Use the `$dateTrunc` operator to truncate a date in PyMongo.](../%40textbook/11-databases-mongodb.ipynb#Analyzing-Data)\n",
    "- [Use the `$group` operator in an aggregation in PyMongo.](../%40textbook/11-databases-mongodb.ipynb#Aggregation)\n",
    "- [Use the `$match` operator in an aggregation in PyMongo.](../%40textbook/11-databases-mongodb.ipynb#Aggregation)"
   ]
  },
  {
   "cell_type": "code",
   "execution_count": null,
   "id": "a8716cf2-78f7-4196-adb7-869c7382df93",
   "metadata": {
    "deletable": false
   },
   "outputs": [],
   "source": [
    "result = ...\n",
    "\n",
    "print(\"result type:\", type(result))"
   ]
  },
  {
   "cell_type": "markdown",
   "id": "8d9d5863",
   "metadata": {
    "deletable": false,
    "editable": false
   },
   "source": [
    "Now we'll read our query result into a Series."
   ]
  },
  {
   "cell_type": "code",
   "execution_count": null,
   "id": "7f2bd83b-0b20-42e2-9829-24fa38cf4b0c",
   "metadata": {
    "deletable": false,
    "editable": false,
    "init_cell": true
   },
   "outputs": [],
   "source": [
    "VimeoVideo(\"734516829\", h=\"9c7014eb8d\", width=600)"
   ]
  },
  {
   "cell_type": "markdown",
   "id": "358ed713-1493-48f4-b0af-995c886989b8",
   "metadata": {
    "deletable": false,
    "editable": false
   },
   "source": [
    "**Task 7.3.5:** Read your `result` from the previous task into the Series `no_quiz`. The Series index should be called `\"date\"`, and the name should be `\"new_users\"`.\n",
    "\n",
    "- [Create a DataFrame from a dictionary using pandas.](../%40textbook/03-pandas-getting-started.ipynb#Working-with-DataFrames)\n",
    "- [Rename columns in a DataFrame using pandas.](../%40textbook/03-pandas-getting-started.ipynb#Rename-a-Series)\n",
    "- [Set and reset the index of a DataFrame in pandas.](../%40textbook/03-pandas-getting-started.ipynb#Working-with-DataFrame-Indices)\n",
    "- [Sort a DataFrame or Series in pandas.](../%40textbook/03-pandas-getting-started.ipynb#Sorting)"
   ]
  },
  {
   "cell_type": "code",
   "execution_count": null,
   "id": "a94fcd9e-f54d-4947-a24a-4ac6148c6cdb",
   "metadata": {
    "deletable": false
   },
   "outputs": [],
   "source": [
    "no_quiz = ...\n",
    "\n",
    "print(\"no_quiz type:\", type(no_quiz))\n",
    "print(\"no_quiz shape:\", no_quiz.shape)\n",
    "no_quiz.head()"
   ]
  },
  {
   "cell_type": "markdown",
   "id": "11af9190",
   "metadata": {
    "deletable": false,
    "editable": false
   },
   "source": [
    "Okay! Let's see what we've got here by creating a histogram."
   ]
  },
  {
   "cell_type": "code",
   "execution_count": null,
   "id": "3c157f70-a11a-4adc-a919-6b59ca94059b",
   "metadata": {
    "deletable": false,
    "editable": false,
    "init_cell": true
   },
   "outputs": [],
   "source": [
    "VimeoVideo(\"734516524\", h=\"c1e506e702\", width=600)"
   ]
  },
  {
   "cell_type": "markdown",
   "id": "98f0f400-5067-4b3c-9dc8-417edddabd86",
   "metadata": {
    "deletable": false,
    "editable": false
   },
   "source": [
    "**Task 7.3.6:** Create a histogram of `no_quiz`. Be sure to label the x-axis `\"New Users with No Quiz\"`, the y-axis `\"Frequency [count]\"`, and use the title `\"Distribution of Daily New Users with No Quiz\"`.\n",
    "\n",
    "- [Create a histogram using pandas.](../%40textbook/07-visualization-pandas.ipynb#Histograms)"
   ]
  },
  {
   "cell_type": "code",
   "execution_count": null,
   "id": "186ef9e7-0ac4-442b-93fc-a388bb7e126d",
   "metadata": {
    "deletable": false
   },
   "outputs": [],
   "source": [
    "# Create histogram of `no_quiz`\n",
    "\n",
    "# Add axis labels and title\n"
   ]
  },
  {
   "cell_type": "markdown",
   "id": "be0128cf",
   "metadata": {
    "deletable": false,
    "editable": false
   },
   "source": [
    "We can see that somewhere between 30–60 no-quiz applicants come to the site every day. But how can we use this information to ensure that we get our 400 observations? We need to calculate the mean and standard deviation of this distribution. "
   ]
  },
  {
   "cell_type": "code",
   "execution_count": null,
   "id": "017b4f27-1fef-4ae1-a21d-bdbd4ec6f005",
   "metadata": {
    "deletable": false,
    "editable": false,
    "init_cell": true
   },
   "outputs": [],
   "source": [
    "VimeoVideo(\"734516130\", h=\"a93fabac0f\", width=600)"
   ]
  },
  {
   "cell_type": "markdown",
   "id": "4cf26603-58ca-4e9b-92cd-4688ad324323",
   "metadata": {
    "deletable": false,
    "editable": false
   },
   "source": [
    "**Task 7.3.7:** Calculate the mean and standard deviation of the values in `no_quiz`, and assign them to the variables `mean` and `std`, respectively.\n",
    "\n",
    "- [Calculate summary statistics for a DataFrame or Series in pandas.](../%40textbook/05-pandas-summary-statistics.ipynb#Working-with-Summary-Statistics)"
   ]
  },
  {
   "cell_type": "code",
   "execution_count": null,
   "id": "5836cc3d-8c28-498c-8694-a06d2b78e6e0",
   "metadata": {
    "deletable": false
   },
   "outputs": [],
   "source": [
    "mean = ...\n",
    "std = ...\n",
    "print(\"no_quiz mean:\", mean)\n",
    "print(\"no_quiz std:\", std)"
   ]
  },
  {
   "cell_type": "markdown",
   "id": "db5ace15-5bdb-4ade-9d6d-3a5f5bf44dfb",
   "metadata": {
    "deletable": false,
    "editable": false
   },
   "source": [
    "The exact answers you'll get here will be a little different, but you should see a mean around 40 and a standard deviation between 7 and 8. Taking those rough numbers as a guide, how many days do we need to run the experiment to make sure we get to 400 users?\n",
    "\n",
    "Intuitively, you might think the answer is 10 days, because $10 \\cdot 40 = 400$. But we can't guarantee that we'll get 40 new users every day. Some days, there will be fewer; some days, more. So how can we estimate how many days we'll need? Statistics!\n",
    "\n",
    "The distribution we plotted above shows how many no-quiz applicants come to the site *each day*, but we can use that mean and standard deviation to create a new distribution — one for the sum of no-quiz applicants over *several days*. Let's start with our intuition, and create a distribution for 10 days."
   ]
  },
  {
   "cell_type": "code",
   "execution_count": null,
   "id": "dee2c7ad-238e-4b44-95fe-5953fe82f545",
   "metadata": {
    "deletable": false,
    "editable": false,
    "init_cell": true
   },
   "outputs": [],
   "source": [
    "VimeoVideo(\"742459088\", h=\"1962b016f9\", width=600)"
   ]
  },
  {
   "cell_type": "markdown",
   "id": "35245a46-f900-49d5-873b-14a0c3279003",
   "metadata": {
    "deletable": false,
    "editable": false
   },
   "source": [
    "**Task 7.3.8:** Calculate the mean and standard deviation of the probability distribution for the total number of sign-ups over 10 days. \n",
    "\n",
    "- [What's the central limit theorem?](../%40textbook/20-statistics.ipynb#Central-Limit-Theorem)"
   ]
  },
  {
   "cell_type": "code",
   "execution_count": null,
   "id": "9a5e362d-1244-488f-8e37-26480c4acad3",
   "metadata": {
    "deletable": false
   },
   "outputs": [],
   "source": [
    "days = 10\n",
    "sum_mean = ...\n",
    "sum_std = ...\n",
    "print(\"Mean of sum:\", sum_mean)\n",
    "print(\"Std of sum:\", sum_std)"
   ]
  },
  {
   "cell_type": "markdown",
   "id": "ae23a9c3-28d2-44b0-bf2b-a793212fd154",
   "metadata": {
    "deletable": false,
    "editable": false
   },
   "source": [
    "With this new distribution, we want to know what the probability is that we'll have 400 or more no-quiz applicants after 10 days. We can calculate this using the **cumulative density function** or CDF. The CDF will give us the probability of having 400 or fewer no-quiz applicants, so we'll need to subtract our result from 1."
   ]
  },
  {
   "cell_type": "code",
   "execution_count": null,
   "id": "9bce99af-ce5b-43b2-9661-79d8d9819113",
   "metadata": {
    "deletable": false,
    "editable": false,
    "init_cell": true
   },
   "outputs": [],
   "source": [
    "VimeoVideo(\"742459015\", h=\"33ad7b37ca\", width=600)"
   ]
  },
  {
   "cell_type": "markdown",
   "id": "eb7f7a19-e322-4931-8f2f-581e47a3b9af",
   "metadata": {
    "deletable": false,
    "editable": false
   },
   "source": [
    "**Task 7.3.9:** Calculate the probability of getting 400 or more sign-ups over three days.\n",
    "\n",
    "- [What's a cumulative density function?](../%40textbook/20-statistics.ipynb#Cumulative-Density-Functions)\n",
    "- [Calculate the cumulative density function for a normal distribution using SciPy.](../%40textbook/20-statistics.ipynb#Cumulative-Density-Functions)"
   ]
  },
  {
   "cell_type": "code",
   "execution_count": null,
   "id": "c57a2d9c-4eb6-4894-9f97-d86958dcad16",
   "metadata": {
    "deletable": false
   },
   "outputs": [],
   "source": [
    "prob_400_or_fewer = ...\n",
    "prob_400_or_greater = ...\n",
    "\n",
    "print(\n",
    "    f\"Probability of getting 400+ no_quiz in {days} days:\",\n",
    "    round(prob_400_or_greater, 3),\n",
    ")"
   ]
  },
  {
   "cell_type": "markdown",
   "id": "bc85ad68",
   "metadata": {
    "deletable": false,
    "editable": false
   },
   "source": [
    "Again, the exact probability will change every time we regenerate the database, but there should be around a 90% chance that we'll get the number of applicants we need over 10 days. \n",
    "\n",
    "Since we're talking about finding an optimal timeframe, though, try out some other possibilities. Try changing the value of `days` in Task 7.3.8, and see what happens when you run 7.3.9. Cool, huh?"
   ]
  },
  {
   "cell_type": "markdown",
   "id": "aff259fe",
   "metadata": {
    "deletable": false,
    "editable": false
   },
   "source": [
    "# Running the Experiment\n",
    "\n",
    "Okay, now we know how many applicants we need and what the timeframe needs to be. Let's actually run the experiment!"
   ]
  },
  {
   "cell_type": "code",
   "execution_count": null,
   "id": "a37290e7-8f38-45e0-8ec0-67061f34cd03",
   "metadata": {
    "deletable": false,
    "editable": false,
    "init_cell": true
   },
   "outputs": [],
   "source": [
    "VimeoVideo(\"734515713\", h=\"7702f5163d\", width=600)"
   ]
  },
  {
   "cell_type": "markdown",
   "id": "ccde56d4-d9bd-40e4-b5a2-54ab1d0fd9e8",
   "metadata": {
    "deletable": false,
    "editable": false
   },
   "source": [
    "**Task 7.3.10:** Using the `Experiment` object created below, run your experiment for the appropriate number of days."
   ]
  },
  {
   "cell_type": "code",
   "execution_count": null,
   "id": "d4c6f106",
   "metadata": {
    "deletable": false
   },
   "outputs": [],
   "source": [
    "exp = Experiment(repo=client, db=\"wqu-abtest\", collection=\"ds-applicants\")\n",
    "exp.reset_experiment()\n",
    "result = ...\n",
    "print(\"result type:\", type(result))\n",
    "result"
   ]
  },
  {
   "cell_type": "markdown",
   "id": "a34c6cc3-3351-4792-a7df-8558032c78a0",
   "metadata": {
    "deletable": false,
    "editable": false
   },
   "source": [
    "# Evaluating Experiment Results\n",
    "\n",
    "After all that work, the actual running of the experiment might seem a little anticlimactic. This is because we automated the process and are working with synthetic data. Let's look at our results?"
   ]
  },
  {
   "cell_type": "markdown",
   "id": "c94bc0e6",
   "metadata": {
    "deletable": false,
    "editable": false,
    "tags": []
   },
   "source": [
    "## Get Data\n",
    "\n",
    "First, get the data we need by finding just the people who were part of the experiment..."
   ]
  },
  {
   "cell_type": "code",
   "execution_count": null,
   "id": "75497d58-b50c-4ff4-bb6b-28d9f3f11c7c",
   "metadata": {
    "deletable": false,
    "editable": false,
    "init_cell": true
   },
   "outputs": [],
   "source": [
    "VimeoVideo(\"734515601\", h=\"759340caf1\", width=600)"
   ]
  },
  {
   "cell_type": "markdown",
   "id": "e4720bfb-d63e-437b-9e17-461304a9cedc",
   "metadata": {
    "deletable": false,
    "editable": false
   },
   "source": [
    "**Task 7.3.11:** Query `ds_app` to find all the documents that are part of the experiment. \n",
    "\n",
    "- [Query a collection using PyMongo.](../%40textbook/11-databases-mongodb.ipynb#Retrieving-Data)"
   ]
  },
  {
   "cell_type": "code",
   "execution_count": null,
   "id": "822e6258-3819-4028-ad9b-9c97b1a0688f",
   "metadata": {
    "deletable": false
   },
   "outputs": [],
   "source": [
    "result = ...\n",
    "print(\"results type:\", type(result))"
   ]
  },
  {
   "cell_type": "markdown",
   "id": "d263b110",
   "metadata": {
    "deletable": false,
    "editable": false
   },
   "source": [
    "...and load them into a DataFrame."
   ]
  },
  {
   "cell_type": "code",
   "execution_count": null,
   "id": "96708f3c-f9cc-4132-8257-1ff4dc1503c5",
   "metadata": {
    "deletable": false,
    "editable": false,
    "init_cell": true
   },
   "outputs": [],
   "source": [
    "VimeoVideo(\"734515308\", h=\"8308ce4a22\", width=600)"
   ]
  },
  {
   "cell_type": "markdown",
   "id": "3187228c-7397-4ec8-a3ad-6d8475d96af0",
   "metadata": {
    "deletable": false,
    "editable": false
   },
   "source": [
    "**Task 7.3.12:** Load your `result` from the previous task into the DataFrame `df`. Be sure to drop any rows with `NaN` values.\n",
    "\n",
    "- [Create a DataFrame from a dictionary using pandas.](../%40textbook/03-pandas-getting-started.ipynb#Working-with-DataFrames)\n",
    "- [Drop rows with missing values from a DataFrame using pandas.](../%40textbook/03-pandas-getting-started.ipynb#Dropping-Rows)"
   ]
  },
  {
   "cell_type": "code",
   "execution_count": null,
   "id": "3ccc2929",
   "metadata": {
    "deletable": false
   },
   "outputs": [],
   "source": [
    "df = ...\n",
    "\n",
    "print(\"df type:\", type(df))\n",
    "print(\"df shape:\", df.shape)\n",
    "df.head()"
   ]
  },
  {
   "cell_type": "markdown",
   "id": "d157df67",
   "metadata": {
    "deletable": false,
    "editable": false,
    "tags": []
   },
   "source": [
    "## Build Contingency Table\n",
    "\n",
    "Now that the results are in a DataFrame, we can start pulling apart what we found. Let's start by making a table showing how many people did and didn't complete the quiz across our two groups."
   ]
  },
  {
   "cell_type": "code",
   "execution_count": null,
   "id": "5e3f4d4d-9583-4d1f-8a20-7cc9afe0761d",
   "metadata": {
    "deletable": false,
    "editable": false,
    "init_cell": true
   },
   "outputs": [],
   "source": [
    "VimeoVideo(\"734514187\", h=\"9063c1eccf\", width=600)"
   ]
  },
  {
   "cell_type": "markdown",
   "id": "f0791579-dfc1-4bd3-91a6-ae45e0b188ed",
   "metadata": {
    "deletable": false,
    "editable": false
   },
   "source": [
    "**Task 7.3.13:** Use pandas `crosstab` to create a 2x2 table `data` that shows how many applicants in each experimental group completed and didn't complete the admissions quiz. After you're done, submit your `data` to the grader.\n",
    "\n",
    "- [What's cross tabulation?](../%40textbook/20-statistics.ipynb#Contingency-Tables)\n",
    "- [Compute a cross tabulation in pandas.](../%40textbook/20-statistics.ipynb#Contingency-Tables) "
   ]
  },
  {
   "cell_type": "code",
   "execution_count": null,
   "id": "34b02ac2",
   "metadata": {
    "deletable": false
   },
   "outputs": [],
   "source": [
    "data = ...\n",
    "\n",
    "print(\"data type:\", type(data))\n",
    "print(\"data shape:\", data.shape)\n",
    "data"
   ]
  },
  {
   "cell_type": "code",
   "execution_count": null,
   "id": "b2ecaa71-d63e-4169-b3b5-a233ed408b6d",
   "metadata": {
    "deletable": false,
    "editable": false
   },
   "outputs": [],
   "source": [
    "wqet_grader.grade(\"Project 7 Assessment\", \"Task 7.3.13\", data)\n"
   ]
  },
  {
   "cell_type": "markdown",
   "id": "8171b267",
   "metadata": {
    "deletable": false,
    "editable": false
   },
   "source": [
    "Just to make it easier to see, let's show the results in a side-by-side bar chart."
   ]
  },
  {
   "cell_type": "code",
   "execution_count": null,
   "id": "88492a1c-cf7c-4f26-9c0e-a2b890cbc4cb",
   "metadata": {
    "deletable": false,
    "editable": false,
    "init_cell": true
   },
   "outputs": [],
   "source": [
    "VimeoVideo(\"734513651\", h=\"cc012589ac\", width=600)"
   ]
  },
  {
   "cell_type": "markdown",
   "id": "01e331ed-d205-4b4c-90c3-6d6d58200d98",
   "metadata": {
    "deletable": false,
    "editable": false
   },
   "source": [
    "**Task 7.3.14:** Create a function that returns side-by-side bar chart from `data`, showing the number of complete and incomplete quizzes for both the treatment and control groups. Be sure to label the x-axis `\"Group\"`, the y-axis `\"Frequency [count]\"`, and use the title `\"Admissions Quiz Completion by Group\"`.\n",
    "\n",
    "- [What's a bar chart?](../%40textbook/07-visualization-pandas.ipynb#Bar-Charts)\n",
    "- [Create a bar chart using plotly express.](../%40textbook/08-visualization-plotly.ipynb#Bar-Chart)<span style='color: transparent; font-size:1%'>WQU WorldQuant University Applied Data Science Lab QQQQ</span>"
   ]
  },
  {
   "cell_type": "code",
   "execution_count": null,
   "id": "a62f5368-83a6-4ca0-802a-cfbfe77b3ec3",
   "metadata": {
    "deletable": false
   },
   "outputs": [],
   "source": [
    "def build_contingency_bar():\n",
    "    # Create side-by-side bar chart\n",
    "    fig = ...\n",
    "    # Set axis labels\n",
    "    \n",
    "    return fig\n",
    "\n",
    "\n",
    "build_contingency_bar().show()"
   ]
  },
  {
   "cell_type": "markdown",
   "id": "054c9967",
   "metadata": {
    "deletable": false,
    "editable": false
   },
   "source": [
    "Without doing anything else, we can see that people who got an email actually did complete the quiz more often than people who didn't. So can we conclude that, as a general rule, applicants who receive an email are more likely to complete quiz. No, not yet. After all, the difference we see could be due to chance. \n",
    "\n",
    "In order to determine if this difference is more than random variation, we need to take our results, put them into a **contingency table**, and run a statistical test."
   ]
  },
  {
   "cell_type": "code",
   "execution_count": null,
   "id": "38911734-793f-461b-99ca-e2493b574d9c",
   "metadata": {
    "deletable": false,
    "editable": false,
    "init_cell": true
   },
   "outputs": [],
   "source": [
    "VimeoVideo(\"734512752\", h=\"92e79c3f89\", width=600)"
   ]
  },
  {
   "cell_type": "markdown",
   "id": "f428df71",
   "metadata": {
    "deletable": false,
    "editable": false
   },
   "source": [
    "**Task 7.3.15:** Instantiate a `Table2x2` object named `contingency_table`, using the values from the `data` you created in the previous task.\n",
    "\n",
    "- [What's a contingency table?](../%40textbook/20-statistics.ipynb#Contingency-Tables) \n",
    "- [Create a contingency table using statsmodels.](../%40textbook/20-statistics.ipynb#Contingency-Tables) "
   ]
  },
  {
   "cell_type": "code",
   "execution_count": null,
   "id": "e162d5d8",
   "metadata": {
    "deletable": false
   },
   "outputs": [],
   "source": [
    "contingency_table = ...\n",
    "\n",
    "print(\"contingency_table type:\", type(contingency_table))\n",
    "contingency_table.table_orig"
   ]
  },
  {
   "cell_type": "markdown",
   "id": "f419a186",
   "metadata": {
    "deletable": false,
    "editable": false
   },
   "source": [
    "Now that we have our table, we can calculate what we would expect to see if there was no difference quiz completion between our two groups."
   ]
  },
  {
   "cell_type": "code",
   "execution_count": null,
   "id": "3149eda9-09b6-4fb1-b49d-bceb0726377c",
   "metadata": {
    "deletable": false,
    "editable": false,
    "init_cell": true
   },
   "outputs": [],
   "source": [
    "VimeoVideo(\"734512565\", h=\"4e29a856e1\", width=600)"
   ]
  },
  {
   "cell_type": "markdown",
   "id": "9bade94e-97e5-4286-ad47-737e765460a9",
   "metadata": {
    "deletable": false,
    "editable": false
   },
   "source": [
    "**Task 7.3.16:** Calculate the fitted values for your `contigency_table`.\n",
    "\n",
    "- [Calculate the fitted values for a contingency table in statsmodels.](../%40textbook/20-statistics.ipynb#Contingency-Tables) "
   ]
  },
  {
   "cell_type": "code",
   "execution_count": null,
   "id": "12a020f2",
   "metadata": {
    "deletable": false
   },
   "outputs": [],
   "source": [
    "# Calculate fitted values\n",
    "contingency_table"
   ]
  },
  {
   "cell_type": "markdown",
   "id": "2b50cedd",
   "metadata": {
    "deletable": false,
    "editable": false
   },
   "source": [
    "These are the counts, but what about probabilities?"
   ]
  },
  {
   "cell_type": "code",
   "execution_count": null,
   "id": "bbca522e-0169-4855-ba9d-ab7355ef3ad8",
   "metadata": {
    "deletable": false,
    "editable": false,
    "init_cell": true
   },
   "outputs": [],
   "source": [
    "VimeoVideo(\"734512366\", h=\"70d4db3edd\", width=600)"
   ]
  },
  {
   "cell_type": "markdown",
   "id": "a50aa8d5-f59c-4ed0-a820-7cc41d490eac",
   "metadata": {
    "deletable": false,
    "editable": false
   },
   "source": [
    "**Task 7.3.17:** Calculate the joint probabilities under independence for your `contingency_table`.\n",
    "\n",
    "- [Calculate the joint probabilities for a contingency table in statsmodels.](../%40textbook/20-statistics.ipynb#Contingency-Tables) "
   ]
  },
  {
   "cell_type": "code",
   "execution_count": null,
   "id": "7655b0d7",
   "metadata": {
    "deletable": false
   },
   "outputs": [],
   "source": [
    "# Calculate independent joint probabilities\n",
    "contingency_table"
   ]
  },
  {
   "cell_type": "markdown",
   "id": "6e1d9677-e8c3-4252-8f2e-c5aab527c6fc",
   "metadata": {
    "deletable": false,
    "editable": false
   },
   "source": [
    "## Conduct Chi-Square Test"
   ]
  },
  {
   "cell_type": "markdown",
   "id": "f20e5efd",
   "metadata": {
    "deletable": false,
    "editable": false
   },
   "source": [
    "Here's where the rubber meets the road: all the previous calculations have shown us that some of the people who got an email went on to complete the quiz, but we don't know what might be driving that effect. After all, some people might be responding to getting an email, but others might have finished the quiz whether we emailed them or not. Either way, the effect we found could just as easily be due to chance as it could be a result of something we did. The only way to find out whether the result is due to chance is to calculate *statistical significance*.\n",
    "\n",
    "There are several ways to do this, but since the rows and columns here are unordered (nominal factors), we can do a chi-square test."
   ]
  },
  {
   "cell_type": "code",
   "execution_count": null,
   "id": "2327b395-cc8b-4348-b938-c2e905b7c336",
   "metadata": {
    "deletable": false,
    "editable": false,
    "init_cell": true
   },
   "outputs": [],
   "source": [
    "VimeoVideo(\"742458959\", h=\"e8da1aeecf\", width=600)"
   ]
  },
  {
   "cell_type": "markdown",
   "id": "24a3069f-f49f-4f7f-9a3d-ba2d8571bb8f",
   "metadata": {
    "deletable": false,
    "editable": false
   },
   "source": [
    "**Task 7.3.18:** Perform a chi-square test of independence on your `contingency_table` and assign the results to `chi_square_test`.\n",
    "\n",
    "- [What's a chi-square test of independence?](../%40textbook/20-statistics.ipynb#Chi-Square)\n",
    "- [Perform a chi-square test on a contingency table in statsmodels.](../%40textbook/20-statistics.ipynb#Contingency-Tables) "
   ]
  },
  {
   "cell_type": "code",
   "execution_count": null,
   "id": "ccc4fac4",
   "metadata": {
    "deletable": false
   },
   "outputs": [],
   "source": [
    "chi_square_test = ...\n",
    "\n",
    "print(\"chi_square_test type:\", type(chi_square_test))\n",
    "print(chi_square_test)"
   ]
  },
  {
   "cell_type": "markdown",
   "id": "fee3b046-03b2-4e63-b25e-dac47b4588a3",
   "metadata": {
    "deletable": false,
    "editable": false
   },
   "source": [
    "The important part of that result is the *p-value*. We set our threshold for significance at 0.05 way back at the beginning, so, for our results to be statistically significant, the p-value needs to be less than or equal to 0.05. Our p-value is much higher than 0.05, which means that the difference we saw in our side-by-side bar graph is probably due to chance. In other words, it's noise, not signal. So we can't reject our null hypothesis. \n",
    "\n",
    "What does this result mean? It means there may not be any difference between the groups, or that the difference is so small that we don't have the statistical power to detect it.\n",
    "\n",
    "Since this is a simulated experiment, we can actually increase the power by re-running the experiment for a longer time. If we ran the experiment for 60 days, we might end up with a statistically-significant result. Try it and see what happens!\n",
    "\n",
    "However, there are two important things to keep in mind. First, just because a result is *statistically* significant doesn't mean that it's *practically* significant. A 1% increase in quiz completion may not be worth the time or resources needed to run an email campaign every day. Second, when the number of observations gets very large, any small difference is going to appear statistically significant. This increases the risk of a false positive — rejecting our null hypothesis when it's actually true.\n",
    "\n",
    "Setting the issue of significance aside for now, there's one more calculation that can be helpful in sharing the results of an experiment: the odds ratio. In other words, how much more likely is someone in the treatment group to complete the quiz versus someone in the control group?"
   ]
  },
  {
   "cell_type": "code",
   "execution_count": null,
   "id": "984ef8a9-cf7e-45d9-97b3-de9ab582c2ec",
   "metadata": {
    "deletable": false,
    "editable": false,
    "init_cell": true
   },
   "outputs": [],
   "source": [
    "VimeoVideo(\"734512125\", h=\"8dbc500ec2\", width=600)"
   ]
  },
  {
   "cell_type": "markdown",
   "id": "df3c99eb-4d62-4edc-bef1-788171d3ea65",
   "metadata": {
    "deletable": false,
    "editable": false
   },
   "source": [
    "**Task 7.3.19:** Calculate the odds ratio for your `contingency_table`.\n",
    "\n",
    "- [What's an odds ratio in a chi-square test?](../%40textbook/20-statistics.ipynb#Contingency-Tables)\n",
    "- [Calculate the odds ratio from a chi-square test in statsmodels.](../%40textbook/20-statistics.ipynb#Contingency-Tables)"
   ]
  },
  {
   "cell_type": "code",
   "execution_count": null,
   "id": "39fb15de",
   "metadata": {
    "deletable": false
   },
   "outputs": [],
   "source": [
    "odds_ratio = ...\n",
    "print(\"Odds ratio:\", odds_ratio)"
   ]
  },
  {
   "cell_type": "markdown",
   "id": "45cb4f70",
   "metadata": {
    "deletable": false,
    "editable": false
   },
   "source": [
    "The interpretation here is that for every 1 person who doesn't complete the quiz, about 1.3 people do. Keep in mind, though, that this ratio isn't actionable in the case of our experiment because our results weren't statistically significant. \n",
    "\n",
    "The last thing we need to do is print all the values in our contingency table."
   ]
  },
  {
   "cell_type": "code",
   "execution_count": null,
   "id": "de6006c1-3d89-4b7f-a5e7-c173e0fadf05",
   "metadata": {
    "deletable": false,
    "editable": false,
    "init_cell": true
   },
   "outputs": [],
   "source": [
    "VimeoVideo(\"748065153\", h=\"47f74a0df8\", width=600)"
   ]
  },
  {
   "cell_type": "markdown",
   "id": "deab5727-0e1a-40d9-84f4-a6b5b7dc1b78",
   "metadata": {
    "deletable": false,
    "editable": false
   },
   "source": [
    "**Task 7.3.20:** Print out the summary for your `contingency_table`.\n",
    "\n",
    "- [What's a contingency table?](../%40textbook/20-statistics.ipynb#Contingency-Tables) \n",
    "- [Create a contingency table using statsmodels.](../%40textbook/20-statistics.ipynb#Contingency-Tables) "
   ]
  },
  {
   "cell_type": "code",
   "execution_count": null,
   "id": "2f73a5e2",
   "metadata": {
    "deletable": false
   },
   "outputs": [],
   "source": [
    "summary = ...\n",
    "print(\"summary type:\", type(summary))\n",
    "summary"
   ]
  },
  {
   "cell_type": "markdown",
   "id": "8f9e2b25",
   "metadata": {
    "deletable": false,
    "editable": false
   },
   "source": [
    "---\n",
    "Copyright 2023 WorldQuant University. This\n",
    "content is licensed solely for personal use. Redistribution or\n",
    "publication of this material is strictly prohibited.\n"
   ]
  }
 ],
 "metadata": {
  "kernelspec": {
   "display_name": "Python 3 (ipykernel)",
   "language": "python",
   "name": "python3"
  },
  "language_info": {
   "codemirror_mode": {
    "name": "ipython",
    "version": 3
   },
   "file_extension": ".py",
   "mimetype": "text/x-python",
   "name": "python",
   "nbconvert_exporter": "python",
   "pygments_lexer": "ipython3",
   "version": "3.9.6"
  }
 },
 "nbformat": 4,
 "nbformat_minor": 5
}
