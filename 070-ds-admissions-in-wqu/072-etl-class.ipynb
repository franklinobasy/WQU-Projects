{
 "cells": [
  {
   "cell_type": "markdown",
   "id": "03ad9ef3",
   "metadata": {
    "deletable": false,
    "editable": false
   },
   "source": [
    "\n",
    "<div class=\"alert alert-info\" role=\"alert\">\n",
    "  <p>\n",
    "    <center><b>Usage Guidelines</b></center>\n",
    "  </p>\n",
    "\n",
    "  <p>\n",
    "    This lesson is part of the <b>DS Lab core curriculum</b>. For that reason, this notebook can only be used on your WQU virtual machine.\n",
    "  </p>\n",
    "\n",
    "  <p>\n",
    "    This means:\n",
    "    <ul>\n",
    "      <li><span style=\"color: red\">ⓧ</span> No downloading this notebook.</li>\n",
    "      <li><span style=\"color: red\">ⓧ</span> No re-sharing of this notebook with friends or colleagues.</li>\n",
    "      <li><span style=\"color: red\">ⓧ</span> No downloading the embedded videos in this notebook.</li>\n",
    "      <li><span style=\"color: red\">ⓧ</span> No re-sharing embedded videos with friends or colleagues.</li>\n",
    "      <li><span style=\"color: red\">ⓧ</span> No adding this notebook to public or private repositories.</li>\n",
    "      <li><span style=\"color: red\">ⓧ</span> No uploading this notebook (or screenshots of it) to other websites, including websites for study resources.</li>\n",
    "    </ul>\n",
    "\n",
    "  </p>\n",
    "</div>\n"
   ]
  },
  {
   "cell_type": "markdown",
   "id": "49b57845-4452-476c-b418-e58c541184a8",
   "metadata": {
    "deletable": false,
    "editable": false
   },
   "source": [
    "<font size=\"+3\"><strong>7.2. Extract, Transform, Load</strong></font>"
   ]
  },
  {
   "cell_type": "markdown",
   "id": "cafdb861-7ab1-4f36-a825-49161996447b",
   "metadata": {
    "deletable": false,
    "editable": false
   },
   "source": [
    "In the last lesson, we focused on exploratory data analysis. Specifically, we extracted information from our MongoDB database in order to describe some characteristics of the DS Lab applicant pool — country of origin, age, and education level. In this lesson, our goal is to design our experiment, and that means we'll need to go beyond extracting information. We'll also need to make some transformations in our data and then load it back into our database.\n",
    "\n",
    "In Data Science and Data Engineering, the process of taking data from a source, changing it, and then loading it into a database is called **ETL**, which is short for **extract, transform, load**. ETL tends to be more programming-intensive than other data science tasks like visualization, so we'll also spend time in this lesson exploring Python as an **object-oriented programming** language. Specifically, we'll create our own Python **class** to contain our ETL processes."
   ]
  },
  {
   "cell_type": "markdown",
   "id": "3e454bb8-94b4-4635-9c45-8902f493e817",
   "metadata": {
    "deletable": false,
    "editable": false
   },
   "source": [
    "<div class=\"alert alert-block alert-warning\">\n",
    "<b>Warning:</b> The database has changed since this videos for this lesson were filmed. So don't worry if you don't get exactly the same numbers as the instructor for the tasks in this project.\n",
    "</div>"
   ]
  },
  {
   "cell_type": "code",
   "execution_count": null,
   "id": "9c5273d4-63eb-486c-ab2a-4bca2c422b76",
   "metadata": {
    "deletable": false,
    "editable": false,
    "init_cell": true
   },
   "outputs": [],
   "source": [
    "import random\n",
    "\n",
    "import pandas as pd\n",
    "import wqet_grader\n",
    "from IPython.display import VimeoVideo\n",
    "from pymongo import MongoClient\n",
    "from teaching_tools.ab_test.reset import Reset\n",
    "\n",
    "wqet_grader.init(\"Project 7 Assessment\")\n",
    "\n",
    "r = Reset()\n",
    "r.reset_database()"
   ]
  },
  {
   "cell_type": "code",
   "execution_count": null,
   "id": "455e7069-356c-491b-8b79-1375bde1bfd5",
   "metadata": {
    "deletable": false,
    "editable": false,
    "init_cell": true
   },
   "outputs": [],
   "source": [
    "VimeoVideo(\"742770800\", h=\"ce17b05c51\", width=600)"
   ]
  },
  {
   "cell_type": "markdown",
   "id": "9d566805-4808-49af-a182-2905f9db8b44",
   "metadata": {
    "deletable": false,
    "editable": false
   },
   "source": [
    "# Connect"
   ]
  },
  {
   "cell_type": "markdown",
   "id": "c916ae2b-d367-4625-92f0-e33778fd92f0",
   "metadata": {
    "deletable": false,
    "editable": false
   },
   "source": [
    "As usual, the first thing we're going to need to do is get access to our data. \n",
    "\n",
    "**Task 7.2.1:** Assign the `\"ds-applicants\"` collection in the `\"wqu-abtest\"` database to the variable name `ds_app`.\n",
    "\n",
    "- [What's a MongoDB collection?](../%40textbook/11-databases-mongodb.ipynb#Collections)\n",
    "- [Access a collection in a database using PyMongo.](../%40textbook/11-databases-mongodb.ipynb#Collections)"
   ]
  },
  {
   "cell_type": "code",
   "execution_count": null,
   "id": "1160c054-64a3-47a1-b78d-4f5c04524927",
   "metadata": {
    "deletable": false
   },
   "outputs": [],
   "source": [
    "client = ...\n",
    "ds_app = ...\n",
    "print(\"client:\", type(client))\n",
    "print(\"ds_app:\", type(ds_app))"
   ]
  },
  {
   "cell_type": "markdown",
   "id": "fa5181e3-58b3-49e2-96eb-72677b78ff6d",
   "metadata": {
    "deletable": false,
    "editable": false
   },
   "source": [
    "# Extract: Developing the Hypothesis"
   ]
  },
  {
   "cell_type": "markdown",
   "id": "eaacba63-6365-442f-bd2d-f5c0544a411e",
   "metadata": {
    "deletable": false,
    "editable": false
   },
   "source": [
    "Now that we've connected to the data, we need to pull out the information we need. One aspect of our applicant pool that we didn't explore in the last lesson is how many applicants actually complete the DS Lab admissions quiz."
   ]
  },
  {
   "cell_type": "code",
   "execution_count": null,
   "id": "81ad3b56-6c4e-44a2-bdab-a8999293b527",
   "metadata": {
    "deletable": false,
    "editable": false,
    "init_cell": true
   },
   "outputs": [],
   "source": [
    "VimeoVideo(\"734130688\", h=\"637d2529dc\", width=600)"
   ]
  },
  {
   "cell_type": "markdown",
   "id": "9e7f6db5-6d7e-496b-afa0-7291286c8eb1",
   "metadata": {
    "deletable": false,
    "editable": false
   },
   "source": [
    "**Task 7.2.2:** Use the [`aggregate`](https://pymongo.readthedocs.io/en/stable/api/pymongo/collection.html#pymongo.collection.Collection.aggregate) method to calculate the number of applicants that completed and did not complete the admissions quiz.\n",
    "\n",
    "- [Perform aggregation calculations on documents using PyMongo.](../%40textbook/11-databases-mongodb.ipynb#Aggregation)"
   ]
  },
  {
   "cell_type": "code",
   "execution_count": null,
   "id": "6dd63fa2-bbff-439b-8a25-e73929f498cb",
   "metadata": {
    "deletable": false
   },
   "outputs": [],
   "source": [
    "# How many applicants complete admissions quiz?\n",
    "result = ...\n",
    "\n",
    "incomplete = ...\n",
    "complete = ...\n",
    "\n",
    "print(\"Completed quiz:\", complete)\n",
    "print(\"Did not complete quiz:\", incomplete)"
   ]
  },
  {
   "cell_type": "markdown",
   "id": "04032545-aeaa-42c5-ac90-b4bb76103ca9",
   "metadata": {
    "deletable": false,
    "editable": false
   },
   "source": [
    "That gives us some raw numbers, but we're interested in participation *rates*, not participation numbers. Let's turn what we just got into a percentage."
   ]
  },
  {
   "cell_type": "code",
   "execution_count": null,
   "id": "8af7377a-f1c0-4bc3-a27e-f9d611931009",
   "metadata": {
    "deletable": false,
    "editable": false,
    "init_cell": true
   },
   "outputs": [],
   "source": [
    "VimeoVideo(\"734130558\", h=\"b06dabae44\", width=600)"
   ]
  },
  {
   "cell_type": "markdown",
   "id": "5689f50b-c48b-40f8-81e2-16f5a67524a2",
   "metadata": {
    "deletable": false,
    "editable": false
   },
   "source": [
    "**Task 7.2.3:** Using your results from the previous task, calculate the proportion of new users who have not completed the admissions quiz.\n",
    "\n",
    "- [Perform basic mathematical operations in Python.](../%40textbook/01-python-getting-started.ipynb#Simple-Calculations)"
   ]
  },
  {
   "cell_type": "code",
   "execution_count": null,
   "id": "24c0ac57-86a6-4035-a4e7-a66f3d3cc59f",
   "metadata": {
    "deletable": false
   },
   "outputs": [],
   "source": [
    "\n",
    "prop_incomplete = ...\n",
    "print(\n",
    "    \"Proportion of users who don't complete admissions quiz:\", round(prop_incomplete, 2)\n",
    ")"
   ]
  },
  {
   "cell_type": "markdown",
   "id": "73dc7391-13f9-40fe-81bd-940e7faed563",
   "metadata": {
    "deletable": false,
    "editable": false
   },
   "source": [
    "Now that we know that around a quarter of DS Lab applicants don't complete the admissions quiz, is there anything we can do improve the completion rate? \n",
    "\n",
    "This is a question that we asked ourselves at WQU. In fact, here's a conversation between Nicholas and Anne (Program Director at WQU) where they identify the issue, come up with a hypothesis, and then decide how they'll conduct their experiment.\n",
    "\n",
    "A **hypothesis** is an informed guess about what we think is going to happen in an experiment. We probably hope that whatever we're trying out is going to work, but it's important to maintain a healthy degree of skepticism. Science experiments are designed to demonstrate what *does* work, not what doesn't, so we always start out by assuming that whatever we're about to do won't make a difference (even if we hope it will). The idea that an experimental intervention won't change anything is called a **null hypothesis** ($H_0$), and every experiment either rejects the null hypothesis (meaning the intervention worked), or fails to reject the null hypothesis (meaning it didn't). \n",
    "\n",
    "The mirror image of the null hypothesis is called an **alternate hypothesis** ($H_a$), and it proceeds from the idea that whatever we're about to do actually *will* work. If I'm trying to figure out whether exercising is going to help me lose weight, the null hypothesis says that if I exercise, I won't lose any weight. The alternate hypothesis says that if I exercise, I will lose weight. \n",
    "\n",
    "It's important to keep both types of hypothesis in mind as you work through your experimental design."
   ]
  },
  {
   "cell_type": "code",
   "execution_count": null,
   "id": "562fcc08-ab86-4109-aabb-87ac92577040",
   "metadata": {
    "deletable": false,
    "editable": false,
    "init_cell": true
   },
   "outputs": [],
   "source": [
    "VimeoVideo(\"734130136\", h=\"e1c88a9ecd\", width=600)"
   ]
  },
  {
   "cell_type": "code",
   "execution_count": null,
   "id": "bd0ccc4a-6b91-4f4e-8b68-3e3898333876",
   "metadata": {
    "deletable": false,
    "editable": false,
    "init_cell": true
   },
   "outputs": [],
   "source": [
    "VimeoVideo(\"734131639\", h=\"7e9aac1e60\", width=600)"
   ]
  },
  {
   "cell_type": "markdown",
   "id": "dd1bbed0-7a23-43ca-b00a-9ac705f3c005",
   "metadata": {
    "deletable": false,
    "editable": false
   },
   "source": [
    "**Task 7.2.4:** Based on the discussion between Nicholas and Anne, write a null and alternate hypothesis to test in the next lesson.\n",
    "\n",
    "- [What's a null hypothesis?](../%40textbook/20-statistics.ipynb#Hypothesis-Testing)\n",
    "- [What's an alternate hypothesis?](../%40textbook/20-statistics.ipynb#Hypothesis-Testing)"
   ]
  },
  {
   "cell_type": "code",
   "execution_count": null,
   "id": "889a4534-e569-4987-9ed1-1f0d0de78f76",
   "metadata": {
    "deletable": false
   },
   "outputs": [],
   "source": [
    "null_hypothesis = ...\n",
    "\n",
    "alternate_hypothesis = ...\n",
    "\n",
    "print(\"Null Hypothesis:\", null_hypothesis)\n",
    "print(\"Alternate Hypothesis:\", alternate_hypothesis)"
   ]
  },
  {
   "cell_type": "markdown",
   "id": "7bd82a18-931f-4154-a26c-faab2f92db19",
   "metadata": {
    "deletable": false,
    "editable": false
   },
   "source": [
    "The next thing we need to do is figure out a way to filter the data so that we're only looking at students who applied on a certain date. This is a perfect chance to write a function!"
   ]
  },
  {
   "cell_type": "code",
   "execution_count": null,
   "id": "d1a52355-dc38-4e6c-8243-3ad9d47d3974",
   "metadata": {
    "deletable": false,
    "editable": false,
    "init_cell": true
   },
   "outputs": [],
   "source": [
    "VimeoVideo(\"734136019\", h=\"227630f2d2\", width=600)"
   ]
  },
  {
   "cell_type": "markdown",
   "id": "a043ea6e-c4cd-41ec-92ef-f790315aa23c",
   "metadata": {
    "deletable": false,
    "editable": false
   },
   "source": [
    "**Task 7.2.5:** Create a function `find_by_date` that can search a collection such as `\"ds-applicants\"` and return all the no-quiz applicants from a specific date. Use the docstring below for guidance.\n",
    "\n",
    "- Convert data to `datetime` using pandas.\n",
    "- Perform a date offset using pandas. \n",
    "- [Select date ranges using the `$gt`, `$gte`, `$lt`, and `$lte` operators in PyMongo.](../%40textbook/11-databases-mongodb.ipynb#Analyzing-Data)\n",
    "- [Query a collection using PyMongo](../%40textbook/11-databases-mongodb.ipynb#Exploring-a-Database)"
   ]
  },
  {
   "cell_type": "code",
   "execution_count": null,
   "id": "ce6a68b6-a6c4-409d-be44-3912f7016601",
   "metadata": {
    "deletable": false
   },
   "outputs": [],
   "source": [
    "def find_by_date(collection, date_string):\n",
    "    \"\"\"Find records in a PyMongo Collection created on a given date.\n",
    "\n",
    "    Parameters\n",
    "    ----------\n",
    "    collection : pymongo.collection.Collection\n",
    "        Collection in which to search for documents.\n",
    "    date_string : str\n",
    "        Date to query. Format must be '%Y-%m-%d', e.g. '2022-06-28'.\n",
    "\n",
    "    Returns\n",
    "    -------\n",
    "    observations : list\n",
    "        Result of query. List of documents (dictionaries).\n",
    "    \"\"\"\n",
    "    # Convert `date_string` to datetime object\n",
    "    start = ...\n",
    "    # Offset `start` by 1 day\n",
    "    end = ...\n",
    "    # Create PyMongo query for no-quiz applicants b/t `start` and `end`\n",
    "    query = {\"createdAt\": {\"$gte\": start, \"$lt\": end}, \"admissionsQuiz\": \"incomplete\"}\n",
    "    # Query collection, get result\n",
    "    result = ...\n",
    "    # Convert `result` to list\n",
    "    observations = ...\n",
    "    # REMOVE}\n",
    "    return observations"
   ]
  },
  {
   "cell_type": "markdown",
   "id": "763e4a42-692e-4138-b058-66842393a985",
   "metadata": {
    "deletable": false,
    "editable": false
   },
   "source": [
    "2 May 2022 seems like as good a date as any, so let's use the function we just wrote to get all the students who applied that day."
   ]
  },
  {
   "cell_type": "code",
   "execution_count": null,
   "id": "71e5ecce-c94f-4265-8ab1-12ba0ea201ab",
   "metadata": {
    "deletable": false,
    "editable": false,
    "init_cell": true
   },
   "outputs": [],
   "source": [
    "VimeoVideo(\"734135947\", h=\"172e5d7e19\", width=600)"
   ]
  },
  {
   "cell_type": "markdown",
   "id": "0bd60521-cd44-4509-947b-af516ea06084",
   "metadata": {
    "deletable": false,
    "editable": false
   },
   "source": [
    "**Task 7.2.6:** Use your `find_by_date` function to create a list `observations` with all the new users created on **2 May 2022**.\n",
    "\n",
    "- [What's a function?](../%40textbook/02-python-advanced.ipynb#Functions)"
   ]
  },
  {
   "cell_type": "code",
   "execution_count": null,
   "id": "5351d79a-b830-4c67-bffa-4871e9d7823f",
   "metadata": {
    "deletable": false
   },
   "outputs": [],
   "source": [
    "observations = ...\n",
    "\n",
    "print(\"observations type:\", type(observations))\n",
    "print(\"observations len:\", len(observations))\n",
    "observations[0]"
   ]
  },
  {
   "cell_type": "markdown",
   "id": "32d47920-980c-43c3-b85f-db75160bd221",
   "metadata": {
    "deletable": false,
    "editable": false
   },
   "source": [
    "# Transform: Designing the Experiment"
   ]
  },
  {
   "cell_type": "markdown",
   "id": "fc195c45-201b-4eeb-95c6-2de03f4fc75e",
   "metadata": {
    "deletable": false,
    "editable": false
   },
   "source": [
    "Okay! Now that we've extracted the data we'll need for the experiment, it's time to get our hands dirty. \n",
    "\n",
    "The **transform** stage of ETL involves manipulating the data we just extracted. In this case, we're going to be figuring out which students didn't take the quiz, and assigning them to different experimental groups. To do that, we'll need to *transform* each document in the database by creating a new attribute for each record.\n",
    "\n",
    "Now we can split the students who didn't take the quiz into two groups: one that will receive a reminder email, and one that will not. Let's make another function that'll do that for us."
   ]
  },
  {
   "cell_type": "code",
   "execution_count": null,
   "id": "705b708d-898d-4dec-b99d-d8c7c1fe01c3",
   "metadata": {
    "deletable": false,
    "editable": false,
    "init_cell": true
   },
   "outputs": [],
   "source": [
    "VimeoVideo(\"734134939\", h=\"d7b409da4b\", width=600)"
   ]
  },
  {
   "cell_type": "markdown",
   "id": "fb25f8fb-e38e-4bf6-a413-3df6e413717d",
   "metadata": {
    "deletable": false,
    "editable": false
   },
   "source": [
    "**Task 7.2.7:** Create a function `assign_to_groups` that takes a list of new user documents as input and adds two keys to each document. The first key should be `\"inExperiment\"`, and its value should always be `True`. The second key should be `\"group\"`, with half of the records in `\"email (treatment)\"` and the other half in `\"no email (control)\"`.\n",
    "\n",
    "- [Write a function in Python.](../%40textbook/02-python-advanced.ipynb#Functions)"
   ]
  },
  {
   "cell_type": "code",
   "execution_count": null,
   "id": "28bd23d5-8dcf-4e05-91bc-7a8ee26e3454",
   "metadata": {
    "deletable": false
   },
   "outputs": [],
   "source": [
    "def assign_to_groups(observations):\n",
    "    \"\"\"Randomly assigns observations to control and treatment groups.\n",
    "\n",
    "    Parameters\n",
    "    ----------\n",
    "    observations : list or pymongo.cursor.Cursor\n",
    "        List of users to assign to groups.\n",
    "\n",
    "    Returns\n",
    "    -------\n",
    "    observations : list\n",
    "        List of documents from `observations` with two additional keys:\n",
    "        `inExperiment` and `group`.\n",
    "    \"\"\"\n",
    "    # Shuffle `observations`\n",
    "    \n",
    "\n",
    "    # Get index position of item at observations halfway point\n",
    "\n",
    "\n",
    "    # Assign first half of observations to control group\n",
    "    \n",
    "\n",
    "    # Assign second half of observations to treatment group\n",
    "    \n",
    "\n",
    "    return observations\n",
    "\n",
    "\n",
    "observations_assigned = assign_to_groups(observations)\n",
    "\n",
    "print(\"observations_assigned type:\", type(observations_assigned))\n",
    "print(\"observations_assigned len:\", len(observations_assigned))\n",
    "observations_assigned[0]"
   ]
  },
  {
   "cell_type": "markdown",
   "id": "e52c76d7-84bb-4759-9329-fee3330fc86b",
   "metadata": {
    "deletable": false,
    "editable": false
   },
   "source": [
    "In the video, Anne said that she needs a CSV file with applicant email addresses. Let's automate that process with another function."
   ]
  },
  {
   "cell_type": "code",
   "execution_count": null,
   "id": "e0868e45-0838-4383-98c5-74a229f880a6",
   "metadata": {
    "deletable": false,
    "editable": false,
    "init_cell": true
   },
   "outputs": [],
   "source": [
    "VimeoVideo(\"734137698\", h=\"87610a6a1c\", width=600)"
   ]
  },
  {
   "cell_type": "markdown",
   "id": "9a9b010b-bb80-42cf-b57c-acb0fde9e808",
   "metadata": {
    "deletable": false,
    "editable": false
   },
   "source": [
    "\n",
    "\n",
    "**Task 7.2.8:** Create a function `export_email` that takes a list of documents (like `observations_assigned`) as input, creates a DataFrame with the emails of all observations in the treatment group, and saves the DataFrame as a CSV file. Then use your function to create a CSV file in the current directory.\n",
    "\n",
    "- [Write a function in Python.](../%40textbook/02-python-advanced.ipynb#Functions)\n",
    "- [Create a DataFrame from a Series in pandas.](../%40textbook/03-pandas-getting-started.ipynb#Working-with-DataFrames)\n",
    "- [Save a DataFrame as a CSV file using pandas.](../%40textbook/03-pandas-getting-started.ipynb#Saving-a-DataFrame-as-a-CSV)"
   ]
  },
  {
   "cell_type": "code",
   "execution_count": null,
   "id": "ecc38a7f-1013-4548-8f70-14709c710d2d",
   "metadata": {
    "deletable": false
   },
   "outputs": [],
   "source": [
    "def export_treatment_emails(observations_assigned, directory=\".\"):\n",
    "    \"\"\"Creates CSV file with email addresses of observations in treatment group.\n",
    "\n",
    "    CSV file name will include today's date, e.g. `'2022-06-28_ab-test.csv'`,\n",
    "    and a `'tag'` column where every row will be 'ab-test'.\n",
    "\n",
    "    Parameters\n",
    "    ----------\n",
    "    observations_assigned : list\n",
    "        Observations with group assignment.\n",
    "    directory : str, default='.'\n",
    "        Location for saved CSV file.\n",
    "\n",
    "    Returns\n",
    "    -------\n",
    "    None\n",
    "    \"\"\"\n",
    "    # Put `observations_assigned` docs into DataFrame\n",
    "\n",
    "\n",
    "    # Add `\"tag\"` column\n",
    "\n",
    "\n",
    "    # Create mask for treatment group only\n",
    "\n",
    "\n",
    "    # Create filename with date\n",
    "\n",
    "    filename = ...\n",
    "\n",
    "    # Save DataFrame to directory (email and tag only)\n",
    "\n",
    "\n",
    "\n",
    "export_treatment_emails(observations_assigned=observations_assigned)"
   ]
  },
  {
   "cell_type": "markdown",
   "id": "b6afa378-0ec4-4726-ab77-30d22e7a479a",
   "metadata": {
    "deletable": false,
    "editable": false
   },
   "source": [
    "# Load: Preparing the Data"
   ]
  },
  {
   "cell_type": "markdown",
   "id": "e257211a-9862-41d2-8f31-0abb5c582d43",
   "metadata": {
    "deletable": false,
    "editable": false
   },
   "source": [
    "We've *extracted* the data and written a bunch of functions we can use to *transform* the data, so it's time for the third part of this module: *loading* the data.\n",
    "\n",
    "We've assigned the no-quiz applicants to groups for our experiment, so we should update the records in the `\"ds-applicants\"` collection to reflect that assignment. Before we update all our records, let's start with just one. "
   ]
  },
  {
   "cell_type": "code",
   "execution_count": null,
   "id": "577b2790-6dbc-4903-b7ad-214e97ceee4e",
   "metadata": {
    "deletable": false,
    "editable": false,
    "init_cell": true
   },
   "outputs": [],
   "source": [
    "VimeoVideo(\"734137546\", h=\"e07cebf91e\", width=600)"
   ]
  },
  {
   "cell_type": "markdown",
   "id": "7b8f1966-b699-4b8f-8e06-72a0b56c6d2c",
   "metadata": {
    "deletable": false,
    "editable": false
   },
   "source": [
    "**Task 7.2.9:** Assign the first item in `observations_assigned` list to the variable `updated_applicant`. The assign that applicant's ID to the variable `applicant_id`.\n",
    "\n",
    "- [What's a dictionary?](../%40textbook/01-python-getting-started.ipynb#Working-with-Dictionaries)\n",
    "- [Access an item in a dictionary using Python.](../%40textbook/01-python-getting-started.ipynb#Working-with-Dictionaries)"
   ]
  },
  {
   "cell_type": "markdown",
   "id": "6a18408c-598b-4192-a0d3-3c729df8385b",
   "metadata": {
    "deletable": false,
    "editable": false
   },
   "source": [
    "<div class=\"alert alert-info\" role=\"alert\">\n",
    "    <p><b>Note:</b> The data in the database may have been updated since this video was recorded, so don't worry if you get a student other than \"Raymond Brown\".</p>\n",
    "</div>"
   ]
  },
  {
   "cell_type": "code",
   "execution_count": null,
   "id": "150f84ce-a39b-4394-8adc-2084adc6c067",
   "metadata": {
    "deletable": false
   },
   "outputs": [],
   "source": [
    "updated_applicant = ...\n",
    "applicant_id = ...\n",
    "print(\"applicant type:\", type(updated_applicant))\n",
    "print(updated_applicant)\n",
    "print()\n",
    "print(\"applicant_id type:\", type(applicant_id))\n",
    "print(applicant_id)"
   ]
  },
  {
   "cell_type": "markdown",
   "id": "1570f911-d2c3-41fd-b7fc-731072f5a7d6",
   "metadata": {
    "deletable": false,
    "editable": false
   },
   "source": [
    "Now that we have the unique identifier for one of the applicants, we can find it in the collection."
   ]
  },
  {
   "cell_type": "code",
   "execution_count": null,
   "id": "7122ae15-10fe-4d9d-851c-0cfb4233f4d6",
   "metadata": {
    "deletable": false,
    "editable": false,
    "init_cell": true
   },
   "outputs": [],
   "source": [
    "VimeoVideo(\"734137409\", h=\"5ea2eaf949\", width=600)"
   ]
  },
  {
   "cell_type": "markdown",
   "id": "08781b36-9343-4070-bafa-c9460026fb09",
   "metadata": {
    "deletable": false,
    "editable": false
   },
   "source": [
    "**Task 7.2.10:** Use the `find_one` method together with the `applicant_id` from the previous task to locate the original record in the `\"ds-applicants\"` collection.\n",
    "\n",
    "- Access a class method in Python."
   ]
  },
  {
   "cell_type": "code",
   "execution_count": null,
   "id": "8c7f52dd-e40b-429e-9917-f295637f4e6d",
   "metadata": {
    "deletable": false
   },
   "outputs": [],
   "source": [
    "# Find original record for `applicant_id`\n"
   ]
  },
  {
   "cell_type": "markdown",
   "id": "c221266f-f6ba-4c0e-a283-3a00fe86b4ab",
   "metadata": {
    "deletable": false,
    "editable": false
   },
   "source": [
    "And now we can update that document to show which group that applicant belongs to."
   ]
  },
  {
   "cell_type": "code",
   "execution_count": null,
   "id": "c1e75dea-f23a-479b-94f7-eb6023baf919",
   "metadata": {
    "deletable": false,
    "editable": false,
    "init_cell": true
   },
   "outputs": [],
   "source": [
    "VimeoVideo(\"734141207\", h=\"afe52c4d42\", width=600)"
   ]
  },
  {
   "cell_type": "markdown",
   "id": "a9dea6cf-d634-43cd-9562-9bbc0b0fca0c",
   "metadata": {
    "deletable": false,
    "editable": false
   },
   "source": [
    "**Task 7.2.11:** Use the `update_one` method to update the record with the new information in `updated_applicant`. Once you're done, rerun your query from the previous task to see if the record has been updated. \n",
    "\n",
    "- [Update one or more records in PyMongo.](../%40textbook/11-databases-mongodb.ipynb#Analyzing-Data)"
   ]
  },
  {
   "cell_type": "code",
   "execution_count": null,
   "id": "b2bf779a-bdcd-4bc4-8249-d4ba53f2645f",
   "metadata": {
    "deletable": false
   },
   "outputs": [],
   "source": [
    "result = ...\n",
    "print(\"result type:\", type(result))"
   ]
  },
  {
   "cell_type": "markdown",
   "id": "229b392a-a511-4353-b477-31ff5b1e32d5",
   "metadata": {
    "deletable": false,
    "editable": false
   },
   "source": [
    "Note that when we update the document, we get a `result` back. Before we update multiple records, let's take a moment to explore what `result` is — and how it relates to object oriented programming in Python."
   ]
  },
  {
   "cell_type": "code",
   "execution_count": null,
   "id": "75fe1834-7426-443a-8756-41cfa84ecf9d",
   "metadata": {
    "deletable": false,
    "editable": false,
    "init_cell": true
   },
   "outputs": [],
   "source": [
    "VimeoVideo(\"734142198\", h=\"eabd16f09e\", width=600)"
   ]
  },
  {
   "cell_type": "markdown",
   "id": "31fe6172-14bb-4465-add5-72965f08f082",
   "metadata": {
    "deletable": false,
    "editable": false
   },
   "source": [
    "**Task 7.2.12:** Use the [`dir`](https://docs.python.org/3/library/functions.html#dir) function to inspect `result`. Once you see some of the attributes, try to access them. For instance, what does the `raw_result` attribute tell you about the success of your record update?\n",
    "\n",
    "- [What's a class?](../%40textbook/21-python-object-oriented-programming.ipynb#Classes)\n",
    "- [What's a class attribute?](../%40textbook/21-python-object-oriented-programming.ipynb#Attributes)\n",
    "- [Access a class attribute in Python.](../%40textbook/21-python-object-oriented-programming.ipynb#Methods)"
   ]
  },
  {
   "cell_type": "code",
   "execution_count": null,
   "id": "f6685518-3b38-4d2a-a564-71ed74e5417e",
   "metadata": {
    "deletable": false
   },
   "outputs": [],
   "source": [
    "# Access methods and attributes using `dir`\n",
    "\n",
    "\n",
    "# Access `raw_result` attribute\n"
   ]
  },
  {
   "cell_type": "markdown",
   "id": "209ad037-3fac-4c4d-bb25-6501d5d03b70",
   "metadata": {
    "deletable": false,
    "editable": false
   },
   "source": [
    "We know how to update a record, and we can interpret our operation results. Since we can do it for one record, we can do it for all of them! So let's update the records for all the observations in our experiment. "
   ]
  },
  {
   "cell_type": "code",
   "execution_count": null,
   "id": "a7da6dc7-f374-4617-b2b1-0d53d5405028",
   "metadata": {
    "deletable": false,
    "editable": false,
    "init_cell": true
   },
   "outputs": [],
   "source": [
    "VimeoVideo(\"734147474\", h=\"4e38b07a71\", width=600)"
   ]
  },
  {
   "cell_type": "markdown",
   "id": "4a1f6714-a82e-46d3-9191-bbbac95f2136",
   "metadata": {
    "deletable": false,
    "editable": false
   },
   "source": [
    "**Task 7.2.13:** Create a function `update_applicants` that takes a list of document like as input, updates the corresponding documents in a collection, and returns a dictionary with the results of the update. Then use your function to update `\"ds-applicants\"` with `observations_assigned`.\n",
    "\n",
    "- [Write a function in Python.](../%40textbook/02-python-advanced.ipynb#Functions)\n",
    "- [Write a `for` loop in Python.](../%40textbook/01-python-getting-started.ipynb#Working-with-for-Loops)"
   ]
  },
  {
   "cell_type": "code",
   "execution_count": null,
   "id": "e4563ee6-c711-405e-a0ff-28034556cd8b",
   "metadata": {
    "deletable": false
   },
   "outputs": [],
   "source": [
    "def update_applicants(collection, observations_assigned):\n",
    "    \"\"\"Update applicant documents in collection.\n",
    "\n",
    "    Parameters\n",
    "    ----------\n",
    "    collection : pymongo.collection.Collection\n",
    "        Collection in which documents will be updated.\n",
    "\n",
    "    observations_assigned : list\n",
    "        Documents that will be used to update collection\n",
    "\n",
    "    Returns\n",
    "    -------\n",
    "    transaction_result : dict\n",
    "        Status of update operation, including number of documents\n",
    "        and number of documents modified.\n",
    "    \"\"\"\n",
    "    \n",
    "    return transaction_result"
   ]
  },
  {
   "cell_type": "code",
   "execution_count": null,
   "id": "ffc7ffc5-05f7-4f28-9d40-cdd95b74bccd",
   "metadata": {
    "deletable": false
   },
   "outputs": [],
   "source": [
    "result = update_applicants(ds_app, observations_assigned)\n",
    "print(\"result type:\", type(result))\n",
    "result"
   ]
  },
  {
   "cell_type": "markdown",
   "id": "b87f7187-9640-4a9e-ae88-4b90e906d9a8",
   "metadata": {
    "deletable": false,
    "editable": false
   },
   "source": [
    "Note that if you run the above cell multiple times, the value for `result[\"nModified\"]` will go to `0`. This is because you've already updated the documents. "
   ]
  },
  {
   "cell_type": "markdown",
   "id": "f038c40b-7a9a-4c19-8e80-079c4c852224",
   "metadata": {
    "deletable": false,
    "editable": false
   },
   "source": [
    "# Python Classes: Building the Repository"
   ]
  },
  {
   "cell_type": "markdown",
   "id": "13f18d99-e599-4666-a615-dbe0f166d9ba",
   "metadata": {
    "deletable": false,
    "editable": false
   },
   "source": [
    "We've managed to extract data from our database using our `find_by_date` function, transform it using our `assign_to_groups` function, and load it using our `update_applicants` function. Does that mean we're done? Not yet! There's an issue we need to address: distraction.\n",
    "\n",
    "What do we mean when we say distraction? Think about it this way: Do you need to know the exact code that makes `df.describe()` work? No, you just need to calculate summary statistics! Going into more details would distract you from the work you need to get done. The same is true of the tools you've created in this lesson. Others will want to use them in future experiments with worrying about your implementation. The solution is to **abstract** the details of your code away.\n",
    "\n",
    "To do this we're going to create a [Python class.](https://docs.python.org/3/tutorial/classes.html) Python classes contain both information and ways to interact with that information. An example of class is a pandas `DataFrame`. Not only does it hold data (like the size of an apartment in Buenos Aires or the income of a household in the United States); it also provides methods for inspecting it (like `DataFrame.head()` or `DataFrame.info()`) and manipulating it (like `DataFrame.sum()` or `DataFrame.replace()`). \n",
    "\n",
    "In the case of this project, we want to create a class that will hold information about the documents we want (like the name and location of the collection) and provide tools for interacting with those documents (like the functions we've built above). Let's get started!"
   ]
  },
  {
   "cell_type": "code",
   "execution_count": null,
   "id": "9e24ecb9-8d25-4af0-83e2-4244d541ed97",
   "metadata": {
    "deletable": false,
    "editable": false,
    "init_cell": true
   },
   "outputs": [],
   "source": [
    "VimeoVideo(\"734133492\", h=\"a0f97831a1\", width=600)"
   ]
  },
  {
   "cell_type": "code",
   "execution_count": null,
   "id": "dcd24170-e5fb-4fda-9cd3-050d8aae3880",
   "metadata": {
    "deletable": false,
    "editable": false,
    "init_cell": true
   },
   "outputs": [],
   "source": [
    "VimeoVideo(\"734133039\", h=\"070a04dd1c\", width=600)"
   ]
  },
  {
   "cell_type": "markdown",
   "id": "57c673a7-7c52-4040-a430-feca4cec8b81",
   "metadata": {
    "deletable": false,
    "editable": false
   },
   "source": [
    "**Task 7.2.14:** Define a `MongoRepository` class with an `__init__` method. The `__init__` method should accept three arguments: `client`, `db`, and `collection`. Use the docstring below as a guide.\n",
    "\n",
    "- [Write a class definition in Python.](../%40textbook/21-python-object-oriented-programming.ipynb#Classes)\n",
    "- [Write a class method in Python.](../%40textbook/21-python-object-oriented-programming.ipynb#Methods) "
   ]
  },
  {
   "cell_type": "code",
   "execution_count": null,
   "id": "5328eb19-fb9c-4141-b09b-ba93e09cbf39",
   "metadata": {
    "deletable": false
   },
   "outputs": [],
   "source": [
    "class MongoRepository:\n",
    "    \"\"\"Repository class for interacting with MongoDB database.\n",
    "\n",
    "    Parameters\n",
    "    ----------\n",
    "    client : `pymongo.MongoClient`\n",
    "        By default, `MongoClient(host='localhost', port=27017)`.\n",
    "    db : str\n",
    "        By default, `'wqu-abtest'`.\n",
    "    collection : str\n",
    "        By default, `'ds-applicants'`.\n",
    "\n",
    "    Attributes\n",
    "    ----------\n",
    "    collection : pymongo.collection.Collection\n",
    "        All data will be extracted from and loaded to this collection.\n",
    "    \"\"\"\n",
    "\n",
    "    # Task 7.2.14\n",
    "    \n",
    "\n",
    "    # Task 7.2.17\n",
    "    \n",
    "    # Task 7.2.18\n",
    "    \n",
    "    # Task 7.2.19\n",
    "    "
   ]
  },
  {
   "cell_type": "markdown",
   "id": "96eead5f-4e05-4350-b2c3-3b5dc46ead4c",
   "metadata": {
    "deletable": false,
    "editable": false
   },
   "source": [
    "Now that we have a class definition, we can do all sorts of interesting things. The first thing to do is instantiate the class..."
   ]
  },
  {
   "cell_type": "code",
   "execution_count": null,
   "id": "5245bf0f-844e-4237-b441-c3964bf95507",
   "metadata": {
    "deletable": false,
    "editable": false,
    "init_cell": true
   },
   "outputs": [],
   "source": [
    "VimeoVideo(\"734150578\", h=\"2caaa53d03\", width=600)"
   ]
  },
  {
   "cell_type": "markdown",
   "id": "d292d463-9f9e-4c2b-a1c9-452f2122aa9f",
   "metadata": {
    "deletable": false,
    "editable": false
   },
   "source": [
    "**Task 7.2.15:** Create an instance of your `MongoRepository` and assign it to the variable name `repo`."
   ]
  },
  {
   "cell_type": "code",
   "execution_count": null,
   "id": "e41ffe09-d0f3-4e00-b278-1e81387eba6c",
   "metadata": {
    "deletable": false
   },
   "outputs": [],
   "source": [
    "repo = ...\n",
    "print(\"repo type:\", type(repo))\n",
    "repo"
   ]
  },
  {
   "cell_type": "markdown",
   "id": "dabbabf0-d0f6-4e57-971a-282e2a5019c1",
   "metadata": {
    "deletable": false,
    "editable": false
   },
   "source": [
    "...and then we can look at the attributes of the collection."
   ]
  },
  {
   "cell_type": "code",
   "execution_count": null,
   "id": "77890d4f-7cf1-44b3-b50f-6a6c97ab19f3",
   "metadata": {
    "deletable": false,
    "editable": false,
    "init_cell": true
   },
   "outputs": [],
   "source": [
    "VimeoVideo(\"734150427\", h=\"f9c9433ff6\", width=600)"
   ]
  },
  {
   "cell_type": "markdown",
   "id": "11cdc3b3-544f-4154-a1f4-1be16887820d",
   "metadata": {
    "deletable": false,
    "editable": false
   },
   "source": [
    "**Task 7.2.16:** Extract the `collection` attribute from `repo`, and assign it to the variable `c_test`. Is the `c_test` the correct data type?\n",
    "\n",
    "- [Access a class attribute in Python.](../%40textbook/21-python-object-oriented-programming.ipynb#Methods)"
   ]
  },
  {
   "cell_type": "code",
   "execution_count": null,
   "id": "360f4f91-f0b8-4ca2-be71-8fb0a864e3a0",
   "metadata": {
    "deletable": false
   },
   "outputs": [],
   "source": [
    "c_test = ...\n",
    "print(\"c_test type:\", type(c_test))\n",
    "c_test"
   ]
  },
  {
   "cell_type": "markdown",
   "id": "69724575-37ce-4c84-89c0-4c7020ca61d8",
   "metadata": {
    "deletable": false,
    "editable": false
   },
   "source": [
    "Our class is built, and now we need to take the ETL functions we created and turn them into **class methods**. Think back to the beginning of the course, where we learned how to work with DataFrames. If we call a DataFrame `df`, we can use methods designed by other people to figure out what's inside. We've learned lots of those methods already — `df.head()` `df.info()`, etc. — but we can also create our own. Let's give it a try."
   ]
  },
  {
   "cell_type": "code",
   "execution_count": null,
   "id": "39e959f4-21f0-4934-bd07-69de47ccb5d2",
   "metadata": {
    "deletable": false,
    "editable": false,
    "init_cell": true
   },
   "outputs": [],
   "source": [
    "VimeoVideo(\"734150075\", h=\"82f7810cd0\", width=600)"
   ]
  },
  {
   "cell_type": "markdown",
   "id": "daeeb1c6-a01b-4fc8-b73d-e8efe7f0956a",
   "metadata": {
    "deletable": false,
    "editable": false
   },
   "source": [
    "**Task 7.2.17:** Using your function as a model, create a `find_by_date` method for your `MongoRepository` class. It should take only one argument: `date_string`. Once you're done, test your method by extracting all the users who created account on 15 May 2022.\n",
    "\n",
    "- [Access a class method in Python.](../%40textbook/21-python-object-oriented-programming.ipynb#Methods)"
   ]
  },
  {
   "cell_type": "code",
   "execution_count": null,
   "id": "3a6b1674-0c57-4c14-a19a-df432e4ed844",
   "metadata": {
    "deletable": false
   },
   "outputs": [],
   "source": [
    "may_15_users = ...\n",
    "print(\"may_15_users type\", type(may_15_users))\n",
    "print(\"may_15_users len\", len(may_15_users))\n",
    "may_15_users[:3]"
   ]
  },
  {
   "cell_type": "markdown",
   "id": "af3e324a-e4be-433d-ac49-58dc0bad9103",
   "metadata": {
    "deletable": false,
    "editable": false
   },
   "source": [
    "Good work! Let's try it again!"
   ]
  },
  {
   "cell_type": "code",
   "execution_count": null,
   "id": "9d1d5132-b310-4bf0-a27c-299258a8314c",
   "metadata": {
    "deletable": false,
    "editable": false,
    "init_cell": true
   },
   "outputs": [],
   "source": [
    "VimeoVideo(\"734149871\", h=\"4db7c08002\", width=600)"
   ]
  },
  {
   "cell_type": "markdown",
   "id": "711e7282-d5db-4927-962e-7bfb90cb0477",
   "metadata": {
    "deletable": false,
    "editable": false
   },
   "source": [
    "**Task 7.2.18:** Using your function as a model, create an `update_applicants` method for your `MongoRepository` class. It should take one argument: `documents`. To test your method, use the function to update the documents in `observations_assigned`. \n",
    "\n",
    "- [Access a class method in Python.](../%40textbook/21-python-object-oriented-programming.ipynb#Methods)"
   ]
  },
  {
   "cell_type": "code",
   "execution_count": null,
   "id": "a3adbfd6-8507-4f54-859f-95dbc8bf1d27",
   "metadata": {
    "deletable": false
   },
   "outputs": [],
   "source": [
    "result = ...\n",
    "print(\"result type:\", type(result))\n",
    "result"
   ]
  },
  {
   "cell_type": "markdown",
   "id": "3b4340cf-6fb2-402a-87ab-f62dc6a2546f",
   "metadata": {
    "deletable": false,
    "editable": false
   },
   "source": [
    "Let's make another one!<span style='color: transparent; font-size:1%'>WQU WorldQuant University Applied Data Science Lab QQQQ</span>"
   ]
  },
  {
   "cell_type": "code",
   "execution_count": null,
   "id": "cc3dd318-ce3e-48dc-9bc8-bf5ebdd4f196",
   "metadata": {
    "deletable": false,
    "editable": false,
    "init_cell": true
   },
   "outputs": [],
   "source": [
    "VimeoVideo(\"734149186\", h=\"65f443159c\", width=600)"
   ]
  },
  {
   "cell_type": "markdown",
   "id": "5b3047bb-2dc4-443f-9ad0-1da9db2923c0",
   "metadata": {
    "deletable": false,
    "editable": false
   },
   "source": [
    "**Task 7.2.19:** Create an `assign_to_groups` method for your `MongoRepository` class. Note that it should work differently than your original function. It will take one argument: `date_string`. It should find users from that date, assign them to groups, update the database, and return the results of the transaction. Once you're done, use your method to assign all the users who created account on **14 May 2022**, to groups.\n",
    "\n",
    "- [Access a class method in Python.](../%40textbook/21-python-object-oriented-programming.ipynb#Methods)"
   ]
  },
  {
   "cell_type": "code",
   "execution_count": null,
   "id": "740e8e40-d346-4b61-b8d7-7a3d132108ac",
   "metadata": {
    "deletable": false
   },
   "outputs": [],
   "source": [
    "result = ...\n",
    "print(\"result type:\", type(result))\n",
    "result"
   ]
  },
  {
   "cell_type": "markdown",
   "id": "5cdb0eac-4b1d-4ecf-9e04-a5b5916133a4",
   "metadata": {
    "deletable": false,
    "editable": false
   },
   "source": [
    "We'll leave it to you to implement an `export_treatment_emails` method. For now, let's submit your class to the grader. "
   ]
  },
  {
   "cell_type": "code",
   "execution_count": null,
   "id": "469357b7-2799-4bd9-8ca9-93403744410c",
   "metadata": {
    "deletable": false,
    "editable": false,
    "init_cell": true
   },
   "outputs": [],
   "source": [
    "VimeoVideo(\"734148753\", h=\"2305068b6b\", width=600)"
   ]
  },
  {
   "cell_type": "markdown",
   "id": "76cc0536-a296-429c-9733-4ddeb50a08a0",
   "metadata": {
    "deletable": false,
    "editable": false
   },
   "source": [
    "**Task 7.2.20:** Run the cell below, to create a new instance of your `MongoRepository` class, assign users from **16 May 2022** to groups, and submit the results to the grader."
   ]
  },
  {
   "cell_type": "code",
   "execution_count": null,
   "id": "e147f192-17d5-4fd2-a4ef-5d766181bf4d",
   "metadata": {
    "deletable": false,
    "editable": false
   },
   "outputs": [],
   "source": [
    "repo_test = MongoRepository()\n",
    "repo_test.assign_to_groups(\"2022-05-16\")\n",
    "submission = wqet_grader.clean_bson(repo_test.find_by_date(\"2022-05-16\"))\n",
    "wqet_grader.grade(\"Project 7 Assessment\", \"Task 7.2.20\", submission)"
   ]
  },
  {
   "cell_type": "markdown",
   "id": "194f5fe1",
   "metadata": {
    "deletable": false,
    "editable": false
   },
   "source": [
    "---\n",
    "Copyright 2023 WorldQuant University. This\n",
    "content is licensed solely for personal use. Redistribution or\n",
    "publication of this material is strictly prohibited.\n"
   ]
  }
 ],
 "metadata": {
  "kernelspec": {
   "display_name": "Python 3 (ipykernel)",
   "language": "python",
   "name": "python3"
  },
  "language_info": {
   "codemirror_mode": {
    "name": "ipython",
    "version": 3
   },
   "file_extension": ".py",
   "mimetype": "text/x-python",
   "name": "python",
   "nbconvert_exporter": "python",
   "pygments_lexer": "ipython3",
   "version": "3.9.6"
  },
  "vscode": {
   "interpreter": {
    "hash": "aee8b7b246df8f9039afb4144a1f6fd8d2ca17a180786b69acc140d282b71a49"
   }
  }
 },
 "nbformat": 4,
 "nbformat_minor": 5
}
