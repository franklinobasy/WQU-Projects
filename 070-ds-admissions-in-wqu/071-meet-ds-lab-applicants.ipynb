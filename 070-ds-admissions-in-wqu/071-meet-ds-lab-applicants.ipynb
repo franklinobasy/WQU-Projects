{
 "cells": [
  {
   "cell_type": "markdown",
   "id": "7dc7beda",
   "metadata": {
    "deletable": false,
    "editable": false
   },
   "source": [
    "\n",
    "<div class=\"alert alert-info\" role=\"alert\">\n",
    "  <p>\n",
    "    <center><b>Usage Guidelines</b></center>\n",
    "  </p>\n",
    "\n",
    "  <p>\n",
    "    This lesson is part of the <b>DS Lab core curriculum</b>. For that reason, this notebook can only be used on your WQU virtual machine.\n",
    "  </p>\n",
    "\n",
    "  <p>\n",
    "    This means:\n",
    "    <ul>\n",
    "      <li><span style=\"color: red\">ⓧ</span> No downloading this notebook.</li>\n",
    "      <li><span style=\"color: red\">ⓧ</span> No re-sharing of this notebook with friends or colleagues.</li>\n",
    "      <li><span style=\"color: red\">ⓧ</span> No downloading the embedded videos in this notebook.</li>\n",
    "      <li><span style=\"color: red\">ⓧ</span> No re-sharing embedded videos with friends or colleagues.</li>\n",
    "      <li><span style=\"color: red\">ⓧ</span> No adding this notebook to public or private repositories.</li>\n",
    "      <li><span style=\"color: red\">ⓧ</span> No uploading this notebook (or screenshots of it) to other websites, including websites for study resources.</li>\n",
    "    </ul>\n",
    "\n",
    "  </p>\n",
    "</div>\n"
   ]
  },
  {
   "cell_type": "markdown",
   "id": "04f98d5b-5a67-48e0-b41f-c03ffbd6abb2",
   "metadata": {
    "deletable": false,
    "editable": false
   },
   "source": [
    "<font size=\"+3\"><strong>7.1. Meet the DS Lab Applicants</strong></font>"
   ]
  },
  {
   "cell_type": "markdown",
   "id": "d890ebcb-821f-4531-9be9-9a407bfd29d1",
   "metadata": {
    "deletable": false,
    "editable": false
   },
   "source": [
    "When you decided to start down the path to becoming a data scientist at WQU, the first thing you did was to register an account with us. Then you took our admissions exam test, and began your data science journey! But not everyone who creates an account takes the admissions exam. Is there a way to improve that completion rate?\n",
    "\n",
    "In this project, you'll help run an experiment to see if sending a reminder email to applicants can increase the likelihood that they'll complete the admissions exam. This type of experiment is called a **hypothesis test** or an **A/B test**.\n",
    "\n",
    "In this lesson, we'll try to get a better sense of what kind of people sign up for Applied Data Science Lab — where they're from, how old are they, what have they previously studied, and more. "
   ]
  },
  {
   "cell_type": "markdown",
   "id": "f0fb6a46-cac0-41d8-acaf-74e783b2e5aa",
   "metadata": {
    "deletable": false,
    "editable": false
   },
   "source": [
    "<div class=\"alert alert-block alert-warning\">\n",
    "<b>Data Ethics:</b> This project is based on a real experiment that the WQU data science team conducted in June of 2022 There is, however, one important difference. While the data science team used real student data, you're going to use <b>synthetic data</b>. It is designed to have  characteristics that are similar to the real thing without exposing any actual personal data — like names, birthdays, and email addresses — that would violate our students' privacy. \n",
    "</div>"
   ]
  },
  {
   "cell_type": "code",
   "execution_count": null,
   "id": "49733fc2-aa26-43aa-977f-1aa6ca576898",
   "metadata": {
    "deletable": false,
    "editable": false,
    "init_cell": true
   },
   "outputs": [],
   "source": [
    "from pprint import PrettyPrinter\n",
    "\n",
    "import pandas as pd\n",
    "import plotly.express as px\n",
    "import wqet_grader\n",
    "from country_converter import CountryConverter\n",
    "from IPython.display import VimeoVideo\n",
    "from pymongo import MongoClient\n",
    "\n",
    "wqet_grader.init(\"Project 7 Assessment\")\n"
   ]
  },
  {
   "cell_type": "code",
   "execution_count": null,
   "id": "e79390b8-3738-422a-970f-56076e3da43f",
   "metadata": {
    "deletable": false,
    "editable": false,
    "init_cell": true
   },
   "outputs": [],
   "source": [
    "VimeoVideo(\"733383823\", h=\"d6228d4de1\", width=600)"
   ]
  },
  {
   "cell_type": "markdown",
   "id": "d244cc32-3df6-4c1d-8a5d-79b9793e84ab",
   "metadata": {
    "deletable": false,
    "editable": false
   },
   "source": [
    "The DS Lab student data is stored in a MongoDB database. So we'll start the lesson by creating a `PrettyPrinter`, and connecting to the right database and collection."
   ]
  },
  {
   "cell_type": "code",
   "execution_count": null,
   "id": "12d9a466-b6d6-40f2-9002-93deae179cfd",
   "metadata": {
    "deletable": false,
    "editable": false,
    "init_cell": true
   },
   "outputs": [],
   "source": [
    "VimeoVideo(\"733383369\", h=\"4d221e7fb7\", width=600)"
   ]
  },
  {
   "cell_type": "markdown",
   "id": "c126e653-2701-45cd-ab6a-de132230c5ad",
   "metadata": {
    "deletable": false,
    "editable": false
   },
   "source": [
    "**Task 7.1.1:** Instantiate a `PrettyPrinter`, and assign it to the variable `pp`.\n",
    "\n",
    "- [Construct a `PrettyPrinter` instance in pprint.](../%40textbook/11-databases-mongodb.ipynb#Servers-and-Clients)"
   ]
  },
  {
   "cell_type": "code",
   "execution_count": null,
   "id": "64e6394d-1bf5-4ca6-967a-e7ca4b72be53",
   "metadata": {
    "deletable": false
   },
   "outputs": [],
   "source": [
    "pp = ...\n",
    "print(\"pp type:\", type(pp))"
   ]
  },
  {
   "cell_type": "markdown",
   "id": "4034e75d-fe47-436b-aef9-1b6c118a48ef",
   "metadata": {
    "deletable": false,
    "editable": false
   },
   "source": [
    "Next up, let's connect to the MongoDB server."
   ]
  },
  {
   "cell_type": "markdown",
   "id": "f47e77ce-14ca-436d-b9c7-370c8312dc27",
   "metadata": {
    "deletable": false,
    "editable": false
   },
   "source": [
    "# Connect"
   ]
  },
  {
   "cell_type": "code",
   "execution_count": null,
   "id": "4771faf4-70b9-4f0c-9ba3-844dfc3fbb64",
   "metadata": {
    "deletable": false,
    "editable": false,
    "init_cell": true
   },
   "outputs": [],
   "source": [
    "VimeoVideo(\"733383007\", h=\"13b2c716ac\", width=600)"
   ]
  },
  {
   "cell_type": "markdown",
   "id": "83c655c3-56ae-4112-9f31-4e12035e1d60",
   "metadata": {
    "deletable": false,
    "editable": false
   },
   "source": [
    "**Task 7.1.2:** Create a client that connects to the database running at `localhost` on port `27017`.\n",
    "\n",
    "- [What's a <span id='term'>database client?](../%40textbook/11-databases-mongodb.ipynb#Servers-and-Clients)\n",
    "- [What's a <span id='term'>database server?](../%40textbook/11-databases-mongodb.ipynb#Servers-and-Clients)\n",
    "- [<span id='technique'>Create a client object for a <span id='tool'>MongoDB</span> instance.](../%40textbook/11-databases-mongodb.ipynb#Servers-and-Clients) "
   ]
  },
  {
   "cell_type": "code",
   "execution_count": null,
   "id": "4cc74b49-b067-4379-bd6f-daa83d884e2a",
   "metadata": {
    "deletable": false
   },
   "outputs": [],
   "source": [
    "client = ...\n",
    "print(\"client type:\", type(client))"
   ]
  },
  {
   "cell_type": "markdown",
   "id": "5e41cd44-9c99-4dc2-86d8-7e6497301302",
   "metadata": {
    "deletable": false,
    "editable": false
   },
   "source": [
    "Okay! Let's take a look at the databases that are available to us."
   ]
  },
  {
   "cell_type": "markdown",
   "id": "bbafd982-a8b8-47c7-a1bd-9ec7f26d3a5b",
   "metadata": {
    "deletable": false,
    "editable": false
   },
   "source": [
    "**Task 7.1.3:** Print a list of the databases available on `client`.\n",
    "\n",
    "- [What's an iterator?](../%40textbook/02-python-advanced.ipynb#Iterators-and-Iterables-)\n",
    "- [List the databases of a server using PyMongo.](../%40textbook/11-databases-mongodb.ipynb#Exploring-a-Database)\n",
    "- [Print output using pprint.](../%40textbook/11-databases-mongodb.ipynb#Exploring-a-Database)"
   ]
  },
  {
   "cell_type": "code",
   "execution_count": null,
   "id": "4335b4c0-3942-4bf3-9b5e-41c0f4ac36a8",
   "metadata": {
    "deletable": false
   },
   "outputs": [],
   "source": [
    "pp.pprint(...)"
   ]
  },
  {
   "cell_type": "markdown",
   "id": "16c4ca5b-f552-4b23-9900-1d5204461f9a",
   "metadata": {
    "deletable": false,
    "editable": false
   },
   "source": [
    "We're interested in the `\"wqu-abtest\"` database, so let's assign a variable and get moving.\n",
    "\n",
    "By the way, did you notice our old friend the air quality data? Isn't it nice to know that if you ever wanted to go back and do those projects again, the data will be there waiting for you?"
   ]
  },
  {
   "cell_type": "code",
   "execution_count": null,
   "id": "89bea6de-15ee-4baa-a812-44acca2a7d46",
   "metadata": {
    "deletable": false,
    "editable": false,
    "init_cell": true
   },
   "outputs": [],
   "source": [
    "VimeoVideo(\"733382605\", h=\"e0b87a5ff8\", width=600)"
   ]
  },
  {
   "cell_type": "markdown",
   "id": "bc9dbfbe-d17c-4989-8803-a2ec928adc21",
   "metadata": {
    "deletable": false,
    "editable": false
   },
   "source": [
    "**Task 7.1.4:** Assign the `\"ds-applicants\"` collection in the `\"wqu-abtest\"` database to the variable name `ds_app`.\n",
    "\n",
    "- [What's a MongoDB collection?](../%40textbook/11-databases-mongodb.ipynb#Collections)\n",
    "- [Access a collection in a database using PyMongo.](../%40textbook/11-databases-mongodb.ipynb#Collections)"
   ]
  },
  {
   "cell_type": "code",
   "execution_count": null,
   "id": "91b4a2e3-a1f4-4b36-905c-cbe394b3de64",
   "metadata": {
    "deletable": false
   },
   "outputs": [],
   "source": [
    "db = ...\n",
    "ds_app = ...\n",
    "print(\"ds_app type:\", type(ds_app))"
   ]
  },
  {
   "cell_type": "markdown",
   "id": "e5b6a640-5073-400c-a4b0-c696b47264c0",
   "metadata": {
    "deletable": false,
    "editable": false
   },
   "source": [
    "Now let's take a look at what we've got. First, let's find out how many applicants are currently in our collection."
   ]
  },
  {
   "cell_type": "markdown",
   "id": "24613d7b-f497-4356-aa59-1a20621bf1e1",
   "metadata": {
    "deletable": false,
    "editable": false
   },
   "source": [
    "# Explore"
   ]
  },
  {
   "cell_type": "code",
   "execution_count": null,
   "id": "3b204673-98ad-4739-a9e6-7cadad7ef607",
   "metadata": {
    "deletable": false,
    "editable": false,
    "init_cell": true
   },
   "outputs": [],
   "source": [
    "VimeoVideo(\"733382346\", h=\"9da7d3d1d8\", width=600)"
   ]
  },
  {
   "cell_type": "markdown",
   "id": "f3c401d5-4ab4-458b-b8a6-bfb58afc048b",
   "metadata": {
    "deletable": false,
    "editable": false
   },
   "source": [
    "**Task 7.1.5:** Use the [`count_documents`](https://pymongo.readthedocs.io/en/stable/api/pymongo/collection.html#pymongo.collection.Collection.count_documents) method to see how many documents are in the `ds_app` collection.\n",
    "\n",
    "- [What's a MongoDB document?](../%40textbook/11-databases-mongodb.ipynb#Documents)\n",
    "- [Count the documents in a collection using PyMongo.](../%40textbook/11-databases-mongodb.ipynb#Documents) "
   ]
  },
  {
   "cell_type": "markdown",
   "id": "306c2d08-1945-428c-a031-7efe95159270",
   "metadata": {
    "deletable": false,
    "editable": false
   },
   "source": [
    "<div class=\"alert alert-block alert-warning\">\n",
    "<b>Warning:</b> The exact number of documents in the database has changed since this video was filmed. So don't worry if you don't get exactly the same numbers as the instructor for the tasks in this project.\n",
    "</div>"
   ]
  },
  {
   "cell_type": "code",
   "execution_count": null,
   "id": "f8fe3935-1eee-4ca0-b9c1-20f396dc01e3",
   "metadata": {
    "deletable": false
   },
   "outputs": [],
   "source": [
    "# Count documents in `ds_app`\n",
    "n_documents = ...\n",
    "print(\"Num. documents in 'ds-applicants':\", n_documents)"
   ]
  },
  {
   "cell_type": "markdown",
   "id": "2a40ca19-84c2-4c40-9edb-9dff7effc349",
   "metadata": {
    "deletable": false,
    "editable": false
   },
   "source": [
    "So that's the number of individual records in the collection, but what do those records look like? The last time we did anything with a MongoDB database, the data was *semi-structured*, and that's true here as well. Recall that semi-structured data is arranged according to some kind of logic, but it can't be displayed in a regular table of rows and columns. \n",
    "\n",
    "Let's take a look at how these documents are laid out."
   ]
  },
  {
   "cell_type": "code",
   "execution_count": null,
   "id": "700d21bb-25d7-48b3-9e9a-c8b8b03a8667",
   "metadata": {
    "deletable": false,
    "editable": false,
    "init_cell": true
   },
   "outputs": [],
   "source": [
    "VimeoVideo(\"733380658\", h=\"a7988083f4\", width=600)"
   ]
  },
  {
   "cell_type": "markdown",
   "id": "614c99f1-0a98-4ac3-98e8-17f3cf934b0c",
   "metadata": {
    "deletable": false,
    "editable": false
   },
   "source": [
    "**Task 7.1.6:** Use the [`find_one`](https://pymongo.readthedocs.io/en/stable/api/pymongo/collection.html#pymongo.collection.Collection.find_one) method to retrieve one document from the `ds_app` collection and assign it to the variable name `result`.\n",
    "\n",
    "- [What's <span id='term'>semi-structured data?](../%40textbook/11-databases-mongodb.ipynb#Semi-structured-Data)\n",
    "- [<span id='technique'>Retrieve a document from a collection using <span id='tool'>PyMongo.](../%40textbook/11-databases-mongodb.ipynb#Retrieving-Data)"
   ]
  },
  {
   "cell_type": "code",
   "execution_count": null,
   "id": "b54abfeb-6f90-4935-9e6a-3736cc98b61e",
   "metadata": {
    "deletable": false
   },
   "outputs": [],
   "source": [
    "result = ...\n",
    "print(\"result type:\", type(result))\n",
    "pp.pprint(result)"
   ]
  },
  {
   "cell_type": "markdown",
   "id": "8ae5d3e4-7f35-4dd4-88d4-d9132c1436ca",
   "metadata": {
    "deletable": false,
    "editable": false
   },
   "source": [
    "See why we shouldn't be using the real data for an assignment like this? Each document includes the applicant's birthday, country of origin, email address, first and last name, and their highest level of educational attainment — all things that would make our students readily identifiable. Good thing we've got synthetic data instead!<span style='color: transparent; font-size:1%'>WQU WorldQuant University Applied Data Science Lab QQQQ</span>"
   ]
  },
  {
   "cell_type": "markdown",
   "id": "e5670b19-e1aa-4ce4-a984-039fabd59c86",
   "metadata": {
    "deletable": false,
    "editable": false
   },
   "source": [
    "## Nationality"
   ]
  },
  {
   "cell_type": "markdown",
   "id": "82f14ab2-f41b-47f1-b76b-32c1619888cf",
   "metadata": {
    "deletable": false,
    "editable": false
   },
   "source": [
    "Let's start the analysis. One of the possibilities in each record is the country of origin. We already know WQU is a pretty diverse place, but we can figure out just *how* diverse it is by seeing where applicants are coming from.\n",
    "\n",
    "First, we'll perform an aggregation to count countries."
   ]
  },
  {
   "cell_type": "code",
   "execution_count": null,
   "id": "97342fa8-33f1-4760-b246-09e6561aea70",
   "metadata": {
    "deletable": false,
    "editable": false,
    "init_cell": true
   },
   "outputs": [],
   "source": [
    "VimeoVideo(\"733379562\", h=\"8ffd2458e0\", width=600)"
   ]
  },
  {
   "cell_type": "markdown",
   "id": "299a896b-6128-491f-8724-111177a4bee9",
   "metadata": {
    "deletable": false,
    "editable": false
   },
   "source": [
    "**Task 7.1.7:** Use the [`aggregate`](https://pymongo.readthedocs.io/en/stable/api/pymongo/collection.html#pymongo.collection.Collection.aggregate) method to calculate how many applicants there are from each country.\n",
    "\n",
    "- [Perform aggregation calculations on documents using PyMongo.](../%40textbook/11-databases-mongodb.ipynb#Analyzing-Data)"
   ]
  },
  {
   "cell_type": "markdown",
   "id": "faf27ba3-1fe0-4251-9fd4-a082a66733c0",
   "metadata": {
    "deletable": false,
    "editable": false
   },
   "source": [
    "<div class=\"alert alert-block alert-info\">\n",
    "    <p><b>Tip:</b> ISO stands for \"<b>I</b>nternational <b>O</b>rganization for <b>S</b>tandardization\". So, when you write your query, make sure you're not confusing the letter <code>O</code> with the number <code>0</code>.</p>\n",
    "</div>"
   ]
  },
  {
   "cell_type": "code",
   "execution_count": null,
   "id": "636cc668-38de-40d7-b65d-03895b9bc6a0",
   "metadata": {
    "deletable": false
   },
   "outputs": [],
   "source": [
    "result = ...\n",
    "print(\"result type:\", type(result))"
   ]
  },
  {
   "cell_type": "markdown",
   "id": "b60a4195-9ae8-4d34-9421-4de3c6f24a50",
   "metadata": {
    "deletable": false,
    "editable": false
   },
   "source": [
    "Next, we'll create and print a DataFrame with the results."
   ]
  },
  {
   "cell_type": "code",
   "execution_count": null,
   "id": "76e1ba1f-3cd6-4945-b029-6c58b9d8951a",
   "metadata": {
    "deletable": false,
    "editable": false,
    "init_cell": true
   },
   "outputs": [],
   "source": [
    "VimeoVideo(\"733376898\", h=\"fc7f30e75a\", width=600)"
   ]
  },
  {
   "cell_type": "markdown",
   "id": "d8c13fd2-3367-4e38-acb3-b1c05c57938f",
   "metadata": {
    "deletable": false,
    "editable": false
   },
   "source": [
    "**Task 7.1.8:** Put your results from the previous task into a DataFrame named `df_nationality`. Your DataFrame should have two columns: `\"country_iso2\"` and `\"count\"`. It should be sorted from the smallest to the largest value of `\"count\"`.\n",
    "\n",
    "- [Create a DataFrame from a dictionary using pandas.](../%40textbook/03-pandas-getting-started.ipynb#Working-with-DataFrames)\n",
    "- [Rename a Series in pandas.](../%40textbook/03-pandas-getting-started.ipynb#Rename-a-Series)\n",
    "- [Sort a DataFrame or Series in pandas.](../%40textbook/03-pandas-getting-started.ipynb#Sorting)"
   ]
  },
  {
   "cell_type": "code",
   "execution_count": null,
   "id": "2ca64f64-3af3-4a9f-9f41-5c69aaaa346b",
   "metadata": {
    "deletable": false
   },
   "outputs": [],
   "source": [
    "df_nationality = ...\n",
    "\n",
    "print(\"df_nationality type:\", type(df_nationality))\n",
    "print(\"df_nationality shape\", df_nationality.shape)\n",
    "df_nationality.head()"
   ]
  },
  {
   "cell_type": "markdown",
   "id": "3dc79059-50e6-4d75-85f7-06c174645c47",
   "metadata": {
    "deletable": false,
    "editable": false
   },
   "source": [
    "<div class=\"alert alert-block alert-info\">\n",
    "    <p><b>Tip:</b> If you see that there's no data in <code>df_nationality</code>, it's likely that there's an issue with your query in the previous task.</p>\n",
    "</div>"
   ]
  },
  {
   "cell_type": "markdown",
   "id": "d8bf912f-7dfc-4694-8cc9-0e97b3ee6c84",
   "metadata": {
    "deletable": false,
    "editable": false
   },
   "source": [
    "Now we have the countries, but they're represented using the [ISO 3166-1 alpha-2 standard](https://en.wikipedia.org/wiki/ISO_3166-1_alpha-2), where each country has a two-letter code. It'll be much easier to interpret our data if we have the full country name, so we'll need to do some data enrichment using [country converter](https://github.com/konstantinstadler/country_converter) library.\n",
    "\n",
    "Since `country_converter` is an open-source library, there are several things to think about before we can bring it into our project. The first thing we need to do is figure out if we're even allowed to use the library for the kind of project we're working on by taking a look at the library's license. `country_converter` has a [GNU General Public License](https://www.gnu.org/licenses/gpl-3.0.en.html), so there are no worries there.\n",
    "\n",
    "Second, we need to make sure the software is being actively maintained. If the last time anybody changed the library was back in 2014, we're probably going to run into some problems when we try to use it. `country_converter`'s last update is very recent, so we aren't going to have any trouble there either.\n",
    "\n",
    "Third, we need to see what kinds of quality-control measures are in place. Even if the library was updated five minutes ago and includes a license that gives us permission to do whatever we want, it's going to be entirely useless if it's full of mistakes. Happily, `country_converter`'s testing coverage and build badges look excellent, so we're good to go there as well.\n",
    "\n",
    "The last thing we need to do is make sure the library will do the things we need it to do by looking at its documentation. `country_converter`'s documentation is very thorough, so if we run into any problems, we'll almost certainly be able to figure out what went wrong. \n",
    "\n",
    "`country_converter` looks good across all those dimensions, so let's put it to work!"
   ]
  },
  {
   "cell_type": "code",
   "execution_count": null,
   "id": "244684c8-62fc-4479-bd1a-80a5c3e67ef8",
   "metadata": {
    "deletable": false,
    "editable": false,
    "init_cell": true
   },
   "outputs": [],
   "source": [
    "VimeoVideo(\"733373453\", h=\"f8e954db9f\", width=600)"
   ]
  },
  {
   "cell_type": "markdown",
   "id": "0b7b5b9b-00cc-4a2a-ba26-fcc4f7c6414a",
   "metadata": {
    "deletable": false,
    "editable": false
   },
   "source": [
    "**Task 7.1.9:** Instantiate a `CountryConverter` object named `cc`, and then use it to add a `\"country_name\"` column to the DataFrame `df_nationality`.\n",
    "\n",
    "- Convert country names from one format to another using country converter.\n",
    "- [Create new columns derived from existing columns in a DataFrame using pandas.](../%40textbook/03-pandas-getting-started.ipynb#Adding-Columns) "
   ]
  },
  {
   "cell_type": "code",
   "execution_count": null,
   "id": "9d1d9550-4d0c-418e-8c67-0c037e675096",
   "metadata": {
    "deletable": false
   },
   "outputs": [],
   "source": [
    "cc = ...\n",
    "df_nationality[\"country_name\"] = ...\n",
    "\n",
    "print(\"df_nationality shape:\", df_nationality.shape)\n",
    "df_nationality.head()"
   ]
  },
  {
   "cell_type": "markdown",
   "id": "69272550-1a22-40c5-b5c8-60d7039af637",
   "metadata": {
    "deletable": false,
    "editable": false
   },
   "source": [
    "That's better. Okay, let's turn that data into a bar chart."
   ]
  },
  {
   "cell_type": "code",
   "execution_count": null,
   "id": "39e3b391-cef0-419f-9c1a-b6d63b13e9e5",
   "metadata": {
    "deletable": false,
    "editable": false,
    "init_cell": true
   },
   "outputs": [],
   "source": [
    "VimeoVideo(\"733372561\", h=\"2659ff0dc7\", width=600)"
   ]
  },
  {
   "cell_type": "markdown",
   "id": "0a939e42-e6ab-4465-8a72-61f3c0626899",
   "metadata": {
    "deletable": false,
    "editable": false
   },
   "source": [
    "**Task 7.1.10:** Create a horizontal bar chart of the 10 countries with the largest representation in `df_nationality`. Be sure to label your x-axis `\"Frequency [count]\"`, your y-axis `\"Country\"`, and use the title `\"DS Applicants by Country\"`.\n",
    "\n",
    "- [What's a bar chart?](../%40textbook/08-visualization-plotly.ipynb#Bar-Chart)\n",
    "- [Create a bar chart using plotly express.](../%40textbook/08-visualization-plotly.ipynb#Bar-Chart)"
   ]
  },
  {
   "cell_type": "code",
   "execution_count": null,
   "id": "cb497da2-fb96-4c95-a7f3-aa8c615011a2",
   "metadata": {
    "deletable": false
   },
   "outputs": [],
   "source": [
    "# Create horizontal bar chart\n",
    "fig = ...\n",
    "# Set axis labels\n",
    "\n",
    "fig.show()"
   ]
  },
  {
   "cell_type": "markdown",
   "id": "f3c57200-3d5c-4124-b782-ff10e3d7cf66",
   "metadata": {
    "deletable": false,
    "editable": false
   },
   "source": [
    "That's showing us the raw number of applicants from each country, but since we're working with admissions data, it might be more helpful to see the proportion of applicants each country represents. We can get there by normalizing the dataset."
   ]
  },
  {
   "cell_type": "code",
   "execution_count": null,
   "id": "d8353c1f-b6df-4fd2-a807-817c48b01a2f",
   "metadata": {
    "deletable": false,
    "editable": false,
    "init_cell": true
   },
   "outputs": [],
   "source": [
    "VimeoVideo(\"733371952\", h=\"a061e33ab8\", width=600)"
   ]
  },
  {
   "cell_type": "markdown",
   "id": "96190eeb-20a0-4c1a-9a7b-a4c2a7f71a71",
   "metadata": {
    "deletable": false,
    "editable": false
   },
   "source": [
    "**Task 7.1.11:** Create a `\"count_pct\"` column for `df_nationality` that shows the proportion of applicants from each country.\n",
    "\n",
    "- [Create new columns derived from existing columns in a DataFrame using pandas.](../%40textbook/03-pandas-getting-started.ipynb#Adding-Columns) "
   ]
  },
  {
   "cell_type": "code",
   "execution_count": null,
   "id": "c1466e95-1a6b-4802-8ab3-b427ea492ade",
   "metadata": {
    "deletable": false
   },
   "outputs": [],
   "source": [
    "df_nationality[\"count_pct\"] = ...\n",
    "\n",
    "print(\"df_nationality shape:\", df_nationality.shape)\n",
    "df_nationality.head()"
   ]
  },
  {
   "cell_type": "markdown",
   "id": "48b6f064-4f74-4f17-b387-db167e38d23b",
   "metadata": {
    "deletable": false,
    "editable": false
   },
   "source": [
    "Now we can turn that into a new bar chart."
   ]
  },
  {
   "cell_type": "code",
   "execution_count": null,
   "id": "39d1846d-c1fb-4d53-a16f-8a43ade1631e",
   "metadata": {
    "deletable": false,
    "editable": false,
    "init_cell": true
   },
   "outputs": [],
   "source": [
    "VimeoVideo(\"733371556\", h=\"7cae7252a8\", width=600)"
   ]
  },
  {
   "cell_type": "markdown",
   "id": "dd462082-d240-450c-bfd4-ed87398d0614",
   "metadata": {
    "deletable": false,
    "editable": false
   },
   "source": [
    "**Task 7.1.12:** Recreate your horizontal bar chart of the 10 countries with the largest representation in `df_nationality`, this time with the percentages. Be sure to label your x-axis `\"Frequency [%]\"`, your y-axis `\"Country\"`, and use the title `\"DS Applicants by Country\"`.\n",
    "\n",
    "- [What's a bar chart?](../%40textbook/08-visualization-plotly.ipynb#Bar-Chart)\n",
    "- [Create a bar chart using plotly express.](../%40textbook/08-visualization-plotly.ipynb#Bar-Chart)"
   ]
  },
  {
   "cell_type": "code",
   "execution_count": null,
   "id": "64360b8e-4122-484d-bb1e-f13f51c284ab",
   "metadata": {
    "deletable": false
   },
   "outputs": [],
   "source": [
    "# Create horizontal bar chart\n",
    "fig = ...\n",
    "# Set axis labels\n",
    "\n",
    "fig.show()"
   ]
  },
  {
   "cell_type": "markdown",
   "id": "d49f62bf-a1ae-4e6a-9943-2eec9b03bc06",
   "metadata": {
    "deletable": false,
    "editable": false
   },
   "source": [
    "Bar charts are useful, but since we're talking about actual places here, let's see how this data looks when we put it on a world map. However, plotly express requires the [ISO 3166-1 alpha-3](https://en.wikipedia.org/wiki/ISO_3166-1_alpha-3) codes. This means that we'll need to add another column to our DataFrame before we can make our visualization."
   ]
  },
  {
   "cell_type": "code",
   "execution_count": null,
   "id": "52b58481-c6b7-4e91-bbb0-de290060d64e",
   "metadata": {
    "deletable": false,
    "editable": false,
    "init_cell": true
   },
   "outputs": [],
   "source": [
    "VimeoVideo(\"733370726\", h=\"2b21ee76d2\", width=600)"
   ]
  },
  {
   "cell_type": "markdown",
   "id": "faf873d3-9736-43a2-8119-1c34661c6b51",
   "metadata": {
    "deletable": false,
    "editable": false
   },
   "source": [
    "**Task 7.1.13:** Add a column named `\"country_iso3\"` to `df_nationality`. It should contain the 3-letter ISO abbreviation for each country in `\"country_iso2\"`. \n",
    "\n",
    "- [Create new columns derived from existing columns in a DataFrame using pandas.](../%40textbook/03-pandas-getting-started.ipynb#Adding-Columns) "
   ]
  },
  {
   "cell_type": "code",
   "execution_count": null,
   "id": "247f9d15-fa86-4e7d-80d1-92b42041e5f9",
   "metadata": {
    "deletable": false
   },
   "outputs": [],
   "source": [
    "df_nationality[\"country_iso3\"] = ...\n",
    "\n",
    "print(\"df_nationality shape:\", df_nationality.shape)\n",
    "df_nationality.head()"
   ]
  },
  {
   "cell_type": "markdown",
   "id": "a0da31f0-70f8-4f0b-ba98-9c802442ff57",
   "metadata": {
    "deletable": false,
    "editable": false
   },
   "source": [
    "Perfect! Let's turn the table into a map!"
   ]
  },
  {
   "cell_type": "code",
   "execution_count": null,
   "id": "09ab923f-e84a-47f2-b6dd-bbfe5c184e7c",
   "metadata": {
    "deletable": false,
    "editable": false,
    "init_cell": true
   },
   "outputs": [],
   "source": [
    "VimeoVideo(\"733369606\", h=\"73a380a6c6\", width=600)"
   ]
  },
  {
   "cell_type": "markdown",
   "id": "8f899ed5-c8cc-424f-bffc-2d1fc2ea409d",
   "metadata": {
    "deletable": false,
    "editable": false
   },
   "source": [
    "**Task 7.1.14:** Create a function `build_nat_choropleth` that returns plotly choropleth map showing the `\"count\"` of DS applicants in each country in the globe. Be sure to set your `projection` to `\"natural earth\"`, and `color_continuous_scale` to `px.colors.sequential.Oranges`.\n",
    "\n",
    "- [What's a choropleth map?](../%40textbook/08-visualization-plotly.ipynb#Choropleth-Maps)\n",
    "- [Create a choropleth map using plotly express.](../%40textbook/08-visualization-plotly.ipynb#Choropleth-Maps)"
   ]
  },
  {
   "cell_type": "code",
   "execution_count": null,
   "id": "4a2d5ef3-b96b-4e43-b77a-0120ef6e3270",
   "metadata": {
    "deletable": false
   },
   "outputs": [],
   "source": [
    "def build_nat_choropleth():\n",
    "    fig = ...\n",
    "    return fig\n",
    "\n",
    "\n",
    "nat_fig = build_nat_choropleth()\n",
    "print(\"nat_fig type:\", type(nat_fig))\n",
    "nat_fig.show()"
   ]
  },
  {
   "cell_type": "markdown",
   "id": "2c9bc499-732d-427d-a12c-981b2173bd3b",
   "metadata": {
    "deletable": false,
    "editable": false
   },
   "source": [
    "<div class=\"alert alert-block alert-info\">\n",
    "    <p><b>Note:</b> Political borders are subject to change, debate and dispute. As such, you may see borders on this map that you don't agree with. The political boundaries you see in <a href=\"https://plotly.com/python/map-configuration/\">Plotly</a> are based on the <a href=\"https://www.naturalearthdata.com/\">Natural Earth dataset</a>. You can learn more about their disputed boundaries policy <a href=\"https://www.naturalearthdata.com/about/disputed-boundaries-policy/\">here</a>.</p>\n",
    "</div>"
   ]
  },
  {
   "cell_type": "markdown",
   "id": "67a2bf4e-8182-4e7e-9ac5-d16e6ba8b1cd",
   "metadata": {
    "deletable": false,
    "editable": false
   },
   "source": [
    "Cool! This is showing us what we knew already: most of the applicants come from Nigeria, India, and Pakistan. But this visualization also shows the global diversity of DS Lab students. Almost every country is represented in our student body!"
   ]
  },
  {
   "cell_type": "markdown",
   "id": "e51de95a-c22a-435c-91fd-94a2a43e6002",
   "metadata": {
    "deletable": false,
    "editable": false
   },
   "source": [
    "## Age"
   ]
  },
  {
   "cell_type": "markdown",
   "id": "04a5807e-c9c3-44a4-a428-4b0bb8f93781",
   "metadata": {
    "deletable": false,
    "editable": false
   },
   "source": [
    "Now that we know where the applicants are from, let's see what else we can learn. For instance, how old are DS Lab applicants? We know the birthday of all our applicants, but we'll need to perform another aggregation to calculate their ages. We'll use the `\"$birthday\"` field and the `\"$$NOW\"` variable. "
   ]
  },
  {
   "cell_type": "code",
   "execution_count": null,
   "id": "8adbe38f-4dca-4174-963c-25ab04af8745",
   "metadata": {
    "deletable": false,
    "editable": false,
    "init_cell": true
   },
   "outputs": [],
   "source": [
    "VimeoVideo(\"733367865\", h=\"6e444cb810\", width=600)"
   ]
  },
  {
   "cell_type": "markdown",
   "id": "a6d93818-5d34-4f37-9788-0727eea1d2dc",
   "metadata": {
    "deletable": false,
    "editable": false
   },
   "source": [
    "**Task 7.1.15:** Use the [`aggregate`](https://pymongo.readthedocs.io/en/stable/api/pymongo/collection.html#pymongo.collection.Collection.aggregate) method to calculate the age for each of the applicants in `ds_app`. Store the results in `result`.\n",
    "\n",
    "- [Perform aggregation calculations on documents using PyMongo.](../%40textbook/11-databases-mongodb.ipynb#Analyzing-Data)\n",
    "- [Aggregate data using the `$project` operator in PyMongo.](../%40textbook/11-databases-mongodb.ipynb#Aggregation)\n",
    "- [Calculate the difference between dates using the `$dateDiff` operator in PyMongo.](../%40textbook/11-databases-mongodb.ipynb#Aggregation)"
   ]
  },
  {
   "cell_type": "code",
   "execution_count": null,
   "id": "808dd6da-0664-4eaa-8937-ce9674aa8575",
   "metadata": {
    "deletable": false
   },
   "outputs": [],
   "source": [
    "result = ...\n",
    "\n",
    "print(\"result type:\", type(result))"
   ]
  },
  {
   "cell_type": "markdown",
   "id": "c1c9d2b8-45c9-4330-b69b-799d9bc985cb",
   "metadata": {
    "deletable": false,
    "editable": false
   },
   "source": [
    "Once we have the query results, we can put them into a Series."
   ]
  },
  {
   "cell_type": "code",
   "execution_count": null,
   "id": "b46aa5fb-b3e6-4415-b023-5405facb602d",
   "metadata": {
    "deletable": false,
    "editable": false,
    "init_cell": true
   },
   "outputs": [],
   "source": [
    "VimeoVideo(\"733367340\", h=\"2b926b1e3a\", width=600)"
   ]
  },
  {
   "cell_type": "markdown",
   "id": "42f97e9d-e5a3-4d5d-b87b-435e8a938ac5",
   "metadata": {
    "deletable": false,
    "editable": false
   },
   "source": [
    "**Task 7.1.16:** Read your `result` from the previous task into a DataFrame, and create a Series called `ages`.\n",
    "\n",
    "- [Create a Series in pandas.](../%40textbook/04-pandas-advanced.ipynb#Select-a-Series-from-a-DataFrame)"
   ]
  },
  {
   "cell_type": "code",
   "execution_count": null,
   "id": "50c92f00-1fb8-437d-913f-1d9af40addb0",
   "metadata": {
    "deletable": false
   },
   "outputs": [],
   "source": [
    "ages = ...\n",
    "\n",
    "print(\"ages type:\", type(ages))\n",
    "print(\"ages shape:\", ages.shape)\n",
    "ages.head()"
   ]
  },
  {
   "cell_type": "markdown",
   "id": "8bb6edee-3bcb-4594-8dcb-ac872a10b703",
   "metadata": {
    "deletable": false,
    "editable": false
   },
   "source": [
    "And finally, plot a histogram to show the distribution of ages."
   ]
  },
  {
   "cell_type": "code",
   "execution_count": null,
   "id": "871ed9b3-86fa-4630-bd57-2cf2b879d963",
   "metadata": {
    "deletable": false,
    "editable": false,
    "init_cell": true
   },
   "outputs": [],
   "source": [
    "VimeoVideo(\"733366740\", h=\"bb14c884bb\", width=600)"
   ]
  },
  {
   "cell_type": "markdown",
   "id": "a6d5a3b6-89ad-4d48-8c53-30cffabbb6ea",
   "metadata": {
    "deletable": false,
    "editable": false
   },
   "source": [
    "**Task 7.1.17:** Create function `build_age_hist` that returns a plotly histogram of `ages`. Be sure to label your x-axis `\"Age\"`, your y-axis `\"Frequency [count]\"`, and use the title `\"Distribution of DS Applicant Ages\"`.\n",
    "\n",
    "- [What's a histogram?](../%40textbook/07-visualization-pandas.ipynb#Histograms)\n",
    "- [Create a histogram using plotly express](../%40textbook/08-visualization-plotly.ipynb#Histogram)"
   ]
  },
  {
   "cell_type": "code",
   "execution_count": null,
   "id": "61b9e736-9cfe-42f0-b8e8-e1c074ba1e69",
   "metadata": {
    "deletable": false
   },
   "outputs": [],
   "source": [
    "def build_age_hist():\n",
    "    # Create histogram of `ages`\n",
    "    fig = ...\n",
    "    # Set axis labels\n",
    "    \n",
    "    return fig\n",
    "\n",
    "\n",
    "age_fig = build_age_hist()\n",
    "print(\"age_fig type:\", type(age_fig))\n",
    "age_fig.show()"
   ]
  },
  {
   "cell_type": "markdown",
   "id": "75441a77",
   "metadata": {
    "deletable": false,
    "editable": false
   },
   "source": [
    "It looks like most of our applicants are in their twenties, but we also have applicants in their 70s. What a wonderful example of lifelong learning. Role models for all of us!"
   ]
  },
  {
   "cell_type": "markdown",
   "id": "d29dbca8-889e-484a-b9ad-e7ef44dc7d50",
   "metadata": {
    "deletable": false,
    "editable": false
   },
   "source": [
    "## Education"
   ]
  },
  {
   "cell_type": "markdown",
   "id": "3cee6113-15d2-4375-a113-b4a6c583c023",
   "metadata": {
    "deletable": false,
    "editable": false
   },
   "source": [
    "Okay, there's one more attribute left for us to explore: educational attainment. Which degrees do our applicants have? First, let's count the number of applicants in each category..."
   ]
  },
  {
   "cell_type": "code",
   "execution_count": null,
   "id": "2d2b99dc-12a2-474c-be15-52482225f195",
   "metadata": {
    "deletable": false,
    "editable": false,
    "init_cell": true
   },
   "outputs": [],
   "source": [
    "VimeoVideo(\"733366435\", h=\"c6d3a83830\", width=600)"
   ]
  },
  {
   "cell_type": "markdown",
   "id": "3a297e76-3067-4990-aa59-ec444e5e83ef",
   "metadata": {
    "deletable": false,
    "editable": false
   },
   "source": [
    "**Task 7.1.18:** Use the [`aggregate`](https://pymongo.readthedocs.io/en/stable/api/pymongo/collection.html#pymongo.collection.Collection.aggregate) method to calculate value counts for highest degree earned in `ds_app`.\n",
    "\n",
    "- [Aggregate data in a series using `value_counts` in pandas.](../%40textbook/04-pandas-advanced.ipynb#Working-with-value_counts-in-a-Series)"
   ]
  },
  {
   "cell_type": "code",
   "execution_count": null,
   "id": "cb60d49a-b716-4a77-81b9-f285b9451f8f",
   "metadata": {
    "deletable": false
   },
   "outputs": [],
   "source": [
    "result = ...\n",
    "\n",
    "print(\"result type:\", type(result))"
   ]
  },
  {
   "cell_type": "markdown",
   "id": "96c36e6b-d0b6-49ab-8f1b-97a22eacd572",
   "metadata": {
    "deletable": false,
    "editable": false
   },
   "source": [
    "... and create a Series..."
   ]
  },
  {
   "cell_type": "code",
   "execution_count": null,
   "id": "49d3df53-4df4-4ae5-b8d0-3e4ab9e9192d",
   "metadata": {
    "deletable": false,
    "editable": false,
    "init_cell": true
   },
   "outputs": [],
   "source": [
    "VimeoVideo(\"733365459\", h=\"5c14d30a9e\", width=600)"
   ]
  },
  {
   "cell_type": "markdown",
   "id": "9f1381b0-0c8a-43c3-9b16-a781b1e4668d",
   "metadata": {
    "deletable": false,
    "editable": false
   },
   "source": [
    "**Task 7.1.19:** Read your `result` from the previous task into a Series `education`.\n",
    "\n",
    "- [Create a Series in pandas.](../%40textbook/04-pandas-advanced.ipynb#Select-a-Series-from-a-DataFrame)"
   ]
  },
  {
   "cell_type": "code",
   "execution_count": null,
   "id": "dd9469a7-6c73-43ea-a4ec-b893770fb3f0",
   "metadata": {
    "deletable": false
   },
   "outputs": [],
   "source": [
    "education = ...\n",
    "\n",
    "print(\"education type:\", type(education))\n",
    "print(\"education shape:\", education.shape)\n",
    "education.head()"
   ]
  },
  {
   "cell_type": "markdown",
   "id": "eff903bc-8584-4071-8ac3-9a31ced814b0",
   "metadata": {
    "deletable": false,
    "editable": false
   },
   "source": [
    "... and... wait! We need to sort these categories more logically. Since we're talking about the highest level of education our applicants have, we need to sort the categories hierarchically rather than alphabetically or numerically. The order should be: `\"High School or Baccalaureate\"`, `\"Some College (1-3 years)\"`, `\"Bachelor's Degree\"`, `\"Master's Degree\"`, and `\"Doctorate (e.g. PhD)\"`. Let's do that with a function."
   ]
  },
  {
   "cell_type": "code",
   "execution_count": null,
   "id": "0d32f96f-bb75-4d4c-b9ab-c965095b781a",
   "metadata": {
    "deletable": false,
    "editable": false,
    "init_cell": true
   },
   "outputs": [],
   "source": [
    "VimeoVideo(\"733362518\", h=\"90dd9a3394\", width=600)"
   ]
  },
  {
   "cell_type": "markdown",
   "id": "2ea903ce-6c83-430a-b387-21c5e268be16",
   "metadata": {
    "deletable": false,
    "editable": false
   },
   "source": [
    "**Task 7.1.20:** Complete the `ed_sort` function below so that it can be used to sort the index of `education`. When you're satisfied that you're going to end up with a properly-sorted Series, submit your code to the grader.\n",
    "\n",
    "- What's a dictionary comprehension?\n",
    "- [Sort a DataFrame or Series in pandas.](../%40textbook/03-pandas-getting-started.ipynb#Sorting)"
   ]
  },
  {
   "cell_type": "code",
   "execution_count": null,
   "id": "ed35da32-c9a3-44c9-a383-f6f01c89f1d6",
   "metadata": {
    "deletable": false
   },
   "outputs": [],
   "source": [
    "def ed_sort(counts):\n",
    "    \"\"\"Sort array `counts` from highest to lowest degree earned.\"\"\"\n",
    "    degrees = [\n",
    "        \"High School or Baccalaureate\",\n",
    "        \"Some College (1-3 years)\",\n",
    "        \"Bachelor's degree\",\n",
    "        \"Master's degree\",\n",
    "        \"Doctorate (e.g. PhD)\",\n",
    "    ]\n",
    "    mapping = ...\n",
    "    sort_order = ...\n",
    "    return sort_order\n",
    "\n",
    "\n",
    "education.sort_index(key=ed_sort, inplace=True)\n",
    "education"
   ]
  },
  {
   "cell_type": "code",
   "execution_count": null,
   "id": "84ae9aa7-4ade-4014-8f6a-502745598e6d",
   "metadata": {
    "deletable": false,
    "editable": false
   },
   "outputs": [],
   "source": [
    "wqet_grader.grade(\"Project 7 Assessment\", \"Task 7.1.20\", education)\n"
   ]
  },
  {
   "cell_type": "markdown",
   "id": "820af5a8-5af8-4ed1-93fc-a725baaa719a",
   "metadata": {
    "deletable": false,
    "editable": false
   },
   "source": [
    "Now we can make a bar chart showing the educational attainment of the applicants. Make sure the levels are sorted correctly!"
   ]
  },
  {
   "cell_type": "code",
   "execution_count": null,
   "id": "b0789165-0cfe-4e86-97a3-2833451d2ca8",
   "metadata": {
    "deletable": false,
    "editable": false,
    "init_cell": true
   },
   "outputs": [],
   "source": [
    "VimeoVideo(\"733360047\", h=\"b17fffc11b\", width=600)"
   ]
  },
  {
   "cell_type": "markdown",
   "id": "9a059634-2f94-4d7f-bceb-d9f1ac35ecc6",
   "metadata": {
    "deletable": false,
    "editable": false
   },
   "source": [
    "**Task 7.1.21:** Create a function `build_ed_bar` that returns a plotly horizontal bar chart of `education`. Be sure to label your x-axis `\"Frequency [count]\"`, y-axis `\"Highest Degree Earned\"`, and use the title `\"DS Applicant Education Levels\"`.\n",
    "\n",
    "- [What's a bar chart?](../%40textbook/08-visualization-plotly.ipynb#Bar-Chart)\n",
    "- [Create a bar chart using plotly express.](../%40textbook/08-visualization-plotly.ipynb#Bar-Chart)"
   ]
  },
  {
   "cell_type": "code",
   "execution_count": null,
   "id": "5bb18be2-c9cf-4223-b081-f82c385a1fe0",
   "metadata": {
    "deletable": false
   },
   "outputs": [],
   "source": [
    "def build_ed_bar():\n",
    "    # Create bar chart\n",
    "    fig = ...\n",
    "    # Add axis labels\n",
    "    \n",
    "    return fig\n",
    "\n",
    "\n",
    "ed_fig = build_ed_bar()\n",
    "print(\"ed_fig type:\", type(ed_fig))\n",
    "ed_fig.show()"
   ]
  },
  {
   "cell_type": "markdown",
   "id": "fc375d1f",
   "metadata": {
    "deletable": false,
    "editable": false
   },
   "source": [
    "---\n",
    "Copyright 2023 WorldQuant University. This\n",
    "content is licensed solely for personal use. Redistribution or\n",
    "publication of this material is strictly prohibited.\n"
   ]
  }
 ],
 "metadata": {
  "kernelspec": {
   "display_name": "Python 3 (ipykernel)",
   "language": "python",
   "name": "python3"
  },
  "language_info": {
   "codemirror_mode": {
    "name": "ipython",
    "version": 3
   },
   "file_extension": ".py",
   "mimetype": "text/x-python",
   "name": "python",
   "nbconvert_exporter": "python",
   "pygments_lexer": "ipython3",
   "version": "3.9.6"
  }
 },
 "nbformat": 4,
 "nbformat_minor": 5
}
