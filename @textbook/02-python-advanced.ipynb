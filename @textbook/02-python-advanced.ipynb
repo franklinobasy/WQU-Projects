{
 "cells": [
  {
   "cell_type": "markdown",
   "id": "a2b43b5f",
   "metadata": {
    "deletable": false,
    "editable": false
   },
   "source": [
    "\n",
    "<div class=\"alert alert-info\" role=\"alert\">\n",
    "  <p>\n",
    "    <center><b>Usage Guidelines</b></center>\n",
    "  </p>\n",
    "\n",
    "  <p>\n",
    "    This lesson is part of the <b>DS Lab core curriculum</b>. For that reason, this notebook can only be used on your WQU virtual machine.\n",
    "  </p>\n",
    "\n",
    "  <p>\n",
    "    This means:\n",
    "    <ul>\n",
    "      <li><span style=\"color: red\">ⓧ</span> No downloading this notebook.</li>\n",
    "      <li><span style=\"color: red\">ⓧ</span> No re-sharing of this notebook with friends or colleagues.</li>\n",
    "      <li><span style=\"color: red\">ⓧ</span> No downloading the embedded videos in this notebook.</li>\n",
    "      <li><span style=\"color: red\">ⓧ</span> No re-sharing embedded videos with friends or colleagues.</li>\n",
    "      <li><span style=\"color: red\">ⓧ</span> No adding this notebook to public or private repositories.</li>\n",
    "      <li><span style=\"color: red\">ⓧ</span> No uploading this notebook (or screenshots of it) to other websites, including websites for study resources.</li>\n",
    "    </ul>\n",
    "\n",
    "  </p>\n",
    "</div>\n"
   ]
  },
  {
   "cell_type": "markdown",
   "id": "b4de86de-bddb-4ee8-ab92-707de72fbaf7",
   "metadata": {
    "deletable": false,
    "editable": false
   },
   "source": [
    "<font size=\"+3\"><strong>Python: Advanced</strong></font>"
   ]
  },
  {
   "cell_type": "markdown",
   "id": "627d7757-7042-4dc1-82e5-be2b4aab44a5",
   "metadata": {
    "deletable": false,
    "editable": false
   },
   "source": [
    "# Strings"
   ]
  },
  {
   "cell_type": "markdown",
   "id": "2b077a6d-6c8d-40fe-bb54-f81b93759051",
   "metadata": {
    "deletable": false,
    "editable": false
   },
   "source": [
    "## What's a string? <a id='whats-a-string'></a>\n",
    "\n",
    "Recall that a `string` is any kind of information that can be represented with letters."
   ]
  },
  {
   "cell_type": "markdown",
   "id": "dd37770a-8f2c-419c-8107-aa233ca12192",
   "metadata": {
    "deletable": false,
    "editable": false
   },
   "source": [
    "## Working with strings <a id='working-with-strings'></a>\n",
    "\n",
    "When working with data, often files and directories have names that fit a pattern. For example, data on property prices in Colombia and Mexico might be stored in files named:\n",
    "\n",
    "1. `colombia-real-estate-1.csv`\n",
    "2. `colombia-real-estate-2.csv`\n",
    "3. `colombia-real-estate-3.csv`\n",
    "4. `mexico-city-real-estate-1.csv`\n",
    "5. `mexico-city-real-estate-2.csv`\n",
    "6. `mexico-city-real-estate-3.csv`\n",
    "7. `mexico-city-real-estate-4.csv`\n",
    "8. `mexico-city-real-estate-5.csv`\n",
    "9. `mexico-city-test-features.csv`\n",
    "10. `mexico-city-test-labels.csv`\n",
    "\n",
    "When the list of files is short like this one, it's not difficult to find the ones we want, but if the list were longer, we might need some help. If we're only interested in finding files that deal with Mexico, we could search the files for files beginning with `mexico-city-real-estate-`. To do this, we'll use the `.glob` function. The code looks like this:"
   ]
  },
  {
   "cell_type": "code",
   "execution_count": null,
   "id": "9acd98ab-db08-45a3-a70d-04426742ed86",
   "metadata": {
    "deletable": false
   },
   "outputs": [],
   "source": [
    "import glob\n",
    "\n",
    "glob.glob(\"./data/mexico-city-real-estate-[0-9].csv\")"
   ]
  },
  {
   "cell_type": "markdown",
   "id": "2127f5fa-8bc2-4d61-9c09-df4b331ffb6a",
   "metadata": {
    "deletable": false,
    "editable": false
   },
   "source": [
    "The `.glob` function allows for pattern matching. In this example `[0-9]` allows for any digit between 0 and 9, but there are lots of other patterns that `.glob` can find. Here are a few of the more common ones:\n",
    "- `*` Match any number of characters\n",
    "- `?` Match a single character of any kind\n",
    "- `[a-z]` Match any lower case alphabetical character in the current locale\n",
    "- `[A-Z]` Match any upper case alphabetical character in the current locale\n",
    "- `[!a-z]` Do not match any lower case alphabetical character in the current locale\n",
    "\n",
    "So, if we wanted to find all the files from Mexico City, we would use code like this:"
   ]
  },
  {
   "cell_type": "code",
   "execution_count": null,
   "id": "1eeeb8c5-3d24-41b7-8c16-ef2b2e7e0e06",
   "metadata": {
    "deletable": false
   },
   "outputs": [],
   "source": [
    "glob.glob(\"./data/mexico-city*\")"
   ]
  },
  {
   "cell_type": "markdown",
   "id": "e160575a-30ef-42e0-b984-a6f3e8c16054",
   "metadata": {
    "deletable": false,
    "editable": false
   },
   "source": [
    "<font size=\"+1\">Practice</font> \n",
    "\n",
    "Try it yourself! Find only the data files containing the word `test`."
   ]
  },
  {
   "cell_type": "code",
   "execution_count": null,
   "id": "042cd7c0-5acf-4d40-a118-4d6779a4adb8",
   "metadata": {
    "deletable": false
   },
   "outputs": [],
   "source": []
  },
  {
   "cell_type": "markdown",
   "id": "85ff41ad-210d-495f-b700-154b2bd58fee",
   "metadata": {
    "deletable": false,
    "editable": false
   },
   "source": [
    "So far, you have only searched for files in one specific directory. It's also possible to search for files in subdirectories. To get a listing of all notebook files starting from the directory above this one and all others below it, you can use:"
   ]
  },
  {
   "cell_type": "code",
   "execution_count": null,
   "id": "0dc0883e-6f93-4c80-a192-ea5d493b2bf0",
   "metadata": {
    "deletable": false
   },
   "outputs": [],
   "source": [
    "glob.glob(\"../**/*.ipynb\", recursive=True)"
   ]
  },
  {
   "cell_type": "markdown",
   "id": "13502f02-c4a1-437f-a00c-8d2d219df4c7",
   "metadata": {
    "deletable": false,
    "editable": false
   },
   "source": [
    "## Manipulating Strings"
   ]
  },
  {
   "cell_type": "markdown",
   "id": "f7d89fd2-7207-4f16-9f5e-155c6d8370f4",
   "metadata": {
    "deletable": false,
    "editable": false
   },
   "source": [
    "We can `split` a string on a specific character, transforming it into a list:"
   ]
  },
  {
   "cell_type": "code",
   "execution_count": null,
   "id": "8f387020-11b6-4283-a112-02e89c1efd88",
   "metadata": {
    "deletable": false
   },
   "outputs": [],
   "source": [
    "file_name = \"mexico-city-real-estate-1\"\n",
    "file_name.split(\"-\")"
   ]
  },
  {
   "cell_type": "markdown",
   "id": "05cf0888-8d5c-4d4b-ba2a-f49206eff271",
   "metadata": {
    "deletable": false,
    "editable": false
   },
   "source": [
    "This can be useful for a set of strings with similar naming conventions for us to access specific information. For example, we can collect the digit as the file number in the string:"
   ]
  },
  {
   "cell_type": "code",
   "execution_count": null,
   "id": "fb287b8b-8179-465c-9d67-599b9e25b049",
   "metadata": {
    "deletable": false
   },
   "outputs": [],
   "source": [
    "file_name_number = file_name.split(\"-\")[-1]\n",
    "file_name_number"
   ]
  },
  {
   "cell_type": "markdown",
   "id": "cf17d942-ad1e-4540-a7a5-e28bf21d0b78",
   "metadata": {
    "deletable": false,
    "editable": false
   },
   "source": [
    "Another useful function to manipulate a string is `replace`. We can use it to replace any element in the string with another item. Note we put what we what to replace in the front and what we replace it with in the back:"
   ]
  },
  {
   "cell_type": "code",
   "execution_count": null,
   "id": "21340248-0cca-478d-ac3e-01d54599a465",
   "metadata": {
    "deletable": false
   },
   "outputs": [],
   "source": [
    "file_name = \"mexico-city-real-estate-1\"\n",
    "\n",
    "modified_file_name = file_name.replace(\"-\", \"_\")\n",
    "\n",
    "modified_file_name"
   ]
  },
  {
   "cell_type": "markdown",
   "id": "94754b8d-ebf7-4988-a242-be7a412dbcf3",
   "metadata": {
    "deletable": false,
    "editable": false
   },
   "source": [
    "<font size=\"+1\">Practice</font>  \n",
    "\n",
    "Change `\"mexico-city-real-estate-1\"` to `\"mexico-city-real-estate\"` using replace. **Hint:** To delete a character, we can replace it with an empty string (`\"\"`)."
   ]
  },
  {
   "cell_type": "code",
   "execution_count": null,
   "id": "f7e897fc-6f4a-482f-b0cf-7a558099d313",
   "metadata": {
    "deletable": false
   },
   "outputs": [],
   "source": [
    "file_name = \"mexico-city-real-estate-1\"\n",
    "\n",
    "modified_file_name = ...\n",
    "\n",
    "modified_file_name"
   ]
  },
  {
   "cell_type": "markdown",
   "id": "d3e7ac22-c9d9-41c9-a0e2-fa8591a49270",
   "metadata": {
    "deletable": false,
    "editable": false
   },
   "source": [
    "## Working with f-strings <a id='working-with-f-strings'></a>"
   ]
  },
  {
   "cell_type": "markdown",
   "id": "6f0bdd6a-4c46-4016-ab9f-3af69b31a849",
   "metadata": {
    "deletable": false,
    "editable": false
   },
   "source": [
    "We usually use `print` to examine output in Python, but most of the examples we've been printing have been relatively short. Formatted strings are helpful for all sorts of reasons, but when we're assembling and formatting a long string, using the `print` function can be difficult and time-consuming. Along the same lines, it's also useful to directly evaluate variables and expressions within strings. To do those things, we create `f\"\"` strings. The code looks like this:"
   ]
  },
  {
   "cell_type": "code",
   "execution_count": null,
   "id": "f0a1a423-5eec-4557-989d-684011b8fff1",
   "metadata": {
    "deletable": false
   },
   "outputs": [],
   "source": [
    "Home = \"Mexico City\"\n",
    "f\"My home is {Home}\""
   ]
  },
  {
   "cell_type": "code",
   "execution_count": null,
   "id": "6f691408-1e4c-4a87-b581-1321891fb59c",
   "metadata": {
    "deletable": false
   },
   "outputs": [],
   "source": [
    "import datetime\n",
    "\n",
    "python_birthday = datetime.datetime(year=1991, month=2, day=20)\n",
    "print(\n",
    "    f\"Python first appeared on {python_birthday:%B %d} in the year {python_birthday:%Y}.\"\n",
    ")\n",
    "\n",
    "now = datetime.datetime.now()\n",
    "print(f\"Python is {now.year - python_birthday.year} years old.\")"
   ]
  },
  {
   "cell_type": "markdown",
   "id": "dd2b73b3-3f7e-4796-b854-46a2cb722156",
   "metadata": {
    "deletable": false,
    "editable": false
   },
   "source": [
    "<font size=\"+1\">Practice</font>  \n",
    "\n",
    "Mexico-Tenochtitlan was established on 13 March 1325; use f-strings to indicate how long ago that was."
   ]
  },
  {
   "cell_type": "code",
   "execution_count": null,
   "id": "40ea7799-f0ad-4e2b-8bca-4f72de72705e",
   "metadata": {
    "deletable": false
   },
   "outputs": [],
   "source": [
    "mexico_founding = ...\n",
    "now = datetime.datetime.now()\n",
    "\n",
    "f\"Mexico-Tenochtitlan was established {... - ...} years ago.\""
   ]
  },
  {
   "cell_type": "markdown",
   "id": "02f0c5fb-ed4d-497a-ab08-15be462972af",
   "metadata": {
    "deletable": false,
    "editable": false
   },
   "source": [
    "*Sources and further reading* \n",
    "- [Online tutorial on finding list lengths in Python](https://www.w3schools.com/python/gloss_python_list_length.asp)\n",
    "- [Official python documentation on the `len` function](https://docs.python.org/3/library/functions.html?#len)"
   ]
  },
  {
   "cell_type": "markdown",
   "id": "3520afc8-9493-44c2-9044-55142e71c2f2",
   "metadata": {
    "deletable": false,
    "editable": false
   },
   "source": [
    "# Iterators and Iterables "
   ]
  },
  {
   "cell_type": "markdown",
   "id": "9c29c76a-289f-48b1-b18c-9b30164cf6b3",
   "metadata": {
    "deletable": false,
    "editable": false
   },
   "source": [
    "A list is a container with a countable number of values. Because that's true, a list is an **iterable**, meaning that we can **iterate** through it one item at a time. In other words, iterators retrieve these values only when we ask for them. If we try to bring in a large database — over a million values, for example — asking for every action to be applied to every value will take up a huge amount of memory. Iterators are helpful because they allow us to free up memory to use for other tasks. We'll spend more time working with databases later on, but for now, let's take a look at some code:"
   ]
  },
  {
   "cell_type": "code",
   "execution_count": null,
   "id": "570e6adf-ac29-41e4-8b01-5ef53eea927f",
   "metadata": {
    "deletable": false
   },
   "outputs": [],
   "source": [
    "from pymongo import MongoClient\n",
    "\n",
    "client = MongoClient(host=\"localhost\", port=27017)\n",
    "\n",
    "(list(client.list_databases()))"
   ]
  },
  {
   "cell_type": "markdown",
   "id": "137a1d52-3165-42aa-8fb1-3e037dee4791",
   "metadata": {
    "deletable": false,
    "editable": false
   },
   "source": [
    "Setting aside the first two lines of code, we have a method which has returned a list of four databases. If we want to examine each database by itself, we can create a variable called `results`, and then try to print it."
   ]
  },
  {
   "cell_type": "code",
   "execution_count": null,
   "id": "39a64650-d38e-4e8f-8eab-9a191635451d",
   "metadata": {
    "deletable": false
   },
   "outputs": [],
   "source": [
    "results = client.list_databases()\n",
    "print((results))"
   ]
  },
  {
   "cell_type": "markdown",
   "id": "7ce6e7d0-e9f1-4832-9a8d-4a79f0c57ba3",
   "metadata": {
    "deletable": false,
    "editable": false
   },
   "source": [
    "That doesn't seem like much of anything, but if we add the **iterator** `next()`, we'll get back something more useful."
   ]
  },
  {
   "cell_type": "code",
   "execution_count": null,
   "id": "c24fb28b-2599-40be-b474-6d21a1e65e28",
   "metadata": {
    "deletable": false
   },
   "outputs": [],
   "source": [
    "print(next(results))"
   ]
  },
  {
   "cell_type": "markdown",
   "id": "38b9bc83-ecf1-4c1d-bae3-79f94f34c20c",
   "metadata": {
    "deletable": false,
    "editable": false
   },
   "source": [
    "That makes much more sense! As you can see, this returns the first row. If we do it again, we'll get the second row:"
   ]
  },
  {
   "cell_type": "code",
   "execution_count": null,
   "id": "578cb238-475f-40d6-ae75-a6f3e1efaf86",
   "metadata": {
    "deletable": false
   },
   "outputs": [],
   "source": [
    "print(next(results))"
   ]
  },
  {
   "cell_type": "markdown",
   "id": "c9e5e4fd-9c03-42ca-898a-3c63c4629f78",
   "metadata": {
    "deletable": false,
    "editable": false
   },
   "source": [
    "We can keep doing this until we get to the end of the list, at which point we'll get an error telling us that there's nothing left to print. Every time we use the `next()` method, we're using it as an iterator to iterate through our iterable."
   ]
  },
  {
   "cell_type": "markdown",
   "id": "1483bc88-8e02-4cf6-b2af-91e11d642818",
   "metadata": {
    "deletable": false,
    "editable": false
   },
   "source": [
    "## List Comprehension <a id='list-comprehension'></a>"
   ]
  },
  {
   "cell_type": "markdown",
   "id": "121f3a8f-46c8-4f24-ade7-b3615d240df3",
   "metadata": {
    "deletable": false,
    "editable": false
   },
   "source": [
    "List comprehension is used to iterate through lists without explicitly writing loops, which is especially useful for filtering data according to a specific condition.\n",
    "\n",
    "Let's take a look at a list that shows property prices in Mexican pesos."
   ]
  },
  {
   "cell_type": "code",
   "execution_count": null,
   "id": "ee6933ff-daf8-4420-b47e-b9f8d1f50a9c",
   "metadata": {
    "deletable": false
   },
   "outputs": [],
   "source": [
    "price_mexican_pesos = [\n",
    "    35000000.0,\n",
    "    2000000.0,\n",
    "    2700000.0,\n",
    "    6347000.0,\n",
    "    6994543.16,\n",
    "    6617835.61,\n",
    "    670000.0,\n",
    "]"
   ]
  },
  {
   "cell_type": "markdown",
   "id": "e76de839-7a0c-4e5a-a063-d44bd36a3b22",
   "metadata": {
    "deletable": false,
    "editable": false
   },
   "source": [
    "But maybe we're interested in comparing these prices to property values in Colombia. To do that, we'll need to figure out how to express the data on our list in Colombian pesos. We can use a `for` loop to make the conversion based on an exchange rate of 1 Mexican peso to 190 Colombian pesos. The code looks like this:"
   ]
  },
  {
   "cell_type": "code",
   "execution_count": null,
   "id": "842efa96-a944-41f0-8e6c-a992d2bf1cc7",
   "metadata": {
    "deletable": false
   },
   "outputs": [],
   "source": [
    "price_colombian_pesos = []\n",
    "for price in price_mexican_pesos:\n",
    "    price_colombian_pesos.append(price * 190)\n",
    "\n",
    "print(price_colombian_pesos)"
   ]
  },
  {
   "cell_type": "markdown",
   "id": "e0f177de-cbf6-4546-88d8-83f25b6581e7",
   "metadata": {
    "deletable": false,
    "editable": false
   },
   "source": [
    "But what if we could do the same thing, but using fewer lines? That's what `list comprehension` is for. The code looks like this:"
   ]
  },
  {
   "cell_type": "code",
   "execution_count": null,
   "id": "b433ea16-bab1-40a4-9249-79c00a9515d8",
   "metadata": {
    "deletable": false
   },
   "outputs": [],
   "source": [
    "price_colombian_pesos = [price * 190 for price in price_mexican_pesos]\n",
    "\n",
    "print(price_colombian_pesos)"
   ]
  },
  {
   "cell_type": "markdown",
   "id": "60188e4e-2b72-4103-ae3d-5ad898a31ef5",
   "metadata": {
    "deletable": false,
    "editable": false
   },
   "source": [
    "We can use list comprehension to find all the `house` entries in this list of properties, like this:"
   ]
  },
  {
   "cell_type": "code",
   "execution_count": null,
   "id": "6aa273d3-6a28-44f5-8309-efea9faae890",
   "metadata": {
    "deletable": false
   },
   "outputs": [],
   "source": [
    "records = [\n",
    "    'sell,apartment,|México|Distrito Federal|Benito Juárez|,\"19.384467,-99.135872\",1860000.0,MXN,1843173.75,97996.85,,70.0,,26571.42857142857',\n",
    "    'sell,apartment,|México|Distrito Federal|Iztapalapa|Cerro de La Estrella|,\"19.324123,-99.074132\",700000.0,MXN,693667.44,36880.53,,50.0,,14000.0',\n",
    "    'sell,house,|México|Distrito Federal|La Magdalena Contreras|San Jerónimo Lídice|,\"19.317653,-99.236291\",3350000.0,MXN,3319694.98,176499.72,,350.0,,9571.42857142857',\n",
    "    'sell,apartment,|México|Distrito Federal|Cuauhtémoc|,\"19.446313,-99.14006\",405108.0,MXN,401443.16,21343.71,,50.0,,8102.16',\n",
    "    'sell,house,|México|Distrito Federal|Coyoacán|,\"19.303906,-99.107812\",7200000.0,MXN,7134866.79,379342.68,,250.0,,28800.0',\n",
    "    'sell,apartment,|México|Distrito Federal|Benito Juárez|,\"19.374171,-99.181264\",2425000.0,MXN,2403062.73,127764.72,,96.0,,25260.416666666668',\n",
    "    'sell,apartment,|México|Distrito Federal|Tlalpan|,\"19.287428,-99.122283\",1250000.0,MXN,1238692.07,65858.1,,65.0,,19230.76923076923',\n",
    "    'sell,house,|México|Distrito Federal|Venustiano Carranza|,\"19.436436,-99.117256\",1362000.0,MXN,1349678.96,71758.99,,98.0,,13897.959183673467',\n",
    "    'sell,apartment,|México|Distrito Federal|Benito Juárez|,\"19.382429,-99.160199\",2250000.0,MXN,2229645.73,118544.58,,90.0,,25000.0',\n",
    "    'sell,house,|México|Distrito Federal|Tlalpan|Granjas Coapa|,\"19.300456,-99.115741\",3900000.0,MXN,3864719.42,205477.28,,153.0,,25490.19607843137',\n",
    "    'sell,apartment,|México|Distrito Federal|Álvaro Obregón|,\"19.363167,-99.276028\",9000000.0,MXN,8918583.49,474178.35,,188.0,,47872.34042553192',\n",
    "    'sell,house,|México|Distrito Federal|Coyoacán|Villa Coyoacán|,\"19.348694,-99.16291\",1150000.0,USD,21629775.0,1150000.0,,555.0,,2072.072072072072',\n",
    "    'sell,house,|México|Distrito Federal|Tlalpan|,\"19.300963,-99.144237\",7500000.0,MXN,7432152.81,395148.62,,385.0,,19480.51948051948',\n",
    "    'sell,house,|México|Distrito Federal|Coyoacán|Paseos de Taxqueña|,\"19.343979,-99.124863\",6310000.0,MXN,6252917.98,332451.71,,183.0,,34480.87431693989',\n",
    "    'sell,apartment,|México|Distrito Federal|Coyoacán|San Diego Churubusco|,\"19.354509,-99.149765\",10000000.0,MXN,9909537.15,526864.83,,293.0,,34129.69283276451',\n",
    "]"
   ]
  },
  {
   "cell_type": "code",
   "execution_count": null,
   "id": "3be5b7df-ccad-4f45-a28e-2440c0a0a2a3",
   "metadata": {
    "deletable": false
   },
   "outputs": [],
   "source": [
    "[row for row in records if \"house\" in row]"
   ]
  },
  {
   "cell_type": "markdown",
   "id": "3630c5a7-2f60-4e9b-82d3-c3b1e099a95c",
   "metadata": {
    "deletable": false,
    "editable": false
   },
   "source": [
    "<font size=\"+1\">Practice</font> \n",
    "\n",
    "Explore the list records in the list, and find all entries located in `Tlalpan`"
   ]
  },
  {
   "cell_type": "code",
   "execution_count": null,
   "id": "d7e7a2ed-d02d-4d87-9c84-21c9d7fdd231",
   "metadata": {
    "deletable": false
   },
   "outputs": [],
   "source": []
  },
  {
   "cell_type": "markdown",
   "id": "a9abc830-da04-4113-bdfa-45fee74067fc",
   "metadata": {
    "deletable": false,
    "editable": false
   },
   "source": [
    "# Functions"
   ]
  },
  {
   "cell_type": "markdown",
   "id": "a9d9e520-7f59-4ab9-becf-55ac60bbeef8",
   "metadata": {
    "deletable": false,
    "editable": false
   },
   "source": [
    "When we code in Python, we want to create **readable** programs. One of the easiest ways to make a program readable is by not repeating sections of code that do the same thing. We do that by using `functions`. For example, you might have surface area of a property in square meters, but you want to see it in square feet. Keeping in mind that one square meter = 10.76391 square feet, you can write a function that starts with the area in square meters, and gives as output the area in square feet. The code looks like this:"
   ]
  },
  {
   "cell_type": "code",
   "execution_count": null,
   "id": "854c10eb-0bc6-492a-937a-9084f11fd1b8",
   "metadata": {
    "deletable": false
   },
   "outputs": [],
   "source": [
    "def m2toft2(area_meter2):\n",
    "    area_feet2 = 10.76391 * area_meter2\n",
    "    return area_feet2"
   ]
  },
  {
   "cell_type": "markdown",
   "id": "bf3ecf31-7a2c-4197-83af-fe72b5d0b49c",
   "metadata": {
    "deletable": false,
    "editable": false
   },
   "source": [
    "The code above defines a function called `m2toft2` that takes in a single input, called `area_meters`, and returns a single output, called `area_feet`. Let's try another one:"
   ]
  },
  {
   "cell_type": "code",
   "execution_count": null,
   "id": "e33c5290-3292-4edc-a83a-08630fb2eb0b",
   "metadata": {
    "deletable": false
   },
   "outputs": [],
   "source": [
    "m2toft2(4)"
   ]
  },
  {
   "cell_type": "markdown",
   "id": "10bad97c-cc2c-4887-8719-6beb2c9ca0ab",
   "metadata": {
    "deletable": false,
    "editable": false
   },
   "source": [
    "A function by itself can be difficult to understand, so let's add some comments describing what the function does."
   ]
  },
  {
   "cell_type": "code",
   "execution_count": null,
   "id": "ee0ec254-eaf8-4911-bc43-46182589716c",
   "metadata": {
    "deletable": false
   },
   "outputs": [],
   "source": [
    "def m2toft2(area_meter2):\n",
    "    \"\"\"\n",
    "    This function takes in as input the area in meters squared\n",
    "    and returns as an output the area in square feet\n",
    "\n",
    "    input: area_meter2, the area in square meters\n",
    "    output: area_feet2, the area in square feet\n",
    "    \"\"\"\n",
    "    area_feet2 = 10.76391 * area_meter2\n",
    "    return area_feet2"
   ]
  },
  {
   "cell_type": "markdown",
   "id": "929fb0af-782e-49b7-9841-efa5bf22041f",
   "metadata": {
    "deletable": false,
    "editable": false
   },
   "source": [
    "This way, if you forget what `m2toft2` does, Python will be able to remind you, like this:"
   ]
  },
  {
   "cell_type": "code",
   "execution_count": null,
   "id": "819ce298-8673-4394-9797-4c5b25e2701a",
   "metadata": {
    "deletable": false
   },
   "outputs": [],
   "source": [
    "help(m2toft2)"
   ]
  },
  {
   "cell_type": "markdown",
   "id": "22fb5c16-9304-4d66-9213-df7533f7757f",
   "metadata": {
    "deletable": false,
    "editable": false
   },
   "source": [
    "This can be especially useful for large programs with lots of functions, some of which might have multiple arguments. For example, a function might take a list of areas of properties in square meters and a list of prices per square meter, and return lists with area in square feet and price per square foot. That function would look like this:"
   ]
  },
  {
   "cell_type": "code",
   "execution_count": null,
   "id": "9f3f1c43-c225-4d95-ab79-c61d42d14945",
   "metadata": {
    "deletable": false
   },
   "outputs": [],
   "source": [
    "def convert_area(area_meters2):\n",
    "    \"\"\"\n",
    "    This function takes in a list of area in square meters and\n",
    "    returns area in square feet\n",
    "\n",
    "    input: area_meters2, area in square meters\n",
    "    output: area_feet, area in square feet\n",
    "    \"\"\"\n",
    "    area_feet2 = [item * 10.76391 for item in area_meters2]\n",
    "    return area_feet2"
   ]
  },
  {
   "cell_type": "markdown",
   "id": "63f083dd-d426-42a9-bc2c-2402936cfd61",
   "metadata": {
    "deletable": false,
    "editable": false
   },
   "source": [
    "Let's try it and see what happens:"
   ]
  },
  {
   "cell_type": "code",
   "execution_count": null,
   "id": "634d6140-5155-437f-b17b-f1a1490b1126",
   "metadata": {
    "deletable": false
   },
   "outputs": [],
   "source": [
    "surface_total_in_m2 = [1860000.0, 700000.0, 3350000.0]"
   ]
  },
  {
   "cell_type": "code",
   "execution_count": null,
   "id": "b8b33fe5-c34b-4066-87c2-ba47fab8a834",
   "metadata": {
    "deletable": false
   },
   "outputs": [],
   "source": [
    "surface_total_in_ft2 = convert_area(surface_total_in_m2)"
   ]
  },
  {
   "cell_type": "code",
   "execution_count": null,
   "id": "43f10940-fab5-4e2a-970a-d50b0cf3e48d",
   "metadata": {
    "deletable": false
   },
   "outputs": [],
   "source": [
    "print(surface_total_in_ft2)"
   ]
  },
  {
   "cell_type": "markdown",
   "id": "d1f0d95a-f9aa-47c5-8db4-a5108a623301",
   "metadata": {
    "deletable": false,
    "editable": false
   },
   "source": [
    "<font size=\"+1\">Practice</font> \n",
    "\n",
    "Python comes with many predefined functions. Try this one:"
   ]
  },
  {
   "cell_type": "code",
   "execution_count": null,
   "id": "957772de-c4b1-45b1-9d48-c51228d864f7",
   "metadata": {
    "deletable": false
   },
   "outputs": [],
   "source": [
    "help(max)"
   ]
  },
  {
   "cell_type": "markdown",
   "id": "6db11c9f-fdc5-4fa8-984a-22861339aa70",
   "metadata": {
    "deletable": false,
    "editable": false
   },
   "source": [
    "Now write a function that returns the greatest per-unit-area property price for a list of property prices per-unit-area, and then use your function for the list `price_usd_per_m2`."
   ]
  },
  {
   "cell_type": "code",
   "execution_count": null,
   "id": "a5486d57-2ef9-4f12-ad82-a9b31d7c8fd8",
   "metadata": {
    "deletable": false
   },
   "outputs": [],
   "source": [
    "price_usd_per_m2 = [97996.85, 36880.53, 176499.72]"
   ]
  },
  {
   "cell_type": "code",
   "execution_count": null,
   "id": "ee510772-f299-4e14-9453-022826b92f91",
   "metadata": {
    "deletable": false
   },
   "outputs": [],
   "source": [
    "def find_max_price_per_area(price_per_meter2):\n",
    "    \"\"\"Find the most expensive price per unit areas given a list\n",
    "\n",
    "    Parameters\n",
    "    ----------\n",
    "    price_per_meter : list of int\n",
    "        List with price per unit area of each property\n",
    "\n",
    "    Returns\n",
    "    -------\n",
    "    the price of the most expensive property per unit area\n",
    "    \"\"\"\n",
    "    \n",
    "    return ...\n",
    "\n",
    "\n",
    "find_max_price_per_area(price_usd_per_m2)"
   ]
  },
  {
   "cell_type": "markdown",
   "id": "704c11ec-82d0-4eaf-b863-14add3a5b51e",
   "metadata": {
    "deletable": false,
    "editable": false
   },
   "source": [
    "<font size=\"+1\">Practice</font> \n",
    "\n",
    "The previous example does not extend the max function that is in Python.  Keeping in mind that list comprehensions can be used to iterate through lists, use list comprehension or loops to write a function which, given a list of property areas and a corresponding list of property prices per unit area, returns the total price of the most expensive property."
   ]
  },
  {
   "cell_type": "code",
   "execution_count": null,
   "id": "8698d5e0-4641-4a75-9be6-03dfe39a5fb3",
   "metadata": {
    "deletable": false
   },
   "outputs": [],
   "source": [
    "def find_max_price(area_meter2, price_per_meter2):\n",
    "    \"\"\"\n",
    "    Given two lists, the first with areas of properties\n",
    "    and the second with price per unit area, this function\n",
    "    returns the most expensive property using list comprehension\n",
    "\n",
    "    input: area_meter2, list with the total area of each property\n",
    "    input: price_per_meter2, list with price per unit area of each property\n",
    "    output: the price of the most expensive property\n",
    "    \"\"\"\n",
    "    \n",
    "    return ...\n",
    "\n",
    "\n",
    "find_max_price(surface_total_in_m2, price_usd_per_m2)"
   ]
  },
  {
   "cell_type": "markdown",
   "id": "4305593d-4a46-45d0-8749-32fcbd9b0b3e",
   "metadata": {
    "deletable": false,
    "editable": false
   },
   "source": [
    "## Lambda Functions <a id='lambda-functions'></a>"
   ]
  },
  {
   "cell_type": "markdown",
   "id": "0fcba715-050c-43c7-a74b-724edb5cc438",
   "metadata": {
    "deletable": false,
    "editable": false
   },
   "source": [
    "The function definitions we've been working with so far are fine for most purposes, but they can easily become a little long. When that happens, you might want to use a shorter method to expressing a function; that's what `lambda` functions are for. Here's code for a function which adds 3 to a number."
   ]
  },
  {
   "cell_type": "code",
   "execution_count": null,
   "id": "07bafcbd-d90e-4658-96f1-a915f4b699a8",
   "metadata": {
    "deletable": false
   },
   "outputs": [],
   "source": [
    "add_three = lambda a: a + 3  # noqa: E731"
   ]
  },
  {
   "cell_type": "markdown",
   "id": "b3c31c3c-e0f9-4e5e-a84d-19e2c43f2b6e",
   "metadata": {
    "deletable": false,
    "editable": false
   },
   "source": [
    "Now that we've defined our function, let's try it out. If we wanted the function to add 3 to 5, the code would look like this: "
   ]
  },
  {
   "cell_type": "code",
   "execution_count": null,
   "id": "9acd3597-ba11-48da-a994-efe3f52d8a22",
   "metadata": {
    "deletable": false
   },
   "outputs": [],
   "source": [
    "add_three(5)"
   ]
  },
  {
   "cell_type": "markdown",
   "id": "185ef0c6-acf1-4efa-b8d9-d3d32b138b11",
   "metadata": {
    "deletable": false,
    "editable": false
   },
   "source": [
    "<font size=\"+1\">Practice</font>\n",
    "\n",
    "Try it yourself! Write a lambda function called `sub_4` which will subtract 4 from a given number, and then try it out with the number 7."
   ]
  },
  {
   "cell_type": "code",
   "execution_count": null,
   "id": "d9eb3468-1996-4708-a55f-93e9efc05e3e",
   "metadata": {
    "deletable": false,
    "tags": []
   },
   "outputs": [],
   "source": [
    "sub_4 = lambda a: a - 4  # noqa: E731\n"
   ]
  },
  {
   "cell_type": "markdown",
   "id": "212cdf3c-1418-4fab-9287-f0e8d56f3ab7",
   "metadata": {
    "deletable": false,
    "editable": false
   },
   "source": [
    "# Working with Errors"
   ]
  },
  {
   "cell_type": "markdown",
   "id": "4c8c547c-daeb-4f23-8a27-40f2cc8974f5",
   "metadata": {
    "deletable": false,
    "editable": false
   },
   "source": [
    "## Error Handling"
   ]
  },
  {
   "cell_type": "markdown",
   "id": "360b384e-d9f0-4663-8eae-4a791fe77739",
   "metadata": {
    "deletable": false,
    "editable": false
   },
   "source": [
    "Error handling is a very important part of coding. It will make sure our code runs smoothly even with edge cases. `try` and `except` are the syntax we use in error handling. Let's create a function to demonstrate how this works. \n",
    "\n",
    "We start with a function that calculates the quotient of two numbers. There are two inputs of the function: `nominator` and `denominator`. The function works only when:\n",
    "\n",
    "* both inputs are numerical numbers\n",
    "* the denominator is not zero\n",
    "\n",
    "We can use `try` and `except` to make sure the function runs smoothly even with error inputs."
   ]
  },
  {
   "cell_type": "code",
   "execution_count": null,
   "id": "686d8133-1f23-4040-8597-2d879478be97",
   "metadata": {
    "deletable": false
   },
   "outputs": [],
   "source": [
    "def get_quotient(nominator, denominator):\n",
    "    try:\n",
    "        quotient = nominator / denominator\n",
    "        return quotient\n",
    "    except:  # noQA E722\n",
    "        return print(\"function not working\")"
   ]
  },
  {
   "cell_type": "markdown",
   "id": "8e25bd32-ce61-41c0-9df2-8dd6254b8ed1",
   "metadata": {
    "deletable": false,
    "editable": false
   },
   "source": [
    "The function will return the quotient as long as there are no errors."
   ]
  },
  {
   "cell_type": "code",
   "execution_count": null,
   "id": "09dd7b8f-30d9-4e6f-997e-06b803568150",
   "metadata": {
    "deletable": false
   },
   "outputs": [],
   "source": [
    "get_quotient(1, 2)"
   ]
  },
  {
   "cell_type": "markdown",
   "id": "169d32e6-16c0-468e-8994-f4936c0acb3c",
   "metadata": {
    "deletable": false,
    "editable": false
   },
   "source": [
    "The function will go the `except` section and print a message when inputs are wrong:"
   ]
  },
  {
   "cell_type": "code",
   "execution_count": null,
   "id": "5f24e618-cf6b-4df2-ac77-acc44b1289ff",
   "metadata": {
    "deletable": false
   },
   "outputs": [],
   "source": [
    "get_quotient(1, 0)"
   ]
  },
  {
   "cell_type": "markdown",
   "id": "87011122-34cf-4315-9002-2a7de3e1afd8",
   "metadata": {
    "deletable": false,
    "editable": false
   },
   "source": [
    "## Raising Errors"
   ]
  },
  {
   "cell_type": "markdown",
   "id": "5b269141-e661-4a39-9ed5-f8957d3fd8ba",
   "metadata": {
    "deletable": false,
    "editable": false
   },
   "source": [
    "Even though the previous function can handle the errors, it doesn't tell us what is the error causing the issue. In this case, we can print out the error message:"
   ]
  },
  {
   "cell_type": "code",
   "execution_count": null,
   "id": "9812b160-3b0a-4ea7-b180-59c0e8dab0c8",
   "metadata": {
    "deletable": false
   },
   "outputs": [],
   "source": [
    "def get_quotient(nominator, denominator):\n",
    "    try:\n",
    "        quotient = nominator / denominator\n",
    "        return quotient\n",
    "    except Exception as e:\n",
    "        return print(e)"
   ]
  },
  {
   "cell_type": "markdown",
   "id": "1b287399-0ad7-4416-841f-3736ab149310",
   "metadata": {
    "deletable": false,
    "editable": false
   },
   "source": [
    "Now we can see the error message when denominator is zero:"
   ]
  },
  {
   "cell_type": "code",
   "execution_count": null,
   "id": "f2a44bc0-4396-4ec8-b9c0-471eee90913b",
   "metadata": {
    "deletable": false
   },
   "outputs": [],
   "source": [
    "get_quotient(1, 0)"
   ]
  },
  {
   "cell_type": "markdown",
   "id": "b0afda10-a9fc-4deb-b889-54845e01242e",
   "metadata": {
    "deletable": false,
    "editable": false
   },
   "source": [
    "And the error message when inputs are not numerical:"
   ]
  },
  {
   "cell_type": "code",
   "execution_count": null,
   "id": "eac10350-5c66-4927-9999-f40e521def94",
   "metadata": {
    "deletable": false
   },
   "outputs": [],
   "source": [
    "get_quotient(1, \"0\")"
   ]
  },
  {
   "cell_type": "markdown",
   "id": "c44073b4-b9f5-46b3-a541-e28438c22791",
   "metadata": {
    "deletable": false,
    "editable": false
   },
   "source": [
    "<font size=\"+1\">Practice</font>\n",
    "\n",
    "Try it yourself! Rebuild the `find_max_price_per_area` function by adding error handling here, and make sure to raise errors when encounter one."
   ]
  },
  {
   "cell_type": "code",
   "execution_count": null,
   "id": "011f9bc7-9245-4b73-a7b4-7828e1771e04",
   "metadata": {
    "deletable": false
   },
   "outputs": [],
   "source": [
    "def find_max_price_per_area(price_per_meter2):\n",
    "    \"\"\"Find the most expensive price per unit areas given a list\n",
    "\n",
    "    Parameters\n",
    "    ----------\n",
    "    price_per_meter : list of int\n",
    "        List with price per unit area of each property\n",
    "\n",
    "    Returns\n",
    "    -------\n",
    "    the price of the most expensive property per unit area\n",
    "    \"\"\"\n",
    "\n",
    "    \n",
    "\n",
    "\n",
    "price_usd_per_m2 = [97996.85, 36880.53, 176499.72]\n",
    "find_max_price_per_area(price_usd_per_m2)"
   ]
  },
  {
   "cell_type": "code",
   "execution_count": null,
   "id": "2f30931a-4a6f-4d13-bd55-8be74b33fb83",
   "metadata": {
    "deletable": false
   },
   "outputs": [],
   "source": [
    "price_usd_per_m2 = [\"97996.85\", 36880.53, 176499.72]\n",
    "find_max_price_per_area(price_usd_per_m2)"
   ]
  },
  {
   "cell_type": "markdown",
   "id": "948007dc-3f72-4e8b-a6d1-5d0a03f5f77f",
   "metadata": {
    "deletable": false,
    "editable": false
   },
   "source": [
    "# Files"
   ]
  },
  {
   "cell_type": "markdown",
   "id": "257604ad-5809-428b-a695-2ba629adb30d",
   "metadata": {
    "deletable": false,
    "editable": false
   },
   "source": [
    "## Create files using Context Manager\n",
    "\n",
    "A **context manager** allows you to allocate and release resources precisely when you want to. The most widely used example of context managers is the `with` statement. Suppose you have two related operations which you would like to execute as a pair, with a block of code in between. Context managers allow you to do specifically that. For example:"
   ]
  },
  {
   "cell_type": "code",
   "execution_count": null,
   "id": "70dacdca-fd48-4674-a0de-196a422e8576",
   "metadata": {
    "deletable": false
   },
   "outputs": [],
   "source": [
    "with open(\"data/example.txt\", \"w\") as f:\n",
    "    f.write(\"Hello\")"
   ]
  },
  {
   "cell_type": "markdown",
   "id": "2e37a299-ec98-4d74-bff4-12e102adf666",
   "metadata": {
    "deletable": false,
    "editable": false
   },
   "source": [
    "The code above will create a file called `example.txt` inside the data directory, with only one line: `\"Hello\"`. We can add multiple lines to the file by adding the `/n` to separate the line."
   ]
  },
  {
   "cell_type": "code",
   "execution_count": null,
   "id": "79e74750-421e-41a3-8c65-c0edd5de23dd",
   "metadata": {
    "deletable": false
   },
   "outputs": [],
   "source": [
    "with open(\"data/example.txt\", \"w\") as f:\n",
    "    f.write(\"Hello\")\n",
    "    f.write(\"\\n\")\n",
    "    f.write(\"Hola\")"
   ]
  },
  {
   "cell_type": "markdown",
   "id": "bd6d8765-424f-42ed-8935-d67899530fe6",
   "metadata": {
    "deletable": false,
    "editable": false
   },
   "source": [
    "<font size=\"+1\">Practice</font>\n",
    "\n",
    "Create a `txt` file named `practice.txt` inside the `data` directory with three lines using context manager."
   ]
  },
  {
   "cell_type": "code",
   "execution_count": null,
   "id": "736e9190-8a57-4ee3-9637-597ca0b8541d",
   "metadata": {
    "deletable": false
   },
   "outputs": [],
   "source": []
  },
  {
   "cell_type": "markdown",
   "id": "eea8e784-d71d-4839-bfa3-069472db18fc",
   "metadata": {
    "deletable": false,
    "editable": false
   },
   "source": [
    "## Saving and Loading Files with joblib"
   ]
  },
  {
   "cell_type": "markdown",
   "id": "d091a38e-1558-4eb7-87ad-3a19ea92ae18",
   "metadata": {
    "deletable": false,
    "editable": false
   },
   "source": [
    "We can also use `joblib`'s `dump` and `load` functions to save and load data. Besides saving and loading data, we can also save and load trained models for later use. Let's say an example here. First, we import `joblib` and train a model for the iris dataset:"
   ]
  },
  {
   "cell_type": "code",
   "execution_count": null,
   "id": "ca8d24fb-870a-47e1-9f2c-ed31802b6a8f",
   "metadata": {
    "deletable": false
   },
   "outputs": [],
   "source": [
    "from joblib import dump, load\n",
    "from sklearn import datasets, svm\n",
    "\n",
    "iris = datasets.load_iris()\n",
    "X, y = iris.data, iris.target\n",
    "\n",
    "clf = svm.SVC()\n",
    "clf.fit(X, y)"
   ]
  },
  {
   "cell_type": "code",
   "execution_count": null,
   "id": "876e4819-34d5-4e39-988f-7cf648702b38",
   "metadata": {
    "deletable": false
   },
   "outputs": [],
   "source": [
    "# Saving model to a path\n",
    "\n",
    "dump(clf, \"data/trained_model.pkl\")"
   ]
  },
  {
   "cell_type": "code",
   "execution_count": null,
   "id": "45f79315-bb70-4618-96d2-12eaa8239560",
   "metadata": {
    "deletable": false
   },
   "outputs": [],
   "source": [
    "# Load data from a path and make predictions again\n",
    "\n",
    "model = load(\"data/trained_model.pkl\", mmap_mode=\"r\")\n",
    "\n",
    "model.predict(X)"
   ]
  },
  {
   "cell_type": "markdown",
   "id": "c19a4dfa-6f6b-41cd-a23b-ef8179aae5ad",
   "metadata": {
    "deletable": false,
    "editable": false
   },
   "source": [
    "# Working with Filepaths"
   ]
  },
  {
   "cell_type": "markdown",
   "id": "18628ecf-47c9-4a72-b191-ed3be19a037f",
   "metadata": {
    "deletable": false,
    "editable": false
   },
   "source": [
    "A **filepath** is a directory to a specific file. Python uses the `os` module to work with path names and access files in the local directory. Here are some common use cases of the `os` module:"
   ]
  },
  {
   "cell_type": "markdown",
   "id": "b65f30cd-fdc8-4f36-9620-e657363d9857",
   "metadata": {
    "deletable": false,
    "editable": false
   },
   "source": [
    "`os.getcwd()` points to the current working directory:"
   ]
  },
  {
   "cell_type": "code",
   "execution_count": null,
   "id": "f9addc5e-f347-4e0e-91b8-abc6aef3b1a0",
   "metadata": {
    "deletable": false
   },
   "outputs": [],
   "source": [
    "import os\n",
    "\n",
    "print(f\"Current working directory is at {os.getcwd()}\")"
   ]
  },
  {
   "cell_type": "markdown",
   "id": "c017f496-6b7f-43b7-b6ba-831c677deefd",
   "metadata": {
    "deletable": false,
    "editable": false
   },
   "source": [
    "Let's see the following functions with an example. The path name shows the directory to a file called `myfile.txt`:<span style='color: transparent; font-size:1%'>WQU WorldQuant University Applied Data Science Lab QQQQ</span>"
   ]
  },
  {
   "cell_type": "code",
   "execution_count": null,
   "id": "fdee760e-4463-4bfd-b0c3-19214c4b4b7c",
   "metadata": {
    "deletable": false
   },
   "outputs": [],
   "source": [
    "pathname = \"/home/jovyan/work/ds_curriculum/myfile.txt\""
   ]
  },
  {
   "cell_type": "markdown",
   "id": "ed01414d-7aa4-4a7c-8364-033cb9b2f44e",
   "metadata": {
    "deletable": false,
    "editable": false
   },
   "source": [
    "First, `os.path.abspath()` returns a path name to the path passed as the parameter to this function."
   ]
  },
  {
   "cell_type": "code",
   "execution_count": null,
   "id": "58759b5d-40cd-4489-aa43-aa7bfa77d535",
   "metadata": {
    "deletable": false
   },
   "outputs": [],
   "source": [
    "os.path.abspath(pathname)"
   ]
  },
  {
   "cell_type": "markdown",
   "id": "4084dc12-5799-422b-97fe-1f0c39c58927",
   "metadata": {
    "deletable": false,
    "editable": false
   },
   "source": [
    "If you only give a file name as the parameter, it will return a path with the current working directory and the file name:"
   ]
  },
  {
   "cell_type": "code",
   "execution_count": null,
   "id": "aea9245c-6f88-493f-bf3a-5657b75947fc",
   "metadata": {
    "deletable": false
   },
   "outputs": [],
   "source": [
    "filename = \"myfile.txt\"\n",
    "os.path.abspath(filename)"
   ]
  },
  {
   "cell_type": "markdown",
   "id": "e6815edd-763f-4478-9063-82bf59551a92",
   "metadata": {
    "deletable": false,
    "editable": false
   },
   "source": [
    "`os.path.dirname()` will leave the file name part, and only show the directory of a path name."
   ]
  },
  {
   "cell_type": "code",
   "execution_count": null,
   "id": "76f1523a-ed91-4b3b-b817-649336ea6f7f",
   "metadata": {
    "deletable": false
   },
   "outputs": [],
   "source": [
    "os.path.dirname(pathname)"
   ]
  },
  {
   "cell_type": "markdown",
   "id": "d4f4fbed-12c9-4c5c-bedc-fd94106b43de",
   "metadata": {
    "deletable": false,
    "editable": false
   },
   "source": [
    "On the other hand, `os.path.basename()` will only show the file name of a path name:"
   ]
  },
  {
   "cell_type": "code",
   "execution_count": null,
   "id": "02250fa0-0155-489e-81ab-9e4f3b93cf12",
   "metadata": {
    "deletable": false
   },
   "outputs": [],
   "source": [
    "os.path.basename(pathname)"
   ]
  },
  {
   "cell_type": "markdown",
   "id": "1e6127dd-603e-4b10-b20b-555368460b91",
   "metadata": {
    "deletable": false,
    "editable": false
   },
   "source": [
    "The `os.path.split()` function splits a full path name and returns a tuple containing the path and filename. The first part of the tuple is the path to the file, the second part is the file:"
   ]
  },
  {
   "cell_type": "code",
   "execution_count": null,
   "id": "8a6847fa-0336-4880-bb3e-d4a452c2d667",
   "metadata": {
    "deletable": false
   },
   "outputs": [],
   "source": [
    "os.path.split(pathname)"
   ]
  },
  {
   "cell_type": "markdown",
   "id": "f998297d-6f18-423d-aa19-f7712d8ba331",
   "metadata": {
    "deletable": false,
    "editable": false
   },
   "source": [
    "The `os.path.join()` function constructs a path name out of one or more partial path names. Note the function will add an extra slash to the path name before joining it to the filename."
   ]
  },
  {
   "cell_type": "code",
   "execution_count": null,
   "id": "8180c4b9-1712-454b-aa9f-c61bae12fd27",
   "metadata": {
    "deletable": false
   },
   "outputs": [],
   "source": [
    "print(os.path.join(\"/new_directory\", \"myfile.txt\"))"
   ]
  },
  {
   "cell_type": "markdown",
   "id": "f5c50b5a-3829-4aa7-9cfe-4d4953a9671c",
   "metadata": {
    "deletable": false,
    "editable": false
   },
   "source": [
    "# Testing Code"
   ]
  },
  {
   "cell_type": "markdown",
   "id": "d9617c79-6023-4976-b15a-ee25677a320f",
   "metadata": {
    "deletable": false,
    "editable": false
   },
   "source": [
    "Python has a very useful function `isinstance` that can be used to check the type of an object. The following example checks whether the object is an integer."
   ]
  },
  {
   "cell_type": "code",
   "execution_count": null,
   "id": "f918de1b-79b3-46f8-8eff-3930340f90f4",
   "metadata": {
    "deletable": false
   },
   "outputs": [],
   "source": [
    "isinstance(1, int)"
   ]
  },
  {
   "cell_type": "markdown",
   "id": "ffbb10e9-a591-4330-8d2e-cd13902d6d98",
   "metadata": {
    "deletable": false,
    "editable": false
   },
   "source": [
    "You can leverage the `any` and `all` function to apply conditions on multiple objects. For example, the following function checks whether any element of the `inputs` list is string:"
   ]
  },
  {
   "cell_type": "code",
   "execution_count": null,
   "id": "f74195ba-2e57-4696-86c3-1aa2fb4ca418",
   "metadata": {
    "deletable": false
   },
   "outputs": [],
   "source": [
    "inputs = [1, 2]\n",
    "\n",
    "isinstance(any(inputs), str)"
   ]
  },
  {
   "cell_type": "markdown",
   "id": "9c126c5a-f52a-48db-ad15-f9cced99e01d",
   "metadata": {
    "deletable": false,
    "editable": false
   },
   "source": [
    "Since they are all integers, the function returns False. The following function checks whether all elements in the `inputs` list are either integers or floats:"
   ]
  },
  {
   "cell_type": "code",
   "execution_count": null,
   "id": "90dee34c-d890-4c11-8025-7e705d94b596",
   "metadata": {
    "deletable": false
   },
   "outputs": [],
   "source": [
    "isinstance(all(inputs), (int, float))"
   ]
  },
  {
   "cell_type": "markdown",
   "id": "3eaa12ed-33aa-4428-b0ad-dfe89a830c30",
   "metadata": {
    "deletable": false,
    "editable": false
   },
   "source": [
    "You can add an `assert` function to your code to make sure you are using the right input data before you run the code:"
   ]
  },
  {
   "cell_type": "code",
   "execution_count": null,
   "id": "fc6aa630-540a-4de6-a80f-53f13ae68b9b",
   "metadata": {
    "deletable": false
   },
   "outputs": [],
   "source": [
    "assert isinstance(1, int)"
   ]
  },
  {
   "cell_type": "markdown",
   "id": "f6ca7c4a-10f3-44ec-97f8-e43c00348f7a",
   "metadata": {
    "deletable": false,
    "editable": false
   },
   "source": [
    "If the statement after `assert` is True, the code will continue and nothing will be produced. If `assert` is False, then it will throw an error. You will use the error to debug your code."
   ]
  },
  {
   "cell_type": "markdown",
   "id": "d4453ead-e808-4c0b-92c3-83da376afb27",
   "metadata": {
    "deletable": false,
    "editable": false
   },
   "source": [
    "We can modify the `get_quotient` functioning by adding `isinstance`:"
   ]
  },
  {
   "cell_type": "code",
   "execution_count": null,
   "id": "8a519414-7e8a-498c-b32a-b727c4826f21",
   "metadata": {
    "deletable": false
   },
   "outputs": [],
   "source": [
    "def get_quotient(nominator, denominator):\n",
    "    inputs = [nominator, denominator]\n",
    "    if isinstance(all(inputs), (int, float)):\n",
    "        quotient = nominator / denominator\n",
    "        return quotient\n",
    "    else:\n",
    "        return print(\"denominator cannot be zero\")"
   ]
  },
  {
   "cell_type": "markdown",
   "id": "4f42825a-764e-4a2d-b06f-d851652aa64a",
   "metadata": {
    "deletable": false,
    "editable": false
   },
   "source": [
    "Another function that is useful is `hasattr`, which checks what are the attributes for an object. The object can be a defined class, or a customized class. In the following example, I am checking whether the `str` class has the `isupper` and `isstring` attributes using `hasattr`. The function will return a boolean variable, either True or False:"
   ]
  },
  {
   "cell_type": "code",
   "execution_count": null,
   "id": "9f3f0f95-5744-49f0-9694-45309a6d3329",
   "metadata": {
    "deletable": false
   },
   "outputs": [],
   "source": [
    "print(\"string has isupper method: \", hasattr(str, \"isupper\"))\n",
    "print(\"string has isstring method: \", hasattr(str, \"isstring\"))"
   ]
  },
  {
   "cell_type": "code",
   "execution_count": null,
   "id": "6b048043-ba0b-4172-ae90-93fa2a68727a",
   "metadata": {
    "deletable": false
   },
   "outputs": [],
   "source": [
    "class Cat:\n",
    "    age = 3\n",
    "    name = \"Lily\"\n",
    "\n",
    "\n",
    "cat = Cat()\n",
    "\n",
    "hasattr(cat, \"age\")"
   ]
  },
  {
   "cell_type": "code",
   "execution_count": null,
   "id": "a0c893af-4f27-4350-a862-ef7cb58a4caf",
   "metadata": {
    "deletable": false
   },
   "outputs": [],
   "source": [
    "hasattr(cat, \"gender\")"
   ]
  },
  {
   "cell_type": "markdown",
   "id": "43f5016f-0552-420f-a9d9-eeda4ca1e23e",
   "metadata": {
    "deletable": false,
    "editable": false
   },
   "source": [
    "# References and Further Reading"
   ]
  },
  {
   "cell_type": "markdown",
   "id": "19d2e984-73d4-45df-ae57-835aec98210a",
   "metadata": {
    "deletable": false,
    "editable": false
   },
   "source": [
    "- [Context Manager](https://book.pythontips.com/en/latest/context_managers.html)"
   ]
  },
  {
   "cell_type": "markdown",
   "id": "839ef505",
   "metadata": {
    "deletable": false,
    "editable": false
   },
   "source": [
    "---\n",
    "Copyright 2023 WorldQuant University. This\n",
    "content is licensed solely for personal use. Redistribution or\n",
    "publication of this material is strictly prohibited.\n"
   ]
  }
 ],
 "metadata": {
  "kernelspec": {
   "display_name": "Python 3 (ipykernel)",
   "language": "python",
   "name": "python3"
  },
  "language_info": {
   "codemirror_mode": {
    "name": "ipython",
    "version": 3
   },
   "file_extension": ".py",
   "mimetype": "text/x-python",
   "name": "python",
   "nbconvert_exporter": "python",
   "pygments_lexer": "ipython3",
   "version": "3.9.6"
  }
 },
 "nbformat": 4,
 "nbformat_minor": 5
}
