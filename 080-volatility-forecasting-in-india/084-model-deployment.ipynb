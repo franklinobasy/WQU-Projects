{
 "cells": [
  {
   "cell_type": "markdown",
   "id": "05abc785",
   "metadata": {
    "deletable": false,
    "editable": false
   },
   "source": [
    "\n",
    "<div class=\"alert alert-info\" role=\"alert\">\n",
    "  <p>\n",
    "    <center><b>Usage Guidelines</b></center>\n",
    "  </p>\n",
    "\n",
    "  <p>\n",
    "    This lesson is part of the <b>DS Lab core curriculum</b>. For that reason, this notebook can only be used on your WQU virtual machine.\n",
    "  </p>\n",
    "\n",
    "  <p>\n",
    "    This means:\n",
    "    <ul>\n",
    "      <li><span style=\"color: red\">ⓧ</span> No downloading this notebook.</li>\n",
    "      <li><span style=\"color: red\">ⓧ</span> No re-sharing of this notebook with friends or colleagues.</li>\n",
    "      <li><span style=\"color: red\">ⓧ</span> No downloading the embedded videos in this notebook.</li>\n",
    "      <li><span style=\"color: red\">ⓧ</span> No re-sharing embedded videos with friends or colleagues.</li>\n",
    "      <li><span style=\"color: red\">ⓧ</span> No adding this notebook to public or private repositories.</li>\n",
    "      <li><span style=\"color: red\">ⓧ</span> No uploading this notebook (or screenshots of it) to other websites, including websites for study resources.</li>\n",
    "    </ul>\n",
    "\n",
    "  </p>\n",
    "</div>\n"
   ]
  },
  {
   "cell_type": "markdown",
   "id": "215c83eb-b91f-4f83-bb76-9325dfa73567",
   "metadata": {
    "deletable": false,
    "editable": false
   },
   "source": [
    "<font size=\"+3\"><strong>8.4. Model Deployment</strong></font>"
   ]
  },
  {
   "cell_type": "markdown",
   "id": "1b6c86c4-a444-4b87-a739-e4e4eb17f66f",
   "metadata": {
    "deletable": false,
    "editable": false
   },
   "source": [
    "Ready for deployment! Over the last three lessons, we've built all the pieces we need for our application. We have a module for getting and storing our data. We have the code to train our model and clean its predictions. In this lesson, we're going to put all those pieces together and deploy our model with an API that others can use to train their own models and predict volatility. We'll start by creating a `model` for all the code we created in the last lesson. Then we'll complete our `main` module, which will hold our FastAPI application with two paths: one for model training and one for prediction. Let's jump in!"
   ]
  },
  {
   "cell_type": "code",
   "execution_count": null,
   "id": "c7bb7093-1121-4333-967a-bc205b647c95",
   "metadata": {
    "deletable": false,
    "editable": false,
    "init_cell": true
   },
   "outputs": [],
   "source": [
    "%load_ext autoreload\n",
    "%autoreload 2\n",
    "\n",
    "import os\n",
    "import sqlite3\n",
    "from glob import glob\n",
    "\n",
    "import joblib\n",
    "import pandas as pd\n",
    "import requests\n",
    "import wqet_grader\n",
    "from arch.univariate.base import ARCHModelResult\n",
    "from config import settings\n",
    "from data import SQLRepository\n",
    "from IPython.display import VimeoVideo\n",
    "\n",
    "wqet_grader.init(\"Project 8 Assessment\")"
   ]
  },
  {
   "cell_type": "code",
   "execution_count": null,
   "id": "a5f2fc55-507b-401f-8dc8-e070eb2ba0d0",
   "metadata": {
    "deletable": false,
    "editable": false,
    "init_cell": true
   },
   "outputs": [],
   "source": [
    "VimeoVideo(\"772219745\", h=\"f3bfda20cd\", width=600)"
   ]
  },
  {
   "cell_type": "markdown",
   "id": "c2086d75-4525-4af3-a649-7e129a6b1679",
   "metadata": {
    "deletable": false,
    "editable": false
   },
   "source": [
    "# Model Module"
   ]
  },
  {
   "cell_type": "markdown",
   "id": "c62563bc-8cca-489a-b93e-373d83a9ac92",
   "metadata": {
    "deletable": false,
    "editable": false
   },
   "source": [
    "We created a lot of code in the last lesson to building, training, and making predictions with our GARCH(1,1) model. We want this code to be reusable, so let's put it in its own module.\n",
    "\n",
    "Let's start by instantiating a repository that we'll use for testing our module as we build."
   ]
  },
  {
   "cell_type": "code",
   "execution_count": null,
   "id": "b6340419-d760-4353-a21c-40ccfa774c63",
   "metadata": {
    "deletable": false,
    "editable": false,
    "init_cell": true
   },
   "outputs": [],
   "source": [
    "VimeoVideo(\"772219717\", h=\"8f1afa7919\", width=600)"
   ]
  },
  {
   "cell_type": "markdown",
   "id": "270de4f0-2f8b-41e2-9cb5-b324b130a22f",
   "metadata": {
    "deletable": false,
    "editable": false
   },
   "source": [
    "**Task 8.4.1:** Create a `SQLRepository` named `repo`. Be sure that it's attached to a SQLite connection.\n",
    "\n",
    "- [Open a connection to a SQL database using sqlite3.](../%40textbook/10-databases-sql.ipynb#sqlite3)"
   ]
  },
  {
   "cell_type": "code",
   "execution_count": null,
   "id": "58a0ee94-79d0-424f-b7ff-9253cc3443e8",
   "metadata": {
    "deletable": false
   },
   "outputs": [],
   "source": [
    "connection = ...\n",
    "repo = ...\n",
    "\n",
    "print(\"repo type:\", type(repo))\n",
    "print(\"repo.connection type:\", type(repo.connection))"
   ]
  },
  {
   "cell_type": "markdown",
   "id": "5b9dfaac-b1ff-4359-9884-200192622a9f",
   "metadata": {
    "deletable": false,
    "editable": false
   },
   "source": [
    "Now that we have the `repo` ready, we'll shift to our `model` module and build a `GarchModel` class to hold all our code from the last lesson."
   ]
  },
  {
   "cell_type": "code",
   "execution_count": null,
   "id": "bc0370b1-6bb9-4cab-b8d5-d1c6ed32249e",
   "metadata": {
    "deletable": false,
    "editable": false,
    "init_cell": true
   },
   "outputs": [],
   "source": [
    "VimeoVideo(\"772219669\", h=\"1d225ab776\", width=600)"
   ]
  },
  {
   "cell_type": "markdown",
   "id": "2cf70acd-613f-44d3-b3a0-18c5c80afce5",
   "metadata": {
    "deletable": false,
    "editable": false
   },
   "source": [
    "**Task 8.4.2:** In the `model` module, create a definition for a `GarchModel` model class. For now, it should only have an `__init__` method. Use the docstring as a guide. When you're done, test your class using the assert statements below.\n",
    "\n",
    "- [What's a class?](../%40textbook/21-python-object-oriented-programming.ipynb#Classes)\n",
    "- [Write a class definition in Python.](../%40textbook/21-python-object-oriented-programming.ipynb#Defining-a-Class)\n",
    "- [Write a class method in Python.](../%40textbook/21-python-object-oriented-programming.ipynb#Methods)\n",
    "- [What's an assert statement?](../%40textbook/02-python-advanced.ipynb#Testing-Code)\n",
    "- [Write an assert statement in Python.](../%40textbook/02-python-advanced.ipynb#Testing-Code)"
   ]
  },
  {
   "cell_type": "code",
   "execution_count": null,
   "id": "495d5150-5178-4976-92c3-4f12f2f29f34",
   "metadata": {
    "deletable": false
   },
   "outputs": [],
   "source": [
    "from model import GarchModel\n",
    "\n",
    "# Instantiate a `GarchModel`\n",
    "gm_ambuja = GarchModel(ticker=\"AMBUJACEM.BSE\", repo=repo, use_new_data=False)\n",
    "\n",
    "# Does `gm_ambuja` have the correct attributes?\n",
    "assert gm_ambuja.ticker == \"AMBUJACEM.BSE\"\n",
    "assert gm_ambuja.repo == repo\n",
    "assert not gm_ambuja.use_new_data\n",
    "assert gm_ambuja.model_directory == settings.model_directory"
   ]
  },
  {
   "cell_type": "code",
   "execution_count": null,
   "id": "c05001ee-ad9c-44b3-ad39-2a990d4bb492",
   "metadata": {
    "deletable": false,
    "editable": false,
    "init_cell": true
   },
   "outputs": [],
   "source": [
    "VimeoVideo(\"772219593\", h=\"3f3c401c04\", width=600)"
   ]
  },
  {
   "cell_type": "markdown",
   "id": "3ccc64d2-c0ca-4a4a-8fae-60183b608d92",
   "metadata": {
    "deletable": false,
    "editable": false
   },
   "source": [
    "**Task 8.4.3:** Turn your `wrangle_data` function from the last lesson into a method for your `GarchModel` class. When you're done, use the assert statements below to test the method by getting and wrangling data for the department store [Shoppers Stop](https://www.shoppersstop.com/).\n",
    "\n",
    "- [What's a function?](../%40textbook/02-python-advanced.ipynb#Functions)\n",
    "- [Write a function in Python.](../%40textbook/02-python-advanced.ipynb#Functions)\n",
    "- [Write a class method in Python.](../%40textbook/21-python-object-oriented-programming.ipynb#Methods)\n",
    "- [What's an assert statement?](../%40textbook/02-python-advanced.ipynb#Testing-Code)\n",
    "- [Write an assert statement in Python.](../%40textbook/02-python-advanced.ipynb#Testing-Code)"
   ]
  },
  {
   "cell_type": "code",
   "execution_count": null,
   "id": "45915594-111e-480b-a22f-47ab46ef75c5",
   "metadata": {
    "deletable": false
   },
   "outputs": [],
   "source": [
    "# Instantiate `GarchModel`, use new data\n",
    "model_shop = GarchModel(ticker=\"SHOPERSTOP.BSE\", repo=repo, use_new_data=True)\n",
    "\n",
    "# Check that model doesn't have `data` attribute yet\n",
    "assert not hasattr(model_shop, \"data\")\n",
    "\n",
    "# Wrangle data\n",
    "model_shop.wrangle_data(n_observations=1000)\n",
    "\n",
    "# Does model now have `data` attribute?\n",
    "assert hasattr(model_shop, \"data\")\n",
    "\n",
    "# Is the `data` a Series?\n",
    "assert isinstance(model_shop.data, pd.Series)\n",
    "\n",
    "# Is Series correct shape?\n",
    "assert model_shop.data.shape == (1000,)\n",
    "\n",
    "model_shop.data.head()"
   ]
  },
  {
   "cell_type": "code",
   "execution_count": null,
   "id": "8e4206d8-b070-47ad-91ad-8b914d281d51",
   "metadata": {
    "deletable": false,
    "editable": false,
    "init_cell": true
   },
   "outputs": [],
   "source": [
    "VimeoVideo(\"772219535\", h=\"55fbfdff55\", width=600)"
   ]
  },
  {
   "cell_type": "markdown",
   "id": "22d035b7-e081-4503-a7bc-617f35f4f6c4",
   "metadata": {
    "deletable": false,
    "editable": false
   },
   "source": [
    "**Task 8.4.4:** Using your code from the previous lesson, create a `fit` method for your `GarchModel` class. When you're done, use the code below to test it.\n",
    "\n",
    "- [Write a class method in Python.](../%40textbook/21-python-object-oriented-programming.ipynb#Methods)\n",
    "- [What's an assert statement?](../%40textbook/02-python-advanced.ipynb#Testing-Code)\n",
    "- [Write an assert statement in Python.](../%40textbook/02-python-advanced.ipynb#Testing-Code)<span style='color: transparent; font-size:1%'>WQU WorldQuant University Applied Data Science Lab QQQQ</span>"
   ]
  },
  {
   "cell_type": "code",
   "execution_count": null,
   "id": "23f66c6c-4975-41d0-8612-08b4791f969c",
   "metadata": {
    "deletable": false
   },
   "outputs": [],
   "source": [
    "# Instantiate `GarchModel`, use old data\n",
    "model_shop = GarchModel(ticker=\"SHOPERSTOP.BSE\", repo=repo, use_new_data=False)\n",
    "\n",
    "# Wrangle data\n",
    "model_shop.wrangle_data(n_observations=1000)\n",
    "\n",
    "# Fit GARCH(1,1) model to data\n",
    "model_shop.fit(p=1, q=1)\n",
    "\n",
    "# Does `model_shop` have a `model` attribute now?\n",
    "assert hasattr(model_shop, \"model\")\n",
    "\n",
    "# Is model correct data type?\n",
    "assert isinstance(model_shop.model, ARCHModelResult)\n",
    "\n",
    "# Does model have correct parameters?\n",
    "assert model_shop.model.params.index.tolist() == [\"mu\", \"omega\", \"alpha[1]\", \"beta[1]\"]\n",
    "\n",
    "# Check model parameters\n",
    "model_shop.model.summary()"
   ]
  },
  {
   "cell_type": "code",
   "execution_count": null,
   "id": "b6d43d7c-f5ae-4baa-b5e8-960effa16b02",
   "metadata": {
    "deletable": false,
    "editable": false,
    "init_cell": true
   },
   "outputs": [],
   "source": [
    "VimeoVideo(\"772219489\", h=\"3de8abb0e6\", width=600)"
   ]
  },
  {
   "cell_type": "markdown",
   "id": "516bc14f-e0b5-43ea-922f-e93e468ebb83",
   "metadata": {
    "deletable": false,
    "editable": false
   },
   "source": [
    "**Task 8.4.5:** Using your code from the previous lesson, create a `predict_volatility` method for your `GarchModel` class. Your method will need to return predictions as a dictionary, so you'll need to add your `clean_prediction` function as a helper method. When you're done, test your work using the assert statements below.\n",
    "\n",
    "- [Write a class method in Python.](../%40textbook/21-python-object-oriented-programming.ipynb#Methods)\n",
    "- [Write a function in Python.](../%40textbook/02-python-advanced.ipynb#Functions)\n",
    "- [What's an assert statement?](../%40textbook/02-python-advanced.ipynb#Testing-Code)\n",
    "- [Write an assert statement in Python.](../%40textbook/02-python-advanced.ipynb#Testing-Code)"
   ]
  },
  {
   "cell_type": "code",
   "execution_count": null,
   "id": "6f660ff5-7e5b-453f-b58f-aae6a9a68b9e",
   "metadata": {
    "deletable": false
   },
   "outputs": [],
   "source": [
    "# Generate prediction from `model_shop`\n",
    "prediction = model_shop.predict_volatility(horizon=5)\n",
    "\n",
    "# Is prediction a dictionary?\n",
    "assert isinstance(prediction, dict)\n",
    "\n",
    "# Are keys correct data type?\n",
    "assert all(isinstance(k, str) for k in prediction.keys())\n",
    "\n",
    "# Are values correct data type?\n",
    "assert all(isinstance(v, float) for v in prediction.values())\n",
    "\n",
    "prediction"
   ]
  },
  {
   "cell_type": "markdown",
   "id": "60b5b815-14ee-4ce1-848c-55de5135dd65",
   "metadata": {
    "deletable": false,
    "editable": false
   },
   "source": [
    "Things are looking good! There are two last methods that we need to add to our `GarchModel` so that we can save a trained model and then load it when we need it. When we learned about saving and loading files in Project 5, we used a context handler. This time, we'll streamline the process using the [joblib library](https://joblib.readthedocs.io/en/latest/). We'll also start writing our filepaths more programmatically using the [os library](https://docs.python.org/3/library/os.html)."
   ]
  },
  {
   "cell_type": "code",
   "execution_count": null,
   "id": "3b010122-21f7-4bba-a3e4-8f2fcfc94aa9",
   "metadata": {
    "deletable": false,
    "editable": false,
    "init_cell": true
   },
   "outputs": [],
   "source": [
    "VimeoVideo(\"772219427\", h=\"0dd5731a0d\", width=600)"
   ]
  },
  {
   "cell_type": "markdown",
   "id": "dcef0488-fb22-4984-a3e8-70f5d0fc5d54",
   "metadata": {
    "deletable": false,
    "editable": false
   },
   "source": [
    "**Task 8.4.6:** Create a `dump` method for your `GarchModel` class. It should save the model assigned to the `model` attribute to the folder specified in your configuration `settings`. Use the docstring as a guide, and then test your work below.\n",
    "\n",
    "- [Write a class method in Python.](../%40textbook/21-python-object-oriented-programming.ipynb#Methods)\n",
    "- [Save an object using joblib.](../%40textbook/02-python-advanced.ipynb#Saving-and-Loading-Files-with-joblib)\n",
    "- [Create a file path using os.](../%40textbook/02-python-advanced.ipynb#Working-with-Filepaths)"
   ]
  },
  {
   "cell_type": "code",
   "execution_count": null,
   "id": "0c826d54-906b-4d71-a679-cdcf613f59da",
   "metadata": {
    "deletable": false
   },
   "outputs": [],
   "source": [
    "# Save `model_shop` model, assign filename\n",
    "filename = model_shop.dump()\n",
    "\n",
    "# Is `filename` a string?\n",
    "assert isinstance(filename, str)\n",
    "\n",
    "# Does filename include ticker symbol?\n",
    "assert model_shop.ticker in filename\n",
    "\n",
    "# Does file exist?\n",
    "assert os.path.exists(filename)\n",
    "\n",
    "filename"
   ]
  },
  {
   "cell_type": "code",
   "execution_count": null,
   "id": "79cb9e24-dcf9-4a05-9a63-7db06ad97dff",
   "metadata": {
    "deletable": false,
    "editable": false,
    "init_cell": true
   },
   "outputs": [],
   "source": [
    "VimeoVideo(\"772219326\", h=\"4e1f9421e4\", width=600)"
   ]
  },
  {
   "cell_type": "markdown",
   "id": "db86446c-eb8e-406e-b15f-b582c99eba7d",
   "metadata": {
    "deletable": false,
    "editable": false
   },
   "source": [
    "**Task 8.4.7:** Create a `load` function below that will take a ticker symbol as input and return a model. When you're done, use the next cell to load the Shoppers Stop model you saved in the previous task.\n",
    "\n",
    "- [Handle errors using `try` and `except` blocks in Python.](../%40textbook/02-python-advanced.ipynb#Error-Handling)\n",
    "- [Create a file path using os.](../%40textbook/02-python-advanced.ipynb#Working-with-Filepaths)\n",
    "- [Raise an `Exception` in Python.](../%40textbook/02-python-advanced.ipynb#Raising-Errors)"
   ]
  },
  {
   "cell_type": "code",
   "execution_count": null,
   "id": "434c61cc-33a9-444e-9aac-62a33f8ed2e3",
   "metadata": {
    "deletable": false
   },
   "outputs": [],
   "source": [
    "def load():\n",
    "\n",
    "    \"\"\"Load latest model from model directory.\n",
    "\n",
    "    Parameters\n",
    "    ----------\n",
    "    ticker : str\n",
    "        Ticker symbol for which model was trained.\n",
    "\n",
    "    Returns\n",
    "    -------\n",
    "    `ARCHModelResult`\n",
    "    \"\"\"\n",
    "    # Create pattern for glob search\n",
    "    pattern = ...\n",
    "\n",
    "    # Try to find path of latest model\n",
    "    \n",
    "    model_path = ...\n",
    "\n",
    "    # Handle possible `IndexError`\n",
    "    \n",
    "\n",
    "    # Load model\n",
    "    model = ...\n",
    "\n",
    "    # Return model\n",
    "    return ..."
   ]
  },
  {
   "cell_type": "code",
   "execution_count": null,
   "id": "d576b75b-72da-42fb-8e77-02e17e8cd9f5",
   "metadata": {
    "deletable": false
   },
   "outputs": [],
   "source": [
    "# Assign load output to `model`\n",
    "model_shop = load(ticker=\"SHOPERSTOP.BSE\")\n",
    "\n",
    "# Does function return an `ARCHModelResult`\n",
    "assert isinstance(model_shop, ARCHModelResult)\n",
    "\n",
    "# Check model parameters\n",
    "model_shop.summary()"
   ]
  },
  {
   "cell_type": "code",
   "execution_count": null,
   "id": "1f289693-14a1-4923-9863-4f7fcc3f9046",
   "metadata": {
    "deletable": false,
    "editable": false,
    "init_cell": true
   },
   "outputs": [],
   "source": [
    "VimeoVideo(\"772219392\", h=\"deed99bf85\", width=600)"
   ]
  },
  {
   "cell_type": "markdown",
   "id": "ede77d01-4ada-4a23-a382-eb10c9479eb8",
   "metadata": {
    "deletable": false,
    "editable": false
   },
   "source": [
    "**Task 8.4.8:** Transform your `load` function into a method for your `GarchModel` class. When you're done, test the method using the assert statements below.\n",
    "\n",
    "- [Write a class method in Python.](../%40textbook/21-python-object-oriented-programming.ipynb#Methods)\n",
    "- [What's an assert statement?](../%40textbook/02-python-advanced.ipynb#Testing-Code)\n",
    "- [Write an assert statement in Python.](../%40textbook/02-python-advanced.ipynb#Testing-Code)"
   ]
  },
  {
   "cell_type": "code",
   "execution_count": null,
   "id": "0f5660cf-1069-40d0-91f5-6335319e2618",
   "metadata": {
    "deletable": false
   },
   "outputs": [],
   "source": [
    "model_shop = GarchModel(ticker=\"SHOPERSTOP.BSE\", repo=repo, use_new_data=False)\n",
    "\n",
    "# Check that new `model_shop_test` doesn't have model attached\n",
    "assert not hasattr(model_shop, \"model\")\n",
    "\n",
    "# Load model\n",
    "model_shop.load()\n",
    "\n",
    "# Does `model_shop_test` have model attached?\n",
    "assert hasattr(model_shop, \"model\")\n",
    "\n",
    "model_shop.model.summary()"
   ]
  },
  {
   "cell_type": "markdown",
   "id": "1e079186-3142-404b-b0b8-a57569f3ed1b",
   "metadata": {
    "deletable": false,
    "editable": false
   },
   "source": [
    "Our `model` module is done! Now it's time to move on to the \"main\" course and add the final piece to our application."
   ]
  },
  {
   "cell_type": "markdown",
   "id": "04e70a0f-e756-4117-b153-29b814f50ac4",
   "metadata": {
    "deletable": false,
    "editable": false
   },
   "source": [
    "# Main Module"
   ]
  },
  {
   "cell_type": "markdown",
   "id": "98305162-eb69-496d-aa76-9e49a2f13b90",
   "metadata": {
    "deletable": false,
    "editable": false
   },
   "source": [
    "Similar to the interactive applications we made in Projects 6 and 7, our first step here will be to create an `app` object. This time, instead of being a plotly application, it'll be a FastAPI application."
   ]
  },
  {
   "cell_type": "code",
   "execution_count": null,
   "id": "2eaf29ea-58e9-4686-b251-56a238ba127e",
   "metadata": {
    "deletable": false,
    "editable": false,
    "init_cell": true
   },
   "outputs": [],
   "source": [
    "VimeoVideo(\"772219283\", h=\"2cd1d97516\", width=600)"
   ]
  },
  {
   "cell_type": "markdown",
   "id": "d735900d-f86a-48eb-8f8a-be8b5555124a",
   "metadata": {
    "deletable": false,
    "editable": false
   },
   "source": [
    "**Task 8.4.9:** In the `main` module, instantiate a FastAPI application named `app`.\n",
    "\n",
    "- [Instantiate an application in FastAPI.](../%40textbook/22-apis.ipynb#Creating-a-Path)"
   ]
  },
  {
   "cell_type": "markdown",
   "id": "ff94fb79-86e5-400b-b663-a110576bead9",
   "metadata": {
    "deletable": false,
    "editable": false
   },
   "source": [
    "In order for our `app` to work, we need to run it on a server. In this case, we'll run the server on our virtual machine using the [uvicorn library](https://www.uvicorn.org/)."
   ]
  },
  {
   "cell_type": "code",
   "execution_count": null,
   "id": "558496db-0c86-4378-8439-5398e066d6ec",
   "metadata": {
    "deletable": false,
    "editable": false,
    "init_cell": true
   },
   "outputs": [],
   "source": [
    "VimeoVideo(\"772219237\", h=\"5ee74f82db\", width=600)"
   ]
  },
  {
   "cell_type": "markdown",
   "id": "7f74fb5d-a5df-4a5a-af40-b5466fbf7b8e",
   "metadata": {
    "deletable": false,
    "editable": false
   },
   "source": [
    "**Task 8.4.10:** Go to the command line, navigate to the directory for this project, and start your app server by entering the following command.\n",
    "\n",
    "```bash\n",
    "uvicorn main:app --reload --workers 1 --host localhost --port 8008\n",
    "```"
   ]
  },
  {
   "cell_type": "markdown",
   "id": "f30ebd95-1f26-435e-90d3-46a3b5ac1fb5",
   "metadata": {
    "deletable": false,
    "editable": false
   },
   "source": [
    "Remember how the AlphaVantage API had a `\"/query\"` path that we accessed using a `get` HTTP request? We're going to build similar paths for our application. Let's start with an MVP example so we can learn how paths work in FastAPI. "
   ]
  },
  {
   "cell_type": "code",
   "execution_count": null,
   "id": "3a5295ea-2f6e-44ad-b293-92f7cd960ef3",
   "metadata": {
    "deletable": false,
    "editable": false,
    "init_cell": true
   },
   "outputs": [],
   "source": [
    "VimeoVideo(\"772219175\", h=\"6f53c61020\", width=600)"
   ]
  },
  {
   "cell_type": "markdown",
   "id": "93066262-a4be-4cfa-98ad-140dfcc08c25",
   "metadata": {
    "deletable": false,
    "editable": false
   },
   "source": [
    "**Task 8.4.11:** Create a `\"/hello\"` path for your app that returns a greeting when it receives a `get` request.\n",
    "\n",
    "- [Create an application path in FastAPI.](../%40textbook/22-apis.ipynb#Creating-a-Path)"
   ]
  },
  {
   "cell_type": "markdown",
   "id": "fe7ad99d-06b4-40bc-95b3-2e8dadd1ae2a",
   "metadata": {
    "deletable": false,
    "editable": false
   },
   "source": [
    "We've got our path. Let's perform as `get` request to see if it works."
   ]
  },
  {
   "cell_type": "code",
   "execution_count": null,
   "id": "99251aa9-d509-4bdd-8bb1-0d1116f6d68d",
   "metadata": {
    "deletable": false,
    "editable": false,
    "init_cell": true
   },
   "outputs": [],
   "source": [
    "VimeoVideo(\"772219134\", h=\"09a4b98413\", width=600)"
   ]
  },
  {
   "cell_type": "markdown",
   "id": "29f92bb4-cfc1-44d6-9058-6285a3ad1423",
   "metadata": {
    "deletable": false,
    "editable": false
   },
   "source": [
    "**Task 8.4.12:** Create a `get` request to hit the `\"/hello\"` path running at `\"http://localhost:8008\"`.\n",
    "\n",
    "- [What's an HTTP request?](../%40textbook/22-apis.ipynb#RESTful-APIs)\n",
    "- [Make an HTTP request using requests.](..//%40textbook/22-apis.ipynb#Making-an-HTTP-Request)"
   ]
  },
  {
   "cell_type": "code",
   "execution_count": null,
   "id": "407d13f7-5f2b-445d-b3f1-38b77f109311",
   "metadata": {
    "deletable": false
   },
   "outputs": [],
   "source": [
    "url = ...\n",
    "response = ...\n",
    "\n",
    "print(\"response code:\", response.status_code)\n",
    "response.json()"
   ]
  },
  {
   "cell_type": "markdown",
   "id": "39b782d5-3674-4b06-9227-431feb7167a4",
   "metadata": {
    "deletable": false,
    "editable": false
   },
   "source": [
    "Excellent! Now let's start building the fun stuff."
   ]
  },
  {
   "cell_type": "markdown",
   "id": "3ba4b53b-165c-48b5-85dc-e8afbd22fccd",
   "metadata": {
    "deletable": false,
    "editable": false
   },
   "source": [
    "## `\"/fit\"` Path"
   ]
  },
  {
   "cell_type": "markdown",
   "id": "023c99b6-3b40-4b49-ae9d-7a5bf86a5d0a",
   "metadata": {
    "deletable": false,
    "editable": false
   },
   "source": [
    "Our first path will allow the user to fit a model to stock data when they make a `post` request to our server. They'll have the choice to use new data from AlphaVantage, or older data that's already in our database. When a user makes a request, they'll receive a response telling them if the operation was successful or whether there was an error. \n",
    "\n",
    "One thing that's very important when building an API is making sure the user passes the correct parameters into the app. Otherwise, our app could crash! FastAPI works well with the [pydantic library](https://pydantic-docs.helpmanual.io/), which checks that each request has the correct parameters and data types. It does this by using special data classes that we need to define. Our `\"/fit\"` path will take user input and then output a response, so we need two classes: one for input and one for output."
   ]
  },
  {
   "cell_type": "code",
   "execution_count": null,
   "id": "15424e6c-8501-4c9d-9a1f-1b4acd42fcc4",
   "metadata": {
    "deletable": false,
    "editable": false,
    "init_cell": true
   },
   "outputs": [],
   "source": [
    "VimeoVideo(\"772219078\", h=\"4f016b11e1\", width=600)"
   ]
  },
  {
   "cell_type": "markdown",
   "id": "c389fbc0-2984-48c4-a219-eef13cd2c785",
   "metadata": {
    "deletable": false,
    "editable": false
   },
   "source": [
    "**Task 8.4.13:** Create definitions for a `FitIn` and a `FitOut` data class. The `FitIn` class should inherit from the pydantic `BaseClass`, and the `FitOut` class should inherit from the `FitIn` class. Be sure to include type hints.\n",
    "\n",
    "- [Write a class definition in Python.](../%40textbook/21-python-object-oriented-programming.ipynb#Defining-a-Class)\n",
    "- [What's class inheritance?](../%40textbook/21-python-object-oriented-programming.ipynb#Inheritance)\n",
    "- [What are type hints?](../%40textbook/22-apis.ipynb#Data-Classes-and-Type-Checking)\n",
    "- [Define a data model in pydantic.](../%40textbook/22-apis.ipynb#Data-Classes-and-Type-Checking)"
   ]
  },
  {
   "cell_type": "markdown",
   "id": "443a2c65-a73a-4e98-9760-4272ea6d92a6",
   "metadata": {
    "deletable": false,
    "editable": false
   },
   "source": [
    "With our data classes defined, let's see how pydantic ensures our that users are supplying the correct input and our application is returning the correct output."
   ]
  },
  {
   "cell_type": "code",
   "execution_count": null,
   "id": "e5e10189-1e64-4018-9301-fee19c9854b7",
   "metadata": {
    "deletable": false,
    "editable": false,
    "init_cell": true
   },
   "outputs": [],
   "source": [
    "VimeoVideo(\"772219008\", h=\"ad1114eb9e\", width=600)"
   ]
  },
  {
   "cell_type": "markdown",
   "id": "6c736125-ae93-4da1-83b7-8b8d35f11184",
   "metadata": {
    "deletable": false,
    "editable": false
   },
   "source": [
    "**Task 8.4.14:** Use the code below to experiment with your `FitIn` and `FitOut` classes. Under what circumstances does instantiating them throw errors? What class or classes are they instances of?\n",
    "\n",
    "- [What's class inheritance?](../%40textbook/21-python-object-oriented-programming.ipynb#Inheritance)\n",
    "- [What are type hints?](../%40textbook/22-apis.ipynb#Data-Classes-and-Type-Checking)\n",
    "- [Define a data model in pydantic.](../%40textbook/22-apis.ipynb#Data-Classes-and-Type-Checking)"
   ]
  },
  {
   "cell_type": "code",
   "execution_count": null,
   "id": "1f5ca4fb-92d8-4d00-b62d-415198a9108c",
   "metadata": {
    "deletable": false
   },
   "outputs": [],
   "source": [
    "from main import FitIn, FitOut\n",
    "\n",
    "# Instantiate `FitIn`. Play with parameters.\n",
    "fi = ...\n",
    "print(fi)\n",
    "\n",
    "# Instantiate `FitOut`. Play with parameters.\n",
    "fo = ...\n",
    "print(fo)"
   ]
  },
  {
   "cell_type": "markdown",
   "id": "7f810c53-a0cb-4a36-b3ed-d40f25e8c790",
   "metadata": {
    "deletable": false,
    "editable": false
   },
   "source": [
    "One cool feature of FastAPI is that it can work in asynchronous scenarios. That's not something we need to learn for this project, but it does mean that we need to instantiate a `GarchModel` object each time a user makes a request. To make the coding easier for us, let's make a function to handle that process for us. "
   ]
  },
  {
   "cell_type": "code",
   "execution_count": null,
   "id": "371eed1f-f0aa-406f-9104-cfadfafdb558",
   "metadata": {
    "deletable": false,
    "editable": false,
    "init_cell": true
   },
   "outputs": [],
   "source": [
    "VimeoVideo(\"772218958\", h=\"37744c9d88\", width=600)"
   ]
  },
  {
   "cell_type": "markdown",
   "id": "ae692a6e-9f2b-4487-bf7d-ed81d0cce720",
   "metadata": {
    "deletable": false,
    "editable": false
   },
   "source": [
    "**Task 8.4.15:** Create a `build_model` function in your `main` module. Use the docstring as a guide, and test your function below.\n",
    "\n",
    "- [What's a function?](../%40textbook/02-python-advanced.ipynb#Functions)\n",
    "- [Write a function in Python.](../%40textbook/02-python-advanced.ipynb#Functions)\n",
    "- [What's an assert statement?](../%40textbook/02-python-advanced.ipynb#Testing-Code)\n",
    "- [Write an assert statement in Python.](../%40textbook/02-python-advanced.ipynb#Testing-Code)"
   ]
  },
  {
   "cell_type": "code",
   "execution_count": null,
   "id": "17935f72-a4a2-457a-944c-c6845c78d134",
   "metadata": {
    "deletable": false
   },
   "outputs": [],
   "source": [
    "from main import build_model\n",
    "\n",
    "# Instantiate `GarchModel` with function\n",
    "model_shop = build_model(ticker=\"SHOPERSTOP.BSE\", use_new_data=False)\n",
    "\n",
    "# Is `SQLRepository` attached to `model_shop`?\n",
    "assert isinstance(model_shop.repo, SQLRepository)\n",
    "\n",
    "# Is SQLite database attached to `SQLRepository`\n",
    "assert isinstance(model_shop.repo.connection, sqlite3.Connection)\n",
    "\n",
    "# Is `ticker` attribute correct?\n",
    "assert model_shop.ticker == \"SHOPERSTOP.BSE\"\n",
    "\n",
    "# Is `use_new_data` attribute correct?\n",
    "assert not model_shop.use_new_data\n",
    "\n",
    "model_shop"
   ]
  },
  {
   "cell_type": "markdown",
   "id": "8a826b5f-b5f7-41ec-90b4-5d81888409b9",
   "metadata": {
    "deletable": false,
    "editable": false
   },
   "source": [
    "We've got data classes, we've got a `build_model` function, and all that's left is to build the `\"/fit\"` path. We'll use our `\"/hello\"` path as a template, but we'll need to include more features, like error handling. "
   ]
  },
  {
   "cell_type": "code",
   "execution_count": null,
   "id": "92575af2-7ed8-4b6f-9f2e-38d64737b0e0",
   "metadata": {
    "deletable": false,
    "editable": false,
    "init_cell": true
   },
   "outputs": [],
   "source": [
    "VimeoVideo(\"772218892\", h=\"6779ee3470\", width=600)"
   ]
  },
  {
   "cell_type": "markdown",
   "id": "716c0a4f-f3ef-478b-994b-d96b555eddfc",
   "metadata": {
    "deletable": false,
    "editable": false
   },
   "source": [
    "**Task 8.4.16:** Create a `\"/fit\"` path for your `app`. It will take a `FitIn` object as input, and then build a `GarchModel` using the `build_model` function. The model will wrangle the needed data, fit to the data, and save the completed model. Finally, it will send a response in the form of a `FitOut` object. Be sure to handle any errors that may arise. \n",
    "\n",
    "- [Create an application path in FastAPI.](../%40textbook/22-apis.ipynb#Creating-a-Path)"
   ]
  },
  {
   "cell_type": "markdown",
   "id": "bf5b6cf2-4916-4497-8150-be586ef2735e",
   "metadata": {
    "deletable": false,
    "editable": false
   },
   "source": [
    "Last step! Let's make a `post` request and see how our app responds."
   ]
  },
  {
   "cell_type": "code",
   "execution_count": null,
   "id": "7fc94500-cb8a-4f49-bb50-e4b110dc7c41",
   "metadata": {
    "deletable": false,
    "editable": false,
    "init_cell": true
   },
   "outputs": [],
   "source": [
    "VimeoVideo(\"772218833\", h=\"6d27fb4539\", width=600)"
   ]
  },
  {
   "cell_type": "markdown",
   "id": "610bf3eb-7018-49bb-9b83-a14860b0a11e",
   "metadata": {
    "deletable": false,
    "editable": false
   },
   "source": [
    "**Task 8.4.17:** Create a `post` request to hit the `\"/fit\"` path running at `\"http://localhost:8008\"`. You should train a GARCH(1,1) model on 2000 observations of the Shoppers Stop data you already downloaded. Pass in your parameters as a dictionary using the `json` argument.\n",
    "\n",
    "- [What's an argument?](../%40textbook/01-python-getting-started.ipynb#JSON)\n",
    "- [What's an HTTP request?](../%40textbook/22-apis.ipynb#RESTful-APIs)\n",
    "- [Make an HTTP request using requests.](..//%40textbook/22-apis.ipynb#Making-an-HTTP-Request)"
   ]
  },
  {
   "cell_type": "code",
   "execution_count": null,
   "id": "bc0a6664-07f3-4850-80fc-ca33b9d57ae1",
   "metadata": {
    "deletable": false
   },
   "outputs": [],
   "source": [
    "# URL of `/fit` path\n",
    "url = ...\n",
    "\n",
    "# Data to send to path\n",
    "json = ...\n",
    "# Response of post request\n",
    "response = ...\n",
    "# Inspect response\n",
    "print(\"response code:\", response.status_code)\n",
    "response.json()"
   ]
  },
  {
   "cell_type": "markdown",
   "id": "2abbfbf1-87b8-4819-9ed2-94d5b8790e15",
   "metadata": {
    "deletable": false,
    "editable": false
   },
   "source": [
    "Boom! Now we can train models using the API we created. Up next: a path for making predictions. "
   ]
  },
  {
   "cell_type": "markdown",
   "id": "f804ea6a-cec0-4d1e-b991-740190cc705d",
   "metadata": {
    "deletable": false,
    "editable": false
   },
   "source": [
    "## `\"/predict\"` Path"
   ]
  },
  {
   "cell_type": "markdown",
   "id": "0efccd4d-8219-4b22-a30d-664996912460",
   "metadata": {
    "deletable": false,
    "editable": false
   },
   "source": [
    "For our `\"/predict\"` path, users will be able to make a `post` request with the ticker symbol they want a prediction for and the number of days they want to forecast into the future. Our app will return a forecast or, if there's an error, a message explaining the problem.\n",
    "\n",
    "The setup will be very similar to our `\"/fit\"` path. We'll start with data classes for the in- and output."
   ]
  },
  {
   "cell_type": "code",
   "execution_count": null,
   "id": "c99bd32c-9270-4251-ad77-06253a2c84bb",
   "metadata": {
    "deletable": false,
    "editable": false,
    "init_cell": true
   },
   "outputs": [],
   "source": [
    "VimeoVideo(\"772218808\", h=\"3a73624069\", width=600)"
   ]
  },
  {
   "cell_type": "markdown",
   "id": "fceb1f5d-6083-44e2-b07b-86c561afdb7f",
   "metadata": {
    "deletable": false,
    "editable": false
   },
   "source": [
    "**Task 8.4.18:** Create definitions for a `PredictIn` and `PredictOut` data class. The `PredictIn` class should inherit from the pydantic `BaseModel`, and the `PredictOut` class should inherit from the `PredictIn` class. Be sure to include type hints. The use the code below to test your classes.\n",
    "\n",
    "- [Write a class definition in Python.](../%40textbook/21-python-object-oriented-programming.ipynb#Defining-a-Class)\n",
    "- [What's class inheritance?](../%40textbook/21-python-object-oriented-programming.ipynb#Inheritance)\n",
    "- [What are type hints?](../%40textbook/22-apis.ipynb#Data-Classes-and-Type-Checking)\n",
    "- [Define a data model in pydantic.](../%40textbook/22-apis.ipynb#Data-Classes-and-Type-Checking)"
   ]
  },
  {
   "cell_type": "code",
   "execution_count": null,
   "id": "1f5a98e6-049a-4972-84a9-50fe26cc75cf",
   "metadata": {
    "deletable": false
   },
   "outputs": [],
   "source": [
    "from main import PredictIn, PredictOut\n",
    "\n",
    "pi = PredictIn(ticker=\"SHOPERSTOP.BSE\", n_days=5)\n",
    "print(pi)\n",
    "\n",
    "po = PredictOut(\n",
    "    ticker=\"SHOPERSTOP.BSE\", n_days=5, success=True, forecast={}, message=\"success\"\n",
    ")\n",
    "print(po)"
   ]
  },
  {
   "cell_type": "markdown",
   "id": "52b2e076-a176-459d-8911-b0f526a67059",
   "metadata": {
    "deletable": false,
    "editable": false
   },
   "source": [
    "Up next, let's create the path. The good news is that we'll be able to reuse our `build_model` function."
   ]
  },
  {
   "cell_type": "code",
   "execution_count": null,
   "id": "e1f0aea4-d613-4ad1-a994-608d759acc40",
   "metadata": {
    "deletable": false,
    "editable": false,
    "init_cell": true
   },
   "outputs": [],
   "source": [
    "VimeoVideo(\"772218740\", h=\"ff06859ece\", width=600)"
   ]
  },
  {
   "cell_type": "markdown",
   "id": "c33a4264-956a-4333-908e-980a9140311a",
   "metadata": {
    "deletable": false,
    "editable": false
   },
   "source": [
    "**Task 8.4.19:** Create a `\"/predict\"` path for your `app`. It will take a `PredictIn` object as input, build a `GarchModel`, load the most recent trained model for the given ticker, and generate a dictionary of predictions. It will then return a `PredictOut` object with the predictions included. Be sure to handle any errors that may arise.\n",
    "\n",
    "- [Create an application path in FastAPI.](../%40textbook/22-apis.ipynb#Creating-a-Path)"
   ]
  },
  {
   "cell_type": "markdown",
   "id": "5cab00b4-59dd-444e-98f5-5b283caaca65",
   "metadata": {
    "deletable": false,
    "editable": false
   },
   "source": [
    "Last step, let's see what happens when we make a `post` request..."
   ]
  },
  {
   "cell_type": "code",
   "execution_count": null,
   "id": "df8afbd0-6efc-4655-ade9-d227002eebec",
   "metadata": {
    "deletable": false,
    "editable": false,
    "init_cell": true
   },
   "outputs": [],
   "source": [
    "VimeoVideo(\"772218642\", h=\"1da744b9e7\", width=600)"
   ]
  },
  {
   "cell_type": "markdown",
   "id": "45f9966d-545d-4e74-9c8e-9b6a22fe5297",
   "metadata": {
    "deletable": false,
    "editable": false
   },
   "source": [
    "**Task 8.4.20:** Create a `post` request to hit the `\"/predict\"` path running at `\"http://localhost:8008\"`. You should get the 5-day volatility forecast for Shoppers Stop. When you're satisfied, submit your work to the grader.\n",
    "\n",
    "- [What's an HTTP request?](../%40textbook/22-apis.ipynb#RESTful-APIs)\n",
    "- [Make an HTTP request using requests.](..//%40textbook/22-apis.ipynb#Making-an-HTTP-Request)"
   ]
  },
  {
   "cell_type": "code",
   "execution_count": null,
   "id": "367a91bd-88ea-4a86-b90c-0f9e4c739197",
   "metadata": {
    "deletable": false
   },
   "outputs": [],
   "source": [
    "# URL of `/predict` path\n",
    "url = ...\n",
    "# Data to send to path\n",
    "json = ...\n",
    "# Response of post request\n",
    "response = ...\n",
    "# Response JSON to be submitted to grader\n",
    "submission = response.json()\n",
    "# Inspect JSON\n",
    "submission"
   ]
  },
  {
   "cell_type": "code",
   "execution_count": null,
   "id": "3fa7f885-2b25-4da1-8b4c-e5b282ec2477",
   "metadata": {
    "deletable": false,
    "editable": false
   },
   "outputs": [],
   "source": [
    "wqet_grader.grade(\"Project 8 Assessment\", \"Task 8.4.20\", submission)"
   ]
  },
  {
   "cell_type": "markdown",
   "id": "4e584a1c-b68b-4d5f-a472-8f1de947fcd6",
   "metadata": {
    "deletable": false,
    "editable": false
   },
   "source": [
    "We did it! Better said, **you** did it. You got data from the AlphaVantage API, you stored it in a SQL database, you built and trained a GARCH model to predict volatility, and you created your own API to serve predictions from your model. That's data engineering, data science, and model deployment all in one project. If you haven't already, now's a good time to give yourself a pat on the back. You definitely deserve it."
   ]
  },
  {
   "cell_type": "markdown",
   "id": "42597024",
   "metadata": {
    "deletable": false,
    "editable": false
   },
   "source": [
    "---\n",
    "Copyright 2023 WorldQuant University. This\n",
    "content is licensed solely for personal use. Redistribution or\n",
    "publication of this material is strictly prohibited.\n"
   ]
  }
 ],
 "metadata": {
  "kernelspec": {
   "display_name": "Python 3 (ipykernel)",
   "language": "python",
   "name": "python3"
  },
  "language_info": {
   "codemirror_mode": {
    "name": "ipython",
    "version": 3
   },
   "file_extension": ".py",
   "mimetype": "text/x-python",
   "name": "python",
   "nbconvert_exporter": "python",
   "pygments_lexer": "ipython3",
   "version": "3.9.6"
  }
 },
 "nbformat": 4,
 "nbformat_minor": 5
}
