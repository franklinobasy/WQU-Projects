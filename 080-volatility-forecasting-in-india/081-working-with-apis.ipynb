{
 "cells": [
  {
   "cell_type": "markdown",
   "id": "7107e1e4",
   "metadata": {
    "deletable": false,
    "editable": false
   },
   "source": [
    "\n",
    "<div class=\"alert alert-info\" role=\"alert\">\n",
    "  <p>\n",
    "    <center><b>Usage Guidelines</b></center>\n",
    "  </p>\n",
    "\n",
    "  <p>\n",
    "    This lesson is part of the <b>DS Lab core curriculum</b>. For that reason, this notebook can only be used on your WQU virtual machine.\n",
    "  </p>\n",
    "\n",
    "  <p>\n",
    "    This means:\n",
    "    <ul>\n",
    "      <li><span style=\"color: red\">ⓧ</span> No downloading this notebook.</li>\n",
    "      <li><span style=\"color: red\">ⓧ</span> No re-sharing of this notebook with friends or colleagues.</li>\n",
    "      <li><span style=\"color: red\">ⓧ</span> No downloading the embedded videos in this notebook.</li>\n",
    "      <li><span style=\"color: red\">ⓧ</span> No re-sharing embedded videos with friends or colleagues.</li>\n",
    "      <li><span style=\"color: red\">ⓧ</span> No adding this notebook to public or private repositories.</li>\n",
    "      <li><span style=\"color: red\">ⓧ</span> No uploading this notebook (or screenshots of it) to other websites, including websites for study resources.</li>\n",
    "    </ul>\n",
    "\n",
    "  </p>\n",
    "</div>\n"
   ]
  },
  {
   "cell_type": "markdown",
   "id": "e5b95a10-df83-4725-b2c6-0ea418ac82ec",
   "metadata": {
    "deletable": false,
    "editable": false
   },
   "source": [
    "<font size=\"+3\"><strong>8.1. Getting data from APIs</strong></font>"
   ]
  },
  {
   "cell_type": "markdown",
   "id": "8c31416c-80ab-415d-8908-9c2aca26a4be",
   "metadata": {
    "deletable": false,
    "editable": false
   },
   "source": [
    "You can't build a model without data, right? In previous projects, we've worked with data stored in files (like a CSV) or databases (like MongoDB or SQL). In this project, we're going to get our data from a web server using an API. So in this lesson, we'll learn what an API is and how to extract data from one. We'll also work on transforming our data into a manageable format. Let's get to it!"
   ]
  },
  {
   "cell_type": "code",
   "execution_count": null,
   "id": "27cbbaa1-1661-4dc1-bab0-30d86c4c41cb",
   "metadata": {
    "deletable": false,
    "editable": false,
    "init_cell": true
   },
   "outputs": [],
   "source": [
    "import pandas as pd\n",
    "import requests\n",
    "import wqet_grader\n",
    "from IPython.display import VimeoVideo\n",
    "\n",
    "wqet_grader.init(\"Project 8 Assessment\")"
   ]
  },
  {
   "cell_type": "code",
   "execution_count": null,
   "id": "2a5a6f8c-e6a6-4f9e-9e28-6f30f67ec264",
   "metadata": {
    "deletable": false,
    "editable": false,
    "init_cell": true
   },
   "outputs": [],
   "source": [
    "VimeoVideo(\"762464407\", h=\"9da2e7b9bc\", width=600)"
   ]
  },
  {
   "cell_type": "markdown",
   "id": "0d08d7ab-dff6-406f-a56f-c1281df543f6",
   "metadata": {
    "deletable": false,
    "editable": false
   },
   "source": [
    "# Accessing APIs Through a URL"
   ]
  },
  {
   "cell_type": "markdown",
   "id": "455fce49-6084-4511-ac3b-24e4506a9778",
   "metadata": {
    "deletable": false,
    "editable": false
   },
   "source": [
    "In this lesson, we'll extract stock market information from the [AlphaVantage](https://alphavantage.co/) API. To get a sense of how an API works, consider the URL below. Take a moment to read the text of the link itself, then click on it and examine the data that appears in your browser. What's the format of the data? What data is included? How is it organized? "
   ]
  },
  {
   "cell_type": "code",
   "execution_count": null,
   "id": "952ae943-fc4b-4ca5-977d-5c981e77f64f",
   "metadata": {
    "deletable": false,
    "editable": false,
    "init_cell": true
   },
   "outputs": [],
   "source": [
    "VimeoVideo(\"762464423\", h=\"dc6e027e19\", width=600)"
   ]
  },
  {
   "cell_type": "markdown",
   "id": "db78658d-cffc-41ce-a95e-015024f89e16",
   "metadata": {
    "deletable": false,
    "editable": false
   },
   "source": [
    "https://www.alphavantage.co/query?function=TIME_SERIES_DAILY&symbol=IBM&apikey=demo"
   ]
  },
  {
   "cell_type": "markdown",
   "id": "cbc39541-bc72-46c8-9183-b7dac7d591f3",
   "metadata": {
    "deletable": false,
    "editable": false
   },
   "source": [
    "Notice that this URL has several components. Let's break them down one-by-one.\n",
    "\n",
    "| URL | Component |\n",
    "|:--- | :-------- |\n",
    "| `https://www.alphavantage.co` | This is the **hostname** or **base URL**. It is the web address for the server where we can get our stock data. |\n",
    "| `/query` | This is the **path**. Most APIs have lots of different operations they can do. The path is the name of the particular operation we want to access. |\n",
    "| `?` |  This question mark denotes that everything that follows in the URL is a **parameter**. Each parameter is separated by a `&` character. These parameters provide additional information that will change the operation's behavior. This is similar to the way we pass **arguments** into functions in Python. |\n",
    "| `function=TIME_SERIES_DAILY` | Our first parameter uses the `function` keyword. The value is `TIME_SERIES_DAILY`. In this case, we're asking for **daily** stock data. |\n",
    "| `symbol=IBM` | Our second parameter uses the `symbol` keyword. So we're asking for a data on a stock whose [**ticker symbol**](https://en.wikipedia.org/wiki/Ticker_symbol) is `IBM`. |\n",
    "| `apikey=demo` | Much in the same way you need a password to access some websites, an **API key** or **API token** is the password that you'll use to access the API. |"
   ]
  },
  {
   "cell_type": "markdown",
   "id": "511f8afa-d99f-487b-b12f-0e497acb9975",
   "metadata": {
    "deletable": false,
    "editable": false
   },
   "source": [
    "Now that we have a sense of the components of URL that gets information from AlphaVantage, let's create our own for a different stock."
   ]
  },
  {
   "cell_type": "code",
   "execution_count": null,
   "id": "b2e15713-ac41-40de-b595-08c48980f0cf",
   "metadata": {
    "deletable": false,
    "editable": false,
    "init_cell": true
   },
   "outputs": [],
   "source": [
    "VimeoVideo(\"762464444\", h=\"c9d35e670c\", width=600)"
   ]
  },
  {
   "cell_type": "markdown",
   "id": "5a2767fb-c1b5-4a49-be2b-e00ad431c89b",
   "metadata": {
    "deletable": false,
    "editable": false
   },
   "source": [
    "**Task 8.1.1:** Using the URL above as a model, create a new URL to get the data for [Ambuja Cement](https://www.ambujacement.com/). The ticker symbol for this company is: `\"AMBUJACEM.BSE\"`.\n",
    "\n",
    "- [What's a web API?](../%40textbook/22-apis.ipynb)"
   ]
  },
  {
   "cell_type": "code",
   "execution_count": null,
   "id": "c3035765-16e2-4750-8bc6-0f4f4fcf2cda",
   "metadata": {
    "deletable": false
   },
   "outputs": [],
   "source": [
    "url = ...\n",
    "\n",
    "print(\"url type:\", type(url))\n",
    "url"
   ]
  },
  {
   "cell_type": "markdown",
   "id": "e2af814b-6763-4ac1-8522-177b05af7fd0",
   "metadata": {
    "deletable": false,
    "editable": false
   },
   "source": [
    "Oh no! A problem. It looks like we need our own API key access the data. Fortunately, WQU provides you one in your [profile settings](https://learn.wqu.edu/settings/api-keys).\n",
    "\n",
    "As you can imagine, an API key is information that should be kept secret, so it's a bad idea to include it in our application code. When it comes to sensitive information like this, developers and data scientists store it as an [environment variable](https://en.wikipedia.org/wiki/Environment_variable) that's kept in a `.env` file. "
   ]
  },
  {
   "cell_type": "code",
   "execution_count": null,
   "id": "d7bfa4a7-a515-444e-870f-f621023be57c",
   "metadata": {
    "deletable": false,
    "editable": false,
    "init_cell": true
   },
   "outputs": [],
   "source": [
    "VimeoVideo(\"762464465\", h=\"27845ecce0\", width=600)"
   ]
  },
  {
   "cell_type": "markdown",
   "id": "90f2bd4c",
   "metadata": {
    "deletable": false,
    "editable": false
   },
   "source": [
    "<div class=\"alert alert-block alert-info\">\n",
    "    <p><b>Tip:</b> If you can't see your <code>.env</code> file, go to the <b>View</b> menu and select <b>Show Hidden Files.</p>\n",
    "</div>"
   ]
  },
  {
   "cell_type": "markdown",
   "id": "f9e17d6f-ad83-42aa-80d7-3eb9b68c07d2",
   "metadata": {
    "deletable": false,
    "editable": false
   },
   "source": [
    "**Task 8.1.2:** Get your API key and save it in your `.env` file.\n",
    "\n",
    "- [What's an API key?](../%40textbook/22-apis.ipynb#Making-an-HTTP-Request)\n",
    "- [What's an environment variable?](../%40textbook/22-apis.ipynb#Declaring-Environment-Variables)"
   ]
  },
  {
   "cell_type": "markdown",
   "id": "5946c555-bbdf-4215-af61-01c179b08f91",
   "metadata": {
    "deletable": false,
    "editable": false
   },
   "source": [
    "Now that we've stored our API key, we need to import it into our code base. This is commonly done by creating a `config` module."
   ]
  },
  {
   "cell_type": "code",
   "execution_count": null,
   "id": "2001168d-2465-4d6f-8670-36e2fe5903df",
   "metadata": {
    "deletable": false,
    "editable": false,
    "init_cell": true
   },
   "outputs": [],
   "source": [
    "VimeoVideo(\"762464478\", h=\"b567b82417\", width=600)"
   ]
  },
  {
   "cell_type": "markdown",
   "id": "fcf49f12-a40c-43e7-bff1-85f6df92f214",
   "metadata": {
    "deletable": false,
    "editable": false
   },
   "source": [
    "**Task 8.1.3:** Import the `settings` variable from the `config` module. Then use the `dir` command to see what attributes it has."
   ]
  },
  {
   "cell_type": "code",
   "execution_count": null,
   "id": "bdc5f2da",
   "metadata": {
    "deletable": false
   },
   "outputs": [],
   "source": [
    "# Import settings\n",
    "\n",
    "\n",
    "# Use `dir` to list attributes\n"
   ]
  },
  {
   "cell_type": "markdown",
   "id": "c368b2bb-d1ab-429f-9ac3-9e23e3a447d7",
   "metadata": {
    "deletable": false,
    "editable": false
   },
   "source": [
    "Beautiful! We have an API key. Since the key comes from WQU, we'll need to use a different base URL to get data from AlphaVantage. Let's see if we can get our new URL for Ambuja Cement working."
   ]
  },
  {
   "cell_type": "code",
   "execution_count": null,
   "id": "cbf1bafe-e103-4a1d-9e30-bc3bb04b6675",
   "metadata": {
    "deletable": false,
    "editable": false,
    "init_cell": true
   },
   "outputs": [],
   "source": [
    "VimeoVideo(\"762464501\", h=\"0d93900843\", width=600)"
   ]
  },
  {
   "cell_type": "markdown",
   "id": "015b1f5e-9866-408d-995a-e9110c06b88d",
   "metadata": {
    "deletable": false,
    "editable": false
   },
   "source": [
    "**Task 8.1.4:** Create a new URL for `\"AMBUJACEM.BSE\"`. This time, use the base URL `\"https://learn-api.wqu.edu/1/data-services/alpha-vantage/query?\"` and incorporate your API key.\n",
    "\n",
    "- [What's an f-string?](../%40textbook/02-python-advanced.ipynb#Working-with-f-strings-)"
   ]
  },
  {
   "cell_type": "code",
   "execution_count": null,
   "id": "c194a746",
   "metadata": {
    "deletable": false
   },
   "outputs": [],
   "source": [
    "url = ...\n",
    "\n",
    "print(\"url type:\", type(url))\n",
    "url"
   ]
  },
  {
   "cell_type": "markdown",
   "id": "b69ea6f1-060e-4513-b45e-e7d27e5d1d6a",
   "metadata": {
    "deletable": false,
    "editable": false
   },
   "source": [
    "It's working! Turns out there are a lot more parameters. Let's build up our URL to include them."
   ]
  },
  {
   "cell_type": "code",
   "execution_count": null,
   "id": "60734584-d78c-4141-a40d-8a062bbd9963",
   "metadata": {
    "deletable": false,
    "editable": false,
    "init_cell": true
   },
   "outputs": [],
   "source": [
    "VimeoVideo(\"762464518\", h=\"34d8d0a0fd\", width=600)"
   ]
  },
  {
   "cell_type": "markdown",
   "id": "0507309b-25a3-4984-bea3-792b97f4029c",
   "metadata": {
    "deletable": false,
    "editable": false
   },
   "source": [
    "**Task 8.1.5:** <a id=\"task-815\">Go</a> to the documentation for the [AlphaVantage Time Series Daily API](https://www.alphavantage.co/documentation/#daily). Expand your URL to incorporate all the parameters listed in the documentation. Also, to make your URL more dynamic, create variable names for all the parameters that can be added to the URL.\n",
    "\n",
    "- [What's an f-string?](../%40textbook/02-python-advanced.ipynb#Working-with-f-strings-)"
   ]
  },
  {
   "cell_type": "code",
   "execution_count": null,
   "id": "f48b3383-8a31-4488-928a-10a766fb1832",
   "metadata": {
    "deletable": false
   },
   "outputs": [],
   "source": [
    "ticker = ...\n",
    "output_size = ...\n",
    "data_type = ...\n",
    "\n",
    "url = ...\n",
    "\n",
    "print(\"url type:\", type(url))\n",
    "url"
   ]
  },
  {
   "cell_type": "markdown",
   "id": "989a8c6f-984a-4546-ab1c-e2d671695a9e",
   "metadata": {
    "deletable": false,
    "editable": false
   },
   "source": [
    "# Accessing APIs Through a Request"
   ]
  },
  {
   "cell_type": "markdown",
   "id": "beeea08b-9e69-43cb-8e26-75a9b4dae6a6",
   "metadata": {
    "deletable": false,
    "editable": false
   },
   "source": [
    "We've seen how to access the AlphaVantage API by clicking on a URL, but this won't work for the application we're building in this project because only humans click URLs. Computer programs access APIs by making **requests**. Let's build our first request using the URL we created in the previous task. "
   ]
  },
  {
   "cell_type": "code",
   "execution_count": null,
   "id": "a9043f59-3fe9-4c3a-a728-56d1ec72421e",
   "metadata": {
    "deletable": false,
    "editable": false,
    "init_cell": true
   },
   "outputs": [],
   "source": [
    "VimeoVideo(\"762464549\", h=\"24e94d3560\", width=600)"
   ]
  },
  {
   "cell_type": "markdown",
   "id": "9b9253d6-ea28-4f96-9124-f03fb784b087",
   "metadata": {
    "deletable": false,
    "editable": false
   },
   "source": [
    "**Task 8.1.6:** Use the requests library to make a `get` request to the URL you created in the previous task. Assign the response to the variable `response`. \n",
    "\n",
    "- [What's an HTTP request?](../%40textbook/22-apis.ipynb#RESTful-APIs)\n",
    "- [Make an HTTP request using requests.](../%40textbook/22-apis.ipynb#Making-an-HTTP-Request)<span style='color: transparent; font-size:1%'>WQU WorldQuant University Applied Data Science Lab QQQQ</span>"
   ]
  },
  {
   "cell_type": "code",
   "execution_count": null,
   "id": "939d960f-6ace-4c13-b8ae-e62e2da9cc43",
   "metadata": {
    "deletable": false
   },
   "outputs": [],
   "source": [
    "response = ...\n",
    "\n",
    "print(\"response type:\", type(response))"
   ]
  },
  {
   "cell_type": "markdown",
   "id": "9b19f01b-c976-4c4e-b58e-80868162652f",
   "metadata": {
    "deletable": false,
    "editable": false
   },
   "source": [
    "That tells us what kind of response we've gotten, but it doesn't tell us anything about what it means. If we want to find out what kinds of data are actually *in* the response, we'll need to use the `dir` command."
   ]
  },
  {
   "cell_type": "code",
   "execution_count": null,
   "id": "b9bb6a18-5931-4e76-8b72-c8f071a35e1c",
   "metadata": {
    "deletable": false,
    "editable": false,
    "init_cell": true
   },
   "outputs": [],
   "source": [
    "VimeoVideo(\"762464578\", h=\"a2dd6d0361\", width=600)"
   ]
  },
  {
   "cell_type": "markdown",
   "id": "565e1803-12ed-4ce6-ad78-0fc8adb8d822",
   "metadata": {
    "deletable": false,
    "editable": false
   },
   "source": [
    "**Task 8.1.7:** Use `dir` command to see what attributes and methods `response` has.\n",
    "\n",
    "- [What's a class attribute?](../%40textbook/21-python-object-oriented-programming.ipynb#Attributes)\n",
    "- [What's a class method?](../%40textbook/21-python-object-oriented-programming.ipynb#Methods)"
   ]
  },
  {
   "cell_type": "code",
   "execution_count": null,
   "id": "1cc5a19d-fbba-4fef-943d-054b36938fe0",
   "metadata": {
    "deletable": false
   },
   "outputs": [],
   "source": [
    "# Use `dir` on your `response`\n"
   ]
  },
  {
   "cell_type": "markdown",
   "id": "c88af2a2-baf3-42d6-87b4-0c48995ec6a9",
   "metadata": {
    "deletable": false,
    "editable": false
   },
   "source": [
    "`dir` returns a list, and, as you can see, there are lots of possibilities here! For now, let's focus on two attributes: `status_code` and `text`."
   ]
  },
  {
   "cell_type": "markdown",
   "id": "af47e43d-42a6-4a72-9f43-f8fac2aa5a72",
   "metadata": {
    "deletable": false,
    "editable": false
   },
   "source": [
    "We'll start with `status_code`. Every time you make a call to a URL, the response includes an [HTTP status code](https://en.wikipedia.org/wiki/List_of_HTTP_status_codes) which can be accessed with the `status_code` method. Let's see what ours is."
   ]
  },
  {
   "cell_type": "code",
   "execution_count": null,
   "id": "6a0b3702-c1b1-4950-9b81-571a593c0eb2",
   "metadata": {
    "deletable": false,
    "editable": false,
    "init_cell": true
   },
   "outputs": [],
   "source": [
    "VimeoVideo(\"762464598\", h=\"c10c6e4186\", width=600)"
   ]
  },
  {
   "cell_type": "markdown",
   "id": "40cf4bf4-373a-493d-875c-b87133fea63b",
   "metadata": {
    "deletable": false,
    "editable": false
   },
   "source": [
    "**Task 8.1.8:** Assign the status code for your `response` to the variable `response_code`.\n",
    "\n",
    "- [What's a status code?](../%40textbook/22-apis.ipynb#Making-an-HTTP-Request)"
   ]
  },
  {
   "cell_type": "code",
   "execution_count": null,
   "id": "c1457f39-6bf5-4c2f-b532-098aae41e708",
   "metadata": {
    "deletable": false
   },
   "outputs": [],
   "source": [
    "response_code = ...\n",
    "\n",
    "print(\"code type:\", type(response_code))\n",
    "response_code"
   ]
  },
  {
   "cell_type": "markdown",
   "id": "6adc6c5c-1913-4389-9260-37bb0c417329",
   "metadata": {
    "deletable": false,
    "editable": false
   },
   "source": [
    "Translated to English, `200` means \"OK\". It's the standard response for a successful HTTP request. In other words, it worked! We successfully received data back from the AlphaVantage API. \n",
    "\n",
    "Now let's take a look at the `text`."
   ]
  },
  {
   "cell_type": "code",
   "execution_count": null,
   "id": "b4541628-1a91-427d-a80d-30467ec3bfc1",
   "metadata": {
    "deletable": false,
    "editable": false,
    "init_cell": true
   },
   "outputs": [],
   "source": [
    "VimeoVideo(\"762464606\", h=\"d3d7dcc1bb\", width=600)"
   ]
  },
  {
   "attachments": {},
   "cell_type": "markdown",
   "id": "22879f32",
   "metadata": {
    "deletable": false,
    "editable": false
   },
   "source": [
    "**Task 8.1.9:** Assign the text for your `response` to the variable `response_text`."
   ]
  },
  {
   "cell_type": "code",
   "execution_count": null,
   "id": "eaaec346",
   "metadata": {
    "deletable": false
   },
   "outputs": [],
   "source": [
    "response_text = ...\n",
    "\n",
    "print(\"response_text type:\", type(response_text))\n",
    "print(response_text[:200])"
   ]
  },
  {
   "cell_type": "markdown",
   "id": "e34ff6e1-4949-4b39-872c-586dd9cfdecb",
   "metadata": {
    "deletable": false,
    "editable": false
   },
   "source": [
    "This string looks like the data we previously saw in our browser when we clicked on the URL in <a href=\"#task-815\">Task 8.1.5</a>. But we can't work with data structured as JSON when it's a string. Instead, we need it in a dictionary."
   ]
  },
  {
   "cell_type": "code",
   "execution_count": null,
   "id": "c2fb71dd-f4c8-4a42-8755-a8ea67116e3e",
   "metadata": {
    "deletable": false,
    "editable": false,
    "init_cell": true
   },
   "outputs": [],
   "source": [
    "VimeoVideo(\"762464628\", h=\"2758875cfe\", width=600)"
   ]
  },
  {
   "cell_type": "markdown",
   "id": "504c84be-9d80-47c7-bf0e-a1ef335837ec",
   "metadata": {
    "deletable": false,
    "editable": false
   },
   "source": [
    "**Task 8.1.10:** Use `json` method to access a dictionary version of the data. Assign it to the variable name `response_data`.\n",
    "\n",
    "- [What's JSON?](../%40textbook/01-python-getting-started.ipynb#JSON)"
   ]
  },
  {
   "cell_type": "code",
   "execution_count": null,
   "id": "3d636dfc-bd90-4e78-b709-d2d1ef1e4ad2",
   "metadata": {
    "deletable": false
   },
   "outputs": [],
   "source": [
    "response_data = ...\n",
    "\n",
    "print(\"response_data type:\", type(response_data))"
   ]
  },
  {
   "cell_type": "markdown",
   "id": "22b60cb3-32b0-48bc-823b-cc8ba381cd13",
   "metadata": {
    "deletable": false,
    "editable": false
   },
   "source": [
    "Let's check to make sure that the data is structured in the same way we saw in our browser."
   ]
  },
  {
   "cell_type": "code",
   "execution_count": null,
   "id": "8429f5b7-ba22-4665-b096-1dc9218cd25b",
   "metadata": {
    "deletable": false,
    "editable": false,
    "init_cell": true
   },
   "outputs": [],
   "source": [
    "VimeoVideo(\"762464643\", h=\"a972b7a34b\", width=600)"
   ]
  },
  {
   "cell_type": "markdown",
   "id": "66ecc542-a341-4064-81c2-5ca7022462b9",
   "metadata": {
    "deletable": false,
    "editable": false
   },
   "source": [
    "**Task 8.1.11:** Print the keys of `response_data`. Are they what you expected?\n",
    "\n",
    "- [List the keys of a dictionary in Python.](../%40textbook/01-python-getting-started.ipynb#Dictionary-Keys)"
   ]
  },
  {
   "cell_type": "code",
   "execution_count": null,
   "id": "93bfaff8-a2d7-4d10-813a-9dc2674c07d7",
   "metadata": {
    "deletable": false
   },
   "outputs": [],
   "source": [
    "# Print `response_data` keys\n"
   ]
  },
  {
   "cell_type": "markdown",
   "id": "da856ef7-8c63-4b1f-b7c1-0f4c03e93835",
   "metadata": {
    "deletable": false,
    "editable": false
   },
   "source": [
    "Now let's look at data that's assigned to the `\"Time Series (Daily)\"` key."
   ]
  },
  {
   "cell_type": "code",
   "execution_count": null,
   "id": "922c5327-e054-4d8a-9e0c-b4dfea04fc08",
   "metadata": {
    "deletable": false,
    "editable": false,
    "init_cell": true
   },
   "outputs": [],
   "source": [
    "VimeoVideo(\"762464662\", h=\"41b72e3308\", width=600)"
   ]
  },
  {
   "cell_type": "markdown",
   "id": "3c8cb1c4-6e91-49b6-802f-becbf21731eb",
   "metadata": {
    "deletable": false,
    "editable": false
   },
   "source": [
    "**Task 8.1.12:** Assign the value for the `\"Time Series (Daily)\"` key to the variable `stock_data`. Then examine the data for one of the days in `stock_data`.\n",
    "\n",
    "- [List the keys of a dictionary in Python.](../%40textbook/01-python-getting-started.ipynb#Dictionary-Keys)\n",
    "- [Access an entry in a dictionary in Python.](../%40textbook/01-python-getting-started.ipynb#Working-with-Dictionaries)"
   ]
  },
  {
   "cell_type": "code",
   "execution_count": null,
   "id": "2b658f23-b2c3-4812-9536-8305f1edd8b2",
   "metadata": {
    "deletable": false
   },
   "outputs": [],
   "source": [
    "# Extract `\"Time Series (Daily)\"` value from `response_data`\n",
    "stock_data = ...\n",
    "\n",
    "print(\"stock_data type:\", type(stock_data))\n",
    "\n",
    "# Extract data for one of the days in `stock_data`\n",
    "\n"
   ]
  },
  {
   "cell_type": "markdown",
   "id": "f25a90d6-6290-47dd-95cb-36823d0c17cb",
   "metadata": {
    "deletable": false,
    "editable": false
   },
   "source": [
    "Now that we know how the data is organized when we extract it from the API, let's transform it into a DataFrame to make it more manageable."
   ]
  },
  {
   "cell_type": "code",
   "execution_count": null,
   "id": "78214c79-5bce-4d69-8903-856ae8d27ded",
   "metadata": {
    "deletable": false,
    "editable": false,
    "init_cell": true
   },
   "outputs": [],
   "source": [
    "VimeoVideo(\"762464686\", h=\"bbe7285343\", width=600)"
   ]
  },
  {
   "cell_type": "markdown",
   "id": "8799fb60-4b46-4be3-af56-18ce7c4c39f3",
   "metadata": {
    "deletable": false,
    "editable": false
   },
   "source": [
    "**Task 8.1.13:** Read the data from `stock_data` into a DataFrame named `df_ambuja`. Be sure all your data types are correct!\n",
    "\n",
    "- [Create a DataFrame from a dictionary in pandas.](../%40textbook/03-pandas-getting-started.ipynb#Dictionaries)\n",
    "- [Inspect a DataFrame using the shape, info, and head in pandas.](../%40textbook/03-pandas-getting-started.ipynb#Inspecting-DataFrames)"
   ]
  },
  {
   "cell_type": "code",
   "execution_count": null,
   "id": "c58d0b13-5146-44fc-9be0-2489aaec533d",
   "metadata": {
    "deletable": false
   },
   "outputs": [],
   "source": [
    "df_ambuja = ...\n",
    "\n",
    "print(\"df_ambuja shape:\", df_ambuja.shape)\n",
    "print()\n",
    "print(df_ambuja.info())\n",
    "df_ambuja.head(10)"
   ]
  },
  {
   "cell_type": "markdown",
   "id": "1635c96b-1602-4df5-92f8-f8fa4895981f",
   "metadata": {
    "deletable": false,
    "editable": false
   },
   "source": [
    "Did you notice that the index for `df_ambuja` doesn't have an entry for all days? Given that this is stock market data, why do you think that is?"
   ]
  },
  {
   "cell_type": "markdown",
   "id": "c3a80962-1d08-42a5-8149-3b6cf7bba91b",
   "metadata": {
    "deletable": false,
    "editable": false
   },
   "source": [
    "All in all, this looks pretty good, but there are a couple of problems: the data type of the dates, and the format of the headers. Let's fix the dates first. Right now, the dates are strings; in order to make the rest of our code work, we'll need to create a proper `DatetimeIndex`. "
   ]
  },
  {
   "cell_type": "code",
   "execution_count": null,
   "id": "ba324670-fd8c-4df3-a328-1383749e5cea",
   "metadata": {
    "deletable": false,
    "editable": false,
    "init_cell": true
   },
   "outputs": [],
   "source": [
    "VimeoVideo(\"762464725\", h=\"4408b613a1\", width=600)"
   ]
  },
  {
   "cell_type": "markdown",
   "id": "ab2a80df-dd55-4c13-a8f1-adc27680b910",
   "metadata": {
    "deletable": false,
    "editable": false
   },
   "source": [
    "**Task 8.1.14:** Transform the index of `df_ambuja` into a `DatetimeIndex` with the name `\"date\"`.\n",
    "\n",
    "- [Access the index of a DataFrame using pandas.](../%40textbook/03-pandas-getting-started.ipynb#Working-with-DataFrame-Indices)\n",
    "- [Convert data to `datetime` using pandas.](../%40textbook/04-pandas-advanced.ipynb#Time-Stamps)"
   ]
  },
  {
   "cell_type": "code",
   "execution_count": null,
   "id": "30b1f432-c465-400c-98dc-9249038bd98c",
   "metadata": {
    "deletable": false
   },
   "outputs": [],
   "source": [
    "# Convert `df_ambuja` index to `DatetimeIndex`\n",
    "\n",
    "\n",
    "# Name index \"date\"\n",
    "\n",
    "\n",
    "print(df_ambuja.info())\n",
    "df_ambuja.head()"
   ]
  },
  {
   "cell_type": "markdown",
   "id": "b7eb1d5e-ef3e-422f-95a8-72a1aa9d4d2a",
   "metadata": {
    "deletable": false,
    "editable": false
   },
   "source": [
    "<div class=\"alert alert-info\" role=\"alert\">\n",
    "    <p>Note that the rows in <code>df_ambuja</code> are sorted <b>descending</b>, with the most recent date at the top. This will work to our advantage when we store and retrieve the data from our application database, but we'll need to sort it <b>ascending</b> before we can use it to train a model.</p>\n",
    "</div>"
   ]
  },
  {
   "cell_type": "markdown",
   "id": "cfa35c8f-9447-4ffc-b2df-ec57e9fc0d71",
   "metadata": {
    "deletable": false,
    "editable": false
   },
   "source": [
    "Okay! Now that the dates are fixed, lets deal with the headers. There isn't really anything *wrong* with them, but those numbers make them look a little unfinished. Let's get rid of them."
   ]
  },
  {
   "cell_type": "code",
   "execution_count": null,
   "id": "fab8df25-325b-4293-bbb9-07a022a8dd08",
   "metadata": {
    "deletable": false,
    "editable": false,
    "init_cell": true
   },
   "outputs": [],
   "source": [
    "VimeoVideo(\"762464753\", h=\"5563b3ca4f\", width=600)"
   ]
  },
  {
   "cell_type": "markdown",
   "id": "5eac49bc-e6c0-4607-8bf7-df6d2a7cfdf1",
   "metadata": {
    "deletable": false,
    "editable": false
   },
   "source": [
    "**Task 8.1.15:** Remove the numbering from the column names for `df_ambuja`.\n",
    "\n",
    "- [What's a list comprehension?](../%40textbook/02-python-advanced.ipynb#List-Comprehension-)\n",
    "- [Write a list comprehension in Python.](../%40textbook/02-python-advanced.ipynb#List-Comprehension-)\n",
    "- [Split a string in Python.](../%40textbook/02-python-advanced.ipynb#Manipulating-Strings)"
   ]
  },
  {
   "cell_type": "code",
   "execution_count": null,
   "id": "0580f82d-83a6-43cb-9437-48affb90ecb3",
   "metadata": {
    "deletable": false
   },
   "outputs": [],
   "source": [
    "# Remove numbering from `df_ambuja` column names\n",
    "df_ambuja.columns = ...\n",
    "\n",
    "print(df_ambuja.info())\n",
    "df_ambuja.head()"
   ]
  },
  {
   "cell_type": "markdown",
   "id": "178c0031-beb5-4ea8-b79a-ebd4b4e747ec",
   "metadata": {
    "deletable": false,
    "editable": false
   },
   "source": [
    "# Defensive Programming"
   ]
  },
  {
   "cell_type": "markdown",
   "id": "f1780074-77fc-467c-aa7a-d66a214304e9",
   "metadata": {
    "deletable": false,
    "editable": false
   },
   "source": [
    "Defensive programming is the practice of writing code which will continue to function, even if something goes wrong. We'll never be able to foresee all the problems people might run into with our code, but we can take steps to make sure things don't fall apart whenever one of those problems happens. \n",
    "\n",
    "So far, we've made API requests where everything works. But coding errors and problems with servers are common, and they can cause big issues in a data science project. Let's see how our `response` changes when we introduce common bugs in our code. "
   ]
  },
  {
   "cell_type": "code",
   "execution_count": null,
   "id": "9872ceda-714c-47ca-ab05-2e40254d8823",
   "metadata": {
    "deletable": false,
    "editable": false,
    "init_cell": true
   },
   "outputs": [],
   "source": [
    "VimeoVideo(\"762464781\", h=\"d7dcf16d18\", width=600)"
   ]
  },
  {
   "cell_type": "markdown",
   "id": "43029733-5f6a-4112-8930-268632c6c3f1",
   "metadata": {
    "deletable": false,
    "editable": false
   },
   "source": [
    "**Task 8.1.16:** Return to <a href=\"#task-815\">Task 8.1.5</a> and change the first part of your URL. Instead of `\"query\"`, use `\"search\"` (a path that doesn't exist). Then rerun your code for all the tasks that follow. What changes? What stays the same?"
   ]
  },
  {
   "cell_type": "markdown",
   "id": "26c179f8-a682-4c83-b9bb-8a99b14f0a9d",
   "metadata": {
    "deletable": false,
    "editable": false
   },
   "source": [
    "We know what happens when we try to access a bad address. But what about when we access the *right* path with a *bad* ticker symbol?"
   ]
  },
  {
   "cell_type": "code",
   "execution_count": null,
   "id": "54dca546-9c85-48bb-8e95-a4f96623a230",
   "metadata": {
    "deletable": false,
    "editable": false,
    "init_cell": true
   },
   "outputs": [],
   "source": [
    "VimeoVideo(\"762464811\", h=\"84ff4d2518\", width=600)"
   ]
  },
  {
   "cell_type": "markdown",
   "id": "0b7c93ef-3833-4e15-97fc-68fbd8c2990e",
   "metadata": {
    "deletable": false,
    "editable": false
   },
   "source": [
    "**Task 8.1.17:** Return to <a href=\"#task-815\">Task 8.1.5</a> and change the ticker symbol from `\"AMBUJACEM.BSE\"` to `\"RAMBUJACEM.BSE\"` (a company that doesn't exist). Then rerun your code for all the tasks that follow. Again, take note of what changes and what stays the same."
   ]
  },
  {
   "cell_type": "markdown",
   "id": "75bdd2ed-cb05-4aef-bd1e-992b57f8472c",
   "metadata": {
    "deletable": false,
    "editable": false
   },
   "source": [
    "Let's formalize our extraction and transformation process for the AlphaVantage API into a reproducible function."
   ]
  },
  {
   "cell_type": "code",
   "execution_count": null,
   "id": "b8407a3d-6257-4f6c-a592-3e0ead10ad24",
   "metadata": {
    "deletable": false,
    "editable": false,
    "init_cell": true
   },
   "outputs": [],
   "source": [
    "VimeoVideo(\"762464843\", h=\"858c9e1388\", width=600)"
   ]
  },
  {
   "cell_type": "markdown",
   "id": "82bba2b7-95e7-4544-8940-2af3764ef261",
   "metadata": {
    "deletable": false,
    "editable": false
   },
   "source": [
    "**Task 8.1.18:** Build a `get_daily` function that gets data from the AlphaVantage API and returns a clean DataFrame. Use the docstring as guidance. When you're satisfied with the result, submit your work to the grader. \n",
    "\n",
    "- [What's a function?](../%40textbook/02-python-advanced.ipynb#Functions)\n",
    "- [Write a function in Python.](../%40textbook/02-python-advanced.ipynb#Functions)"
   ]
  },
  {
   "cell_type": "code",
   "execution_count": null,
   "id": "bd062d98-5dbe-421b-bb2d-9ec81961b56e",
   "metadata": {
    "deletable": false
   },
   "outputs": [],
   "source": [
    "def get_daily():\n",
    "\n",
    "    \"\"\"Get daily time series of an equity from AlphaVantage API.\n",
    "\n",
    "    Parameters\n",
    "    ----------\n",
    "    ticker : str\n",
    "        The ticker symbol of the equity.\n",
    "    output_size : str, optional\n",
    "        Number of observations to retrieve. \"compact\" returns the\n",
    "        latest 100 observations. \"full\" returns all observations for\n",
    "        equity. By default \"full\".\n",
    "\n",
    "    Returns\n",
    "    -------\n",
    "    pd.DataFrame\n",
    "        Columns are 'open', 'high', 'low', 'close', and 'volume'.\n",
    "        All are numeric.\n",
    "    \"\"\"\n",
    "    # Create URL (8.1.5)\n",
    "    \n",
    "\n",
    "    # Send request to API (8.1.6)\n",
    "\n",
    "\n",
    "    # Extract JSON data from response (8.1.10)\n",
    "\n",
    "    \n",
    "    # Read data into DataFrame (8.1.12 & 8.1.13)\n",
    "    \n",
    "\n",
    "    # Convert index to `DatetimeIndex` named \"date\" (8.1.14)\n",
    "    \n",
    "\n",
    "    # Remove numbering from columns (8.1.15)\n",
    "\n",
    "\n",
    "    # Return DataFrame\n",
    "    return df"
   ]
  },
  {
   "cell_type": "code",
   "execution_count": null,
   "id": "4f10991a-ec93-42ac-9888-e8f45e668451",
   "metadata": {
    "deletable": false
   },
   "outputs": [],
   "source": [
    "# Test your function\n",
    "df_ambuja = get_daily(ticker=\"AMBUJACEM.BSE\")\n",
    "\n",
    "print(df_ambuja.info())\n",
    "df_ambuja.head()"
   ]
  },
  {
   "cell_type": "code",
   "execution_count": null,
   "id": "42bfbdc1-9e78-4f0f-90c5-b8160f4b4195",
   "metadata": {
    "deletable": false,
    "editable": false
   },
   "outputs": [],
   "source": [
    "submission = get_daily(ticker=\"AMBUJACEM.BSE\", output_size=\"compact\")\n",
    "wqet_grader.grade(\"Project 8 Assessment\", \"Task 8.1.18\", submission)"
   ]
  },
  {
   "cell_type": "markdown",
   "id": "a15de1d8-f719-40d4-af32-f7f7a4163e0b",
   "metadata": {
    "deletable": false,
    "editable": false
   },
   "source": [
    "How does this function deal with the two bugs we've explored in this section? Our first error, a bad URL, is something we don't need to worry about. No matter what the user inputs into this function, the URL will always be correct. But see what happens when the user inputs a bad ticker symbol. What's the error message? Would it help the user locate their mistake?"
   ]
  },
  {
   "cell_type": "code",
   "execution_count": null,
   "id": "fae60435-811e-4c49-9fba-5cfd8b432d58",
   "metadata": {
    "deletable": false,
    "editable": false,
    "init_cell": true
   },
   "outputs": [],
   "source": [
    "VimeoVideo(\"762464894\", h=\"6ed1dbb9c4\", width=600)"
   ]
  },
  {
   "cell_type": "markdown",
   "id": "875b1bdd-8f5f-4507-a257-8cc3b72f7b68",
   "metadata": {
    "deletable": false,
    "editable": false
   },
   "source": [
    "**Task 8.1.19:** Add an `if` clause to your `get_daily` function so that it throws an `Exception` when a user supplies a bad ticker symbol. Be sure the error message is informative.\n",
    "\n",
    "- [What's an Exception?](../%40textbook/02-python-advanced.ipynb#Error-Handling)\n",
    "- [Raise an Exception in Python.](../%40textbook/02-python-advanced.ipynb#Raising-Errors)"
   ]
  },
  {
   "cell_type": "code",
   "execution_count": null,
   "id": "0edf1068-520e-4160-8706-674e5438ef8e",
   "metadata": {
    "deletable": false,
    "tags": [
     "raises-exception"
    ]
   },
   "outputs": [],
   "source": [
    "# Test your Exception\n",
    "df_test = get_daily(ticker=\"ABUJACEM.BSE\")"
   ]
  },
  {
   "cell_type": "markdown",
   "id": "b9e19321-8e9c-449e-933d-008ebcfc0658",
   "metadata": {
    "deletable": false,
    "editable": false
   },
   "source": [
    "Alright! We now have all the tools we need to get the data for our project. In the next lesson, we'll make our AlphaVantage code more reusable by creating a `data` module with class definitions. We'll also create the code we need to store and read this data from our application database."
   ]
  },
  {
   "cell_type": "markdown",
   "id": "a15b1699",
   "metadata": {
    "deletable": false,
    "editable": false
   },
   "source": [
    "---\n",
    "Copyright 2023 WorldQuant University. This\n",
    "content is licensed solely for personal use. Redistribution or\n",
    "publication of this material is strictly prohibited.\n"
   ]
  }
 ],
 "metadata": {
  "kernelspec": {
   "display_name": "Python 3 (ipykernel)",
   "language": "python",
   "name": "python3"
  },
  "language_info": {
   "codemirror_mode": {
    "name": "ipython",
    "version": 3
   },
   "file_extension": ".py",
   "mimetype": "text/x-python",
   "name": "python",
   "nbconvert_exporter": "python",
   "pygments_lexer": "ipython3",
   "version": "3.9.6"
  }
 },
 "nbformat": 4,
 "nbformat_minor": 5
}
