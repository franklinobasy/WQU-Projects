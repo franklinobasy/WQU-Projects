{
 "cells": [
  {
   "cell_type": "markdown",
   "id": "cb414f9b",
   "metadata": {
    "deletable": false,
    "editable": false
   },
   "source": [
    "\n",
    "<div class=\"alert alert-info\" role=\"alert\">\n",
    "  <p>\n",
    "    <center><b>Usage Guidelines</b></center>\n",
    "  </p>\n",
    "\n",
    "  <p>\n",
    "    This lesson is part of the <b>DS Lab core curriculum</b>. For that reason, this notebook can only be used on your WQU virtual machine.\n",
    "  </p>\n",
    "\n",
    "  <p>\n",
    "    This means:\n",
    "    <ul>\n",
    "      <li><span style=\"color: red\">ⓧ</span> No downloading this notebook.</li>\n",
    "      <li><span style=\"color: red\">ⓧ</span> No re-sharing of this notebook with friends or colleagues.</li>\n",
    "      <li><span style=\"color: red\">ⓧ</span> No downloading the embedded videos in this notebook.</li>\n",
    "      <li><span style=\"color: red\">ⓧ</span> No re-sharing embedded videos with friends or colleagues.</li>\n",
    "      <li><span style=\"color: red\">ⓧ</span> No adding this notebook to public or private repositories.</li>\n",
    "      <li><span style=\"color: red\">ⓧ</span> No uploading this notebook (or screenshots of it) to other websites, including websites for study resources.</li>\n",
    "    </ul>\n",
    "\n",
    "  </p>\n",
    "</div>\n"
   ]
  },
  {
   "cell_type": "markdown",
   "id": "60f7d8d3-f009-4820-ae85-2bd74e335df7",
   "metadata": {
    "deletable": false,
    "editable": false
   },
   "source": [
    "<font size=\"+3\"><strong>8.5 Volatility Forecasting in South Africa 🇿🇦</strong></font>"
   ]
  },
  {
   "cell_type": "markdown",
   "id": "bf78a758-00f0-410d-a132-26651040d081",
   "metadata": {
    "deletable": false,
    "editable": false
   },
   "source": [
    "In this assignment you'll build a model to predict stock volatility for the telecommunications company [MTN Group](https://www.mtn.co.za/home/)."
   ]
  },
  {
   "cell_type": "markdown",
   "id": "3fce9868-1587-4786-8dbc-96a7748b6bcb",
   "metadata": {
    "deletable": false,
    "editable": false
   },
   "source": [
    "<div class=\"alert alert-info\" role=\"alert\">\n",
    "    <p><b>Tip:</b> There are some tasks in this assignment that you can complete by importing functions and classes you created for your app. Give it a try!</p>\n",
    "</div>"
   ]
  },
  {
   "cell_type": "markdown",
   "id": "7b6da0d1-a050-43f5-bfb9-3f7083d37583",
   "metadata": {
    "deletable": false,
    "editable": false
   },
   "source": [
    "<div class=\"alert alert-block alert-warning\">\n",
    "<p><b>Warning:</b> There are some tasks in this assignment where there is an extra code block that will transform your work into a <code>submission</code> that's compatible with the grader. Be sure to run those cells and inspect the <code>submission</code> before you submit to the grader.</p> \n",
    "</div>"
   ]
  },
  {
   "cell_type": "code",
   "execution_count": null,
   "id": "c0ee5fa1-d6d4-438e-bfb8-6bddb7675494",
   "metadata": {
    "deletable": false,
    "editable": false,
    "init_cell": true
   },
   "outputs": [],
   "source": [
    "%load_ext autoreload\n",
    "%autoreload 2\n",
    "\n",
    "import wqet_grader\n",
    "from arch.univariate.base import ARCHModelResult\n",
    "\n",
    "wqet_grader.init(\"Project 8 Assessment\")\n"
   ]
  },
  {
   "cell_type": "code",
   "execution_count": null,
   "id": "382ab84c-4d1f-4527-a563-0bb2f609c4f6",
   "metadata": {
    "deletable": false
   },
   "outputs": [],
   "source": [
    "# Import your libraries here\n"
   ]
  },
  {
   "cell_type": "markdown",
   "id": "40dca6b3-8a8b-4f67-b7c0-4fb38d2ad3ac",
   "metadata": {
    "deletable": false,
    "editable": false
   },
   "source": [
    "# Working with APIs"
   ]
  },
  {
   "cell_type": "markdown",
   "id": "48ca26b3-b34b-49bf-b57e-7efeb6eeb262",
   "metadata": {
    "deletable": false,
    "editable": false
   },
   "source": [
    "**Task 8.5.1:** Create a URL to get **all** the stock data for MTN Group (`\"MTNOY\"`) from AlphaVantage in JSON format. Be sure to use the `https://learn-api.wqu.edu` hostname. And don't worry: your submission won't include your API key!"
   ]
  },
  {
   "cell_type": "code",
   "execution_count": null,
   "id": "cc651730-dd9f-4fca-981d-759eb0e365d7",
   "metadata": {
    "deletable": false
   },
   "outputs": [],
   "source": [
    "ticker = ...\n",
    "output_size = ...\n",
    "data_type = ...\n",
    "\n",
    "url = ...\n",
    "\n",
    "print(\"url type:\", type(url))\n",
    "url"
   ]
  },
  {
   "cell_type": "code",
   "execution_count": null,
   "id": "4fc33ddb-0a96-4c9d-b6cb-6bf0f13d0a8e",
   "metadata": {
    "deletable": false,
    "editable": false
   },
   "outputs": [],
   "source": [
    "# Remove API key for submission\n",
    "submission_851 = url[:170]\n",
    "submission_851"
   ]
  },
  {
   "cell_type": "code",
   "execution_count": null,
   "id": "fc6dd1e1-e796-4340-8b5f-be56f7600ee9",
   "metadata": {
    "deletable": false,
    "editable": false
   },
   "outputs": [],
   "source": [
    "wqet_grader.grade(\"Project 8 Assessment\", \"Task 8.5.1\", submission_851)"
   ]
  },
  {
   "cell_type": "markdown",
   "id": "eacea647-a614-4daf-9573-d0a56191fca9",
   "metadata": {
    "deletable": false,
    "editable": false
   },
   "source": [
    "**Task 8.5.2:** Create an HTTP request for the URL you created in the previous task. The grader will evaluate your work by looking at the ticker symbol in the `\"Meta Data\"` key-value pair in your response."
   ]
  },
  {
   "cell_type": "code",
   "execution_count": null,
   "id": "ed726ed0-0bc9-43a0-9d50-5a16382c8bf8",
   "metadata": {
    "deletable": false
   },
   "outputs": [],
   "source": [
    "response = ...\n",
    "\n",
    "print(\"response type:\", type(response))"
   ]
  },
  {
   "cell_type": "code",
   "execution_count": null,
   "id": "3a6ec61c-96b3-4974-aa8d-359b8646c5c8",
   "metadata": {
    "deletable": false,
    "editable": false
   },
   "outputs": [],
   "source": [
    "# Get symbol in `\"Meta Data\"`\n",
    "submission_852 = response.json()[\"Meta Data\"][\"2. Symbol\"]\n",
    "submission_852"
   ]
  },
  {
   "cell_type": "code",
   "execution_count": null,
   "id": "dc8be4bd-fdd6-4f83-a6ac-3e6b05c3d04d",
   "metadata": {
    "deletable": false,
    "editable": false
   },
   "outputs": [],
   "source": [
    "wqet_grader.grade(\"Project 8 Assessment\", \"Task 8.5.2\", submission_852)"
   ]
  },
  {
   "cell_type": "markdown",
   "id": "db7ba892-56ad-4e90-b315-a1a2f7bad45a",
   "metadata": {
    "deletable": false,
    "editable": false
   },
   "source": [
    "**Task 8.5.3:** Get status code of your `response` and assign it to the variable `response_code`."
   ]
  },
  {
   "cell_type": "code",
   "execution_count": null,
   "id": "8c1f19d1-5169-4aaa-b7c9-430306eec30a",
   "metadata": {
    "deletable": false
   },
   "outputs": [],
   "source": [
    "response_code = ...\n",
    "\n",
    "print(\"code type:\", type(response_code))\n",
    "response_code"
   ]
  },
  {
   "cell_type": "code",
   "execution_count": null,
   "id": "e430d185-758f-494a-808a-30a02bc8a42a",
   "metadata": {
    "deletable": false,
    "editable": false
   },
   "outputs": [],
   "source": [
    "wqet_grader.grade(\"Project 8 Assessment\", \"Task 8.5.3\", response_code)"
   ]
  },
  {
   "cell_type": "markdown",
   "id": "e8444d34-d5de-4319-ad39-2cb4c9f9e121",
   "metadata": {
    "deletable": false,
    "editable": false
   },
   "source": [
    "# Test-Driven Development"
   ]
  },
  {
   "cell_type": "markdown",
   "id": "52d0d03b-e556-4945-ac5b-b523b4380c01",
   "metadata": {
    "deletable": false,
    "editable": false
   },
   "source": [
    "**Task 8.5.4:** Create a DataFrame `df_mtnoy` with all the stock data for MTN. Make sure that the DataFrame has the correct type of index and column names. The grader will evaluate your work by looking at the row in `df_mtnoy` for 6 December 2021."
   ]
  },
  {
   "cell_type": "code",
   "execution_count": null,
   "id": "f824b958-dea2-4a04-8966-aeeda112c855",
   "metadata": {
    "deletable": false
   },
   "outputs": [],
   "source": [
    "\n",
    "df_mtnoy = ...\n",
    "\n",
    "print(\"df_mtnoy type:\", type(df_mtnoy))\n",
    "df_mtnoy.head()"
   ]
  },
  {
   "cell_type": "code",
   "execution_count": null,
   "id": "47e24e07-e525-400e-bb12-7eb37a120ae7",
   "metadata": {
    "deletable": false,
    "editable": false
   },
   "outputs": [],
   "source": [
    "# Get row for 6 Dec 2021\n",
    "submission_854 = df_mtnoy.loc[\"2021-12-06\"].to_frame().T\n",
    "submission_854"
   ]
  },
  {
   "cell_type": "code",
   "execution_count": null,
   "id": "71b96beb-9727-4b29-b003-33a1c0d4d2e4",
   "metadata": {
    "deletable": false,
    "editable": false
   },
   "outputs": [],
   "source": [
    "wqet_grader.grade(\"Project 8 Assessment\", \"Task 8.5.4\", submission_854)\n"
   ]
  },
  {
   "cell_type": "markdown",
   "id": "a01e7eda-d059-4d2b-a265-87683e0de495",
   "metadata": {
    "deletable": false,
    "editable": false
   },
   "source": [
    "**Task 8.5.5:** Connect to the database whose name is stored in the `.env` file for this project. Be sure to set the `check_same_thread` argument to `False`. Assign the connection to the variable `connection`. The grader will evaluate your work by looking at the database location assigned to `connection`."
   ]
  },
  {
   "cell_type": "code",
   "execution_count": null,
   "id": "8120ddb5-e093-4940-b61b-fcb4d03a1d46",
   "metadata": {
    "deletable": false
   },
   "outputs": [],
   "source": [
    "connection = ...\n",
    "connection"
   ]
  },
  {
   "cell_type": "code",
   "execution_count": null,
   "id": "06885a80-527c-40a3-8dac-bbb875a5e8ff",
   "metadata": {
    "deletable": false,
    "editable": false
   },
   "outputs": [],
   "source": [
    "# Get location of database for `connection`\n",
    "submission_855 = connection.cursor().execute(\"PRAGMA database_list;\").fetchall()[0][-1]\n",
    "submission_855"
   ]
  },
  {
   "cell_type": "code",
   "execution_count": null,
   "id": "23693fab-c358-4543-ba4e-b298e7b70db5",
   "metadata": {
    "deletable": false,
    "editable": false
   },
   "outputs": [],
   "source": [
    "wqet_grader.grade(\"Project 8 Assessment\", \"Task 8.5.5\", submission_855)"
   ]
  },
  {
   "cell_type": "markdown",
   "id": "c7e58c4e-4c18-4093-82e4-f7cdd3808354",
   "metadata": {
    "deletable": false,
    "editable": false
   },
   "source": [
    "**Task 8.5.6:** Insert `df_mtnoy` into your database. The grader will evaluate your work by looking at the first five rows of the `MTNOY` table in the database."
   ]
  },
  {
   "cell_type": "code",
   "execution_count": null,
   "id": "ec4611bd-76cf-42d9-b6f2-5adaca67bb42",
   "metadata": {
    "deletable": false
   },
   "outputs": [],
   "source": [
    "# Insert `MTNOY` data into database\n"
   ]
  },
  {
   "cell_type": "code",
   "execution_count": null,
   "id": "5de1c59f-46e4-4e30-a7fc-ca24f9021391",
   "metadata": {
    "deletable": false,
    "editable": false
   },
   "outputs": [],
   "source": [
    "# Get first five rows of `MTNOY` table\n",
    "submission_856 = pd.read_sql(sql=\"SELECT * FROM MTNOY LIMIT 5\", con=connection)\n",
    "submission_856"
   ]
  },
  {
   "cell_type": "code",
   "execution_count": null,
   "id": "3521180e-8ff1-40e4-8437-2fbef7a0e014",
   "metadata": {
    "deletable": false,
    "editable": false
   },
   "outputs": [],
   "source": [
    "wqet_grader.grade(\"Project 8 Assessment\", \"Task 8.5.6\", submission_856)\n"
   ]
  },
  {
   "cell_type": "markdown",
   "id": "c5116f99-6084-44d9-a624-05dce0038f17",
   "metadata": {
    "deletable": false,
    "editable": false
   },
   "source": [
    "**Task 8.5.7:** Read the `MTNOY` table from your database and assign the output to `df_mtnoy_read`. The grader will evaluate your work by looking at the row for 27 April 2022."
   ]
  },
  {
   "cell_type": "code",
   "execution_count": null,
   "id": "c21ced05-9e7f-4e2e-9c17-770b8cbf1433",
   "metadata": {
    "deletable": false
   },
   "outputs": [],
   "source": [
    "df_mtnoy_read = ...\n",
    "\n",
    "print(\"df_mtnoy_read type:\", type(df_mtnoy_read))\n",
    "print(\"df_mtnoy_read shape:\", df_mtnoy_read.shape)\n",
    "df_mtnoy_read.head()"
   ]
  },
  {
   "cell_type": "code",
   "execution_count": null,
   "id": "9385fdc8-f435-4dd4-b648-148553713027",
   "metadata": {
    "deletable": false,
    "editable": false
   },
   "outputs": [],
   "source": [
    "# Get row for 27 April 2022\n",
    "submission_857 = df_mtnoy_read.loc[\"2022-04-27\"].to_frame().T\n",
    "submission_857"
   ]
  },
  {
   "cell_type": "code",
   "execution_count": null,
   "id": "a270d917-920d-479e-bc68-bd26d6d94cbc",
   "metadata": {
    "deletable": false,
    "editable": false
   },
   "outputs": [],
   "source": [
    "wqet_grader.grade(\"Project 8 Assessment\", \"Task 8.5.7\", submission_857)\n"
   ]
  },
  {
   "cell_type": "markdown",
   "id": "2fc6f791-aba6-469b-ac16-a4bf4ba7c430",
   "metadata": {
    "deletable": false,
    "editable": false
   },
   "source": [
    "# Predicting Volatility"
   ]
  },
  {
   "cell_type": "markdown",
   "id": "887a8bf2-c686-4310-9795-a82710cb91dd",
   "metadata": {
    "deletable": false,
    "editable": false
   },
   "source": [
    "## Prepare Data"
   ]
  },
  {
   "cell_type": "markdown",
   "id": "766651e1-cfc3-4ae4-bdf8-7bd861b50ddc",
   "metadata": {
    "deletable": false,
    "editable": false
   },
   "source": [
    "**Task 8.5.8:** Create a Series `y_mtnoy` with the 2,500 most recent returns for MTN. The grader will evaluate your work by looking at the volatility for 9 August 2022."
   ]
  },
  {
   "cell_type": "code",
   "execution_count": null,
   "id": "77195d27-2fc2-4520-bf60-5d6a88b4eb20",
   "metadata": {
    "deletable": false
   },
   "outputs": [],
   "source": [
    "\n",
    "y_mtnoy = ...\n",
    "\n",
    "print(\"y_mtnoy type:\", type(y_mtnoy))\n",
    "print(\"y_mtnoy shape:\", y_mtnoy.shape)\n",
    "y_mtnoy.head()"
   ]
  },
  {
   "cell_type": "code",
   "execution_count": null,
   "id": "8f69f37e-6731-4d04-9a57-1f2645f8b8ea",
   "metadata": {
    "deletable": false,
    "editable": false
   },
   "outputs": [],
   "source": [
    "# Get data for 8 Aug 2022\n",
    "submission_859 = float(y_mtnoy[\"2022-08-09\"])\n",
    "submission_859"
   ]
  },
  {
   "cell_type": "code",
   "execution_count": null,
   "id": "0b824f5d-b593-47f5-9fc8-944dc7444323",
   "metadata": {
    "deletable": false,
    "editable": false
   },
   "outputs": [],
   "source": [
    "wqet_grader.grade(\"Project 8 Assessment\", \"Task 8.5.8\", submission_859)"
   ]
  },
  {
   "cell_type": "markdown",
   "id": "22b5ad92-a906-4a3b-a21c-2f916fa5a80a",
   "metadata": {
    "deletable": false,
    "editable": false
   },
   "source": [
    "**Task 8.5.9:** Calculate daily volatility for `y_mtnoy`, and assign the result to `mtnoy_daily_volatility`."
   ]
  },
  {
   "cell_type": "code",
   "execution_count": null,
   "id": "5e7b86ce-1a34-4ab5-bd2d-0a2c6057cba7",
   "metadata": {
    "deletable": false
   },
   "outputs": [],
   "source": [
    "mtnoy_daily_volatility = ...\n",
    "\n",
    "print(\"mtnoy_daily_volatility type:\", type(mtnoy_daily_volatility))\n",
    "print(\"MTN Daily Volatility:\", mtnoy_daily_volatility)"
   ]
  },
  {
   "cell_type": "code",
   "execution_count": null,
   "id": "43fd19e6-26ce-4afd-9e72-89dbd9ffbcde",
   "metadata": {
    "deletable": false,
    "editable": false
   },
   "outputs": [],
   "source": [
    "wqet_grader.grade(\"Project 8 Assessment\", \"Task 8.5.9\", mtnoy_daily_volatility)"
   ]
  },
  {
   "cell_type": "markdown",
   "id": "13ccc254-53e0-44ec-850f-27a1da11cecd",
   "metadata": {
    "deletable": false,
    "editable": false
   },
   "source": [
    "**Task 8.5.10:** Calculate the annual volatility for `y_mtnoy`, and assign the result to `mtnoy_annual_volatility`."
   ]
  },
  {
   "cell_type": "code",
   "execution_count": null,
   "id": "071ff510-8490-4f16-8e39-ec4212cb8a2f",
   "metadata": {
    "deletable": false
   },
   "outputs": [],
   "source": [
    "mtnoy_annual_volatility = ...\n",
    "\n",
    "print(\"mtnoy_annual_volatility type:\", type(mtnoy_annual_volatility))\n",
    "print(\"MTN Annual Volatility:\", mtnoy_annual_volatility)"
   ]
  },
  {
   "cell_type": "code",
   "execution_count": null,
   "id": "961e80f9-d22d-4853-8156-cf189e04918b",
   "metadata": {
    "deletable": false,
    "editable": false
   },
   "outputs": [],
   "source": [
    "wqet_grader.grade(\"Project 8 Assessment\", \"Task 8.5.10\", float(mtnoy_annual_volatility))"
   ]
  },
  {
   "cell_type": "markdown",
   "id": "8ee1c68c-b1f9-469a-ad61-c77c367602a0",
   "metadata": {
    "deletable": false,
    "editable": false
   },
   "source": [
    "**Task 8.5.11:** Create a time series line plot for `y_mtnoy`. Be sure to label the x-axis `\"Date\"`, the y-axis `\"Returns\"`, and use the title `\"Time Series of MTNOY Returns\"`."
   ]
  },
  {
   "cell_type": "code",
   "execution_count": null,
   "id": "f878a581-4624-4cc9-a1bf-f87b00c1bdee",
   "metadata": {
    "deletable": false
   },
   "outputs": [],
   "source": [
    "# Create `fig` and `ax`\n",
    "\n",
    "\n",
    "# Plot `y_mtnoy` on `ax`\n",
    "\n",
    "\n",
    "# Add axis labels\n",
    "\n",
    "\n",
    "\n",
    "# Add title\n",
    "\n",
    "\n",
    "# Don't delete the code below 👇\n",
    "plt.savefig(\"images/8-5-11.png\", dpi=150)\n"
   ]
  },
  {
   "cell_type": "code",
   "execution_count": null,
   "id": "e5921338-55d3-496b-b332-4d675edb4f8c",
   "metadata": {
    "deletable": false,
    "editable": false
   },
   "outputs": [],
   "source": [
    "with open(\"images/8-5-11.png\", \"rb\") as file:\n",
    "    wqet_grader.grade(\"Project 8 Assessment\", \"Task 8.5.11\", file)"
   ]
  },
  {
   "cell_type": "markdown",
   "id": "e54a73ab-05ca-4f25-aa63-b3ee1b3c651f",
   "metadata": {
    "deletable": false,
    "editable": false
   },
   "source": [
    "**Task 8.5.12:** Create an ACF plot of the squared returns for MTN. Be sure to label the x-axis `\"Lag [days]\"`, the y-axis `\"Correlation Coefficient\"`, and use the title `\"ACF of MTNOY Squared Returns\"`."
   ]
  },
  {
   "cell_type": "code",
   "execution_count": null,
   "id": "f373a576-6782-4599-88e8-187a52939184",
   "metadata": {
    "deletable": false
   },
   "outputs": [],
   "source": [
    "# Create `fig` and `ax`\n",
    "\n",
    "\n",
    "# Create ACF of squared returns\n",
    "\n",
    "\n",
    "# Add axis labels\n",
    "\n",
    "\n",
    "\n",
    "# Add title\n",
    "\n",
    "\n",
    "# Don't delete the code below 👇\n",
    "plt.savefig(\"images/8-5-12.png\", dpi=150)\n"
   ]
  },
  {
   "cell_type": "code",
   "execution_count": null,
   "id": "e0199e63-9c0c-4d53-8355-69e0f0f9854a",
   "metadata": {
    "deletable": false,
    "editable": false
   },
   "outputs": [],
   "source": [
    "with open(\"images/8-5-12.png\", \"rb\") as file:\n",
    "    wqet_grader.grade(\"Project 8 Assessment\", \"Task 8.5.12\", file)"
   ]
  },
  {
   "cell_type": "markdown",
   "id": "d27d1dfc-91cb-4bb2-8f3d-bf2550e4c164",
   "metadata": {
    "deletable": false,
    "editable": false
   },
   "source": [
    "**Task 8.5.13:** Create a PACF plot of the squared returns for MTN. Be sure to label the x-axis `\"Lag [days]\"`, the y-axis `\"Correlation Coefficient\"`, and use the title `\"PACF of MTNOY Squared Returns\"`."
   ]
  },
  {
   "cell_type": "code",
   "execution_count": null,
   "id": "0bb12eab-db2e-40dd-9695-0861c7639d65",
   "metadata": {
    "deletable": false
   },
   "outputs": [],
   "source": [
    "# Create `fig` and `ax`\n",
    "\n",
    "\n",
    "# Create PACF of squared returns\n",
    "\n",
    "\n",
    "# Add axis labels\n",
    "\n",
    "\n",
    "\n",
    "# Add title\n",
    "\n",
    "\n",
    "# Don't delete the code below 👇\n",
    "plt.savefig(\"images/8-5-13.png\", dpi=150)\n"
   ]
  },
  {
   "cell_type": "code",
   "execution_count": null,
   "id": "5d13ac14-4b5a-4a27-bd59-7386b73e88f5",
   "metadata": {
    "deletable": false,
    "editable": false
   },
   "outputs": [],
   "source": [
    "with open(\"images/8-5-13.png\", \"rb\") as file:\n",
    "    wqet_grader.grade(\"Project 8 Assessment\", \"Task 8.5.13\", file)"
   ]
  },
  {
   "cell_type": "markdown",
   "id": "7f5371b6-1830-4033-b062-d739c68ed61f",
   "metadata": {
    "deletable": false,
    "editable": false
   },
   "source": [
    "**Task 8.5.14:** Create a training set `y_mtnoy_train` that contains the first 80% of the observations in `y_mtnoy`. "
   ]
  },
  {
   "cell_type": "code",
   "execution_count": null,
   "id": "fa2bac6e-467d-441c-937b-ba2a561135ce",
   "metadata": {
    "deletable": false
   },
   "outputs": [],
   "source": [
    "cutoff_test = ...\n",
    "y_mtnoy_train = ...\n",
    "\n",
    "print(\"y_mtnoy_train type:\", type(y_mtnoy_train))\n",
    "print(\"y_mtnoy_train shape:\", y_mtnoy_train.shape)\n",
    "y_mtnoy_train.head()"
   ]
  },
  {
   "cell_type": "code",
   "execution_count": null,
   "id": "6e729032-f647-4fe6-8024-0c351510f1ad",
   "metadata": {
    "deletable": false,
    "editable": false
   },
   "outputs": [],
   "source": [
    "wqet_grader.grade(\"Project 8 Assessment\", \"Task 8.5.14\", y_mtnoy_train)"
   ]
  },
  {
   "cell_type": "markdown",
   "id": "3b648d47-1a70-4ce8-919f-0b7b84d91524",
   "metadata": {
    "deletable": false,
    "editable": false
   },
   "source": [
    "## Build Model"
   ]
  },
  {
   "cell_type": "markdown",
   "id": "5d5ea8b0-13a7-423a-9007-d2b5ef2c95b8",
   "metadata": {
    "deletable": false,
    "editable": false
   },
   "source": [
    "**Task 8.5.15:** Build and fit a GARCH model using the data in `y_mtnoy`. Try different values for `p` and `q`, using the summary to assess its performance. The grader will evaluate whether your `model` is the correct data type."
   ]
  },
  {
   "cell_type": "code",
   "execution_count": null,
   "id": "557513ff-a639-4a97-b1cb-99c285d7b522",
   "metadata": {
    "deletable": false
   },
   "outputs": [],
   "source": [
    "# Build and train model\n",
    "model = ...\n",
    "\n",
    "print(\"model type:\", type(model))\n",
    "\n",
    "# Show model summary\n"
   ]
  },
  {
   "cell_type": "code",
   "execution_count": null,
   "id": "619ae9e9-b24f-4575-a15b-bd8e1b3b892e",
   "metadata": {
    "deletable": false
   },
   "outputs": [],
   "source": [
    "submission_8515 = isinstance(model, ARCHModelResult)\n",
    "submission_8515"
   ]
  },
  {
   "cell_type": "code",
   "execution_count": null,
   "id": "84a8f42a-b3fc-4756-a7be-32a6355ea8a6",
   "metadata": {
    "deletable": false,
    "editable": false
   },
   "outputs": [],
   "source": [
    "wqet_grader.grade(\"Project 8 Assessment\", \"Task 8.5.15\", [submission_8515])"
   ]
  },
  {
   "cell_type": "markdown",
   "id": "8dd49091-ae8a-4486-8f40-07916cdd9a7f",
   "metadata": {
    "deletable": false,
    "editable": false
   },
   "source": [
    "**Task 8.5.16:** Plot the standardized residuals for your `model`. Be sure to label the x-axis `\"Date\"`, the y-axis `\"Value\"`, and use the title `\"MTNOY GARCH Model Standardized Residuals\"`."
   ]
  },
  {
   "cell_type": "code",
   "execution_count": null,
   "id": "870dfbd9-70f9-4cd1-8a1c-6a234ebece70",
   "metadata": {
    "deletable": false
   },
   "outputs": [],
   "source": [
    "# Create `fig` and `ax`\n",
    "\n",
    "\n",
    "# Plot standardized residuals\n",
    "\n",
    "\n",
    "# Add axis labels\n",
    "\n",
    "\n",
    "\n",
    "# Add title\n",
    "\n",
    "\n",
    "# Don't delete the code below 👇\n",
    "plt.savefig(\"images/8-5-16.png\", dpi=150)\n"
   ]
  },
  {
   "cell_type": "code",
   "execution_count": null,
   "id": "f1b77391-c596-425c-93c8-eea265cb7080",
   "metadata": {
    "deletable": false,
    "editable": false
   },
   "outputs": [],
   "source": [
    "with open(\"images/8-5-16.png\", \"rb\") as file:\n",
    "    wqet_grader.grade(\"Project 8 Assessment\", \"Task 8.5.16\", file)"
   ]
  },
  {
   "cell_type": "markdown",
   "id": "557d6ea7-475a-40c2-adcc-293e4f627028",
   "metadata": {
    "deletable": false,
    "editable": false
   },
   "source": [
    "**Task 8.5.17:** Create an ACF plot of the squared, standardized residuals of your `model`. Be sure to label the x-axis `\"Lag [days]\"`, the y-axis `\"Correlation Coefficient\"`, and use the title `\"ACF of MTNOY GARCH Model Standardized Residuals\"`."
   ]
  },
  {
   "cell_type": "code",
   "execution_count": null,
   "id": "b4ae466c-b745-40b8-afaf-94c1fd9fa3bb",
   "metadata": {
    "deletable": false
   },
   "outputs": [],
   "source": [
    "# Create `fig` and `ax`\n",
    "\n",
    "\n",
    "# Create ACF of squared, standardized residuals\n",
    "\n",
    "\n",
    "# Add axis labels\n",
    "\n",
    "\n",
    "\n",
    "# Add title\n",
    "\n",
    "\n",
    "# Don't delete the code below 👇\n",
    "plt.savefig(\"images/8-5-17.png\", dpi=150)\n"
   ]
  },
  {
   "cell_type": "code",
   "execution_count": null,
   "id": "1cecf57c-4cbc-4486-ad14-7cf89ce4a32b",
   "metadata": {
    "deletable": false,
    "editable": false
   },
   "outputs": [],
   "source": [
    "with open(\"images/8-5-17.png\", \"rb\") as file:\n",
    "    wqet_grader.grade(\"Project 8 Assessment\", \"Task 8.5.17\", file)"
   ]
  },
  {
   "cell_type": "markdown",
   "id": "0c7f8468-7d27-4861-85a7-97a884508f46",
   "metadata": {
    "deletable": false,
    "editable": false
   },
   "source": [
    "# Model Deployment"
   ]
  },
  {
   "cell_type": "markdown",
   "id": "57cb133e-279f-4043-835f-498470b3123f",
   "metadata": {
    "deletable": false,
    "editable": false
   },
   "source": [
    "**Ungraded Task:** If it's not already running, start your app server.  <span style='color: transparent; font-size:1%'>WQU WorldQuant University Applied Data Science Lab QQQQ</span>"
   ]
  },
  {
   "cell_type": "markdown",
   "id": "932e8b3b-e6e2-4ee9-9364-682ee7c77a31",
   "metadata": {
    "deletable": false,
    "editable": false
   },
   "source": [
    "**Task 8.5.18:** Change the `fit` method of your `GarchModel` class so that, when a model is done training, two more attributes are added to the object: `self.aic` with the AIC for the model, and `self.bic` with the BIC for the model. When you're done, use the cell below to check your work."
   ]
  },
  {
   "cell_type": "markdown",
   "id": "560a44b8-ad93-4334-a472-7930d0686b85",
   "metadata": {
    "deletable": false,
    "editable": false
   },
   "source": [
    "<div class=\"alert alert-info\" role=\"alert\">\n",
    "    <p><b>Tip:</b> How can you access the AIC and BIC scores programmatically? Every <code>ARCHModelResult</code> has an <code>.aic</code> and a <code>.bic</code> attribute.</p>\n",
    "</div>"
   ]
  },
  {
   "cell_type": "code",
   "execution_count": null,
   "id": "9d21c4ae-23e0-4e6b-87a6-e3b3feaac022",
   "metadata": {
    "deletable": false
   },
   "outputs": [],
   "source": [
    "# Import `build_model` function\n",
    "from main import build_model\n",
    "\n",
    "# Build model using new `MTNOY` data\n",
    "model = build_model(ticker=\"MTNOY\", use_new_data=True)\n",
    "\n",
    "# Wrangle `MTNOY` returns\n",
    "model.wrangle_data(n_observations=2500)\n",
    "\n",
    "# Fit GARCH(1,1) model to data\n",
    "model.fit(p=1, q=1)\n",
    "\n",
    "# Does model have AIC and BIC attributes?\n",
    "assert hasattr(model, \"aic\")\n",
    "assert hasattr(model, \"bic\")"
   ]
  },
  {
   "cell_type": "code",
   "execution_count": null,
   "id": "e8ca123c-69eb-4f63-bfea-735954ecf913",
   "metadata": {
    "deletable": false
   },
   "outputs": [],
   "source": [
    "# Put test results into dictionary\n",
    "submission_8518 = {\"has_aic\": hasattr(model, \"aic\"), \"has_bic\": hasattr(model, \"bic\")}\n",
    "submission_8518"
   ]
  },
  {
   "cell_type": "code",
   "execution_count": null,
   "id": "d7a06937-7f76-48d6-a9b1-57307eeab2b0",
   "metadata": {
    "deletable": false,
    "editable": false
   },
   "outputs": [],
   "source": [
    "wqet_grader.grade(\"Project 8 Assessment\", \"Task 8.5.18\", submission_8518)"
   ]
  },
  {
   "cell_type": "markdown",
   "id": "e9d7daf1-57df-42fe-958a-155d30abfd44",
   "metadata": {
    "deletable": false,
    "editable": false
   },
   "source": [
    "**Task 8.5.19:** Change the `fit_model` function in the `main` module so that the `\"message\"` it returns includes the AIC and BIC scores. For example, the message should look something like this:\n",
    "\n",
    "```\n",
    "\"Trained and saved 'models/2022-10-12T23:10:06.577238_MTNOY.pkl'. Metrics: AIC 9892.184665169907, BIC 9914.588275008075.\"\n",
    "```\n",
    "\n",
    "\n",
    "When you're done, use the cell below to check your work."
   ]
  },
  {
   "cell_type": "code",
   "execution_count": null,
   "id": "9a5d6564-3e0d-410c-93a6-026d5ccf9c03",
   "metadata": {
    "deletable": false
   },
   "outputs": [],
   "source": [
    "# Import `FitIn` class and `fit_model` function\n",
    "from main import FitIn, fit_model\n",
    "\n",
    "# Instantiate `FitIn` object\n",
    "request = FitIn(ticker=\"MTNOY\", use_new_data=False, n_observations=2500, p=1, q=1)\n",
    "\n",
    "# Build model and fit to data, following parameters in `request`\n",
    "fit_out = fit_model(request=request)\n",
    "\n",
    "# Inspect `fit_out`\n",
    "fit_out"
   ]
  },
  {
   "cell_type": "code",
   "execution_count": null,
   "id": "14d1652c-976f-4a9d-8621-ecc22027ea1b",
   "metadata": {
    "deletable": false,
    "editable": false
   },
   "outputs": [],
   "source": [
    "wqet_grader.grade(\"Project 8 Assessment\", \"Task 8.5.19\", fit_out)"
   ]
  },
  {
   "cell_type": "markdown",
   "id": "564d1013-53c8-4e14-9ccb-637d5f13858f",
   "metadata": {
    "deletable": false,
    "editable": false
   },
   "source": [
    "**Task 8.5.20:** Create a `post` request to hit the `\"/fit\"` path running at `\"http://localhost:8008\"`. You should train a GARCH(1,1) model on 2500 observations of the MTN data you already downloaded. Pass in your parameters as a dictionary using the `json` argument. The grader will evaluate the JSON of your `response`."
   ]
  },
  {
   "cell_type": "code",
   "execution_count": null,
   "id": "253b5d85-c46e-43c0-a2a9-36ae32ebeede",
   "metadata": {
    "deletable": false
   },
   "outputs": [],
   "source": [
    "# URL of `/fit` path\n",
    "url = ...\n",
    "# Data to send to path\n",
    "json = ...\n",
    "# Response of post request\n",
    "response = ...\n",
    "\n",
    "print(\"response type:\", type(response))\n",
    "print(\"response status code:\", response.status_code)"
   ]
  },
  {
   "cell_type": "code",
   "execution_count": null,
   "id": "22d33702-a57b-4c41-8d06-ce8a045932cb",
   "metadata": {
    "deletable": false
   },
   "outputs": [],
   "source": [
    "submission_8520 = response.json()\n",
    "submission_8520"
   ]
  },
  {
   "cell_type": "code",
   "execution_count": null,
   "id": "3bcb5f49-dc56-49d4-abc7-97e29a7ad58b",
   "metadata": {
    "deletable": false,
    "editable": false
   },
   "outputs": [],
   "source": [
    "wqet_grader.grade(\"Project 8 Assessment\", \"Task 8.5.20\", submission_8520)"
   ]
  },
  {
   "cell_type": "markdown",
   "id": "e4ae0ba2-f654-4cf8-9fc5-021810a2c638",
   "metadata": {
    "deletable": false,
    "editable": false
   },
   "source": [
    "**Task 8.5.21:** Create a `post` request to hit the `\"/predict\"` path running at `\"http://localhost:8008\"`. You should get the 5-day volatility forecast for MTN. When you're satisfied, submit your work to the grader."
   ]
  },
  {
   "cell_type": "code",
   "execution_count": null,
   "id": "9b85f251-5bc3-44c9-b07e-715ffeae8d30",
   "metadata": {
    "deletable": false
   },
   "outputs": [],
   "source": [
    "# URL of `/predict` path\n",
    "url = ...\n",
    "# Data to send to path\n",
    "json = ...\n",
    "# Response of post request\n",
    "response = ...\n",
    "\n",
    "print(\"response type:\", type(response))\n",
    "print(\"response status code:\", response.status_code)"
   ]
  },
  {
   "cell_type": "code",
   "execution_count": null,
   "id": "d2808c6b-4607-40c9-8674-0b04e4bf3f93",
   "metadata": {
    "deletable": false
   },
   "outputs": [],
   "source": [
    "submission_8521 = response.json()\n",
    "submission_8521"
   ]
  },
  {
   "cell_type": "code",
   "execution_count": null,
   "id": "e4713ff4-7e12-4328-962e-c8688819c54a",
   "metadata": {
    "deletable": false,
    "editable": false
   },
   "outputs": [],
   "source": [
    "wqet_grader.grade(\"Project 8 Assessment\", \"Task 8.5.21\", submission_8521)"
   ]
  },
  {
   "cell_type": "markdown",
   "id": "4230b99b",
   "metadata": {
    "deletable": false,
    "editable": false
   },
   "source": [
    "---\n",
    "Copyright 2023 WorldQuant University. This\n",
    "content is licensed solely for personal use. Redistribution or\n",
    "publication of this material is strictly prohibited.\n"
   ]
  }
 ],
 "metadata": {
  "kernelspec": {
   "display_name": "Python 3 (ipykernel)",
   "language": "python",
   "name": "python3"
  },
  "language_info": {
   "codemirror_mode": {
    "name": "ipython",
    "version": 3
   },
   "file_extension": ".py",
   "mimetype": "text/x-python",
   "name": "python",
   "nbconvert_exporter": "python",
   "pygments_lexer": "ipython3",
   "version": "3.9.6"
  }
 },
 "nbformat": 4,
 "nbformat_minor": 5
}
