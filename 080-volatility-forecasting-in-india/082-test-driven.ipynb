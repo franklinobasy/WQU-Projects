{
 "cells": [
  {
   "cell_type": "markdown",
   "id": "43804e15",
   "metadata": {
    "deletable": false,
    "editable": false
   },
   "source": [
    "\n",
    "<div class=\"alert alert-info\" role=\"alert\">\n",
    "  <p>\n",
    "    <center><b>Usage Guidelines</b></center>\n",
    "  </p>\n",
    "\n",
    "  <p>\n",
    "    This lesson is part of the <b>DS Lab core curriculum</b>. For that reason, this notebook can only be used on your WQU virtual machine.\n",
    "  </p>\n",
    "\n",
    "  <p>\n",
    "    This means:\n",
    "    <ul>\n",
    "      <li><span style=\"color: red\">ⓧ</span> No downloading this notebook.</li>\n",
    "      <li><span style=\"color: red\">ⓧ</span> No re-sharing of this notebook with friends or colleagues.</li>\n",
    "      <li><span style=\"color: red\">ⓧ</span> No downloading the embedded videos in this notebook.</li>\n",
    "      <li><span style=\"color: red\">ⓧ</span> No re-sharing embedded videos with friends or colleagues.</li>\n",
    "      <li><span style=\"color: red\">ⓧ</span> No adding this notebook to public or private repositories.</li>\n",
    "      <li><span style=\"color: red\">ⓧ</span> No uploading this notebook (or screenshots of it) to other websites, including websites for study resources.</li>\n",
    "    </ul>\n",
    "\n",
    "  </p>\n",
    "</div>\n"
   ]
  },
  {
   "cell_type": "markdown",
   "id": "2271075b",
   "metadata": {
    "deletable": false,
    "editable": false
   },
   "source": [
    "<font size=\"+3\"><strong>8.2. Test Driven Development</strong></font>"
   ]
  },
  {
   "cell_type": "markdown",
   "id": "d31ac132-2255-4533-8ba8-a3de3fc98f29",
   "metadata": {
    "deletable": false,
    "editable": false
   },
   "source": [
    "In the previous lesson, we learned how to get data from an API. In this lesson, we have two goals. First, we'll take the code we used to access the API and build an `AlphaVantageAPI` class. This will allow us to reuse our code. Second, we'll create a `SQLRepository` class that will help us load our stock data into a SQLite database and then extract it for later use. Additionally, we'll build this code using a technique called **test driven development**, where we'll use `assert` statements to make sure everything is working properly. That way, we'll avoid issues later when we build our application."
   ]
  },
  {
   "cell_type": "code",
   "execution_count": null,
   "id": "7457bb4a-c3d1-42c0-8b57-2b4872e5d3e3",
   "metadata": {
    "deletable": false,
    "editable": false,
    "init_cell": true
   },
   "outputs": [],
   "source": [
    "%load_ext autoreload\n",
    "%load_ext sql\n",
    "%autoreload 2\n",
    "\n",
    "import sqlite3\n",
    "\n",
    "import matplotlib.pyplot as plt\n",
    "import pandas as pd\n",
    "import wqet_grader\n",
    "from config import settings\n",
    "from IPython.display import VimeoVideo\n",
    "\n",
    "wqet_grader.init(\"Project 8 Assessment\")"
   ]
  },
  {
   "cell_type": "code",
   "execution_count": null,
   "id": "e2d25c88-8aa5-46ec-8cc2-f73dd7838c28",
   "metadata": {
    "deletable": false,
    "editable": false,
    "init_cell": true
   },
   "outputs": [],
   "source": [
    "VimeoVideo(\"764766424\", h=\"88dbe3bff8\", width=600)"
   ]
  },
  {
   "cell_type": "markdown",
   "id": "603adedd-56fa-44be-8e5b-c4a802fd1da6",
   "metadata": {
    "deletable": false,
    "editable": false
   },
   "source": [
    "# Building Our Data Module"
   ]
  },
  {
   "cell_type": "markdown",
   "id": "18b7926f-cf91-4835-bfe2-cb40ec52eff3",
   "metadata": {
    "deletable": false,
    "editable": false
   },
   "source": [
    "For our application, we're going to keep all the classes we use to extract, transform, and load data in a single module that we'll call `data`."
   ]
  },
  {
   "cell_type": "markdown",
   "id": "727cc9a0-4f06-4356-84fd-6024f6ac4421",
   "metadata": {
    "deletable": false,
    "editable": false
   },
   "source": [
    "## AlphaVantage API Class"
   ]
  },
  {
   "cell_type": "markdown",
   "id": "2886d630-b241-42a9-8664-480902419af8",
   "metadata": {
    "deletable": false,
    "editable": false
   },
   "source": [
    "Let's get started by taking the code we created in the last lesson and incorporating it into a class that will be in charge of getting data from the AlphaVantage API."
   ]
  },
  {
   "cell_type": "code",
   "execution_count": null,
   "id": "31c89005-0f6f-4470-aaed-f2fde4abd8f4",
   "metadata": {
    "deletable": false,
    "editable": false,
    "init_cell": true
   },
   "outputs": [],
   "source": [
    "VimeoVideo(\"764766399\", h=\"08b6a61e84\", width=600)"
   ]
  },
  {
   "cell_type": "markdown",
   "id": "393281a3-373c-4b43-9918-2593d4e5eb07",
   "metadata": {
    "deletable": false,
    "editable": false
   },
   "source": [
    "**Task 8.2.1:** In the `data` module, create a class definition for `AlphaVantageAPI`. For now, making sure that it has an `__init__` method that attaches your API key as the attribute `__api_key`. Once you're done, import the class below and create an instance of it called `av`.\n",
    "\n",
    "- [What's a class?](../%40textbook/21-python-object-oriented-programming.ipynb#Classes)\n",
    "- [Write a class definition in Python.](../%40textbook/21-python-object-oriented-programming.ipynb#Defining-a-Class)\n",
    "- [Write a class method in Python.](../%40textbook/21-python-object-oriented-programming.ipynb#Methods)"
   ]
  },
  {
   "cell_type": "code",
   "execution_count": null,
   "id": "8c02dbac-7559-4db2-b0dd-b29c8fb623e1",
   "metadata": {
    "deletable": false
   },
   "outputs": [],
   "source": [
    "# Import `AlphaVantageAPI`\n",
    "\n",
    "\n",
    "# Create instance of `AlphaVantageAPI` class\n",
    "av = ...\n",
    "\n",
    "print(\"av type:\", type(av))"
   ]
  },
  {
   "cell_type": "markdown",
   "id": "a21cb1bc-b617-430e-91eb-72a692f7f209",
   "metadata": {
    "deletable": false,
    "editable": false
   },
   "source": [
    "Remember the `get_daily` function we made in the last lesson? Now we're going to turn it into a class method."
   ]
  },
  {
   "cell_type": "code",
   "execution_count": null,
   "id": "3d43365b-5f88-42ed-b339-b37dca0ab371",
   "metadata": {
    "deletable": false,
    "editable": false,
    "init_cell": true
   },
   "outputs": [],
   "source": [
    "VimeoVideo(\"764766380\", h=\"5b4cf7c753\", width=600)"
   ]
  },
  {
   "cell_type": "markdown",
   "id": "7e7017bd-fb32-42d2-a4a2-1b8b206efde0",
   "metadata": {
    "deletable": false,
    "editable": false
   },
   "source": [
    "**Task 8.2.2:** Create a `get_daily` method for your `AlphaVantageAPI` class. Once you're done, use the cell below to fetch the stock data for the renewable energy company [Suzlon](https://www.suzlon.com/) and assign it to the DataFrame `df_suzlon`.\n",
    "\n",
    "- [Write a class method in Python.](../%40textbook/21-python-object-oriented-programming.ipynb#Methods)"
   ]
  },
  {
   "cell_type": "code",
   "execution_count": null,
   "id": "d7659f8c-819a-4742-93e5-7b0dec31b808",
   "metadata": {
    "deletable": false
   },
   "outputs": [],
   "source": [
    "# Define Suzlon ticker symbol\n",
    "ticker = \"SUZLON.BSE\"\n",
    "\n",
    "# Use your `av` object to get daily data\n",
    "df_suzlon = ...\n",
    "\n",
    "print(\"df_suzlon type:\", type(df_suzlon))\n",
    "print(\"df_suzlon shape:\", df_suzlon.shape)\n",
    "df_suzlon.head()"
   ]
  },
  {
   "cell_type": "markdown",
   "id": "d904c7f4-515b-4ccb-b29e-1aa46b370889",
   "metadata": {
    "deletable": false,
    "editable": false
   },
   "source": [
    "Okay! The next thing we need to do is test our new method to make sure it works the way we want it to. Usually, these sorts of tests are written *before* writing the method, but, in this first case, we'll do it the other way around in order to get a better sense of how assert statements work."
   ]
  },
  {
   "cell_type": "code",
   "execution_count": null,
   "id": "398fd46a-6cbf-4861-947f-e690c85c0963",
   "metadata": {
    "deletable": false,
    "editable": false,
    "init_cell": true
   },
   "outputs": [],
   "source": [
    "VimeoVideo(\"764766326\", h=\"3ffc1a1a2f\", width=600)"
   ]
  },
  {
   "cell_type": "markdown",
   "id": "0cb9dd91-7734-4489-b887-ad096608fb48",
   "metadata": {
    "deletable": false,
    "editable": false
   },
   "source": [
    "**Task 8.2.3:** Create four assert statements to test the output of your `get_daily` method. Use the comments below as a guide.\n",
    "\n",
    "- [What's an assert statement?](../%40textbook/02-python-advanced.ipynb#Testing-Code)\n",
    "- [Write an assert statement in Python.](../%40textbook/02-python-advanced.ipynb#Testing-Code)"
   ]
  },
  {
   "cell_type": "code",
   "execution_count": null,
   "id": "abfe54a3-585b-46db-9b75-5e2c8fc73a31",
   "metadata": {
    "deletable": false
   },
   "outputs": [],
   "source": [
    "# Does `get_daily` return a DataFrame?\n",
    "\n",
    "\n",
    "# Does DataFrame have 5 columns?\n",
    "\n",
    "\n",
    "# Does DataFrame have a DatetimeIndex?\n",
    "\n",
    "\n",
    "# Is the index name \"date\"?\n"
   ]
  },
  {
   "cell_type": "code",
   "execution_count": null,
   "id": "f2bb68e2-f811-4f37-9bb3-54acb8f14561",
   "metadata": {
    "deletable": false,
    "editable": false,
    "init_cell": true
   },
   "outputs": [],
   "source": [
    "VimeoVideo(\"764766298\", h=\"282ced7752\", width=600)"
   ]
  },
  {
   "cell_type": "markdown",
   "id": "d36acde5-df71-4ea1-a99e-3caa32c35dd6",
   "metadata": {
    "deletable": false,
    "editable": false
   },
   "source": [
    "**Task 8.2.4:** Create two more tests for the output of your `get_daily` method. Use the comments below as a guide.\n",
    "\n",
    "- [What's an assert statement?](../%40textbook/02-python-advanced.ipynb#Testing-Code)\n",
    "- [Write an assert statement in Python.](../%40textbook/02-python-advanced.ipynb#Testing-Code)"
   ]
  },
  {
   "cell_type": "code",
   "execution_count": null,
   "id": "98a10e7f-d01d-4ac1-be84-7ada5f3de346",
   "metadata": {
    "deletable": false
   },
   "outputs": [],
   "source": [
    "# Does DataFrame have correct column names?\n",
    "\n",
    "\n",
    "# Are columns correct data type?\n"
   ]
  },
  {
   "cell_type": "markdown",
   "id": "905320f3-19d6-4004-9953-5a695e27bf8e",
   "metadata": {
    "deletable": false,
    "editable": false
   },
   "source": [
    "Okay! Now that our `AlphaVantageAPI` is ready to get data, let's turn our focus to the class we'll need for storing our data in our SQLite database.<span style='color: transparent; font-size:1%'>WQU WorldQuant University Applied Data Science Lab QQQQ</span>"
   ]
  },
  {
   "cell_type": "markdown",
   "id": "d69dc9cf-3851-4edb-a152-03c53daf90d4",
   "metadata": {
    "deletable": false,
    "editable": false,
    "tags": []
   },
   "source": [
    "## SQL Repository Class"
   ]
  },
  {
   "cell_type": "markdown",
   "id": "bc1c1102-040c-4776-8cbf-cb1cefdeca17",
   "metadata": {
    "deletable": false,
    "editable": false
   },
   "source": [
    "It wouldn't be efficient if our application needed to get data from the AlphaVantage API every time we wanted to explore our data or build a model, so we'll need to store our data in a database. Because our data is highly structured (each DataFrame we extract from AlphaVantage is always going to have the same five columns), it makes sense to use a SQL database.\n",
    "\n",
    "We'll use SQLite for our database. For consistency, this database will always have the same name, which we've stored in our `.env` file."
   ]
  },
  {
   "cell_type": "code",
   "execution_count": null,
   "id": "c74dc79b-6582-49ba-b82f-2fe40cdec14c",
   "metadata": {
    "deletable": false,
    "editable": false,
    "init_cell": true
   },
   "outputs": [],
   "source": [
    "VimeoVideo(\"764766285\", h=\"7b6487a28d\", width=600)"
   ]
  },
  {
   "cell_type": "markdown",
   "id": "1fa42d18-8b9d-4379-8d5c-76dea153d003",
   "metadata": {
    "deletable": false,
    "editable": false
   },
   "source": [
    "**Task 8.2.5:** Connect to the database whose name is stored in the `.env` file for this project. Be sure to set the `check_same_thread` argument to `False`. Assign the connection to the variable `connection`.\n",
    "\n",
    "- [Open a connection to a SQL database using sqlite3.](../%40textbook/10-databases-sql.ipynb#sqlite3)"
   ]
  },
  {
   "cell_type": "code",
   "execution_count": null,
   "id": "348adcae-ef3e-4933-81b9-2fbc1ce42587",
   "metadata": {
    "deletable": false
   },
   "outputs": [],
   "source": [
    "connection = ...\n",
    "\n",
    "print(\"connection type:\", type(connection))"
   ]
  },
  {
   "cell_type": "markdown",
   "id": "71142242-06d8-47c4-9612-d79dd8e34c20",
   "metadata": {
    "deletable": false,
    "editable": false
   },
   "source": [
    "We've got a connection, and now we need to start building the class that will handle all our transactions with the database. With this class, though, we're going to create our tests *before* writing the class definition."
   ]
  },
  {
   "cell_type": "code",
   "execution_count": null,
   "id": "2010032f-eafd-42ec-bbe4-31971b0e8cc8",
   "metadata": {
    "deletable": false,
    "editable": false,
    "init_cell": true
   },
   "outputs": [],
   "source": [
    "VimeoVideo(\"764766249\", h=\"4359c98af4\", width=600)"
   ]
  },
  {
   "cell_type": "markdown",
   "id": "14fb7efd-beb7-4712-b126-4e2248a7de76",
   "metadata": {
    "deletable": false,
    "editable": false
   },
   "source": [
    "**Task 8.2.6:** Write two tests for the `SQLRepository` class, using the comments below as a guide.\n",
    "\n",
    "- [What's an assert statement?](../%40textbook/02-python-advanced.ipynb#Testing-Code)\n",
    "- [Write an assert statement in Python.](../%40textbook/02-python-advanced.ipynb#Testing-Code)"
   ]
  },
  {
   "cell_type": "code",
   "execution_count": null,
   "id": "f443ad9f-6b93-4c97-b525-1168921a4ee7",
   "metadata": {
    "deletable": false
   },
   "outputs": [],
   "source": [
    "# Import class definition\n",
    "\n",
    "\n",
    "# Create instance of class\n",
    "repo = ...\n",
    "\n",
    "# Does `repo` have a \"connection\" attribute?\n",
    "\n",
    "\n",
    "# Is the \"connection\" attribute a SQLite `Connection`?\n"
   ]
  },
  {
   "cell_type": "markdown",
   "id": "a25753a8-ec5a-4de7-b8f9-6864e0189e5d",
   "metadata": {
    "deletable": false,
    "editable": false
   },
   "source": [
    "<div class=\"alert alert-info\" role=\"alert\">\n",
    "    <p><b>Tip:</b> You won't be able to run this ☝️ code block until you complete the task below. 👇</p>\n",
    "</div>"
   ]
  },
  {
   "cell_type": "code",
   "execution_count": null,
   "id": "044cbbac-0aa4-4a9a-a6d8-d5966333da72",
   "metadata": {
    "deletable": false,
    "editable": false,
    "init_cell": true
   },
   "outputs": [],
   "source": [
    "VimeoVideo(\"764766224\", h=\"71655b61c2\", width=600)"
   ]
  },
  {
   "cell_type": "markdown",
   "id": "e3fe6a9e-c8c8-4a1f-b6e0-8bec234691d0",
   "metadata": {
    "deletable": false,
    "editable": false
   },
   "source": [
    "**Task 8.2.7:** Create a definition for your `SQLRepository` class. For now, just complete the `__init__` method. Once you're done, use the code you wrote in the previous task to test it.\n",
    "\n",
    "- [What's a class?](../%40textbook/21-python-object-oriented-programming.ipynb#Classes)\n",
    "- [Write a class definition in Python.](../%40textbook/21-python-object-oriented-programming.ipynb#Defining-a-Class)\n",
    "- [Write a class method in Python.](../%40textbook/21-python-object-oriented-programming.ipynb#Methods)"
   ]
  },
  {
   "cell_type": "markdown",
   "id": "ac9d773d-4ed7-4fb7-8bcd-09cae0774ffb",
   "metadata": {
    "deletable": false,
    "editable": false
   },
   "source": [
    "The next method we need for the `SQLRepository` class is one that allows us to store information. In SQL talk, this is generally referred to as **inserting** tables into the database."
   ]
  },
  {
   "cell_type": "code",
   "execution_count": null,
   "id": "e0537e8c-5a93-4fe7-9865-f2991b5de9ba",
   "metadata": {
    "deletable": false,
    "editable": false,
    "init_cell": true
   },
   "outputs": [],
   "source": [
    "VimeoVideo(\"764766175\", h=\"6d2f030425\", width=600)"
   ]
  },
  {
   "cell_type": "markdown",
   "id": "ae1fd1a0-a8bc-4c38-8239-9d3f40b34dad",
   "metadata": {
    "deletable": false,
    "editable": false
   },
   "source": [
    "**Task 8.2.8:** Add an `insert_table` method to your `SQLRepository` class. As a guide use the assert statements below and the docstring in the `data` module. When you're done, run the cell below to check your work.\n",
    "\n",
    "- [Write a class method in Python.](../%40textbook/21-python-object-oriented-programming.ipynb#Methods)"
   ]
  },
  {
   "cell_type": "code",
   "execution_count": null,
   "id": "2210e278-a640-41e7-b1a1-8aaa357d9d2e",
   "metadata": {
    "deletable": false
   },
   "outputs": [],
   "source": [
    "response = repo.insert_table(table_name=ticker, records=df_suzlon, if_exists=\"replace\")\n",
    "\n",
    "# Does your method return a dictionary?\n",
    "assert isinstance(response, dict)\n",
    "\n",
    "# Are the keys of that dictionary correct?\n",
    "assert sorted(list(response.keys())) == [\"records_inserted\", \"transaction_successful\"]"
   ]
  },
  {
   "cell_type": "markdown",
   "id": "7a23e148-e5ff-4f06-b708-9efed1306c10",
   "metadata": {
    "deletable": false,
    "editable": false
   },
   "source": [
    "If our method is passing the assert statements, we know it's returning a record of the database transaction, but we still need to check whether the data has actually been added to the database."
   ]
  },
  {
   "cell_type": "code",
   "execution_count": null,
   "id": "122dbfd9-84b8-46b7-aa3b-b2d52556d5f9",
   "metadata": {
    "deletable": false,
    "editable": false,
    "init_cell": true
   },
   "outputs": [],
   "source": [
    "VimeoVideo(\"764766150\", h=\"80fc271c75\", width=600)"
   ]
  },
  {
   "cell_type": "markdown",
   "id": "e955cbbb-01cc-4c2d-8daf-16288aa250db",
   "metadata": {
    "deletable": false,
    "editable": false
   },
   "source": [
    "**Task 8.2.9:** Write a SQL query to get the **first five rows** of the table of Suzlon data you just inserted into the database.\n",
    "\n",
    "- [Write a basic query in SQL.](../%40textbook/10-databases-sql.ipynb#Querying-a-Database)"
   ]
  },
  {
   "cell_type": "code",
   "execution_count": null,
   "id": "7757a902-f0eb-4dfe-a11f-a4bc328ceb69",
   "metadata": {
    "deletable": false
   },
   "outputs": [],
   "source": [
    "\n",
    "%sql sqlite:////home/jovyan/work/ds-curriculum/080-volatility-forecasting-in-india/stocks.sqlite"
   ]
  },
  {
   "cell_type": "code",
   "execution_count": null,
   "id": "9d49b614-60bf-4759-a18f-71361ce2a88c",
   "metadata": {
    "deletable": false
   },
   "outputs": [],
   "source": [
    "%%sql\n",
    "\n"
   ]
  },
  {
   "cell_type": "markdown",
   "id": "1f599a58-461c-4dae-9372-328f4241aa29",
   "metadata": {
    "deletable": false,
    "editable": false
   },
   "source": [
    "We can get **insert** data into our database, but let's not forget that we need to **read** data from it, too. Reading will be a little more complex than inserting, so let's start by writing code in this notebook before we incorporate it into our `SQLRepository` class."
   ]
  },
  {
   "cell_type": "code",
   "execution_count": null,
   "id": "791fe7af-0907-47ac-95d1-3606db045731",
   "metadata": {
    "deletable": false,
    "editable": false,
    "init_cell": true
   },
   "outputs": [],
   "source": [
    "VimeoVideo(\"764766109\", h=\"d04a7a3f9f\", width=600)"
   ]
  },
  {
   "cell_type": "markdown",
   "id": "141e2c94-3a4f-4d8b-a84c-3cfb814d90ce",
   "metadata": {
    "deletable": false,
    "editable": false
   },
   "source": [
    "**Task 8.2.10:** First, write a SQL query to get **all** the Suzlon data. Then use pandas to extract the data from the database and read it into a DataFrame, names `df_suzlon_test`.\n",
    "\n",
    "- [Write a basic query in SQL.](../%40textbook/10-databases-sql.ipynb#Querying-a-Database)\n",
    "- [Read SQL query into a DataFrame using pandas.](../%40textbook/10-databases-sql.ipynb#Using-pandas-with-SQL-Databases)"
   ]
  },
  {
   "cell_type": "code",
   "execution_count": null,
   "id": "088da36d-e462-4be4-9f1a-c52586efce5a",
   "metadata": {
    "deletable": false
   },
   "outputs": [],
   "source": [
    "sql = ...\n",
    "df_suzlon_test = ...\n",
    "\n",
    "print(\"df_suzlon_test type:\", type(df_suzlon_test))\n",
    "print()\n",
    "print(df_suzlon_test.info())\n",
    "df_suzlon_test.head()"
   ]
  },
  {
   "cell_type": "markdown",
   "id": "90924b2f",
   "metadata": {
    "deletable": false,
    "editable": false
   },
   "source": [
    "Now that we know how to read a table from our database, let's turn our code into a proper function. But since we're doing backwards designs, we need to start with our tests."
   ]
  },
  {
   "cell_type": "code",
   "execution_count": null,
   "id": "57334058-77d4-4832-a26f-db004bb90993",
   "metadata": {
    "deletable": false,
    "editable": false,
    "init_cell": true
   },
   "outputs": [],
   "source": [
    "VimeoVideo(\"764772699\", h=\"6d97cff2e8\", width=600)"
   ]
  },
  {
   "cell_type": "markdown",
   "id": "ba48f1ad-fc92-488b-9d79-368be138df52",
   "metadata": {
    "deletable": false,
    "editable": false
   },
   "source": [
    "**Task 8.2.11:** <a id=\"task-8211\"></a>Complete the assert statements below to test your `read_table` function. Use the comments as a guide.\n",
    "\n",
    "- [What's an assert statement?](../%40textbook/02-python-advanced.ipynb#Testing-Code)\n",
    "- [Write an assert statement in Python.](../%40textbook/02-python-advanced.ipynb#Testing-Code)"
   ]
  },
  {
   "cell_type": "code",
   "execution_count": null,
   "id": "9d89c5e7-a3d8-4ce7-9dd1-654cab786e20",
   "metadata": {
    "deletable": false,
    "tags": [
     "raises-exception"
    ]
   },
   "outputs": [],
   "source": [
    "# Assign `read_table` output to `df_suzlon`\n",
    "df_suzlon = read_table(table_name=\"SUZLON.BSE\", limit=2500)  # noQA F821\n",
    "\n",
    "# Is `df_suzlon` a DataFrame?\n",
    "\n",
    "\n",
    "# Does it have a `DatetimeIndex`?\n",
    "\n",
    "\n",
    "# Is the index named \"date\"?\n",
    "\n",
    "\n",
    "# Does it have 2,500 rows and 5 columns?\n",
    "\n",
    "\n",
    "# Are the column names correct?\n",
    "\n",
    "\n",
    "# Are the column data types correct?\n",
    "\n",
    "\n",
    "# Print `df_suzlon` info\n",
    "print(\"df_suzlon shape:\", df_suzlon.shape)\n",
    "print()\n",
    "print(df_suzlon.info())\n",
    "df_suzlon.head()"
   ]
  },
  {
   "cell_type": "markdown",
   "id": "363900a4",
   "metadata": {
    "deletable": false,
    "editable": false
   },
   "source": [
    "<div class=\"alert alert-info\" role=\"alert\">\n",
    "    <p><b>Tip:</b> You won't be able to run this ☝️ code block until you complete the task below. 👇</p>\n",
    "</div>"
   ]
  },
  {
   "cell_type": "code",
   "execution_count": null,
   "id": "cf5b908a-ea9f-4519-b672-680b6cca8b9b",
   "metadata": {
    "deletable": false,
    "editable": false,
    "init_cell": true
   },
   "outputs": [],
   "source": [
    "VimeoVideo(\"764772667\", h=\"afbd47543a\", width=600)"
   ]
  },
  {
   "cell_type": "markdown",
   "id": "23275ea4-d927-4491-8bca-cc67097cae7a",
   "metadata": {
    "deletable": false,
    "editable": false
   },
   "source": [
    "**Task 8.2.12:** Expand on the code you're written above to complete the `read_table` function below. Use the docstring as a guide.\n",
    "\n",
    "- [What's a function?](../%40textbook/02-python-advanced.ipynb#Functions)\n",
    "- [Write a function in Python.](../%40textbook/02-python-advanced.ipynb#Functions)\n",
    "- [Write a basic query in SQL.](../%40textbook/10-databases-sql.ipynb#Querying-a-Database)"
   ]
  },
  {
   "cell_type": "markdown",
   "id": "df998521-2247-4c21-9617-494032d59511",
   "metadata": {
    "deletable": false,
    "editable": false
   },
   "source": [
    "<div class=\"alert alert-info\" role=\"alert\">\n",
    "    <p><b>Tip:</b> Remember that we stored our data sorted <b>descending</b> by date. It'll definitely make our <code>read_table</code> easier to implement!</p>\n",
    "</div>"
   ]
  },
  {
   "cell_type": "code",
   "execution_count": null,
   "id": "88dc894f-3953-4d6c-8d05-5ab0dd51ad95",
   "metadata": {
    "deletable": false
   },
   "outputs": [],
   "source": [
    "def read_table():\n",
    "\n",
    "    \"\"\"Read table from database.\n",
    "\n",
    "    Parameters\n",
    "    ----------\n",
    "    table_name : str\n",
    "        Name of table in SQLite database.\n",
    "    limit : int, None, optional\n",
    "        Number of most recent records to retrieve. If `None`, all\n",
    "        records are retrieved. By default, `None`.\n",
    "\n",
    "    Returns\n",
    "    -------\n",
    "    pd.DataFrame\n",
    "        Index is DatetimeIndex \"date\". Columns are 'open', 'high',\n",
    "        'low', 'close', and 'volume'. All columns are numeric.\n",
    "    \"\"\"\n",
    "    # Create SQL query (with optional limit)\n",
    "    sql = ...\n",
    "    \n",
    "\n",
    "    # Retrieve data, read into DataFrame\n",
    "    df = ...\n",
    "\n",
    "    # Return DataFrame\n",
    "    return df"
   ]
  },
  {
   "cell_type": "code",
   "execution_count": null,
   "id": "ff6083c1-eddd-4301-9808-0d149e1974f1",
   "metadata": {
    "deletable": false,
    "editable": false,
    "init_cell": true
   },
   "outputs": [],
   "source": [
    "VimeoVideo(\"764772652\", h=\"9f89b8c66e\", width=600)"
   ]
  },
  {
   "cell_type": "markdown",
   "id": "b2fb4e46-3af8-489c-924c-a2ad9f973b37",
   "metadata": {
    "deletable": false,
    "editable": false
   },
   "source": [
    "**Task 8.2.13:** Turn the `read_table` function into a method for your `SQLRepository` class.\n",
    "\n",
    "- [Write a class method in Python.](../%40textbook/21-python-object-oriented-programming.ipynb#Methods)"
   ]
  },
  {
   "cell_type": "code",
   "execution_count": null,
   "id": "cffacffd-b62f-4c64-b047-c6f271d75d09",
   "metadata": {
    "deletable": false,
    "editable": false,
    "init_cell": true
   },
   "outputs": [],
   "source": [
    "VimeoVideo(\"764772632\", h=\"3e374abcc3\", width=600)"
   ]
  },
  {
   "cell_type": "markdown",
   "id": "0ce86bf2-4246-4f84-8f4e-c4b42acc7676",
   "metadata": {
    "deletable": false,
    "editable": false
   },
   "source": [
    "**Task 8.2.14:** Return to task <a href=\"#task-8211\">Task 8.2.11</a> and change the code so that you're testing your class method instead of your notebook function.\n",
    "\n",
    "- [What's an assert statement?](../%40textbook/02-python-advanced.ipynb#Testing-Code)\n",
    "- [Write an assert statement in Python.](../%40textbook/02-python-advanced.ipynb#Testing-Code)"
   ]
  },
  {
   "cell_type": "markdown",
   "id": "76507396-e592-4704-9c56-c2a64d817fa6",
   "metadata": {
    "deletable": false,
    "editable": false
   },
   "source": [
    "Excellent! We have everything we need to get data from AlphaVantage, save that data in our database, and access it later on. Now it's time to do a little exploratory analysis to compare the stocks of the two companies we have data for. "
   ]
  },
  {
   "cell_type": "markdown",
   "id": "95b3fb61-9b65-438f-8ed4-08b1e52e63cc",
   "metadata": {
    "deletable": false,
    "editable": false
   },
   "source": [
    "# Comparing Stock Returns"
   ]
  },
  {
   "cell_type": "markdown",
   "id": "90e82934-8192-43a2-a700-30a2fd64d678",
   "metadata": {
    "deletable": false,
    "editable": false
   },
   "source": [
    "We already have the data for Suzlon Energy in our database, but we need to add the data for Ambuja Cement before we can compare the two stocks."
   ]
  },
  {
   "cell_type": "code",
   "execution_count": null,
   "id": "3de56b52-2bcb-4ac4-9937-4fb57785d875",
   "metadata": {
    "deletable": false,
    "editable": false,
    "init_cell": true
   },
   "outputs": [],
   "source": [
    "VimeoVideo(\"764772620\", h=\"d635a99b74\", width=600)"
   ]
  },
  {
   "cell_type": "markdown",
   "id": "7070d872-2f79-4a1b-bdf6-ac5b9354f9ec",
   "metadata": {
    "deletable": false,
    "editable": false
   },
   "source": [
    "**Task 8.2.15:** Use the instances of the `AlphaVantageAPI` and `SQLRepository` classes you created in this lesson (`av` and `repo`, respectively) to get the stock data for Ambuja Cement and read it into the database.\n",
    "\n",
    "- [Write a basic query in SQL.](../%40textbook/10-databases-sql.ipynb#Querying-a-Database)\n",
    "- [Read SQL query into a DataFrame using pandas.](../%40textbook/10-databases-sql.ipynb#Using-pandas-with-SQL-Databases)"
   ]
  },
  {
   "cell_type": "code",
   "execution_count": null,
   "id": "877ec8a6-1a9e-4ab5-b4d3-59e0248adaca",
   "metadata": {
    "deletable": false
   },
   "outputs": [],
   "source": [
    "ticker = \"AMBUJACEM.BSE\"\n",
    "\n",
    "# Get Ambuja data using `av`\n",
    "ambuja_records = ...\n",
    "\n",
    "# Insert `ambuja_records` database using `repo`\n",
    "response = ...\n",
    "\n",
    "response"
   ]
  },
  {
   "cell_type": "markdown",
   "id": "006550f0-599d-47a7-ae8e-c59b21854809",
   "metadata": {
    "deletable": false,
    "editable": false
   },
   "source": [
    "Let's take a look at the data to make sure we're getting what we need."
   ]
  },
  {
   "cell_type": "code",
   "execution_count": null,
   "id": "47b36d65-e255-499f-9f98-5b0e5f65be6f",
   "metadata": {
    "deletable": false,
    "editable": false,
    "init_cell": true
   },
   "outputs": [],
   "source": [
    "VimeoVideo(\"764772601\", h=\"f0be0fbb1a\", width=600)"
   ]
  },
  {
   "cell_type": "markdown",
   "id": "111e376f-f8d6-454b-bffe-540d2e392371",
   "metadata": {
    "deletable": false,
    "editable": false
   },
   "source": [
    "**Task 8.2.16:** Using the `read_table` method you've added to your `SQLRepository`, extract the most recent 2,500 rows of data for Ambuja Cement from the database and assign the result to `df_ambuja`.\n",
    "\n",
    "- [Write a basic query in SQL.](../%40textbook/10-databases-sql.ipynb#Querying-a-Database)\n",
    "- [Read SQL query into a DataFrame using pandas.](../%40textbook/10-databases-sql.ipynb#Using-pandas-with-SQL-Databases)"
   ]
  },
  {
   "cell_type": "code",
   "execution_count": null,
   "id": "645a6c99-a4ac-4525-8876-cf9ca89cb4d6",
   "metadata": {
    "deletable": false
   },
   "outputs": [],
   "source": [
    "ticker = \"AMBUJACEM.BSE\"\n",
    "df_ambuja = ...\n",
    "\n",
    "print(\"df_ambuja type:\", type(df_ambuja))\n",
    "print(\"df_ambuja shape:\", df_ambuja.shape)\n",
    "df_ambuja.head()"
   ]
  },
  {
   "cell_type": "markdown",
   "id": "a14158b0-ea28-4b0b-adb5-fc45103bd869",
   "metadata": {
    "deletable": false,
    "editable": false
   },
   "source": [
    "We've spent a lot of time so far looking at this data, but what does it actually represent? It turns out the stock market is a lot like any other market: people buy and sell goods. The prices of those goods can go up or down depending on factors like supply and demand. In the case of a stock market, the goods being sold are stocks (also called equities or securities), which represent an ownership stake in a corporation.\n",
    "\n",
    "During each trading day, the price of a stock will change, so when we're looking at whether a stock might be a good investment, we look at four types of numbers: open, high, low, close, volume. **Open** is exactly what it sounds like: the selling price of a share when the market opens for the day. Similarly, **close** is the selling price of a share when the market closes at the end of the day, and **high** and **low** are the respective maximum and minimum prices of a share over the course of the day. **Volume** is the number of shares of a given stock that have been bought and sold that day. Generally speaking, a firm whose shares have seen a high volume of trading will see more price variation of the course of the day than a firm whose shares have been more lightly traded.\n",
    "\n",
    "Let's visualize how the price of Ambuja Cement changes over the last decade."
   ]
  },
  {
   "cell_type": "code",
   "execution_count": null,
   "id": "cdb00c46-8a0b-4cde-ba15-beeed3eb3f4a",
   "metadata": {
    "deletable": false,
    "editable": false,
    "init_cell": true
   },
   "outputs": [],
   "source": [
    "VimeoVideo(\"764772582\", h=\"c2b9c56782\", width=600)"
   ]
  },
  {
   "cell_type": "markdown",
   "id": "efd079bf-b7c4-4b04-a583-50678306daaa",
   "metadata": {
    "deletable": false,
    "editable": false
   },
   "source": [
    "**Task 8.2.17:** Plot the closing price of `df_ambuja`. Be sure to label your axes and include a legend.\n",
    "\n",
    "- [Make a line plot with time series data in pandas.](../%40textbook/07-visualization-pandas.ipynb#Line-Plots)"
   ]
  },
  {
   "cell_type": "code",
   "execution_count": null,
   "id": "4904ceb7-832a-4cf3-bf99-6913d984f9f1",
   "metadata": {
    "deletable": false
   },
   "outputs": [],
   "source": [
    "fig, ax = plt.subplots(figsize=(15, 6))\n",
    "# Plot `df_ambuja` closing price\n",
    "\n",
    "\n",
    "# Label axes\n",
    "\n",
    "\n",
    "\n",
    "# Add legend\n"
   ]
  },
  {
   "cell_type": "markdown",
   "id": "178995dd-eb82-49a4-90b7-978bb22ec100",
   "metadata": {
    "deletable": false,
    "editable": false
   },
   "source": [
    "Let's add the closing price of Suzlon to our graph so we can compare the two."
   ]
  },
  {
   "cell_type": "code",
   "execution_count": null,
   "id": "7c500665-7dcb-4ad9-b897-cadee0e13b64",
   "metadata": {
    "deletable": false,
    "editable": false,
    "init_cell": true
   },
   "outputs": [],
   "source": [
    "VimeoVideo(\"764772560\", h=\"cabe95603f\", width=600)"
   ]
  },
  {
   "cell_type": "markdown",
   "id": "69c60268-0e80-4273-9687-7aae48197885",
   "metadata": {
    "deletable": false,
    "editable": false
   },
   "source": [
    "**Task 8.2.18:** Create a plot that shows the closing prices of `df_suzlon` and `df_ambuja`. Again, label your axes and include a legend.\n",
    "\n",
    "- [Make a line plot with time series data in pandas.](../%40textbook/07-visualization-pandas.ipynb#Line-Plots)"
   ]
  },
  {
   "cell_type": "code",
   "execution_count": null,
   "id": "a4b12ff3-d790-4ad2-b1f8-22e97a1149e4",
   "metadata": {
    "deletable": false
   },
   "outputs": [],
   "source": [
    "fig, ax = plt.subplots(figsize=(15, 6))\n",
    "# Plot `df_suzlon` and `df_ambuja`\n",
    "\n",
    "\n",
    "\n",
    "# Label axes\n",
    "\n",
    "\n",
    "\n",
    "# Add legend\n"
   ]
  },
  {
   "cell_type": "markdown",
   "id": "f1f00230-e924-4cee-828d-ac69bff887c4",
   "metadata": {
    "deletable": false,
    "editable": false
   },
   "source": [
    "Looking at this plot, we might conclude that Ambuja Cement is a \"better\" stock than Suzlon energy because its price is higher. But price is just one factor that an investor must consider when creating an investment strategy. What is definitely true is that it's hard to do a head-to-head comparison of these two stocks because there's such a large price difference.\n",
    "\n",
    "One way in which investors compare stocks is by looking at their **returns** instead. A return is the change in value in an investment, represented as a percentage. So let's look at the daily returns for our two stocks."
   ]
  },
  {
   "cell_type": "code",
   "execution_count": null,
   "id": "54d227d9-a193-4b3c-8fd4-e7972b065a16",
   "metadata": {
    "deletable": false,
    "editable": false,
    "init_cell": true
   },
   "outputs": [],
   "source": [
    "VimeoVideo(\"764772521\", h=\"48fb7816c9\", width=600)"
   ]
  },
  {
   "cell_type": "markdown",
   "id": "d0e2da22-819d-4e67-8d20-8abe1d34c0c3",
   "metadata": {
    "deletable": false,
    "editable": false
   },
   "source": [
    "**Task 8.2.19:** Add a `\"return\"` column to `df_ambuja` that shows the percentage change in the `\"close\"` column from one day to the next.\n",
    "\n",
    "- [Calculate the percentage change of a column using pandas.](../%40textbook/18-ts-models.ipynb#Calculating-Returns)\n",
    "- [Create new columns derived from existing columns in a DataFrame using pandas.](../%40textbook/03-pandas-getting-started.ipynb#Adding-Columns)"
   ]
  },
  {
   "cell_type": "markdown",
   "id": "94587ffb-277a-4e0e-801e-d6017956504f",
   "metadata": {
    "deletable": false,
    "editable": false
   },
   "source": [
    "<div class=\"alert alert-info\" role=\"alert\">\n",
    "    <p><b>Tip:</b> Our two DataFrames are sorted <b>descending</b> by date, but you'll need to make sure they're sorted <b>ascending</b> in order to calculate their returns.</p>\n",
    "</div>"
   ]
  },
  {
   "cell_type": "code",
   "execution_count": null,
   "id": "00c4020b-5304-4b59-bcfc-ba90bd05e5ed",
   "metadata": {
    "deletable": false
   },
   "outputs": [],
   "source": [
    "# Sort DataFrame ascending by date\n",
    "\n",
    "\n",
    "# Create \"return\" column\n",
    "\n",
    "\n",
    "print(\"df_ambuja shape:\", df_ambuja.shape)\n",
    "print(df_ambuja.info())\n",
    "df_ambuja.head()"
   ]
  },
  {
   "cell_type": "code",
   "execution_count": null,
   "id": "ba984e64-3e2b-4d95-a490-ec010a560bc9",
   "metadata": {
    "deletable": false,
    "editable": false,
    "init_cell": true
   },
   "outputs": [],
   "source": [
    "VimeoVideo(\"764772505\", h=\"0d303013a8\", width=600)"
   ]
  },
  {
   "cell_type": "markdown",
   "id": "7eb59639-3ea3-4519-a87f-0f723a1be4d5",
   "metadata": {
    "deletable": false,
    "editable": false
   },
   "source": [
    "**Task 8.2.20:** Add a `\"return\"` column to `df_suzlon`.\n",
    "\n",
    "- [Calculate the percentage change of a column using pandas.](../%40textbook/18-ts-models.ipynb#Calculating-Returns)\n",
    "- [Create new columns derived from existing columns in a DataFrame using pandas.](../%40textbook/03-pandas-getting-started.ipynb#Adding-Columns)"
   ]
  },
  {
   "cell_type": "code",
   "execution_count": null,
   "id": "3076a820-add7-4541-95df-b4cda12c5fbc",
   "metadata": {
    "deletable": false
   },
   "outputs": [],
   "source": [
    "# Sort DataFrame ascending by date\n",
    "\n",
    "\n",
    "# Create \"return\" column\n",
    "\n",
    "\n",
    "print(\"df_suzlon shape:\", df_suzlon.shape)\n",
    "print(df_suzlon.info())\n",
    "df_suzlon.head()"
   ]
  },
  {
   "cell_type": "code",
   "execution_count": null,
   "id": "7fa2e2e8-7573-4c01-a8a9-34c83b987817",
   "metadata": {
    "deletable": false,
    "editable": false
   },
   "outputs": [],
   "source": [
    "wqet_grader.grade(\"Project 8 Assessment\", \"Task 8.2.20\", df_suzlon)"
   ]
  },
  {
   "cell_type": "markdown",
   "id": "e04ec796-6fda-416a-9257-11dddae0b628",
   "metadata": {
    "deletable": false,
    "editable": false
   },
   "source": [
    "Now let's plot the returns for our two companies and see how the two compare."
   ]
  },
  {
   "cell_type": "code",
   "execution_count": null,
   "id": "9a11867c-c13f-41e2-80b7-66c8f64ee3e0",
   "metadata": {
    "deletable": false,
    "editable": false,
    "init_cell": true
   },
   "outputs": [],
   "source": [
    "VimeoVideo(\"764772480\", h=\"b8ebd6bd2f\", width=600)"
   ]
  },
  {
   "cell_type": "markdown",
   "id": "d85d36bb-6b5c-4f31-a8af-47240071ee6b",
   "metadata": {
    "deletable": false,
    "editable": false
   },
   "source": [
    "**Task 8.2.21:** Plot the returns for `df_suzlon` and `df_ambuja`. Be sure to label your axes and use legend.\n",
    "\n",
    "- [Make a line plot with time series data in pandas.](../%40textbook/07-visualization-pandas.ipynb#Line-Plots)"
   ]
  },
  {
   "cell_type": "code",
   "execution_count": null,
   "id": "d95138c2-4fc2-4b42-96f2-62ab7e9ab874",
   "metadata": {
    "deletable": false
   },
   "outputs": [],
   "source": [
    "fig, ax = plt.subplots(figsize=(15, 6))\n",
    "# Plot returns for `df_suzlon` and `df_ambuja`\n",
    "\n",
    "\n",
    "\n",
    "# Label axes\n",
    "\n",
    "\n",
    "\n",
    "# Add legend\n"
   ]
  },
  {
   "cell_type": "markdown",
   "id": "6cd81a16-179a-47b2-8ab5-532f19cbf55a",
   "metadata": {
    "deletable": false,
    "editable": false
   },
   "source": [
    "Success! By representing returns as a percentage, we're able to compare two stocks that have very different prices. But what is this visualization telling us? We can see that the returns for Suzlon have a wider spread. We see big gains and big losses. In contrast, the spread for Ambuja is narrower, meaning that the price doesn't fluctuate as much. \n",
    "\n",
    "Another name for this day-to-day fluctuation in returns is called [**volatility**](https://en.wikipedia.org/wiki/Volatility_(finance)), which is another important factor for investors. So in the next lesson, we'll learn more about volatility and then build a time series model to predict it."
   ]
  },
  {
   "cell_type": "markdown",
   "id": "240442be",
   "metadata": {
    "deletable": false,
    "editable": false
   },
   "source": [
    "---\n",
    "Copyright 2023 WorldQuant University. This\n",
    "content is licensed solely for personal use. Redistribution or\n",
    "publication of this material is strictly prohibited.\n"
   ]
  }
 ],
 "metadata": {
  "kernelspec": {
   "display_name": "Python 3 (ipykernel)",
   "language": "python",
   "name": "python3"
  },
  "language_info": {
   "codemirror_mode": {
    "name": "ipython",
    "version": 3
   },
   "file_extension": ".py",
   "mimetype": "text/x-python",
   "name": "python",
   "nbconvert_exporter": "python",
   "pygments_lexer": "ipython3",
   "version": "3.9.6"
  },
  "toc-autonumbering": false,
  "toc-showmarkdowntxt": false
 },
 "nbformat": 4,
 "nbformat_minor": 5
}
