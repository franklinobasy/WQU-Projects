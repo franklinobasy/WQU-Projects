{
 "cells": [
  {
   "cell_type": "markdown",
   "id": "577330aa",
   "metadata": {
    "deletable": false,
    "editable": false
   },
   "source": [
    "\n",
    "<div class=\"alert alert-info\" role=\"alert\">\n",
    "  <p>\n",
    "    <center><b>Usage Guidelines</b></center>\n",
    "  </p>\n",
    "\n",
    "  <p>\n",
    "    This lesson is part of the <b>DS Lab core curriculum</b>. For that reason, this notebook can only be used on your WQU virtual machine.\n",
    "  </p>\n",
    "\n",
    "  <p>\n",
    "    This means:\n",
    "    <ul>\n",
    "      <li><span style=\"color: red\">ⓧ</span> No downloading this notebook.</li>\n",
    "      <li><span style=\"color: red\">ⓧ</span> No re-sharing of this notebook with friends or colleagues.</li>\n",
    "      <li><span style=\"color: red\">ⓧ</span> No downloading the embedded videos in this notebook.</li>\n",
    "      <li><span style=\"color: red\">ⓧ</span> No re-sharing embedded videos with friends or colleagues.</li>\n",
    "      <li><span style=\"color: red\">ⓧ</span> No adding this notebook to public or private repositories.</li>\n",
    "      <li><span style=\"color: red\">ⓧ</span> No uploading this notebook (or screenshots of it) to other websites, including websites for study resources.</li>\n",
    "    </ul>\n",
    "\n",
    "  </p>\n",
    "</div>\n"
   ]
  },
  {
   "cell_type": "markdown",
   "id": "f052a506-dffe-4bb7-8733-05b10d595598",
   "metadata": {
    "deletable": false,
    "editable": false
   },
   "source": [
    "<font size=\"+3\"><strong>8.3. Predicting Volatility</strong></font>"
   ]
  },
  {
   "cell_type": "markdown",
   "id": "1c58fcc7-f7a9-43f6-bdac-106799f600d1",
   "metadata": {
    "deletable": false,
    "editable": false
   },
   "source": [
    "In the last lesson, we learned that one characteristic of stocks that's important to investors is **volatility**. Actually, it's so important that there are several time series models for predicting it. In this lesson, we'll build one such model called **GARCH**. We'll also continue working with assert statements to test our code. "
   ]
  },
  {
   "cell_type": "code",
   "execution_count": null,
   "id": "9ef298f6-86e3-4fe4-9af7-fd5ac37383ec",
   "metadata": {
    "deletable": false,
    "editable": false,
    "init_cell": true
   },
   "outputs": [],
   "source": [
    "import sqlite3\n",
    "\n",
    "import matplotlib.pyplot as plt\n",
    "import numpy as np\n",
    "import pandas as pd\n",
    "import wqet_grader\n",
    "from arch import arch_model\n",
    "from config import settings\n",
    "from data import SQLRepository\n",
    "from IPython.display import VimeoVideo\n",
    "from statsmodels.graphics.tsaplots import plot_acf, plot_pacf\n",
    "\n",
    "wqet_grader.init(\"Project 8 Assessment\")"
   ]
  },
  {
   "cell_type": "code",
   "execution_count": null,
   "id": "cafbc76d-06ea-483d-b7f9-18ccced21c64",
   "metadata": {
    "deletable": false,
    "editable": false,
    "init_cell": true
   },
   "outputs": [],
   "source": [
    "VimeoVideo(\"770039650\", h=\"c39b4b0c08\", width=600)"
   ]
  },
  {
   "cell_type": "markdown",
   "id": "f367e686-f209-4001-ba58-2f01c717a5ec",
   "metadata": {
    "deletable": false,
    "editable": false
   },
   "source": [
    "# Prepare Data\n",
    "\n",
    "As always, the first thing we need to do is connect to our data source."
   ]
  },
  {
   "cell_type": "markdown",
   "id": "ab54f272-cb39-4861-8554-429b2faaf007",
   "metadata": {
    "deletable": false,
    "editable": false
   },
   "source": [
    "## Import "
   ]
  },
  {
   "cell_type": "code",
   "execution_count": null,
   "id": "606764bb-62e7-400f-bd21-948f49329d0b",
   "metadata": {
    "deletable": false,
    "editable": false,
    "init_cell": true
   },
   "outputs": [],
   "source": [
    "VimeoVideo(\"770039537\", h=\"a20af766cc\", width=600)"
   ]
  },
  {
   "cell_type": "markdown",
   "id": "54403bbd-90e2-4df5-9a9c-f620ffbe7970",
   "metadata": {
    "deletable": false,
    "editable": false
   },
   "source": [
    "**Task 8.3.1:** Create a connection to your database and then instantiate a `SQLRepository` named `repo` to interact with that database."
   ]
  },
  {
   "cell_type": "markdown",
   "id": "93a6a6c3-d232-4ffb-a7a9-90b9d416516e",
   "metadata": {
    "deletable": false,
    "editable": false
   },
   "source": [
    "- [Open a connection to a SQL database using sqlite3.](../%40textbook/10-databases-sql.ipynb#sqlite3)"
   ]
  },
  {
   "cell_type": "code",
   "execution_count": null,
   "id": "27ae5ab8-a859-4f72-982b-7a6bf7e14737",
   "metadata": {
    "deletable": false
   },
   "outputs": [],
   "source": [
    "connection = ...\n",
    "repo = ...\n",
    "\n",
    "print(\"repo type:\", type(repo))\n",
    "print(\"repo.connection type:\", type(repo.connection))"
   ]
  },
  {
   "cell_type": "markdown",
   "id": "f5c08a36-49c6-4d51-91d8-97f5274d4d1a",
   "metadata": {
    "deletable": false,
    "editable": false
   },
   "source": [
    "Now that we're connected to a database, let's pull out what we need."
   ]
  },
  {
   "cell_type": "code",
   "execution_count": null,
   "id": "9a700e14-f029-4375-8c44-44f4cadd894b",
   "metadata": {
    "deletable": false,
    "editable": false,
    "init_cell": true
   },
   "outputs": [],
   "source": [
    "VimeoVideo(\"770039513\", h=\"74530cf5b8\", width=600)"
   ]
  },
  {
   "cell_type": "markdown",
   "id": "d8260f08-3daf-4958-ab03-f179026c1816",
   "metadata": {
    "deletable": false,
    "editable": false
   },
   "source": [
    "**Task 8.3.2:** Pull the most recent 2,500 rows of data for Ambuja Cement from your database. Assign the results to the variable `df_ambuja`.\n",
    "\n",
    "- [Inspect a DataFrame using shape, info, and head in pandas.](../%40textbook/03-pandas-getting-started.ipynb#Inspecting-DataFrames)"
   ]
  },
  {
   "cell_type": "code",
   "execution_count": null,
   "id": "6aae0dac-151a-4976-b8cb-61ed1c75ac8f",
   "metadata": {
    "deletable": false
   },
   "outputs": [],
   "source": [
    "df_ambuja = ...\n",
    "\n",
    "print(\"df_ambuja type:\", type(df_ambuja))\n",
    "print(\"df_ambuja shape:\", df_ambuja.shape)\n",
    "df_ambuja.head()"
   ]
  },
  {
   "cell_type": "markdown",
   "id": "d5bdec68-8903-43a2-91f8-6288f34cc72e",
   "metadata": {
    "deletable": false,
    "editable": false
   },
   "source": [
    "To train our model, the only data we need are the daily returns for `\"AMBUJACEM.BSE\"`. We learned how to calculate returns in the last lesson, but now let's formalize that process with a wrangle function."
   ]
  },
  {
   "cell_type": "code",
   "execution_count": null,
   "id": "76ab9c44-8e0b-4b8d-bbf7-61df70915136",
   "metadata": {
    "deletable": false,
    "editable": false,
    "init_cell": true
   },
   "outputs": [],
   "source": [
    "VimeoVideo(\"770039434\", h=\"4fdcd5ffcb\", width=600)"
   ]
  },
  {
   "cell_type": "markdown",
   "id": "125db279-7e3c-4341-90a9-8046e3493183",
   "metadata": {
    "deletable": false,
    "editable": false
   },
   "source": [
    "**Task 8.3.3:** Create a `wrangle_data` function whose output is the returns for a stock stored in your database. Use the docstring as a guide and the assert statements in the following code block to test your function. \n",
    "\n",
    "- [What's a function?](../%40textbook/02-python-advanced.ipynb#Functions)\n",
    "- [Write a function in Python.](../%40textbook/02-python-advanced.ipynb#Functions)"
   ]
  },
  {
   "cell_type": "code",
   "execution_count": null,
   "id": "0d394609-f139-48c0-a104-2d5294f96828",
   "metadata": {
    "deletable": false
   },
   "outputs": [],
   "source": [
    "def wrangle_data():\n",
    "\n",
    "    \"\"\"Extract table data from database. Calculate returns.\n",
    "\n",
    "    Parameters\n",
    "    ----------\n",
    "    ticker : str\n",
    "        The ticker symbol of the stock (also table name in database).\n",
    "\n",
    "    n_observations : int\n",
    "        Number of observations to return.\n",
    "\n",
    "    Returns\n",
    "    -------\n",
    "    pd.Series\n",
    "        Name will be `\"return\"`. There will be no `NaN` values.\n",
    "    \"\"\"\n",
    "    # Get table from database\n",
    "\n",
    "\n",
    "    # Sort DataFrame ascending by date\n",
    "\n",
    "\n",
    "    # Create \"return\" column\n",
    "\n",
    "\n",
    "    # Return returns\n",
    "    return ..."
   ]
  },
  {
   "cell_type": "markdown",
   "id": "c3da8a10-477c-4d0c-b962-91c8d8cbc195",
   "metadata": {
    "deletable": false,
    "editable": false
   },
   "source": [
    "When you run the cell below to test your function, you'll also create a Series `y_ambuja` that we'll use to train our model."
   ]
  },
  {
   "cell_type": "code",
   "execution_count": null,
   "id": "4868bd94-afe9-48d4-b9d7-4f99c8e55f4b",
   "metadata": {
    "deletable": false
   },
   "outputs": [],
   "source": [
    "y_ambuja = wrangle_data(ticker=\"AMBUJACEM.BSE\", n_observations=2500)\n",
    "\n",
    "# Is `y_ambuja` a Series?\n",
    "assert isinstance(y_ambuja, pd.Series)\n",
    "\n",
    "# Are there 2500 observations in the Series?\n",
    "assert len(y_ambuja) == 2500\n",
    "\n",
    "# Is `y_ambuja` name \"return\"?\n",
    "assert y_ambuja.name == \"return\"\n",
    "\n",
    "# Does `y_ambuja` have a DatetimeIndex?\n",
    "assert isinstance(y_ambuja.index, pd.DatetimeIndex)\n",
    "\n",
    "# Is index sorted ascending?\n",
    "assert all(y_ambuja.index == y_ambuja.sort_index(ascending=True).index)\n",
    "\n",
    "# Are there no `NaN` values?\n",
    "assert y_ambuja.isnull().sum() == 0\n",
    "\n",
    "y_ambuja.head()"
   ]
  },
  {
   "cell_type": "markdown",
   "id": "8e6d25fe-39bb-4854-8242-ce48ae94973c",
   "metadata": {
    "deletable": false,
    "editable": false
   },
   "source": [
    "Great work! Now that we've got a wrangle function, let's get the returns for Suzlon Energy, too."
   ]
  },
  {
   "cell_type": "code",
   "execution_count": null,
   "id": "b5bc6b57-c549-4c4f-b96e-eb3bc7a59993",
   "metadata": {
    "deletable": false,
    "editable": false,
    "init_cell": true
   },
   "outputs": [],
   "source": [
    "VimeoVideo(\"770039414\", h=\"8e8317029e\", width=600)"
   ]
  },
  {
   "cell_type": "markdown",
   "id": "165ecf06-93fb-4702-bb13-ee7a4a82441c",
   "metadata": {
    "deletable": false,
    "editable": false
   },
   "source": [
    "**Task 8.3.4:** Use your `wrangle_data` function to get the returns for the 2,500 most recent trading days of Suzlon Energy. Assign the results to `y_suzlon`.\n",
    "\n",
    "- [What's a function?](../%40textbook/02-python-advanced.ipynb#Functions)\n",
    "- [Write a function in Python.](../%40textbook/02-python-advanced.ipynb#Functions)"
   ]
  },
  {
   "cell_type": "code",
   "execution_count": null,
   "id": "765b8202-782e-4c86-a17e-5047298678ab",
   "metadata": {
    "deletable": false
   },
   "outputs": [],
   "source": [
    "y_suzlon = ...\n",
    "\n",
    "print(\"y_suzlon type:\", type(y_suzlon))\n",
    "print(\"y_suzlon shape:\", y_suzlon.shape)\n",
    "y_suzlon.head()"
   ]
  },
  {
   "cell_type": "markdown",
   "id": "7d18d60e-b4c9-4219-a8d8-98ef6ff8e959",
   "metadata": {
    "deletable": false,
    "editable": false
   },
   "source": [
    "## Explore"
   ]
  },
  {
   "cell_type": "markdown",
   "id": "dd917b12-c2ab-44d5-b625-4ce463968cbc",
   "metadata": {
    "deletable": false,
    "editable": false
   },
   "source": [
    "Let's recreate the volatility time series plot we made in the last lesson so that we have a visual aid to talk about what volatility is."
   ]
  },
  {
   "cell_type": "code",
   "execution_count": null,
   "id": "d9f91a9f-1c4c-483c-8718-eb4e14a476c6",
   "metadata": {
    "deletable": false
   },
   "outputs": [],
   "source": [
    "fig, ax = plt.subplots(figsize=(15, 6))\n",
    "\n",
    "# Plot returns for `df_suzlon` and `df_ambuja`\n",
    "y_suzlon.plot(ax=ax, label=\"SUZLON\")\n",
    "y_ambuja.plot(ax=ax, label=\"AMBUJACEM\")\n",
    "\n",
    "# Label axes\n",
    "plt.xlabel(\"Date\")\n",
    "plt.ylabel(\"Return\")\n",
    "\n",
    "# Add legend\n",
    "plt.legend();"
   ]
  },
  {
   "cell_type": "markdown",
   "id": "41a0a05b-a035-4e03-a932-fcf136882ab4",
   "metadata": {
    "deletable": false,
    "editable": false
   },
   "source": [
    "The above plot shows how returns change over time. This may seem like a totally new concept, but if we visualize them without considering time, things will start to look familiar."
   ]
  },
  {
   "cell_type": "code",
   "execution_count": null,
   "id": "1a208ed6-fdd4-4c4d-9377-2883dfbcdd6c",
   "metadata": {
    "deletable": false,
    "editable": false,
    "init_cell": true
   },
   "outputs": [],
   "source": [
    "VimeoVideo(\"770039370\", h=\"dde163e45b\", width=600)"
   ]
  },
  {
   "cell_type": "markdown",
   "id": "6f2e3e53-0bca-46de-b850-46cf5c76c134",
   "metadata": {
    "deletable": false,
    "editable": false
   },
   "source": [
    "**Task 8.3.5:** Create a histogram `y_ambuja` with 25 bins. Be sure to label the x-axis `\"Returns\"`, the y-axis `\"Frequency [count]\"`, and use the title `\"Distribution of Ambuja Cement Daily Returns\"`.\n",
    "\n",
    "- [What's a histogram?](../%40textbook/08-visualization-plotly.ipynb#Histogram)\n",
    "- [Create a histogram using Matplotlib.](../%40textbook/06-visualization-matplotlib.ipynb#Histograms)"
   ]
  },
  {
   "cell_type": "code",
   "execution_count": null,
   "id": "a471c87d-6427-431a-b236-40b00630e5b5",
   "metadata": {
    "deletable": false
   },
   "outputs": [],
   "source": [
    "# Create histogram of `y_ambuja`, 25 bins\n",
    "\n",
    "\n",
    "# Add axis labels\n",
    "\n",
    "\n",
    "\n",
    "# Add title\n"
   ]
  },
  {
   "cell_type": "markdown",
   "id": "4b62d9f7-7551-43e7-a94e-4c7cb707d1d9",
   "metadata": {
    "deletable": false,
    "editable": false
   },
   "source": [
    "This is a familiar shape! It turns out that returns follow an almost normal distribution, centered on `0`. **Volatility** is the measure of the spread of these returns around the mean. In other words, volatility in finance is the same thing at standard deviation in statistics.\n",
    "\n",
    "Let's start by measuring the daily volatility of our two stocks. Since our data frequency is also daily, this will be exactly the same as calculating the standard deviation."
   ]
  },
  {
   "cell_type": "code",
   "execution_count": null,
   "id": "11a5dbe0-cced-4e10-82cb-aa641566e7b2",
   "metadata": {
    "deletable": false,
    "editable": false,
    "init_cell": true
   },
   "outputs": [],
   "source": [
    "VimeoVideo(\"770039332\", h=\"d43d49b8e7\", width=600)"
   ]
  },
  {
   "cell_type": "markdown",
   "id": "34cd8d94-e36a-4323-84cc-55352c3011d4",
   "metadata": {
    "deletable": false,
    "editable": false
   },
   "source": [
    "**Task 8.3.6:** Calculate daily volatility for Suzlon and Ambuja, assigning them to the variables `suzlon_daily_volatility` and `ambuja_daily_volatility`, respectively.\n",
    "\n",
    "- [What's volatility?](../%40textbook/05-pandas-summary-statistics.ipynb#Variance)\n",
    "- [Calculate the volatility for an asset using Python.](../%40textbook/18-ts-models.ipynb#Calculating-Returns)"
   ]
  },
  {
   "cell_type": "code",
   "execution_count": null,
   "id": "4cb88ec7-3939-4beb-8338-22fec5c61fe9",
   "metadata": {
    "deletable": false
   },
   "outputs": [],
   "source": [
    "suzlon_daily_volatility = ...\n",
    "ambuja_daily_volatility = ...\n",
    "\n",
    "print(\"Suzlon Daily Volatility:\", suzlon_daily_volatility)\n",
    "print(\"Ambuja Daily Volatility:\", ambuja_daily_volatility)"
   ]
  },
  {
   "cell_type": "markdown",
   "id": "c105a396-db94-4d3e-91e2-8b6578427fb2",
   "metadata": {
    "deletable": false,
    "editable": false
   },
   "source": [
    "Looks like Suzlon is more volatile than Ambuja. This reinforces what we saw in our time series plot, where Suzlon returns have a much wider spread.\n",
    "\n",
    "While daily volatility is useful, investors are also interested in volatility over other time periods — like annual volatility. Keep in mind that a year isn't 365 days for a stock market, though. After excluding weekends and holidays, most markets have only 252 trading days.\n",
    "\n",
    "So how do we go from daily to annual volatility? The same way we calculated the standard deviation for our multi-day experiment in Project 7!"
   ]
  },
  {
   "cell_type": "code",
   "execution_count": null,
   "id": "d4466382-278a-43b7-b46a-023071bac656",
   "metadata": {
    "deletable": false,
    "editable": false,
    "init_cell": true
   },
   "outputs": [],
   "source": [
    "VimeoVideo(\"770039290\", h=\"5b8452708a\", width=600)"
   ]
  },
  {
   "cell_type": "markdown",
   "id": "815ada86-e32f-45e7-848e-86795a319dfe",
   "metadata": {
    "deletable": false,
    "editable": false
   },
   "source": [
    "**Task 8.3.7:** Calculate the annual volatility for Suzlon and Ambuja, assigning the results to `suzlon_annual_volatility` and `ambuja_annual_volatility`, respectively.\n",
    "\n",
    "- [What's volatility?](../%40textbook/05-pandas-summary-statistics.ipynb#Variance)\n",
    "- [Calculate the volatility for an asset using Python.](../%40textbook/18-ts-models.ipynb#Calculating-Returns)"
   ]
  },
  {
   "cell_type": "code",
   "execution_count": null,
   "id": "24903149-26c2-4664-a48a-7adeed64708b",
   "metadata": {
    "deletable": false
   },
   "outputs": [],
   "source": [
    "suzlon_annual_volatility = ...\n",
    "ambuja_annual_volatility = ...\n",
    "\n",
    "print(\"Suzlon Annual Volatility:\", suzlon_annual_volatility)\n",
    "print(\"Ambuja Annual Volatility:\", ambuja_annual_volatility)"
   ]
  },
  {
   "cell_type": "markdown",
   "id": "c6a6d09e-0498-4271-a6eb-3b73eec09d18",
   "metadata": {
    "deletable": false,
    "editable": false
   },
   "source": [
    "Again, Suzlon has higher volatility than Ambuja. What do you think it means that the annual volatility is larger than daily?"
   ]
  },
  {
   "cell_type": "markdown",
   "id": "eda1ba56-46b4-4cb9-abd6-a0085923656a",
   "metadata": {
    "deletable": false,
    "editable": false
   },
   "source": [
    "Since we're dealing with time series data, another way to look at volatility is by calculating it using a rolling window. We'll do this the same way we calculated the rolling average for PM 2.5 levels in Project 3. Here, we'll start focusing on Ambuja Cement exclusively."
   ]
  },
  {
   "cell_type": "code",
   "execution_count": null,
   "id": "0bc0cf48-5813-410f-acf5-b461d538363b",
   "metadata": {
    "deletable": false,
    "editable": false,
    "init_cell": true
   },
   "outputs": [],
   "source": [
    "VimeoVideo(\"770039248\", h=\"71064ba910\", width=600)"
   ]
  },
  {
   "cell_type": "markdown",
   "id": "23e86fc9-5e19-485c-b4fa-c7d7ffe5f085",
   "metadata": {
    "deletable": false,
    "editable": false
   },
   "source": [
    "**Task 8.3.8:** Calculate the rolling volatility for `y_ambuja`, using a 50-day window. Assign the result to `ambuja_rolling_50d_volatility`.\n",
    "\n",
    "- [What's a rolling window?](../%40textbook/17-ts-core.ipynb#Rolling-Averages)\n",
    "- [Do a rolling window calculation in pandas.](../%40textbook/18-ts-models.ipynb#Making-a-Line-Plot-with-Rolling-Averages)"
   ]
  },
  {
   "cell_type": "code",
   "execution_count": null,
   "id": "64837a2c-91f0-42a5-b805-e644b4d66674",
   "metadata": {
    "deletable": false
   },
   "outputs": [],
   "source": [
    "ambuja_rolling_50d_volatility = ...\n",
    "\n",
    "print(\"rolling_50d_volatility type:\", type(ambuja_rolling_50d_volatility))\n",
    "print(\"rolling_50d_volatility shape:\", ambuja_rolling_50d_volatility.shape)\n",
    "ambuja_rolling_50d_volatility.head()"
   ]
  },
  {
   "cell_type": "markdown",
   "id": "5cde1ec3-4002-4ffc-81d7-04ddccaee304",
   "metadata": {
    "deletable": false,
    "editable": false
   },
   "source": [
    "This time, we'll focus on Ambuja Cement."
   ]
  },
  {
   "cell_type": "code",
   "execution_count": null,
   "id": "5300cfa1-52bd-4ecf-8948-d34b48166526",
   "metadata": {
    "deletable": false,
    "editable": false,
    "init_cell": true
   },
   "outputs": [],
   "source": [
    "VimeoVideo(\"770039209\", h=\"8250d0a2d4\", width=600)"
   ]
  },
  {
   "cell_type": "markdown",
   "id": "4d911cbc-f05d-46d2-9834-059f76e8c826",
   "metadata": {
    "deletable": false,
    "editable": false
   },
   "source": [
    "**Task 8.3.9:** Create a time series plot showing the daily returns for Ambuja Cement and the 50-day rolling volatility. Be sure to label your axes and include a legend.\n",
    "\n",
    "- [Make a line plot with time series data in pandas.](../%40textbook/18-ts-models.ipynb#Making-a-Line-Plot-with-Rolling-Averages)"
   ]
  },
  {
   "cell_type": "code",
   "execution_count": null,
   "id": "196b280a-653c-49e9-bee9-3808fca904ca",
   "metadata": {
    "deletable": false
   },
   "outputs": [],
   "source": [
    "fig, ax = plt.subplots(figsize=(15, 6))\n",
    "\n",
    "# Plot `y_ambuja`\n",
    "\n",
    "\n",
    "# Plot `ambuja_rolling_50d_volatility`\n",
    "\n",
    "\n",
    "# Add x-axis label\n",
    "\n",
    "\n",
    "# Add legend\n"
   ]
  },
  {
   "cell_type": "markdown",
   "id": "d41d0ed6-068e-43e3-9212-7bd98a5c2eb9",
   "metadata": {
    "deletable": false,
    "editable": false
   },
   "source": [
    "Here we can see that volatility goes up when the returns change drastically — either up or down. For instance, we can see a big increase in volatility in May 2020, when there were several days of large negative returns. We can also see volatility go down in August 2022, when there are only small day-to-day changes in returns.\n",
    "\n",
    "This plot reveals a problem. We want to use returns to see if high volatility on one day is associated with high volatility on the following day. But high volatility is caused by large changes in returns, which can be either positive or negative. How can we assess negative and positive numbers together without them canceling each other out? One solution is to take the absolute value of the numbers, which is what we do to calculate performance metrics like mean absolute error. The other solution, which is more common in this context, is to square all the values.  "
   ]
  },
  {
   "cell_type": "code",
   "execution_count": null,
   "id": "2f25ccdc-c638-40d9-b501-d3c149b9386b",
   "metadata": {
    "deletable": false,
    "editable": false,
    "init_cell": true
   },
   "outputs": [],
   "source": [
    "VimeoVideo(\"770039182\", h=\"1c7ee27846\", width=600)"
   ]
  },
  {
   "cell_type": "markdown",
   "id": "30868fc2-e28a-446f-8dbd-0b3e2e83c3b0",
   "metadata": {
    "deletable": false,
    "editable": false
   },
   "source": [
    "**Task 8.3.10:** Create a time series plot of the squared returns in `y_ambuja`. Don't forget to label your axes.\n",
    "\n",
    "- [Make a line plot with time series data in pandas.](../%40textbook/07-visualization-pandas.ipynb#Line-Plots)"
   ]
  },
  {
   "cell_type": "code",
   "execution_count": null,
   "id": "43da1d40-550b-4c08-ad74-968f4280e589",
   "metadata": {
    "deletable": false
   },
   "outputs": [],
   "source": [
    "fig, ax = plt.subplots(figsize=(15, 6))\n",
    "\n",
    "# Plot squared returns\n",
    "\n",
    "\n",
    "# Add axis labels\n",
    "\n"
   ]
  },
  {
   "cell_type": "markdown",
   "id": "8b834de4-dc54-4b63-a3c4-7ea51fc6324b",
   "metadata": {
    "deletable": false,
    "editable": false
   },
   "source": [
    "Perfect! Now it's much easier to see that (1) we have periods of high and low volatility, and (2) high volatility days tend to cluster together. This is a perfect situation to use a GARCH model.\n",
    "\n",
    "A GARCH model is sort of like the ARMA model we learned about in Lesson 3.4. It has a `p` parameter handling correlations at prior time steps and a `q` parameter for dealing with \"shock\" events. It also uses the notion of lag. To see how many lags we should have in our model, we should create an ACF and PACF plot — but using the squared returns. "
   ]
  },
  {
   "cell_type": "code",
   "execution_count": null,
   "id": "08ba6f46-5055-4e64-9230-b8fb8f478ada",
   "metadata": {
    "deletable": false,
    "editable": false,
    "init_cell": true
   },
   "outputs": [],
   "source": [
    "VimeoVideo(\"770039152\", h=\"74c63d13ac\", width=600)"
   ]
  },
  {
   "cell_type": "markdown",
   "id": "a16260c5-732d-4c93-a99a-e0c6d7620573",
   "metadata": {
    "deletable": false,
    "editable": false
   },
   "source": [
    "**Task 8.3.11:** Create an ACF plot of squared returns for Ambuja Cement. Be sure to label your x-axis `\"Lag [days]\"` and your y-axis `\"Correlation Coefficient\"`.\n",
    "\n",
    "- [What's an ACF plot?](../%40textbook/18-ts-models.ipynb#ACF-Plots)\n",
    "- [Create an ACF plot using statsmodels.](../%40textbook/18-ts-models.ipynb#ACF-Plots)"
   ]
  },
  {
   "cell_type": "code",
   "execution_count": null,
   "id": "9e71e04b-32a8-4497-9f76-677ddfef7f7d",
   "metadata": {
    "deletable": false
   },
   "outputs": [],
   "source": [
    "fig, ax = plt.subplots(figsize=(15, 6))\n",
    "\n",
    "# Create ACF of squared returns\n",
    "\n",
    "\n",
    "# Add axis labels\n",
    "\n"
   ]
  },
  {
   "cell_type": "code",
   "execution_count": null,
   "id": "4a32fc4b-c915-4fcf-89e4-996632b6d0b1",
   "metadata": {
    "deletable": false,
    "editable": false,
    "init_cell": true
   },
   "outputs": [],
   "source": [
    "VimeoVideo(\"770039126\", h=\"4cfbc287d8\", width=600)"
   ]
  },
  {
   "cell_type": "markdown",
   "id": "9ff76d6f-e1b6-416f-aa07-ad235277900d",
   "metadata": {
    "deletable": false,
    "editable": false
   },
   "source": [
    "**Task 8.3.12:** Create a PACF plot of squared returns for Ambuja Cement. Be sure to label your x-axis `\"Lag [days]\"` and your y-axis `\"Correlation Coefficient\"`.\n",
    "\n",
    "- [What's a PACF plot?](../%40textbook/18-ts-models.ipynb#Creating-a-PACF-Plot)\n",
    "- [Create a PACF plot using statsmodels.](../%40textbook/18-ts-models.ipynb#Creating-a-PACF-Plot)"
   ]
  },
  {
   "cell_type": "code",
   "execution_count": null,
   "id": "262bea6b-bbd7-40c4-9446-b2df12b983ad",
   "metadata": {
    "deletable": false
   },
   "outputs": [],
   "source": [
    "fig, ax = plt.subplots(figsize=(15, 6))\n",
    "\n",
    "# Create PACF of squared returns\n",
    "\n",
    "\n",
    "# Add axis labels\n",
    "\n"
   ]
  },
  {
   "cell_type": "markdown",
   "id": "09ee2784-a850-4e55-9d73-712b68880ed2",
   "metadata": {
    "deletable": false,
    "editable": false
   },
   "source": [
    "In our PACF, it looks like a lag of 3 would be a good starting point. \n",
    "\n",
    "Normally, at this point in the model building process, we would split our data into training and test sets, and then set a baseline. Not this time. This is because our model's input and its output are two different measurements. We'll use **returns** to train our model, but we want it to predict **volatility**. If we created a test set, it wouldn't give us the \"true values\" that we'd need to assess our model's performance. So this time, we'll skip right to iterating. "
   ]
  },
  {
   "cell_type": "markdown",
   "id": "2a550951-98fe-4688-a448-1412ee3a08c2",
   "metadata": {
    "deletable": false,
    "editable": false
   },
   "source": [
    "## Split"
   ]
  },
  {
   "cell_type": "markdown",
   "id": "1a6d1dfa-ef5f-4b4e-8951-d3c40f8506c4",
   "metadata": {
    "deletable": false,
    "editable": false
   },
   "source": [
    "The last thing we need to do before building our model is to create a training set. Note that we won't create a test set here. Rather, we'll use all of `y_ambuja` to conduct walk-forward validation after we've built our model. "
   ]
  },
  {
   "cell_type": "code",
   "execution_count": null,
   "id": "d430704e-1a0e-4959-bc34-83f5bad7a694",
   "metadata": {
    "deletable": false,
    "editable": false,
    "init_cell": true
   },
   "outputs": [],
   "source": [
    "VimeoVideo(\"770039107\", h=\"8c9fbe0f4d\", width=600)"
   ]
  },
  {
   "cell_type": "markdown",
   "id": "1a8f33d4-ceb3-45f1-ab51-d223b944d6dd",
   "metadata": {
    "deletable": false,
    "editable": false
   },
   "source": [
    "**Task 8.3.13:** Create a training set `y_ambuja_train` that contains the first 80% of the observations in `y_ambuja`. "
   ]
  },
  {
   "cell_type": "code",
   "execution_count": null,
   "id": "fa8aa22c-47dd-4200-9a2b-03b720c4d762",
   "metadata": {
    "deletable": false
   },
   "outputs": [],
   "source": [
    "cutoff_test = ...\n",
    "y_ambuja_train = ...\n",
    "\n",
    "print(\"y_ambuja_train type:\", type(y_ambuja_train))\n",
    "print(\"y_ambuja_train shape:\", y_ambuja_train.shape)\n",
    "y_ambuja_train.tail()"
   ]
  },
  {
   "cell_type": "markdown",
   "id": "e2ce9a4f-9c9b-4391-98d9-0a4938156ff0",
   "metadata": {
    "deletable": false,
    "editable": false
   },
   "source": [
    "# Build Model"
   ]
  },
  {
   "cell_type": "markdown",
   "id": "01d407a0-e216-4c28-9b07-dbec43333e2a",
   "metadata": {
    "deletable": false,
    "editable": false
   },
   "source": [
    "Just like we did the last time we built a model like this, we'll begin by iterating.<span style='color: transparent; font-size:1%'>WQU WorldQuant University Applied Data Science Lab QQQQ</span>"
   ]
  },
  {
   "cell_type": "markdown",
   "id": "5676e0c0-b4a5-47cf-9663-4cba27192ddc",
   "metadata": {
    "deletable": false,
    "editable": false
   },
   "source": [
    "## Iterate"
   ]
  },
  {
   "cell_type": "code",
   "execution_count": null,
   "id": "69780ec2-0aca-49c5-8588-1a360376ec2e",
   "metadata": {
    "deletable": false,
    "editable": false,
    "init_cell": true
   },
   "outputs": [],
   "source": [
    "VimeoVideo(\"770039693\", h=\"f06bf81928\", width=600)"
   ]
  },
  {
   "cell_type": "code",
   "execution_count": null,
   "id": "0f98e3a4-925f-4e7e-a9e0-73de20b072db",
   "metadata": {
    "deletable": false,
    "editable": false,
    "init_cell": true
   },
   "outputs": [],
   "source": [
    "VimeoVideo(\"770039053\", h=\"beaf7753d4\", width=600)"
   ]
  },
  {
   "cell_type": "markdown",
   "id": "adc079ff-4cdb-4769-a737-e96f83e034d7",
   "metadata": {
    "deletable": false,
    "editable": false
   },
   "source": [
    "**Task 8.3.14:** Build and fit a GARCH model using the data in `y_ambuja`. Start with `3` as the value for `p` and `q`. Then use the model summary to assess its performance and try other lags.\n",
    "\n",
    "- [What's a GARCH model?](../%40textbook/18-ts-models.ipynb#ARCH-and-GARCH-Models)\n",
    "- [What's AIC?](../%40textbook/18-ts-models.ipynb#Common-Metrics)\n",
    "- [What's BIC?](../%40textbook/18-ts-models.ipynb#Common-Metrics)\n",
    "- [Build a GARCH model using arch.](../%40textbook/18-ts-models.ipynb#ARCH-and-GARCH-Models)"
   ]
  },
  {
   "cell_type": "code",
   "execution_count": null,
   "id": "2089c76b-08b1-4a19-a072-45bb44d308bf",
   "metadata": {
    "deletable": false
   },
   "outputs": [],
   "source": [
    "# Build and train model\n",
    "model = ...\n",
    "print(\"model type:\", type(model))\n",
    "\n",
    "# Show model summary\n"
   ]
  },
  {
   "cell_type": "markdown",
   "id": "6817c464-a39a-4d25-82e3-4c94532999f6",
   "metadata": {
    "deletable": false,
    "editable": false
   },
   "source": [
    "<div class=\"alert alert-info\" role=\"alert\">\n",
    "    <p><b>Tip:</b> You access the AIC and BIC scores programmatically. Every <code>ARCHModelResult</code> has an <code>.aic</code> and a <code>.bic</code> attribute. Try it for yourself: enter <code>model.aic</code> or <code>model.bic</code></p>\n",
    "</div>"
   ]
  },
  {
   "cell_type": "markdown",
   "id": "e1f72021-bb34-462e-bacb-8a723947e2aa",
   "metadata": {
    "deletable": false,
    "editable": false
   },
   "source": [
    "Now that we've settled on a model, let's visualize its predictions, together with the Ambuja returns."
   ]
  },
  {
   "cell_type": "code",
   "execution_count": null,
   "id": "1c83b9d2-ca0b-4e63-ae20-ba9b71258291",
   "metadata": {
    "deletable": false,
    "editable": false,
    "init_cell": true
   },
   "outputs": [],
   "source": [
    "VimeoVideo(\"770039014\", h=\"5e41551d9f\", width=600)"
   ]
  },
  {
   "cell_type": "markdown",
   "id": "db46bbd6-0959-49a2-96f8-21ca76c60d94",
   "metadata": {
    "deletable": false,
    "editable": false
   },
   "source": [
    "**Task 8.3.15:** Create a time series plot with the Ambuja returns and the conditional volatility for your `model`. Be sure to include axis labels and add a legend.\n",
    "\n",
    "- [Make a line plot with time series data in pandas.](../%40textbook/07-visualization-pandas.ipynb#Line-Plots)"
   ]
  },
  {
   "cell_type": "code",
   "execution_count": null,
   "id": "19836c73-d06e-4235-badd-f59fbe8a5970",
   "metadata": {
    "deletable": false
   },
   "outputs": [],
   "source": [
    "fig, ax = plt.subplots(figsize=(15, 6))\n",
    "\n",
    "# Plot `y_ambuja_train`\n",
    "\n",
    "\n",
    "# Plot conditional volatility * 2\n",
    "\n",
    "\n",
    "# Plot conditional volatility * -2\n",
    "\n",
    "\n",
    "# Add axis labels\n",
    "\n",
    "\n",
    "\n",
    "# Add legend\n"
   ]
  },
  {
   "cell_type": "markdown",
   "id": "66b943bb-53e3-4c05-b4c7-f420b9a1b6c7",
   "metadata": {
    "deletable": false,
    "editable": false
   },
   "source": [
    "Visually, our model looks pretty good, but we should examine residuals, just to make sure. In the case of GARCH models, we need to look at the standardized residuals. "
   ]
  },
  {
   "cell_type": "code",
   "execution_count": null,
   "id": "39e183da-a738-49a7-af85-ec9d2ad478ea",
   "metadata": {
    "deletable": false,
    "editable": false,
    "init_cell": true
   },
   "outputs": [],
   "source": [
    "VimeoVideo(\"770038994\", h=\"2a13ab49a7\", width=600)"
   ]
  },
  {
   "cell_type": "markdown",
   "id": "6c654e13-5c63-46e2-87bc-0a23c658a812",
   "metadata": {
    "deletable": false,
    "editable": false
   },
   "source": [
    "**Task 8.3.16:** Create a time series plot of the standardized residuals for your `model`. Be sure to include axis labels and a legend.\n",
    "\n",
    "- [Make a line plot with time series data in pandas.](../%40textbook/07-visualization-pandas.ipynb#Line-Plots)\n",
    "- [What are standardized residuals in a GARCH model?](../%40textbook/18-ts-models.ipynb#Standardized-Residuals)"
   ]
  },
  {
   "cell_type": "code",
   "execution_count": null,
   "id": "422f2258-1088-42a2-b0df-b38f08101e86",
   "metadata": {
    "deletable": false
   },
   "outputs": [],
   "source": [
    "fig, ax = plt.subplots(figsize=(15, 6))\n",
    "\n",
    "# Plot standardized residuals\n",
    "\n",
    "\n",
    "# Add axis labels\n",
    "\n",
    "\n",
    "\n",
    "# Add legend\n"
   ]
  },
  {
   "cell_type": "markdown",
   "id": "406600e6-074d-4470-9a0a-5b248599dd20",
   "metadata": {
    "deletable": false,
    "editable": false
   },
   "source": [
    "These residuals look good: they have a consistent mean and spread over time. Let's check their normality using a histogram. "
   ]
  },
  {
   "cell_type": "code",
   "execution_count": null,
   "id": "d7ef9c50-c612-416c-a087-fc997a2ec1d6",
   "metadata": {
    "deletable": false,
    "editable": false,
    "init_cell": true
   },
   "outputs": [],
   "source": [
    "VimeoVideo(\"770038970\", h=\"f76c8f6529\", width=600)"
   ]
  },
  {
   "cell_type": "markdown",
   "id": "6a3469da-298f-4405-9642-7a045e27aea1",
   "metadata": {
    "deletable": false,
    "editable": false
   },
   "source": [
    "**Task 8.3.17:** Create a histogram with 25 bins of the standardized residuals for your model. Be sure to label your axes and use a title. \n",
    "\n",
    "- [What's a histogram?](../%40textbook/08-visualization-plotly.ipynb#Histogram)\n",
    "- [Create a histogram using Matplotlib.](../%40textbook/06-visualization-matplotlib.ipynb#Histograms)"
   ]
  },
  {
   "cell_type": "code",
   "execution_count": null,
   "id": "2e70738a-75ff-4c3b-9c9d-49f15b75debd",
   "metadata": {
    "deletable": false
   },
   "outputs": [],
   "source": [
    "# Create histogram of standardized residuals, 25 bins\n",
    "\n",
    "\n",
    "# Add axis labels\n",
    "\n",
    "\n",
    "\n",
    "# Add title\n"
   ]
  },
  {
   "cell_type": "markdown",
   "id": "f413b7c8-7ad2-42e9-bd58-f311fd085031",
   "metadata": {
    "deletable": false,
    "editable": false
   },
   "source": [
    "Our last visualization will the ACF of standardized residuals. Just like we did with our first ACF, we'll need to square the values here, too. "
   ]
  },
  {
   "cell_type": "code",
   "execution_count": null,
   "id": "7b1d0347-c426-4d54-883d-2730b88756f5",
   "metadata": {
    "deletable": false,
    "editable": false,
    "init_cell": true
   },
   "outputs": [],
   "source": [
    "VimeoVideo(\"770038952\", h=\"c7a3cfe34f\", width=600)"
   ]
  },
  {
   "cell_type": "markdown",
   "id": "e15d5674-8baf-4a22-8253-6bf73149a1aa",
   "metadata": {
    "deletable": false,
    "editable": false
   },
   "source": [
    "**Task 8.3.18:** Create an ACF plot of the square of your standardized residuals. Don't forget axis labels!\n",
    "\n",
    "- [What's an ACF plot?](../%40textbook/18-ts-models.ipynb#ACF-Plots)\n",
    "- [Create an ACF plot using statsmodels.](../%40textbook/18-ts-models.ipynb#ACF-Plots)"
   ]
  },
  {
   "cell_type": "code",
   "execution_count": null,
   "id": "d00d2168-9e26-409d-8bd1-b5d61683d50a",
   "metadata": {
    "deletable": false
   },
   "outputs": [],
   "source": [
    "fig, ax = plt.subplots(figsize=(15, 6))\n",
    "\n",
    "# Create ACF of squared, standardized residuals\n",
    "\n",
    "\n",
    "# Add axis labels\n",
    "\n"
   ]
  },
  {
   "cell_type": "markdown",
   "id": "6a079921-f894-457f-be68-fda18c7e6cb0",
   "metadata": {
    "deletable": false,
    "editable": false
   },
   "source": [
    "Excellent! Looks like this model is ready for a final evaluation."
   ]
  },
  {
   "cell_type": "markdown",
   "id": "55638147-a3df-4abb-9110-aea91e763e41",
   "metadata": {
    "deletable": false,
    "editable": false,
    "tags": []
   },
   "source": [
    "## Evaluate"
   ]
  },
  {
   "cell_type": "markdown",
   "id": "d2802f08-661a-4ca3-9035-ca43d738c343",
   "metadata": {
    "deletable": false,
    "editable": false
   },
   "source": [
    "To evaluate our model, we'll do walk-forward validation. Before we do, let's take a look at how this model returns its predictions."
   ]
  },
  {
   "cell_type": "code",
   "execution_count": null,
   "id": "7d02ada6-8d58-43ac-b6ec-1aead0b5c2e7",
   "metadata": {
    "deletable": false,
    "editable": false,
    "init_cell": true
   },
   "outputs": [],
   "source": [
    "VimeoVideo(\"770038921\", h=\"f74869b8fc\", width=600)"
   ]
  },
  {
   "cell_type": "markdown",
   "id": "e3879857-951c-4284-bd3c-daa5faa15ad9",
   "metadata": {
    "deletable": false,
    "editable": false
   },
   "source": [
    "**Task 8.3.19:** Create a one-day forecast from your `model` and assign the result to the variable `one_day_forecast`. \n",
    "\n",
    "- [What's variance?](../%40textbook/05-pandas-summary-statistics.ipynb#Variance)\n",
    "- [Generate a forecast for a model using arch.](../%40textbook/18-ts-models.ipynb#Forecasting)"
   ]
  },
  {
   "cell_type": "code",
   "execution_count": null,
   "id": "e3a412e3-e408-47a4-8471-14436a8ab19b",
   "metadata": {
    "deletable": false
   },
   "outputs": [],
   "source": [
    "one_day_forecast = ...\n",
    "\n",
    "print(\"one_day_forecast type:\", type(one_day_forecast))\n",
    "one_day_forecast"
   ]
  },
  {
   "cell_type": "markdown",
   "id": "9fbbb3a5-bc23-4fee-a85e-a71c8504b5ed",
   "metadata": {
    "deletable": false,
    "editable": false
   },
   "source": [
    "There are two things we need to keep in mind here. First, our `model` forecast shows the predicted **variance**, not the **standard deviation** / **volatility**. So we'll need to take the square root of the value. Second, the prediction is in the form of a DataFrame. It has a DatetimeIndex, and the date is the last day for which we have training data. The `\"h.1\"` column stands for \"horizon 1\", that is, our model's prediction for the following day. We'll have to keep all this in mind when we reformat this prediction to serve to the end user of our application."
   ]
  },
  {
   "cell_type": "code",
   "execution_count": null,
   "id": "8177d8c1-873c-4c5d-a07b-ac9b89c1347c",
   "metadata": {
    "deletable": false,
    "editable": false,
    "init_cell": true
   },
   "outputs": [],
   "source": [
    "VimeoVideo(\"770038861\", h=\"10efe8c445\", width=600)"
   ]
  },
  {
   "cell_type": "markdown",
   "id": "990f9aef-ba7a-4061-ad90-c90b66d90894",
   "metadata": {
    "deletable": false,
    "editable": false
   },
   "source": [
    "**Task 8.3.20:** Complete the code below to do walk-forward validation on your `model`. Then run the following code block to visualize the model's test predictions.\n",
    "\n",
    "- [What's walk-forward validation?](../%40textbook/17-ts-core.ipynb#Walk-Forward-Validation)\n",
    "- [Perform walk-forward validation for time series model.](../%40textbook/17-ts-core.ipynb#Walk-Forward-Validation)"
   ]
  },
  {
   "cell_type": "code",
   "execution_count": null,
   "id": "93e4b808-b717-4b99-8ab8-8131c835adcc",
   "metadata": {
    "deletable": false
   },
   "outputs": [],
   "source": [
    "# Create empty list to hold predictions\n",
    "predictions = []\n",
    "\n",
    "# Calculate size of test data (20%)\n",
    "test_size = int(len(y_ambuja) * 0.2)\n",
    "\n",
    "# Walk forward\n",
    "for i in range(test_size):\n",
    "    # Create test data\n",
    "    y_train = y_ambuja.iloc[: -(test_size - i)]\n",
    "\n",
    "    # Train model\n",
    "    model = ...\n",
    "\n",
    "    # Generate next prediction (volatility, not variance)\n",
    "    next_pred = ...\n",
    "\n",
    "    # Append prediction to list\n",
    "    predictions.append(next_pred)\n",
    "\n",
    "# Create Series from predictions list\n",
    "y_test_wfv = pd.Series(predictions, index=y_ambuja.tail(test_size).index)\n",
    "\n",
    "print(\"y_test_wfv type:\", type(y_test_wfv))\n",
    "print(\"y_test_wfv shape:\", y_test_wfv.shape)\n",
    "y_test_wfv.head()"
   ]
  },
  {
   "cell_type": "code",
   "execution_count": null,
   "id": "6873867f-f503-4b7d-9009-5a820879af68",
   "metadata": {
    "deletable": false
   },
   "outputs": [],
   "source": [
    "fig, ax = plt.subplots(figsize=(15, 6))\n",
    "\n",
    "# Plot returns for test data\n",
    "y_ambuja.tail(test_size).plot(ax=ax, label=\"Ambuja Return\")\n",
    "\n",
    "# Plot volatility predictions * 2\n",
    "(2 * y_test_wfv).plot(ax=ax, c=\"C1\", label=\"2 SD Predicted Volatility\")\n",
    "\n",
    "# Plot volatility predictions * -2\n",
    "(-2 * y_test_wfv).plot(ax=ax, c=\"C1\")\n",
    "\n",
    "# Label axes\n",
    "plt.xlabel(\"Date\")\n",
    "plt.ylabel(\"Return\")\n",
    "\n",
    "# Add legend\n",
    "plt.legend();"
   ]
  },
  {
   "cell_type": "markdown",
   "id": "511017b8-b57b-4b55-82bf-cbc5ab57a816",
   "metadata": {
    "deletable": false,
    "editable": false
   },
   "source": [
    "This looks pretty good. Our volatility predictions seem to follow the changes in returns over time. This is especially clear in the low-volatility period in the summer of 2022 and the high-volatility period in fall 2022.\n",
    "\n",
    "One additional step we could do to evaluate how our `model` performs on the test data would be to plot the ACF of the standardized residuals for only the test set. But you can do that step on your own."
   ]
  },
  {
   "cell_type": "markdown",
   "id": "0e74ac46-0f2a-4da1-ab7d-affad15f2378",
   "metadata": {
    "deletable": false,
    "editable": false
   },
   "source": [
    "# Communicate Results"
   ]
  },
  {
   "cell_type": "markdown",
   "id": "bd313a79-fadb-4da0-940c-84b25cc82af2",
   "metadata": {
    "deletable": false,
    "editable": false
   },
   "source": [
    "Normally in this section, we create visualizations for a human audience, but our goal for *this* project is to create an API for a *computer* audience. So we'll focus on transforming our model's predictions to JSON format, which is what we'll use to send predictions in our application. \n",
    "\n",
    "The first thing we need to do is create a DatetimeIndex for our predictions. Using labels like `\"h.1\"`, `\"h.2\"`, etc., won't work. But there are two things we need to keep in mind. First, we can't include dates that are weekends because no trading happens on those days. And we'll need to write our dates using strings that follow the [ISO 8601](https://en.wikipedia.org/wiki/ISO_8601) standard. "
   ]
  },
  {
   "cell_type": "code",
   "execution_count": null,
   "id": "19b1e36e-7fe7-4061-8bae-29275b59b5f0",
   "metadata": {
    "deletable": false,
    "editable": false,
    "init_cell": true
   },
   "outputs": [],
   "source": [
    "VimeoVideo(\"770038804\", h=\"8976257596\", width=600)"
   ]
  },
  {
   "cell_type": "markdown",
   "id": "59440538-e96b-49cd-9734-449b3a7b021d",
   "metadata": {
    "deletable": false,
    "editable": false
   },
   "source": [
    "**Task 8.3.21:** Below is a `prediction`, which contains a 5-day forecast from our `model`. Using it as a starting point, create a `prediction_index`. This should be a list with the following 5 dates written in ISO 8601 format.\n",
    "\n",
    "- [Create a fixed frequency DatetimeIndex in pandas.](../%40textbook/04-pandas-advanced.ipynb#Date-Time-Indices)\n",
    "- [Transform a Timestamp to ISO 8601 format in pandas.](../%40textbook/04-pandas-advanced.ipynb#Time-Stamps)"
   ]
  },
  {
   "cell_type": "code",
   "execution_count": null,
   "id": "393da727-0215-486a-9d41-54b3573e06c0",
   "metadata": {
    "deletable": false
   },
   "outputs": [],
   "source": [
    "# Generate 5-day volatility forecast\n",
    "prediction = model.forecast(horizon=5, reindex=False).variance ** 0.5\n",
    "print(prediction)\n",
    "\n",
    "# Calculate forecast start date\n",
    "start = ...\n",
    "\n",
    "# Create date range\n",
    "prediction_dates = ...\n",
    "\n",
    "# Create prediction index labels, ISO 8601 format\n",
    "prediction_index = ...\n",
    "\n",
    "print(\"prediction_index type:\", type(prediction_index))\n",
    "print(\"prediction_index len:\", len(prediction_index))\n",
    "prediction_index[:3]"
   ]
  },
  {
   "cell_type": "markdown",
   "id": "52faac34-b977-4d10-a629-28ea003e7ed9",
   "metadata": {
    "deletable": false,
    "editable": false
   },
   "source": [
    "Now that we know how to create the index, let's create a function to combine the index and predictions, and then return a dictionary where each key is a date and each value is a predicted volatility. "
   ]
  },
  {
   "cell_type": "code",
   "execution_count": null,
   "id": "383c5d4b-a0ee-4af9-8474-a22f87431e78",
   "metadata": {
    "deletable": false,
    "editable": false,
    "init_cell": true
   },
   "outputs": [],
   "source": [
    "VimeoVideo(\"770039565\", h=\"d419d0a78d\", width=600)"
   ]
  },
  {
   "cell_type": "markdown",
   "id": "5646c1e0-d803-4782-ac49-d8babf57937c",
   "metadata": {
    "deletable": false,
    "editable": false
   },
   "source": [
    "**Task 8.3.22:** Create a `clean_prediction` function. It should take a variance prediction DataFrame as input and return a dictionary where each key is a date in ISO 8601 format and each value is the predicted volatility. Use the docstring as a guide and the assert statements to test your function. When you're satisfied with the result, submit it to the grader.\n",
    "\n",
    "- [What's a function?](../%40textbook/02-python-advanced.ipynb#Functions)\n",
    "- [Write a function in Python.](../%40textbook/02-python-advanced.ipynb#Functions)"
   ]
  },
  {
   "cell_type": "code",
   "execution_count": null,
   "id": "2017caee-e09c-43db-bc82-8ab5e1bb19da",
   "metadata": {
    "deletable": false
   },
   "outputs": [],
   "source": [
    "def clean_prediction():\n",
    "\n",
    "    \"\"\"Reformat model prediction to JSON.\n",
    "\n",
    "    Parameters\n",
    "    ----------\n",
    "    prediction : pd.DataFrame\n",
    "        Variance from a `ARCHModelForecast`\n",
    "\n",
    "    Returns\n",
    "    -------\n",
    "    dict\n",
    "        Forecast of volatility. Each key is date in ISO 8601 format.\n",
    "        Each value is predicted volatility.\n",
    "    \"\"\"\n",
    "    # Calculate forecast start date\n",
    "\n",
    "\n",
    "    # Create date range\n",
    "    \n",
    "\n",
    "    # Create prediction index labels, ISO 8601 format\n",
    "\n",
    "\n",
    "    # Extract predictions from DataFrame, get square root\n",
    "\n",
    "\n",
    "    # Combine `data` and `prediction_index` into Series\n",
    "\n",
    "\n",
    "    # Return Series as dictionary\n",
    "    return ..."
   ]
  },
  {
   "cell_type": "code",
   "execution_count": null,
   "id": "785187dd-cf2c-4256-865c-52722532a329",
   "metadata": {
    "deletable": false
   },
   "outputs": [],
   "source": [
    "prediction = model.forecast(horizon=10, reindex=False).variance\n",
    "prediction_formatted = clean_prediction(prediction)\n",
    "\n",
    "# Is `prediction_formatted` a dictionary?\n",
    "assert isinstance(prediction_formatted, dict)\n",
    "\n",
    "# Are keys correct data type?\n",
    "assert all(isinstance(k, str) for k in prediction_formatted.keys())\n",
    "\n",
    "# Are values correct data type\n",
    "assert all(isinstance(v, float) for v in prediction_formatted.values())\n",
    "\n",
    "prediction_formatted"
   ]
  },
  {
   "cell_type": "code",
   "execution_count": null,
   "id": "a227bac4-11c2-474b-9122-0159e81dd9cb",
   "metadata": {
    "deletable": false,
    "editable": false
   },
   "outputs": [],
   "source": [
    "wqet_grader.grade(\"Project 8 Assessment\", \"Task 8.3.21\", prediction_formatted)"
   ]
  },
  {
   "cell_type": "markdown",
   "id": "2c861196-2975-495e-b81e-fbec48a89293",
   "metadata": {
    "deletable": false,
    "editable": false
   },
   "source": [
    "Great work! We now have several components for our application: classes for getting data from an API, classes for storing it in a database, and code for building our model and cleaning our predictions. The next step is creating a class for our model and paths for application — both of which we'll do in the next lesson."
   ]
  },
  {
   "cell_type": "markdown",
   "id": "50047b90",
   "metadata": {
    "deletable": false,
    "editable": false
   },
   "source": [
    "---\n",
    "Copyright 2023 WorldQuant University. This\n",
    "content is licensed solely for personal use. Redistribution or\n",
    "publication of this material is strictly prohibited.\n"
   ]
  }
 ],
 "metadata": {
  "kernelspec": {
   "display_name": "Python 3 (ipykernel)",
   "language": "python",
   "name": "python3"
  },
  "language_info": {
   "codemirror_mode": {
    "name": "ipython",
    "version": 3
   },
   "file_extension": ".py",
   "mimetype": "text/x-python",
   "name": "python",
   "nbconvert_exporter": "python",
   "pygments_lexer": "ipython3",
   "version": "3.9.6"
  },
  "toc-autonumbering": false
 },
 "nbformat": 4,
 "nbformat_minor": 5
}
